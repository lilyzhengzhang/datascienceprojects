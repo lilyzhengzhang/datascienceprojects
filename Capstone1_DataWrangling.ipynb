{
 "cells": [
  {
   "cell_type": "markdown",
   "metadata": {},
   "source": [
    "<h3>Summary"
   ]
  },
  {
   "cell_type": "markdown",
   "metadata": {},
   "source": [
    "Records of inpatient and outpatient claims from 138,556 Medicare beneficiaries are analyzed to identify healthcare providers who potentially committed fraud. Detailed claim data as well as beneficiaries' demographic and medical history data are available. "
   ]
  },
  {
   "cell_type": "markdown",
   "metadata": {},
   "source": [
    "<h3>1. Introduction:"
   ]
  },
  {
   "cell_type": "markdown",
   "metadata": {},
   "source": [
    "Healthcare provider fraud is one of the biggest problems facing Medicare, and it contributes to the total Medicare spending growth. Healthcare fraud is an organized crime which involves peers of providers, physicians, beneficiaries acting together to make fraudulent claims.\n",
    "Rigorous analysis of Medicare data has yielded many physicians who indulge in fraud. They adopt ways in which an ambiguous diagnosis code is used to adopt costliest procedures and drugs. Insurance companies are the most vulnerable institutions impacted. To recoup those losses, insurance companies increase the insurance premiums and as a result healthcare becomes more costly for everyone.\n",
    "Healthcare fraud and abuse take many forms. Some of the most common types of fraud by providers are: a) Billing for services that were not provided; b) Duplicate submission of a claim for the same service; c) Misrepresenting the service provided; d) Charging for a more complex or expensive service than was actually provided; e) Billing for a covered service when the service actually provided was not covered."
   ]
  },
  {
   "cell_type": "markdown",
   "metadata": {},
   "source": [
    "Problem Statement: \n",
    " \n",
    "We want to identify the potentially fraudulent providers based on the claims that they filed. In addition, we will also discover important variables helpful in detecting the behaviour of those providers. Further, we will study fraudulent patterns in the provider's claims to understand the future behaviour of providers.\n",
    "\n"
   ]
  },
  {
   "cell_type": "markdown",
   "metadata": {},
   "source": [
    "Datasets:\n",
    "\n",
    "The datasets include provider data, beneficiary data, inpatient claims data and outpatient claims data. There are separate training dataset and test dataset.It can be found here : https://www.kaggle.com/rohitrox/healthcare-provider-fraud-detection-analysis\n",
    "\n",
    "The training provider data include 5410 providers with a binary flag for potential fraud. The training beneficiary data contains 138,556 subjects with 25 variables. The inpatient training data include 31,289 subjects and 40,474 claims with 30 variables. The outpatient training data include 133,980 subjects and 517,737 claims with 27 variables. The test provider data include 1353 providers. The test beneficiary data contains 63,968 subjects. The inpatient test data include 8,351 subjects and 9,551 claims. The outpatient test data include 59,608 subjects and 125,841 claims. \n",
    "\n",
    "The beneficiary data variables include ID, date of birth, gender, race, state, county and chronic disease status, inpatient annual reimbursement and deductible amount, and outpatient annual reimbursement and deductible amount. The inpatient dataset variables include beneficiary ID, claim id, claim start/end date, provider, reimbursement amount, admission date, admit diagnosis code,  deductible amount, discharge date, diagnosis code and procedure code. The outpatient dataset variables include beneficiary ID, claim id, claim start/end date, provider, reimbursement amount, admit diagnosis code, deductible amount, diagnosis code, and procedure code. \n"
   ]
  },
  {
   "cell_type": "markdown",
   "metadata": {},
   "source": [
    "Questions of interest:\n",
    "\n",
    "We will first use the training datasets to identify differential features attributable to potentially fraudulent providers. The following questions will guide the exploratory data analysis:<br>\n",
    "1) What is the difference in the number of claims submitted annually between the fraudulent providers and the \"honest\" providers? <br>\n",
    "2) What is the difference in the number of procedures per visit?<br>\n",
    "3) What is the difference in the distribution of diagnosis?<br>\n",
    "4) What is the relationship between the diagnosis and the procedure? \n"
   ]
  },
  {
   "cell_type": "markdown",
   "metadata": {},
   "source": [
    "<h3> 2. Data wrangling "
   ]
  },
  {
   "cell_type": "code",
   "execution_count": 2,
   "metadata": {},
   "outputs": [],
   "source": [
    "#import modules\n",
    "import pandas as pd\n",
    "import numpy as np\n",
    "import matplotlib.pyplot as plt\n",
    "import seaborn as sns\n",
    "import time\n",
    "\n",
    "#display plots inline\n",
    "%matplotlib inline"
   ]
  },
  {
   "cell_type": "code",
   "execution_count": 55,
   "metadata": {},
   "outputs": [],
   "source": [
    "#import the raw datasets\n",
    "fraud_tr = pd.read_csv('/Users/zhengzhang/Downloads/healthcare-provider-fraud-detection-analysis/Train-1542865627584.csv')\n",
    "bene_tr = pd.read_csv('/Users/zhengzhang/Downloads/healthcare-provider-fraud-detection-analysis/Train_Beneficiarydata-1542865627584.csv')\n",
    "inpatient_tr = pd.read_csv('/Users/zhengzhang/Downloads/healthcare-provider-fraud-detection-analysis/Train_Inpatientdata-1542865627584.csv')\n",
    "outpatient_tr = pd.read_csv('/Users/zhengzhang/Downloads/healthcare-provider-fraud-detection-analysis/Train_Outpatientdata-1542865627584.csv')"
   ]
  },
  {
   "cell_type": "code",
   "execution_count": 5,
   "metadata": {},
   "outputs": [
    {
     "name": "stdout",
     "output_type": "stream",
     "text": [
      "<class 'pandas.core.frame.DataFrame'>\n",
      "RangeIndex: 5410 entries, 0 to 5409\n",
      "Data columns (total 2 columns):\n",
      "Provider          5410 non-null object\n",
      "PotentialFraud    5410 non-null object\n",
      "dtypes: object(2)\n",
      "memory usage: 84.7+ KB\n"
     ]
    }
   ],
   "source": [
    "#insepct the datasets\n",
    "fraud_tr.info()"
   ]
  },
  {
   "cell_type": "code",
   "execution_count": 6,
   "metadata": {},
   "outputs": [
    {
     "data": {
      "text/html": [
       "<div>\n",
       "<style scoped>\n",
       "    .dataframe tbody tr th:only-of-type {\n",
       "        vertical-align: middle;\n",
       "    }\n",
       "\n",
       "    .dataframe tbody tr th {\n",
       "        vertical-align: top;\n",
       "    }\n",
       "\n",
       "    .dataframe thead th {\n",
       "        text-align: right;\n",
       "    }\n",
       "</style>\n",
       "<table border=\"1\" class=\"dataframe\">\n",
       "  <thead>\n",
       "    <tr style=\"text-align: right;\">\n",
       "      <th></th>\n",
       "      <th>Provider</th>\n",
       "      <th>PotentialFraud</th>\n",
       "    </tr>\n",
       "  </thead>\n",
       "  <tbody>\n",
       "    <tr>\n",
       "      <td>0</td>\n",
       "      <td>PRV51001</td>\n",
       "      <td>No</td>\n",
       "    </tr>\n",
       "    <tr>\n",
       "      <td>1</td>\n",
       "      <td>PRV51003</td>\n",
       "      <td>Yes</td>\n",
       "    </tr>\n",
       "    <tr>\n",
       "      <td>2</td>\n",
       "      <td>PRV51004</td>\n",
       "      <td>No</td>\n",
       "    </tr>\n",
       "    <tr>\n",
       "      <td>3</td>\n",
       "      <td>PRV51005</td>\n",
       "      <td>Yes</td>\n",
       "    </tr>\n",
       "    <tr>\n",
       "      <td>4</td>\n",
       "      <td>PRV51007</td>\n",
       "      <td>No</td>\n",
       "    </tr>\n",
       "  </tbody>\n",
       "</table>\n",
       "</div>"
      ],
      "text/plain": [
       "   Provider PotentialFraud\n",
       "0  PRV51001             No\n",
       "1  PRV51003            Yes\n",
       "2  PRV51004             No\n",
       "3  PRV51005            Yes\n",
       "4  PRV51007             No"
      ]
     },
     "execution_count": 6,
     "metadata": {},
     "output_type": "execute_result"
    }
   ],
   "source": [
    "fraud_tr.head()"
   ]
  },
  {
   "cell_type": "code",
   "execution_count": 7,
   "metadata": {},
   "outputs": [
    {
     "data": {
      "text/plain": [
       "Provider          0\n",
       "PotentialFraud    0\n",
       "dtype: int64"
      ]
     },
     "execution_count": 7,
     "metadata": {},
     "output_type": "execute_result"
    }
   ],
   "source": [
    "#view count of null values\n",
    "fraud_tr.isnull().sum()"
   ]
  },
  {
   "cell_type": "code",
   "execution_count": 8,
   "metadata": {},
   "outputs": [
    {
     "name": "stdout",
     "output_type": "stream",
     "text": [
      "<class 'pandas.core.frame.DataFrame'>\n",
      "RangeIndex: 138556 entries, 0 to 138555\n",
      "Data columns (total 25 columns):\n",
      "BeneID                             138556 non-null object\n",
      "DOB                                138556 non-null object\n",
      "DOD                                1421 non-null object\n",
      "Gender                             138556 non-null int64\n",
      "Race                               138556 non-null int64\n",
      "RenalDiseaseIndicator              138556 non-null object\n",
      "State                              138556 non-null int64\n",
      "County                             138556 non-null int64\n",
      "NoOfMonths_PartACov                138556 non-null int64\n",
      "NoOfMonths_PartBCov                138556 non-null int64\n",
      "ChronicCond_Alzheimer              138556 non-null int64\n",
      "ChronicCond_Heartfailure           138556 non-null int64\n",
      "ChronicCond_KidneyDisease          138556 non-null int64\n",
      "ChronicCond_Cancer                 138556 non-null int64\n",
      "ChronicCond_ObstrPulmonary         138556 non-null int64\n",
      "ChronicCond_Depression             138556 non-null int64\n",
      "ChronicCond_Diabetes               138556 non-null int64\n",
      "ChronicCond_IschemicHeart          138556 non-null int64\n",
      "ChronicCond_Osteoporasis           138556 non-null int64\n",
      "ChronicCond_rheumatoidarthritis    138556 non-null int64\n",
      "ChronicCond_stroke                 138556 non-null int64\n",
      "IPAnnualReimbursementAmt           138556 non-null int64\n",
      "IPAnnualDeductibleAmt              138556 non-null int64\n",
      "OPAnnualReimbursementAmt           138556 non-null int64\n",
      "OPAnnualDeductibleAmt              138556 non-null int64\n",
      "dtypes: int64(21), object(4)\n",
      "memory usage: 26.4+ MB\n"
     ]
    }
   ],
   "source": [
    "bene_tr.info()"
   ]
  },
  {
   "cell_type": "code",
   "execution_count": 9,
   "metadata": {},
   "outputs": [
    {
     "data": {
      "text/html": [
       "<div>\n",
       "<style scoped>\n",
       "    .dataframe tbody tr th:only-of-type {\n",
       "        vertical-align: middle;\n",
       "    }\n",
       "\n",
       "    .dataframe tbody tr th {\n",
       "        vertical-align: top;\n",
       "    }\n",
       "\n",
       "    .dataframe thead th {\n",
       "        text-align: right;\n",
       "    }\n",
       "</style>\n",
       "<table border=\"1\" class=\"dataframe\">\n",
       "  <thead>\n",
       "    <tr style=\"text-align: right;\">\n",
       "      <th></th>\n",
       "      <th>BeneID</th>\n",
       "      <th>DOB</th>\n",
       "      <th>DOD</th>\n",
       "      <th>Gender</th>\n",
       "      <th>Race</th>\n",
       "      <th>RenalDiseaseIndicator</th>\n",
       "      <th>State</th>\n",
       "      <th>County</th>\n",
       "      <th>NoOfMonths_PartACov</th>\n",
       "      <th>NoOfMonths_PartBCov</th>\n",
       "      <th>...</th>\n",
       "      <th>ChronicCond_Depression</th>\n",
       "      <th>ChronicCond_Diabetes</th>\n",
       "      <th>ChronicCond_IschemicHeart</th>\n",
       "      <th>ChronicCond_Osteoporasis</th>\n",
       "      <th>ChronicCond_rheumatoidarthritis</th>\n",
       "      <th>ChronicCond_stroke</th>\n",
       "      <th>IPAnnualReimbursementAmt</th>\n",
       "      <th>IPAnnualDeductibleAmt</th>\n",
       "      <th>OPAnnualReimbursementAmt</th>\n",
       "      <th>OPAnnualDeductibleAmt</th>\n",
       "    </tr>\n",
       "  </thead>\n",
       "  <tbody>\n",
       "    <tr>\n",
       "      <td>0</td>\n",
       "      <td>BENE11001</td>\n",
       "      <td>1943-01-01</td>\n",
       "      <td>NaN</td>\n",
       "      <td>1</td>\n",
       "      <td>1</td>\n",
       "      <td>0</td>\n",
       "      <td>39</td>\n",
       "      <td>230</td>\n",
       "      <td>12</td>\n",
       "      <td>12</td>\n",
       "      <td>...</td>\n",
       "      <td>1</td>\n",
       "      <td>1</td>\n",
       "      <td>1</td>\n",
       "      <td>2</td>\n",
       "      <td>1</td>\n",
       "      <td>1</td>\n",
       "      <td>36000</td>\n",
       "      <td>3204</td>\n",
       "      <td>60</td>\n",
       "      <td>70</td>\n",
       "    </tr>\n",
       "    <tr>\n",
       "      <td>1</td>\n",
       "      <td>BENE11002</td>\n",
       "      <td>1936-09-01</td>\n",
       "      <td>NaN</td>\n",
       "      <td>2</td>\n",
       "      <td>1</td>\n",
       "      <td>0</td>\n",
       "      <td>39</td>\n",
       "      <td>280</td>\n",
       "      <td>12</td>\n",
       "      <td>12</td>\n",
       "      <td>...</td>\n",
       "      <td>2</td>\n",
       "      <td>2</td>\n",
       "      <td>2</td>\n",
       "      <td>2</td>\n",
       "      <td>2</td>\n",
       "      <td>2</td>\n",
       "      <td>0</td>\n",
       "      <td>0</td>\n",
       "      <td>30</td>\n",
       "      <td>50</td>\n",
       "    </tr>\n",
       "    <tr>\n",
       "      <td>2</td>\n",
       "      <td>BENE11003</td>\n",
       "      <td>1936-08-01</td>\n",
       "      <td>NaN</td>\n",
       "      <td>1</td>\n",
       "      <td>1</td>\n",
       "      <td>0</td>\n",
       "      <td>52</td>\n",
       "      <td>590</td>\n",
       "      <td>12</td>\n",
       "      <td>12</td>\n",
       "      <td>...</td>\n",
       "      <td>2</td>\n",
       "      <td>2</td>\n",
       "      <td>1</td>\n",
       "      <td>2</td>\n",
       "      <td>2</td>\n",
       "      <td>2</td>\n",
       "      <td>0</td>\n",
       "      <td>0</td>\n",
       "      <td>90</td>\n",
       "      <td>40</td>\n",
       "    </tr>\n",
       "    <tr>\n",
       "      <td>3</td>\n",
       "      <td>BENE11004</td>\n",
       "      <td>1922-07-01</td>\n",
       "      <td>NaN</td>\n",
       "      <td>1</td>\n",
       "      <td>1</td>\n",
       "      <td>0</td>\n",
       "      <td>39</td>\n",
       "      <td>270</td>\n",
       "      <td>12</td>\n",
       "      <td>12</td>\n",
       "      <td>...</td>\n",
       "      <td>2</td>\n",
       "      <td>1</td>\n",
       "      <td>1</td>\n",
       "      <td>1</td>\n",
       "      <td>1</td>\n",
       "      <td>2</td>\n",
       "      <td>0</td>\n",
       "      <td>0</td>\n",
       "      <td>1810</td>\n",
       "      <td>760</td>\n",
       "    </tr>\n",
       "    <tr>\n",
       "      <td>4</td>\n",
       "      <td>BENE11005</td>\n",
       "      <td>1935-09-01</td>\n",
       "      <td>NaN</td>\n",
       "      <td>1</td>\n",
       "      <td>1</td>\n",
       "      <td>0</td>\n",
       "      <td>24</td>\n",
       "      <td>680</td>\n",
       "      <td>12</td>\n",
       "      <td>12</td>\n",
       "      <td>...</td>\n",
       "      <td>2</td>\n",
       "      <td>1</td>\n",
       "      <td>2</td>\n",
       "      <td>2</td>\n",
       "      <td>2</td>\n",
       "      <td>2</td>\n",
       "      <td>0</td>\n",
       "      <td>0</td>\n",
       "      <td>1790</td>\n",
       "      <td>1200</td>\n",
       "    </tr>\n",
       "  </tbody>\n",
       "</table>\n",
       "<p>5 rows × 25 columns</p>\n",
       "</div>"
      ],
      "text/plain": [
       "      BeneID         DOB  DOD  Gender  Race RenalDiseaseIndicator  State  \\\n",
       "0  BENE11001  1943-01-01  NaN       1     1                     0     39   \n",
       "1  BENE11002  1936-09-01  NaN       2     1                     0     39   \n",
       "2  BENE11003  1936-08-01  NaN       1     1                     0     52   \n",
       "3  BENE11004  1922-07-01  NaN       1     1                     0     39   \n",
       "4  BENE11005  1935-09-01  NaN       1     1                     0     24   \n",
       "\n",
       "   County  NoOfMonths_PartACov  NoOfMonths_PartBCov  ...  \\\n",
       "0     230                   12                   12  ...   \n",
       "1     280                   12                   12  ...   \n",
       "2     590                   12                   12  ...   \n",
       "3     270                   12                   12  ...   \n",
       "4     680                   12                   12  ...   \n",
       "\n",
       "   ChronicCond_Depression  ChronicCond_Diabetes  ChronicCond_IschemicHeart  \\\n",
       "0                       1                     1                          1   \n",
       "1                       2                     2                          2   \n",
       "2                       2                     2                          1   \n",
       "3                       2                     1                          1   \n",
       "4                       2                     1                          2   \n",
       "\n",
       "   ChronicCond_Osteoporasis  ChronicCond_rheumatoidarthritis  \\\n",
       "0                         2                                1   \n",
       "1                         2                                2   \n",
       "2                         2                                2   \n",
       "3                         1                                1   \n",
       "4                         2                                2   \n",
       "\n",
       "   ChronicCond_stroke  IPAnnualReimbursementAmt  IPAnnualDeductibleAmt  \\\n",
       "0                   1                     36000                   3204   \n",
       "1                   2                         0                      0   \n",
       "2                   2                         0                      0   \n",
       "3                   2                         0                      0   \n",
       "4                   2                         0                      0   \n",
       "\n",
       "   OPAnnualReimbursementAmt  OPAnnualDeductibleAmt  \n",
       "0                        60                     70  \n",
       "1                        30                     50  \n",
       "2                        90                     40  \n",
       "3                      1810                    760  \n",
       "4                      1790                   1200  \n",
       "\n",
       "[5 rows x 25 columns]"
      ]
     },
     "execution_count": 9,
     "metadata": {},
     "output_type": "execute_result"
    }
   ],
   "source": [
    "bene_tr.head()"
   ]
  },
  {
   "cell_type": "code",
   "execution_count": 10,
   "metadata": {},
   "outputs": [
    {
     "data": {
      "text/plain": [
       "BeneID                                  0\n",
       "DOB                                     0\n",
       "DOD                                137135\n",
       "Gender                                  0\n",
       "Race                                    0\n",
       "RenalDiseaseIndicator                   0\n",
       "State                                   0\n",
       "County                                  0\n",
       "NoOfMonths_PartACov                     0\n",
       "NoOfMonths_PartBCov                     0\n",
       "ChronicCond_Alzheimer                   0\n",
       "ChronicCond_Heartfailure                0\n",
       "ChronicCond_KidneyDisease               0\n",
       "ChronicCond_Cancer                      0\n",
       "ChronicCond_ObstrPulmonary              0\n",
       "ChronicCond_Depression                  0\n",
       "ChronicCond_Diabetes                    0\n",
       "ChronicCond_IschemicHeart               0\n",
       "ChronicCond_Osteoporasis                0\n",
       "ChronicCond_rheumatoidarthritis         0\n",
       "ChronicCond_stroke                      0\n",
       "IPAnnualReimbursementAmt                0\n",
       "IPAnnualDeductibleAmt                   0\n",
       "OPAnnualReimbursementAmt                0\n",
       "OPAnnualDeductibleAmt                   0\n",
       "dtype: int64"
      ]
     },
     "execution_count": 10,
     "metadata": {},
     "output_type": "execute_result"
    }
   ],
   "source": [
    "bene_tr.isnull().sum()"
   ]
  },
  {
   "cell_type": "code",
   "execution_count": 11,
   "metadata": {},
   "outputs": [
    {
     "name": "stdout",
     "output_type": "stream",
     "text": [
      "<class 'pandas.core.frame.DataFrame'>\n",
      "RangeIndex: 40474 entries, 0 to 40473\n",
      "Data columns (total 30 columns):\n",
      "BeneID                    40474 non-null object\n",
      "ClaimID                   40474 non-null object\n",
      "ClaimStartDt              40474 non-null object\n",
      "ClaimEndDt                40474 non-null object\n",
      "Provider                  40474 non-null object\n",
      "InscClaimAmtReimbursed    40474 non-null int64\n",
      "AttendingPhysician        40362 non-null object\n",
      "OperatingPhysician        23830 non-null object\n",
      "OtherPhysician            4690 non-null object\n",
      "AdmissionDt               40474 non-null object\n",
      "ClmAdmitDiagnosisCode     40474 non-null object\n",
      "DeductibleAmtPaid         39575 non-null float64\n",
      "DischargeDt               40474 non-null object\n",
      "DiagnosisGroupCode        40474 non-null object\n",
      "ClmDiagnosisCode_1        40474 non-null object\n",
      "ClmDiagnosisCode_2        40248 non-null object\n",
      "ClmDiagnosisCode_3        39798 non-null object\n",
      "ClmDiagnosisCode_4        38940 non-null object\n",
      "ClmDiagnosisCode_5        37580 non-null object\n",
      "ClmDiagnosisCode_6        35636 non-null object\n",
      "ClmDiagnosisCode_7        33216 non-null object\n",
      "ClmDiagnosisCode_8        30532 non-null object\n",
      "ClmDiagnosisCode_9        26977 non-null object\n",
      "ClmDiagnosisCode_10       3927 non-null object\n",
      "ClmProcedureCode_1        23148 non-null float64\n",
      "ClmProcedureCode_2        5454 non-null float64\n",
      "ClmProcedureCode_3        965 non-null float64\n",
      "ClmProcedureCode_4        116 non-null float64\n",
      "ClmProcedureCode_5        9 non-null float64\n",
      "ClmProcedureCode_6        0 non-null float64\n",
      "dtypes: float64(7), int64(1), object(22)\n",
      "memory usage: 9.3+ MB\n"
     ]
    }
   ],
   "source": [
    "inpatient_tr.info()"
   ]
  },
  {
   "cell_type": "code",
   "execution_count": 12,
   "metadata": {},
   "outputs": [
    {
     "data": {
      "text/html": [
       "<div>\n",
       "<style scoped>\n",
       "    .dataframe tbody tr th:only-of-type {\n",
       "        vertical-align: middle;\n",
       "    }\n",
       "\n",
       "    .dataframe tbody tr th {\n",
       "        vertical-align: top;\n",
       "    }\n",
       "\n",
       "    .dataframe thead th {\n",
       "        text-align: right;\n",
       "    }\n",
       "</style>\n",
       "<table border=\"1\" class=\"dataframe\">\n",
       "  <thead>\n",
       "    <tr style=\"text-align: right;\">\n",
       "      <th></th>\n",
       "      <th>BeneID</th>\n",
       "      <th>ClaimID</th>\n",
       "      <th>ClaimStartDt</th>\n",
       "      <th>ClaimEndDt</th>\n",
       "      <th>Provider</th>\n",
       "      <th>InscClaimAmtReimbursed</th>\n",
       "      <th>AttendingPhysician</th>\n",
       "      <th>OperatingPhysician</th>\n",
       "      <th>OtherPhysician</th>\n",
       "      <th>AdmissionDt</th>\n",
       "      <th>...</th>\n",
       "      <th>ClmDiagnosisCode_7</th>\n",
       "      <th>ClmDiagnosisCode_8</th>\n",
       "      <th>ClmDiagnosisCode_9</th>\n",
       "      <th>ClmDiagnosisCode_10</th>\n",
       "      <th>ClmProcedureCode_1</th>\n",
       "      <th>ClmProcedureCode_2</th>\n",
       "      <th>ClmProcedureCode_3</th>\n",
       "      <th>ClmProcedureCode_4</th>\n",
       "      <th>ClmProcedureCode_5</th>\n",
       "      <th>ClmProcedureCode_6</th>\n",
       "    </tr>\n",
       "  </thead>\n",
       "  <tbody>\n",
       "    <tr>\n",
       "      <td>0</td>\n",
       "      <td>BENE11001</td>\n",
       "      <td>CLM46614</td>\n",
       "      <td>2009-04-12</td>\n",
       "      <td>2009-04-18</td>\n",
       "      <td>PRV55912</td>\n",
       "      <td>26000</td>\n",
       "      <td>PHY390922</td>\n",
       "      <td>NaN</td>\n",
       "      <td>NaN</td>\n",
       "      <td>2009-04-12</td>\n",
       "      <td>...</td>\n",
       "      <td>2724</td>\n",
       "      <td>19889</td>\n",
       "      <td>5849</td>\n",
       "      <td>NaN</td>\n",
       "      <td>NaN</td>\n",
       "      <td>NaN</td>\n",
       "      <td>NaN</td>\n",
       "      <td>NaN</td>\n",
       "      <td>NaN</td>\n",
       "      <td>NaN</td>\n",
       "    </tr>\n",
       "    <tr>\n",
       "      <td>1</td>\n",
       "      <td>BENE11001</td>\n",
       "      <td>CLM66048</td>\n",
       "      <td>2009-08-31</td>\n",
       "      <td>2009-09-02</td>\n",
       "      <td>PRV55907</td>\n",
       "      <td>5000</td>\n",
       "      <td>PHY318495</td>\n",
       "      <td>PHY318495</td>\n",
       "      <td>NaN</td>\n",
       "      <td>2009-08-31</td>\n",
       "      <td>...</td>\n",
       "      <td>NaN</td>\n",
       "      <td>NaN</td>\n",
       "      <td>NaN</td>\n",
       "      <td>NaN</td>\n",
       "      <td>7092.0</td>\n",
       "      <td>NaN</td>\n",
       "      <td>NaN</td>\n",
       "      <td>NaN</td>\n",
       "      <td>NaN</td>\n",
       "      <td>NaN</td>\n",
       "    </tr>\n",
       "    <tr>\n",
       "      <td>2</td>\n",
       "      <td>BENE11001</td>\n",
       "      <td>CLM68358</td>\n",
       "      <td>2009-09-17</td>\n",
       "      <td>2009-09-20</td>\n",
       "      <td>PRV56046</td>\n",
       "      <td>5000</td>\n",
       "      <td>PHY372395</td>\n",
       "      <td>NaN</td>\n",
       "      <td>PHY324689</td>\n",
       "      <td>2009-09-17</td>\n",
       "      <td>...</td>\n",
       "      <td>NaN</td>\n",
       "      <td>NaN</td>\n",
       "      <td>NaN</td>\n",
       "      <td>NaN</td>\n",
       "      <td>NaN</td>\n",
       "      <td>NaN</td>\n",
       "      <td>NaN</td>\n",
       "      <td>NaN</td>\n",
       "      <td>NaN</td>\n",
       "      <td>NaN</td>\n",
       "    </tr>\n",
       "    <tr>\n",
       "      <td>3</td>\n",
       "      <td>BENE11011</td>\n",
       "      <td>CLM38412</td>\n",
       "      <td>2009-02-14</td>\n",
       "      <td>2009-02-22</td>\n",
       "      <td>PRV52405</td>\n",
       "      <td>5000</td>\n",
       "      <td>PHY369659</td>\n",
       "      <td>PHY392961</td>\n",
       "      <td>PHY349768</td>\n",
       "      <td>2009-02-14</td>\n",
       "      <td>...</td>\n",
       "      <td>25062</td>\n",
       "      <td>40390</td>\n",
       "      <td>4019</td>\n",
       "      <td>NaN</td>\n",
       "      <td>331.0</td>\n",
       "      <td>NaN</td>\n",
       "      <td>NaN</td>\n",
       "      <td>NaN</td>\n",
       "      <td>NaN</td>\n",
       "      <td>NaN</td>\n",
       "    </tr>\n",
       "    <tr>\n",
       "      <td>4</td>\n",
       "      <td>BENE11014</td>\n",
       "      <td>CLM63689</td>\n",
       "      <td>2009-08-13</td>\n",
       "      <td>2009-08-30</td>\n",
       "      <td>PRV56614</td>\n",
       "      <td>10000</td>\n",
       "      <td>PHY379376</td>\n",
       "      <td>PHY398258</td>\n",
       "      <td>NaN</td>\n",
       "      <td>2009-08-13</td>\n",
       "      <td>...</td>\n",
       "      <td>5119</td>\n",
       "      <td>29620</td>\n",
       "      <td>20300</td>\n",
       "      <td>NaN</td>\n",
       "      <td>3893.0</td>\n",
       "      <td>NaN</td>\n",
       "      <td>NaN</td>\n",
       "      <td>NaN</td>\n",
       "      <td>NaN</td>\n",
       "      <td>NaN</td>\n",
       "    </tr>\n",
       "  </tbody>\n",
       "</table>\n",
       "<p>5 rows × 30 columns</p>\n",
       "</div>"
      ],
      "text/plain": [
       "      BeneID   ClaimID ClaimStartDt  ClaimEndDt  Provider  \\\n",
       "0  BENE11001  CLM46614   2009-04-12  2009-04-18  PRV55912   \n",
       "1  BENE11001  CLM66048   2009-08-31  2009-09-02  PRV55907   \n",
       "2  BENE11001  CLM68358   2009-09-17  2009-09-20  PRV56046   \n",
       "3  BENE11011  CLM38412   2009-02-14  2009-02-22  PRV52405   \n",
       "4  BENE11014  CLM63689   2009-08-13  2009-08-30  PRV56614   \n",
       "\n",
       "   InscClaimAmtReimbursed AttendingPhysician OperatingPhysician  \\\n",
       "0                   26000          PHY390922                NaN   \n",
       "1                    5000          PHY318495          PHY318495   \n",
       "2                    5000          PHY372395                NaN   \n",
       "3                    5000          PHY369659          PHY392961   \n",
       "4                   10000          PHY379376          PHY398258   \n",
       "\n",
       "  OtherPhysician AdmissionDt  ... ClmDiagnosisCode_7  ClmDiagnosisCode_8  \\\n",
       "0            NaN  2009-04-12  ...               2724               19889   \n",
       "1            NaN  2009-08-31  ...                NaN                 NaN   \n",
       "2      PHY324689  2009-09-17  ...                NaN                 NaN   \n",
       "3      PHY349768  2009-02-14  ...              25062               40390   \n",
       "4            NaN  2009-08-13  ...               5119               29620   \n",
       "\n",
       "  ClmDiagnosisCode_9 ClmDiagnosisCode_10 ClmProcedureCode_1  \\\n",
       "0               5849                 NaN                NaN   \n",
       "1                NaN                 NaN             7092.0   \n",
       "2                NaN                 NaN                NaN   \n",
       "3               4019                 NaN              331.0   \n",
       "4              20300                 NaN             3893.0   \n",
       "\n",
       "  ClmProcedureCode_2 ClmProcedureCode_3 ClmProcedureCode_4 ClmProcedureCode_5  \\\n",
       "0                NaN                NaN                NaN                NaN   \n",
       "1                NaN                NaN                NaN                NaN   \n",
       "2                NaN                NaN                NaN                NaN   \n",
       "3                NaN                NaN                NaN                NaN   \n",
       "4                NaN                NaN                NaN                NaN   \n",
       "\n",
       "  ClmProcedureCode_6  \n",
       "0                NaN  \n",
       "1                NaN  \n",
       "2                NaN  \n",
       "3                NaN  \n",
       "4                NaN  \n",
       "\n",
       "[5 rows x 30 columns]"
      ]
     },
     "execution_count": 12,
     "metadata": {},
     "output_type": "execute_result"
    }
   ],
   "source": [
    "inpatient_tr.head()"
   ]
  },
  {
   "cell_type": "code",
   "execution_count": 13,
   "metadata": {},
   "outputs": [
    {
     "data": {
      "text/plain": [
       "BeneID                        0\n",
       "ClaimID                       0\n",
       "ClaimStartDt                  0\n",
       "ClaimEndDt                    0\n",
       "Provider                      0\n",
       "InscClaimAmtReimbursed        0\n",
       "AttendingPhysician          112\n",
       "OperatingPhysician        16644\n",
       "OtherPhysician            35784\n",
       "AdmissionDt                   0\n",
       "ClmAdmitDiagnosisCode         0\n",
       "DeductibleAmtPaid           899\n",
       "DischargeDt                   0\n",
       "DiagnosisGroupCode            0\n",
       "ClmDiagnosisCode_1            0\n",
       "ClmDiagnosisCode_2          226\n",
       "ClmDiagnosisCode_3          676\n",
       "ClmDiagnosisCode_4         1534\n",
       "ClmDiagnosisCode_5         2894\n",
       "ClmDiagnosisCode_6         4838\n",
       "ClmDiagnosisCode_7         7258\n",
       "ClmDiagnosisCode_8         9942\n",
       "ClmDiagnosisCode_9        13497\n",
       "ClmDiagnosisCode_10       36547\n",
       "ClmProcedureCode_1        17326\n",
       "ClmProcedureCode_2        35020\n",
       "ClmProcedureCode_3        39509\n",
       "ClmProcedureCode_4        40358\n",
       "ClmProcedureCode_5        40465\n",
       "ClmProcedureCode_6        40474\n",
       "dtype: int64"
      ]
     },
     "execution_count": 13,
     "metadata": {},
     "output_type": "execute_result"
    }
   ],
   "source": [
    "inpatient_tr.isnull().sum()"
   ]
  },
  {
   "cell_type": "code",
   "execution_count": 14,
   "metadata": {},
   "outputs": [
    {
     "name": "stdout",
     "output_type": "stream",
     "text": [
      "<class 'pandas.core.frame.DataFrame'>\n",
      "RangeIndex: 517737 entries, 0 to 517736\n",
      "Data columns (total 27 columns):\n",
      "BeneID                    517737 non-null object\n",
      "ClaimID                   517737 non-null object\n",
      "ClaimStartDt              517737 non-null object\n",
      "ClaimEndDt                517737 non-null object\n",
      "Provider                  517737 non-null object\n",
      "InscClaimAmtReimbursed    517737 non-null int64\n",
      "AttendingPhysician        516341 non-null object\n",
      "OperatingPhysician        90617 non-null object\n",
      "OtherPhysician            195046 non-null object\n",
      "ClmDiagnosisCode_1        507284 non-null object\n",
      "ClmDiagnosisCode_2        322357 non-null object\n",
      "ClmDiagnosisCode_3        203257 non-null object\n",
      "ClmDiagnosisCode_4        125596 non-null object\n",
      "ClmDiagnosisCode_5        74344 non-null object\n",
      "ClmDiagnosisCode_6        48756 non-null object\n",
      "ClmDiagnosisCode_7        32961 non-null object\n",
      "ClmDiagnosisCode_8        22912 non-null object\n",
      "ClmDiagnosisCode_9        14838 non-null object\n",
      "ClmDiagnosisCode_10       1083 non-null object\n",
      "ClmProcedureCode_1        162 non-null float64\n",
      "ClmProcedureCode_2        36 non-null float64\n",
      "ClmProcedureCode_3        4 non-null float64\n",
      "ClmProcedureCode_4        2 non-null float64\n",
      "ClmProcedureCode_5        0 non-null float64\n",
      "ClmProcedureCode_6        0 non-null float64\n",
      "DeductibleAmtPaid         517737 non-null int64\n",
      "ClmAdmitDiagnosisCode     105425 non-null object\n",
      "dtypes: float64(6), int64(2), object(19)\n",
      "memory usage: 106.7+ MB\n"
     ]
    }
   ],
   "source": [
    "outpatient_tr.info()"
   ]
  },
  {
   "cell_type": "code",
   "execution_count": 15,
   "metadata": {},
   "outputs": [
    {
     "data": {
      "text/html": [
       "<div>\n",
       "<style scoped>\n",
       "    .dataframe tbody tr th:only-of-type {\n",
       "        vertical-align: middle;\n",
       "    }\n",
       "\n",
       "    .dataframe tbody tr th {\n",
       "        vertical-align: top;\n",
       "    }\n",
       "\n",
       "    .dataframe thead th {\n",
       "        text-align: right;\n",
       "    }\n",
       "</style>\n",
       "<table border=\"1\" class=\"dataframe\">\n",
       "  <thead>\n",
       "    <tr style=\"text-align: right;\">\n",
       "      <th></th>\n",
       "      <th>BeneID</th>\n",
       "      <th>ClaimID</th>\n",
       "      <th>ClaimStartDt</th>\n",
       "      <th>ClaimEndDt</th>\n",
       "      <th>Provider</th>\n",
       "      <th>InscClaimAmtReimbursed</th>\n",
       "      <th>AttendingPhysician</th>\n",
       "      <th>OperatingPhysician</th>\n",
       "      <th>OtherPhysician</th>\n",
       "      <th>ClmDiagnosisCode_1</th>\n",
       "      <th>...</th>\n",
       "      <th>ClmDiagnosisCode_9</th>\n",
       "      <th>ClmDiagnosisCode_10</th>\n",
       "      <th>ClmProcedureCode_1</th>\n",
       "      <th>ClmProcedureCode_2</th>\n",
       "      <th>ClmProcedureCode_3</th>\n",
       "      <th>ClmProcedureCode_4</th>\n",
       "      <th>ClmProcedureCode_5</th>\n",
       "      <th>ClmProcedureCode_6</th>\n",
       "      <th>DeductibleAmtPaid</th>\n",
       "      <th>ClmAdmitDiagnosisCode</th>\n",
       "    </tr>\n",
       "  </thead>\n",
       "  <tbody>\n",
       "    <tr>\n",
       "      <td>0</td>\n",
       "      <td>BENE11002</td>\n",
       "      <td>CLM624349</td>\n",
       "      <td>2009-10-11</td>\n",
       "      <td>2009-10-11</td>\n",
       "      <td>PRV56011</td>\n",
       "      <td>30</td>\n",
       "      <td>PHY326117</td>\n",
       "      <td>NaN</td>\n",
       "      <td>NaN</td>\n",
       "      <td>78943</td>\n",
       "      <td>...</td>\n",
       "      <td>NaN</td>\n",
       "      <td>NaN</td>\n",
       "      <td>NaN</td>\n",
       "      <td>NaN</td>\n",
       "      <td>NaN</td>\n",
       "      <td>NaN</td>\n",
       "      <td>NaN</td>\n",
       "      <td>NaN</td>\n",
       "      <td>0</td>\n",
       "      <td>56409</td>\n",
       "    </tr>\n",
       "    <tr>\n",
       "      <td>1</td>\n",
       "      <td>BENE11003</td>\n",
       "      <td>CLM189947</td>\n",
       "      <td>2009-02-12</td>\n",
       "      <td>2009-02-12</td>\n",
       "      <td>PRV57610</td>\n",
       "      <td>80</td>\n",
       "      <td>PHY362868</td>\n",
       "      <td>NaN</td>\n",
       "      <td>NaN</td>\n",
       "      <td>6115</td>\n",
       "      <td>...</td>\n",
       "      <td>NaN</td>\n",
       "      <td>NaN</td>\n",
       "      <td>NaN</td>\n",
       "      <td>NaN</td>\n",
       "      <td>NaN</td>\n",
       "      <td>NaN</td>\n",
       "      <td>NaN</td>\n",
       "      <td>NaN</td>\n",
       "      <td>0</td>\n",
       "      <td>79380</td>\n",
       "    </tr>\n",
       "    <tr>\n",
       "      <td>2</td>\n",
       "      <td>BENE11003</td>\n",
       "      <td>CLM438021</td>\n",
       "      <td>2009-06-27</td>\n",
       "      <td>2009-06-27</td>\n",
       "      <td>PRV57595</td>\n",
       "      <td>10</td>\n",
       "      <td>PHY328821</td>\n",
       "      <td>NaN</td>\n",
       "      <td>NaN</td>\n",
       "      <td>2723</td>\n",
       "      <td>...</td>\n",
       "      <td>NaN</td>\n",
       "      <td>NaN</td>\n",
       "      <td>NaN</td>\n",
       "      <td>NaN</td>\n",
       "      <td>NaN</td>\n",
       "      <td>NaN</td>\n",
       "      <td>NaN</td>\n",
       "      <td>NaN</td>\n",
       "      <td>0</td>\n",
       "      <td>NaN</td>\n",
       "    </tr>\n",
       "    <tr>\n",
       "      <td>3</td>\n",
       "      <td>BENE11004</td>\n",
       "      <td>CLM121801</td>\n",
       "      <td>2009-01-06</td>\n",
       "      <td>2009-01-06</td>\n",
       "      <td>PRV56011</td>\n",
       "      <td>40</td>\n",
       "      <td>PHY334319</td>\n",
       "      <td>NaN</td>\n",
       "      <td>NaN</td>\n",
       "      <td>71988</td>\n",
       "      <td>...</td>\n",
       "      <td>NaN</td>\n",
       "      <td>NaN</td>\n",
       "      <td>NaN</td>\n",
       "      <td>NaN</td>\n",
       "      <td>NaN</td>\n",
       "      <td>NaN</td>\n",
       "      <td>NaN</td>\n",
       "      <td>NaN</td>\n",
       "      <td>0</td>\n",
       "      <td>NaN</td>\n",
       "    </tr>\n",
       "    <tr>\n",
       "      <td>4</td>\n",
       "      <td>BENE11004</td>\n",
       "      <td>CLM150998</td>\n",
       "      <td>2009-01-22</td>\n",
       "      <td>2009-01-22</td>\n",
       "      <td>PRV56011</td>\n",
       "      <td>200</td>\n",
       "      <td>PHY403831</td>\n",
       "      <td>NaN</td>\n",
       "      <td>NaN</td>\n",
       "      <td>82382</td>\n",
       "      <td>...</td>\n",
       "      <td>NaN</td>\n",
       "      <td>NaN</td>\n",
       "      <td>NaN</td>\n",
       "      <td>NaN</td>\n",
       "      <td>NaN</td>\n",
       "      <td>NaN</td>\n",
       "      <td>NaN</td>\n",
       "      <td>NaN</td>\n",
       "      <td>0</td>\n",
       "      <td>71947</td>\n",
       "    </tr>\n",
       "  </tbody>\n",
       "</table>\n",
       "<p>5 rows × 27 columns</p>\n",
       "</div>"
      ],
      "text/plain": [
       "      BeneID    ClaimID ClaimStartDt  ClaimEndDt  Provider  \\\n",
       "0  BENE11002  CLM624349   2009-10-11  2009-10-11  PRV56011   \n",
       "1  BENE11003  CLM189947   2009-02-12  2009-02-12  PRV57610   \n",
       "2  BENE11003  CLM438021   2009-06-27  2009-06-27  PRV57595   \n",
       "3  BENE11004  CLM121801   2009-01-06  2009-01-06  PRV56011   \n",
       "4  BENE11004  CLM150998   2009-01-22  2009-01-22  PRV56011   \n",
       "\n",
       "   InscClaimAmtReimbursed AttendingPhysician OperatingPhysician  \\\n",
       "0                      30          PHY326117                NaN   \n",
       "1                      80          PHY362868                NaN   \n",
       "2                      10          PHY328821                NaN   \n",
       "3                      40          PHY334319                NaN   \n",
       "4                     200          PHY403831                NaN   \n",
       "\n",
       "  OtherPhysician ClmDiagnosisCode_1  ... ClmDiagnosisCode_9  \\\n",
       "0            NaN              78943  ...                NaN   \n",
       "1            NaN               6115  ...                NaN   \n",
       "2            NaN               2723  ...                NaN   \n",
       "3            NaN              71988  ...                NaN   \n",
       "4            NaN              82382  ...                NaN   \n",
       "\n",
       "  ClmDiagnosisCode_10 ClmProcedureCode_1 ClmProcedureCode_2  \\\n",
       "0                 NaN                NaN                NaN   \n",
       "1                 NaN                NaN                NaN   \n",
       "2                 NaN                NaN                NaN   \n",
       "3                 NaN                NaN                NaN   \n",
       "4                 NaN                NaN                NaN   \n",
       "\n",
       "  ClmProcedureCode_3 ClmProcedureCode_4 ClmProcedureCode_5 ClmProcedureCode_6  \\\n",
       "0                NaN                NaN                NaN                NaN   \n",
       "1                NaN                NaN                NaN                NaN   \n",
       "2                NaN                NaN                NaN                NaN   \n",
       "3                NaN                NaN                NaN                NaN   \n",
       "4                NaN                NaN                NaN                NaN   \n",
       "\n",
       "  DeductibleAmtPaid  ClmAdmitDiagnosisCode  \n",
       "0                 0                  56409  \n",
       "1                 0                  79380  \n",
       "2                 0                    NaN  \n",
       "3                 0                    NaN  \n",
       "4                 0                  71947  \n",
       "\n",
       "[5 rows x 27 columns]"
      ]
     },
     "execution_count": 15,
     "metadata": {},
     "output_type": "execute_result"
    }
   ],
   "source": [
    "outpatient_tr.head()"
   ]
  },
  {
   "cell_type": "code",
   "execution_count": 16,
   "metadata": {},
   "outputs": [
    {
     "data": {
      "text/plain": [
       "BeneID                         0\n",
       "ClaimID                        0\n",
       "ClaimStartDt                   0\n",
       "ClaimEndDt                     0\n",
       "Provider                       0\n",
       "InscClaimAmtReimbursed         0\n",
       "AttendingPhysician          1396\n",
       "OperatingPhysician        427120\n",
       "OtherPhysician            322691\n",
       "ClmDiagnosisCode_1         10453\n",
       "ClmDiagnosisCode_2        195380\n",
       "ClmDiagnosisCode_3        314480\n",
       "ClmDiagnosisCode_4        392141\n",
       "ClmDiagnosisCode_5        443393\n",
       "ClmDiagnosisCode_6        468981\n",
       "ClmDiagnosisCode_7        484776\n",
       "ClmDiagnosisCode_8        494825\n",
       "ClmDiagnosisCode_9        502899\n",
       "ClmDiagnosisCode_10       516654\n",
       "ClmProcedureCode_1        517575\n",
       "ClmProcedureCode_2        517701\n",
       "ClmProcedureCode_3        517733\n",
       "ClmProcedureCode_4        517735\n",
       "ClmProcedureCode_5        517737\n",
       "ClmProcedureCode_6        517737\n",
       "DeductibleAmtPaid              0\n",
       "ClmAdmitDiagnosisCode     412312\n",
       "dtype: int64"
      ]
     },
     "execution_count": 16,
     "metadata": {},
     "output_type": "execute_result"
    }
   ],
   "source": [
    "outpatient_tr.isnull().sum()"
   ]
  },
  {
   "cell_type": "markdown",
   "metadata": {},
   "source": [
    "<h4> 2a. Handling null values "
   ]
  },
  {
   "cell_type": "markdown",
   "metadata": {},
   "source": [
    "1) Provider data (Fraud_tr): No missing data. <br>\n",
    "2) Beneficiary data (Bene_tr): One variable (date of death) has 1421 non-missing data, which is expected. <br>\n",
    "3) Inpatient claim data (inpatient_tr): Missing data were observed on physician ID and diagnosis/procedure code variables, we decide to leave as they were. Missing data were found on the variable (deductible amount paid) on 899 claims, we assumed deductible = 0 for those claims. <br>\n",
    "4) Outpatient claim data (outpatient_tr): Missing data were observed on physician ID and diagnosis/procedure/admit diagnosis code variables, we decide to leave as they were. <br>\n"
   ]
  },
  {
   "cell_type": "code",
   "execution_count": 21,
   "metadata": {},
   "outputs": [
    {
     "data": {
      "text/plain": [
       "BeneID                        0\n",
       "ClaimID                       0\n",
       "ClaimStartDt                  0\n",
       "ClaimEndDt                    0\n",
       "Provider                      0\n",
       "InscClaimAmtReimbursed        0\n",
       "AttendingPhysician          112\n",
       "OperatingPhysician        16644\n",
       "OtherPhysician            35784\n",
       "AdmissionDt                   0\n",
       "ClmAdmitDiagnosisCode         0\n",
       "DeductibleAmtPaid             0\n",
       "DischargeDt                   0\n",
       "DiagnosisGroupCode            0\n",
       "ClmDiagnosisCode_1            0\n",
       "ClmDiagnosisCode_2          226\n",
       "ClmDiagnosisCode_3          676\n",
       "ClmDiagnosisCode_4         1534\n",
       "ClmDiagnosisCode_5         2894\n",
       "ClmDiagnosisCode_6         4838\n",
       "ClmDiagnosisCode_7         7258\n",
       "ClmDiagnosisCode_8         9942\n",
       "ClmDiagnosisCode_9        13497\n",
       "ClmDiagnosisCode_10       36547\n",
       "ClmProcedureCode_1        17326\n",
       "ClmProcedureCode_2        35020\n",
       "ClmProcedureCode_3        39509\n",
       "ClmProcedureCode_4        40358\n",
       "ClmProcedureCode_5        40465\n",
       "ClmProcedureCode_6        40474\n",
       "dtype: int64"
      ]
     },
     "execution_count": 21,
     "metadata": {},
     "output_type": "execute_result"
    }
   ],
   "source": [
    "#Fill the missing values with 0\n",
    "inpatient_tr['DeductibleAmtPaid'].fillna(0,inplace=True)\n",
    "#check whether the missing values are replaced with 0\n",
    "inpatient_tr.isnull().sum()"
   ]
  },
  {
   "cell_type": "markdown",
   "metadata": {},
   "source": [
    "<h4> 3. Exploratory data analysis"
   ]
  },
  {
   "cell_type": "markdown",
   "metadata": {},
   "source": [
    "<h5> 3a. Univariate Analysis"
   ]
  },
  {
   "cell_type": "markdown",
   "metadata": {},
   "source": [
    "Target variable: Potential Fraud <br>\n",
    "Question: What percent of providers are potential fraud?<br>\n",
    "Answer: 506/5410(9.4%) are potential fraud. "
   ]
  },
  {
   "cell_type": "code",
   "execution_count": 28,
   "metadata": {},
   "outputs": [
    {
     "data": {
      "text/plain": [
       "No     4904\n",
       "Yes     506\n",
       "Name: PotentialFraud, dtype: int64"
      ]
     },
     "execution_count": 28,
     "metadata": {},
     "output_type": "execute_result"
    }
   ],
   "source": [
    "fraud_tr['PotentialFraud'].value_counts()\n"
   ]
  },
  {
   "cell_type": "code",
   "execution_count": 29,
   "metadata": {},
   "outputs": [
    {
     "data": {
      "text/plain": [
       "No     0.90647\n",
       "Yes    0.09353\n",
       "Name: PotentialFraud, dtype: float64"
      ]
     },
     "execution_count": 29,
     "metadata": {},
     "output_type": "execute_result"
    }
   ],
   "source": [
    "fraud_tr['PotentialFraud'].value_counts(normalize=True)"
   ]
  },
  {
   "cell_type": "markdown",
   "metadata": {},
   "source": [
    "Investigate the demographics of beneficiaries<br>\n",
    "Findings:<br>\n",
    "1. Gender: 43% are men<br>\n",
    "2. Race: 84% whilte, will be dichotomized for further analysis<br>\n",
    "3. Renal Disease: 14% <br>\n",
    "4. From 52 states and 314 counties<br>\n",
    "5. Baseline medical condition:<br>\n",
    "a. Alzheimer: 33.2%<br>\n",
    "b. Heart failure: 49.4%<br>\n",
    "c. Kidney disease: 31.2%<br>\n",
    "d. Cancer: 12.0%<br>\n",
    "e. Obstructive-Pulmonary: 23.7%<br>\n",
    "f. Depression: 35.6%<br>\n",
    "g. Diabetes: 39.8%<br>\n",
    "h. Ischemic heart disease: 32.4%<br>\n",
    "i. Osteoporasis: 27.5%<br>\n",
    "j. Rheumatoidarthritis: 25.7%<br>\n",
    "k. Stroke: 7.9%\n"
   ]
  },
  {
   "cell_type": "code",
   "execution_count": 30,
   "metadata": {},
   "outputs": [
    {
     "data": {
      "text/plain": [
       "2    79106\n",
       "1    59450\n",
       "Name: Gender, dtype: int64"
      ]
     },
     "execution_count": 30,
     "metadata": {},
     "output_type": "execute_result"
    }
   ],
   "source": [
    "bene_tr['Gender'].value_counts()"
   ]
  },
  {
   "cell_type": "code",
   "execution_count": 31,
   "metadata": {},
   "outputs": [
    {
     "data": {
      "text/plain": [
       "2    0.570932\n",
       "1    0.429068\n",
       "Name: Gender, dtype: float64"
      ]
     },
     "execution_count": 31,
     "metadata": {},
     "output_type": "execute_result"
    }
   ],
   "source": [
    "bene_tr['Gender'].value_counts(normalize=True)"
   ]
  },
  {
   "cell_type": "code",
   "execution_count": 22,
   "metadata": {},
   "outputs": [
    {
     "data": {
      "text/plain": [
       "1    117057\n",
       "2     13538\n",
       "3      5059\n",
       "5      2902\n",
       "Name: Race, dtype: int64"
      ]
     },
     "execution_count": 22,
     "metadata": {},
     "output_type": "execute_result"
    }
   ],
   "source": [
    "bene_tr['Race'].value_counts()"
   ]
  },
  {
   "cell_type": "code",
   "execution_count": 51,
   "metadata": {},
   "outputs": [
    {
     "data": {
      "text/plain": [
       "<matplotlib.axes._subplots.AxesSubplot at 0x1a34c01b50>"
      ]
     },
     "execution_count": 51,
     "metadata": {},
     "output_type": "execute_result"
    },
    {
     "data": {
      "image/png": "[encoded data removed]",
      "text/plain": [
       "<Figure size 432x288 with 1 Axes>"
      ]
     },
     "metadata": {},
     "output_type": "display_data"
    }
   ],
   "source": [
    "bene_tr['Race'].value_counts(normalize=True).plot(kind=\"pie\")"
   ]
  },
  {
   "cell_type": "code",
   "execution_count": 32,
   "metadata": {},
   "outputs": [
    {
     "data": {
      "text/plain": [
       "1    0.844835\n",
       "2    0.097708\n",
       "3    0.036512\n",
       "5    0.020945\n",
       "Name: Race, dtype: float64"
      ]
     },
     "execution_count": 32,
     "metadata": {},
     "output_type": "execute_result"
    }
   ],
   "source": [
    "bene_tr['Race'].value_counts(normalize=True)"
   ]
  },
  {
   "cell_type": "code",
   "execution_count": 23,
   "metadata": {},
   "outputs": [
    {
     "data": {
      "text/plain": [
       "0    118978\n",
       "Y     19578\n",
       "Name: RenalDiseaseIndicator, dtype: int64"
      ]
     },
     "execution_count": 23,
     "metadata": {},
     "output_type": "execute_result"
    }
   ],
   "source": [
    "bene_tr['RenalDiseaseIndicator'].value_counts()"
   ]
  },
  {
   "cell_type": "code",
   "execution_count": 34,
   "metadata": {},
   "outputs": [
    {
     "data": {
      "text/plain": [
       "0    0.8587\n",
       "Y    0.1413\n",
       "Name: RenalDiseaseIndicator, dtype: float64"
      ]
     },
     "execution_count": 34,
     "metadata": {},
     "output_type": "execute_result"
    }
   ],
   "source": [
    "bene_tr['RenalDiseaseIndicator'].value_counts(normalize=True)"
   ]
  },
  {
   "cell_type": "code",
   "execution_count": 37,
   "metadata": {},
   "outputs": [
    {
     "data": {
      "text/plain": [
       "count       52.000000\n",
       "mean      2664.538462\n",
       "std       2601.694384\n",
       "min        196.000000\n",
       "25%        826.250000\n",
       "50%       1871.500000\n",
       "75%       3327.000000\n",
       "max      12052.000000\n",
       "Name: State, dtype: float64"
      ]
     },
     "execution_count": 37,
     "metadata": {},
     "output_type": "execute_result"
    }
   ],
   "source": [
    "bene_tr['State'].value_counts().describe()"
   ]
  },
  {
   "cell_type": "code",
   "execution_count": 38,
   "metadata": {},
   "outputs": [
    {
     "data": {
      "text/plain": [
       "count     314.000000\n",
       "mean      441.261146\n",
       "std       754.873323\n",
       "min         1.000000\n",
       "25%         8.000000\n",
       "50%        30.000000\n",
       "75%       621.500000\n",
       "max      3943.000000\n",
       "Name: County, dtype: float64"
      ]
     },
     "execution_count": 38,
     "metadata": {},
     "output_type": "execute_result"
    }
   ],
   "source": [
    "bene_tr['County'].value_counts().describe()"
   ]
  },
  {
   "cell_type": "code",
   "execution_count": 39,
   "metadata": {},
   "outputs": [
    {
     "data": {
      "text/plain": [
       "2    0.667817\n",
       "1    0.332183\n",
       "Name: ChronicCond_Alzheimer, dtype: float64"
      ]
     },
     "execution_count": 39,
     "metadata": {},
     "output_type": "execute_result"
    }
   ],
   "source": [
    "bene_tr['ChronicCond_Alzheimer'].value_counts(normalize=True)"
   ]
  },
  {
   "cell_type": "code",
   "execution_count": 40,
   "metadata": {},
   "outputs": [
    {
     "data": {
      "text/plain": [
       "2    0.506322\n",
       "1    0.493678\n",
       "Name: ChronicCond_Heartfailure, dtype: float64"
      ]
     },
     "execution_count": 40,
     "metadata": {},
     "output_type": "execute_result"
    }
   ],
   "source": [
    "bene_tr['ChronicCond_Heartfailure'].value_counts(normalize=True)"
   ]
  },
  {
   "cell_type": "code",
   "execution_count": 41,
   "metadata": {},
   "outputs": [
    {
     "data": {
      "text/plain": [
       "2    0.687643\n",
       "1    0.312357\n",
       "Name: ChronicCond_KidneyDisease, dtype: float64"
      ]
     },
     "execution_count": 41,
     "metadata": {},
     "output_type": "execute_result"
    }
   ],
   "source": [
    "bene_tr['ChronicCond_KidneyDisease'].value_counts(normalize=True)"
   ]
  },
  {
   "cell_type": "code",
   "execution_count": 43,
   "metadata": {},
   "outputs": [
    {
     "data": {
      "text/plain": [
       "2    0.880041\n",
       "1    0.119959\n",
       "Name: ChronicCond_Cancer, dtype: float64"
      ]
     },
     "execution_count": 43,
     "metadata": {},
     "output_type": "execute_result"
    }
   ],
   "source": [
    "bene_tr['ChronicCond_Cancer'].value_counts(normalize=True)"
   ]
  },
  {
   "cell_type": "code",
   "execution_count": 44,
   "metadata": {},
   "outputs": [
    {
     "data": {
      "text/plain": [
       "2    0.762847\n",
       "1    0.237153\n",
       "Name: ChronicCond_ObstrPulmonary, dtype: float64"
      ]
     },
     "execution_count": 44,
     "metadata": {},
     "output_type": "execute_result"
    }
   ],
   "source": [
    "bene_tr['ChronicCond_ObstrPulmonary'].value_counts(normalize=True)"
   ]
  },
  {
   "cell_type": "code",
   "execution_count": 45,
   "metadata": {},
   "outputs": [
    {
     "data": {
      "text/plain": [
       "2    0.644476\n",
       "1    0.355524\n",
       "Name: ChronicCond_Depression, dtype: float64"
      ]
     },
     "execution_count": 45,
     "metadata": {},
     "output_type": "execute_result"
    }
   ],
   "source": [
    "bene_tr['ChronicCond_Depression'].value_counts(normalize=True)"
   ]
  },
  {
   "cell_type": "code",
   "execution_count": 46,
   "metadata": {},
   "outputs": [
    {
     "data": {
      "text/plain": [
       "1    0.601858\n",
       "2    0.398142\n",
       "Name: ChronicCond_Diabetes, dtype: float64"
      ]
     },
     "execution_count": 46,
     "metadata": {},
     "output_type": "execute_result"
    }
   ],
   "source": [
    "bene_tr['ChronicCond_Diabetes'].value_counts(normalize=True)"
   ]
  },
  {
   "cell_type": "code",
   "execution_count": 47,
   "metadata": {},
   "outputs": [
    {
     "data": {
      "text/plain": [
       "1    0.675857\n",
       "2    0.324143\n",
       "Name: ChronicCond_IschemicHeart, dtype: float64"
      ]
     },
     "execution_count": 47,
     "metadata": {},
     "output_type": "execute_result"
    }
   ],
   "source": [
    "bene_tr['ChronicCond_IschemicHeart'].value_counts(normalize=True)"
   ]
  },
  {
   "cell_type": "code",
   "execution_count": 48,
   "metadata": {},
   "outputs": [
    {
     "data": {
      "text/plain": [
       "2    0.725317\n",
       "1    0.274683\n",
       "Name: ChronicCond_Osteoporasis, dtype: float64"
      ]
     },
     "execution_count": 48,
     "metadata": {},
     "output_type": "execute_result"
    }
   ],
   "source": [
    "bene_tr['ChronicCond_Osteoporasis'].value_counts(normalize=True)"
   ]
  },
  {
   "cell_type": "code",
   "execution_count": 49,
   "metadata": {},
   "outputs": [
    {
     "data": {
      "text/plain": [
       "2    0.74318\n",
       "1    0.25682\n",
       "Name: ChronicCond_rheumatoidarthritis, dtype: float64"
      ]
     },
     "execution_count": 49,
     "metadata": {},
     "output_type": "execute_result"
    }
   ],
   "source": [
    "bene_tr['ChronicCond_rheumatoidarthritis'].value_counts(normalize=True)"
   ]
  },
  {
   "cell_type": "code",
   "execution_count": 50,
   "metadata": {},
   "outputs": [
    {
     "data": {
      "text/plain": [
       "2    0.920942\n",
       "1    0.079058\n",
       "Name: ChronicCond_stroke, dtype: float64"
      ]
     },
     "execution_count": 50,
     "metadata": {},
     "output_type": "execute_result"
    }
   ],
   "source": [
    "bene_tr['ChronicCond_stroke'].value_counts(normalize=True)"
   ]
  },
  {
   "cell_type": "markdown",
   "metadata": {},
   "source": [
    "Investigating inpatient claims data:<br>\n",
    "31289 beneficiaries<br>\n",
    "40474 claims<br>\n",
    "2092 providers<br>\n",
    "Maximum claims/beneficiary: 8<br>\n",
    "Maximum claims/provider: 516\n"
   ]
  },
  {
   "cell_type": "code",
   "execution_count": 38,
   "metadata": {},
   "outputs": [
    {
     "data": {
      "text/plain": [
       "BENE134170    8\n",
       "BENE121796    7\n",
       "BENE117116    7\n",
       "BENE62091     7\n",
       "BENE119457    7\n",
       "             ..\n",
       "BENE37836     1\n",
       "BENE143498    1\n",
       "BENE115361    1\n",
       "BENE122848    1\n",
       "BENE48346     1\n",
       "Name: BeneID, Length: 31289, dtype: int64"
      ]
     },
     "execution_count": 38,
     "metadata": {},
     "output_type": "execute_result"
    }
   ],
   "source": [
    "inpatient_tr['BeneID'].value_counts()"
   ]
  },
  {
   "cell_type": "code",
   "execution_count": 39,
   "metadata": {},
   "outputs": [
    {
     "data": {
      "text/plain": [
       "CLM32052    1\n",
       "CLM46854    1\n",
       "CLM71295    1\n",
       "CLM70402    1\n",
       "CLM46755    1\n",
       "           ..\n",
       "CLM52954    1\n",
       "CLM55484    1\n",
       "CLM65240    1\n",
       "CLM57127    1\n",
       "CLM70863    1\n",
       "Name: ClaimID, Length: 40474, dtype: int64"
      ]
     },
     "execution_count": 39,
     "metadata": {},
     "output_type": "execute_result"
    }
   ],
   "source": [
    "inpatient_tr['ClaimID'].value_counts()"
   ]
  },
  {
   "cell_type": "code",
   "execution_count": 40,
   "metadata": {},
   "outputs": [
    {
     "data": {
      "text/plain": [
       "PRV52019    516\n",
       "PRV55462    386\n",
       "PRV54367    322\n",
       "PRV53706    282\n",
       "PRV55209    275\n",
       "           ... \n",
       "PRV54820      1\n",
       "PRV55450      1\n",
       "PRV55146      1\n",
       "PRV55129      1\n",
       "PRV54168      1\n",
       "Name: Provider, Length: 2092, dtype: int64"
      ]
     },
     "execution_count": 40,
     "metadata": {},
     "output_type": "execute_result"
    }
   ],
   "source": [
    "inpatient_tr['Provider'].value_counts()"
   ]
  },
  {
   "cell_type": "code",
   "execution_count": 41,
   "metadata": {},
   "outputs": [
    {
     "data": {
      "text/plain": [
       "PHY422134    386\n",
       "PHY341560    274\n",
       "PHY315112    208\n",
       "PHY411541    198\n",
       "PHY431177    195\n",
       "            ... \n",
       "PHY337032      1\n",
       "PHY377597      1\n",
       "PHY366702      1\n",
       "PHY419539      1\n",
       "PHY383755      1\n",
       "Name: AttendingPhysician, Length: 11604, dtype: int64"
      ]
     },
     "execution_count": 41,
     "metadata": {},
     "output_type": "execute_result"
    }
   ],
   "source": [
    "inpatient_tr['AttendingPhysician'].value_counts()"
   ]
  },
  {
   "cell_type": "code",
   "execution_count": 42,
   "metadata": {},
   "outputs": [
    {
     "data": {
      "text/plain": [
       "PHY429430    225\n",
       "PHY341560    153\n",
       "PHY411541    121\n",
       "PHY352941    110\n",
       "PHY314410    109\n",
       "            ... \n",
       "PHY351988      1\n",
       "PHY405305      1\n",
       "PHY393921      1\n",
       "PHY351127      1\n",
       "PHY362337      1\n",
       "Name: OperatingPhysician, Length: 8287, dtype: int64"
      ]
     },
     "execution_count": 42,
     "metadata": {},
     "output_type": "execute_result"
    }
   ],
   "source": [
    "inpatient_tr['OperatingPhysician'].value_counts()"
   ]
  },
  {
   "cell_type": "code",
   "execution_count": 43,
   "metadata": {},
   "outputs": [
    {
     "data": {
      "text/plain": [
       "PHY416093    81\n",
       "PHY333406    38\n",
       "PHY429929    30\n",
       "PHY423728    29\n",
       "PHY361563    29\n",
       "             ..\n",
       "PHY389024     1\n",
       "PHY384938     1\n",
       "PHY430849     1\n",
       "PHY432174     1\n",
       "PHY429813     1\n",
       "Name: OtherPhysician, Length: 2877, dtype: int64"
      ]
     },
     "execution_count": 43,
     "metadata": {},
     "output_type": "execute_result"
    }
   ],
   "source": [
    "inpatient_tr['OtherPhysician'].value_counts()"
   ]
  },
  {
   "cell_type": "code",
   "execution_count": 45,
   "metadata": {},
   "outputs": [
    {
     "data": {
      "text/plain": [
       "78650    1731\n",
       "78605    1669\n",
       "486      1438\n",
       "4280     1106\n",
       "7802     1018\n",
       "         ... \n",
       "7833        1\n",
       "80503       1\n",
       "V4571       1\n",
       "71430       1\n",
       "71107       1\n",
       "Name: ClmAdmitDiagnosisCode, Length: 1928, dtype: int64"
      ]
     },
     "execution_count": 45,
     "metadata": {},
     "output_type": "execute_result"
    }
   ],
   "source": [
    "inpatient_tr['ClmAdmitDiagnosisCode'].value_counts()"
   ]
  },
  {
   "cell_type": "code",
   "execution_count": 46,
   "metadata": {},
   "outputs": [
    {
     "data": {
      "text/plain": [
       "882    179\n",
       "884    174\n",
       "166    168\n",
       "183    165\n",
       "939    163\n",
       "      ... \n",
       "934      1\n",
       "775      1\n",
       "927      1\n",
       "765      1\n",
       "768      1\n",
       "Name: DiagnosisGroupCode, Length: 736, dtype: int64"
      ]
     },
     "execution_count": 46,
     "metadata": {},
     "output_type": "execute_result"
    }
   ],
   "source": [
    "inpatient_tr['DiagnosisGroupCode'].value_counts()"
   ]
  },
  {
   "cell_type": "code",
   "execution_count": 47,
   "metadata": {},
   "outputs": [
    {
     "data": {
      "text/plain": [
       "486      1499\n",
       "V5789    1158\n",
       "41401    1088\n",
       "49121     974\n",
       "0389      945\n",
       "         ... \n",
       "42689       1\n",
       "9243        1\n",
       "85402       1\n",
       "81244       1\n",
       "23879       1\n",
       "Name: ClmDiagnosisCode_1, Length: 2254, dtype: int64"
      ]
     },
     "execution_count": 47,
     "metadata": {},
     "output_type": "execute_result"
    }
   ],
   "source": [
    "inpatient_tr['ClmDiagnosisCode_1'].value_counts()"
   ]
  },
  {
   "cell_type": "code",
   "execution_count": 48,
   "metadata": {},
   "outputs": [
    {
     "data": {
      "text/plain": [
       "4019     2484\n",
       "2724     1125\n",
       "25000    1070\n",
       "41401     806\n",
       "42731     793\n",
       "         ... \n",
       "V618        1\n",
       "7038        1\n",
       "99644       1\n",
       "28869       1\n",
       "1965        1\n",
       "Name: ClmDiagnosisCode_2, Length: 2439, dtype: int64"
      ]
     },
     "execution_count": 48,
     "metadata": {},
     "output_type": "execute_result"
    }
   ],
   "source": [
    "inpatient_tr['ClmDiagnosisCode_2'].value_counts()"
   ]
  },
  {
   "cell_type": "code",
   "execution_count": 49,
   "metadata": {},
   "outputs": [
    {
     "data": {
      "text/plain": [
       "4019     2282\n",
       "25000    1108\n",
       "2724     1097\n",
       "4280      815\n",
       "41401     741\n",
       "         ... \n",
       "34580       1\n",
       "3798        1\n",
       "0382        1\n",
       "5198        1\n",
       "36512       1\n",
       "Name: ClmDiagnosisCode_3, Length: 2427, dtype: int64"
      ]
     },
     "execution_count": 49,
     "metadata": {},
     "output_type": "execute_result"
    }
   ],
   "source": [
    "inpatient_tr['ClmDiagnosisCode_3'].value_counts()"
   ]
  },
  {
   "cell_type": "code",
   "execution_count": 50,
   "metadata": {},
   "outputs": [
    {
     "data": {
      "text/plain": [
       "4019     2100\n",
       "2724     1028\n",
       "25000    1015\n",
       "41401     759\n",
       "42731     747\n",
       "         ... \n",
       "9092        1\n",
       "3360        1\n",
       "44324       1\n",
       "1910        1\n",
       "8794        1\n",
       "Name: ClmDiagnosisCode_4, Length: 2441, dtype: int64"
      ]
     },
     "execution_count": 50,
     "metadata": {},
     "output_type": "execute_result"
    }
   ],
   "source": [
    "inpatient_tr['ClmDiagnosisCode_4'].value_counts()"
   ]
  },
  {
   "cell_type": "code",
   "execution_count": 51,
   "metadata": {},
   "outputs": [
    {
     "data": {
      "text/plain": [
       "4019     1889\n",
       "2724     1000\n",
       "25000     978\n",
       "41401     702\n",
       "42731     694\n",
       "         ... \n",
       "E9398       1\n",
       "E9682       1\n",
       "V741        1\n",
       "9120        1\n",
       "V0981       1\n",
       "Name: ClmDiagnosisCode_5, Length: 2374, dtype: int64"
      ]
     },
     "execution_count": 51,
     "metadata": {},
     "output_type": "execute_result"
    }
   ],
   "source": [
    "inpatient_tr['ClmDiagnosisCode_5'].value_counts()"
   ]
  },
  {
   "cell_type": "code",
   "execution_count": 52,
   "metadata": {},
   "outputs": [
    {
     "data": {
      "text/plain": [
       "4019     1620\n",
       "25000     911\n",
       "2724      903\n",
       "4280      692\n",
       "42731     663\n",
       "         ... \n",
       "6952        1\n",
       "4466        1\n",
       "78838       1\n",
       "E9530       1\n",
       "94534       1\n",
       "Name: ClmDiagnosisCode_6, Length: 2358, dtype: int64"
      ]
     },
     "execution_count": 52,
     "metadata": {},
     "output_type": "execute_result"
    }
   ],
   "source": [
    "inpatient_tr['ClmDiagnosisCode_6'].value_counts()"
   ]
  },
  {
   "cell_type": "code",
   "execution_count": 53,
   "metadata": {},
   "outputs": [
    {
     "data": {
      "text/plain": [
       "4019     1402\n",
       "25000     819\n",
       "2724      803\n",
       "41401     613\n",
       "42731     608\n",
       "         ... \n",
       "E966        1\n",
       "7092        1\n",
       "4808        1\n",
       "71986       1\n",
       "29654       1\n",
       "Name: ClmDiagnosisCode_7, Length: 2310, dtype: int64"
      ]
     },
     "execution_count": 53,
     "metadata": {},
     "output_type": "execute_result"
    }
   ],
   "source": [
    "inpatient_tr['ClmDiagnosisCode_7'].value_counts()"
   ]
  },
  {
   "cell_type": "code",
   "execution_count": 54,
   "metadata": {},
   "outputs": [
    {
     "data": {
      "text/plain": [
       "4019     1200\n",
       "25000     697\n",
       "2724      662\n",
       "41401     553\n",
       "4280      549\n",
       "         ... \n",
       "42689       1\n",
       "9732        1\n",
       "V2651       1\n",
       "3960        1\n",
       "9341        1\n",
       "Name: ClmDiagnosisCode_8, Length: 2243, dtype: int64"
      ]
     },
     "execution_count": 54,
     "metadata": {},
     "output_type": "execute_result"
    }
   ],
   "source": [
    "inpatient_tr['ClmDiagnosisCode_8'].value_counts()"
   ]
  },
  {
   "cell_type": "code",
   "execution_count": 55,
   "metadata": {},
   "outputs": [
    {
     "data": {
      "text/plain": [
       "4019     965\n",
       "2724     633\n",
       "25000    632\n",
       "4280     494\n",
       "42731    485\n",
       "        ... \n",
       "37730      1\n",
       "7104       1\n",
       "0383       1\n",
       "20040      1\n",
       "V5873      1\n",
       "Name: ClmDiagnosisCode_9, Length: 2094, dtype: int64"
      ]
     },
     "execution_count": 55,
     "metadata": {},
     "output_type": "execute_result"
    }
   ],
   "source": [
    "inpatient_tr['ClmDiagnosisCode_9'].value_counts()"
   ]
  },
  {
   "cell_type": "code",
   "execution_count": 56,
   "metadata": {},
   "outputs": [
    {
     "data": {
      "text/plain": [
       "4019     128\n",
       "25000     90\n",
       "2724      86\n",
       "4280      81\n",
       "41401     65\n",
       "        ... \n",
       "V6409      1\n",
       "E8768      1\n",
       "25042      1\n",
       "7935       1\n",
       "3558       1\n",
       "Name: ClmDiagnosisCode_10, Length: 952, dtype: int64"
      ]
     },
     "execution_count": 56,
     "metadata": {},
     "output_type": "execute_result"
    }
   ],
   "source": [
    "inpatient_tr['ClmDiagnosisCode_10'].value_counts()"
   ]
  },
  {
   "cell_type": "code",
   "execution_count": 57,
   "metadata": {},
   "outputs": [
    {
     "data": {
      "text/plain": [
       "9904.0    1137\n",
       "8154.0    1021\n",
       "66.0       893\n",
       "3893.0     849\n",
       "3995.0     805\n",
       "          ... \n",
       "8018.0       1\n",
       "302.0        1\n",
       "9626.0       1\n",
       "8013.0       1\n",
       "1474.0       1\n",
       "Name: ClmProcedureCode_1, Length: 1117, dtype: int64"
      ]
     },
     "execution_count": 57,
     "metadata": {},
     "output_type": "execute_result"
    }
   ],
   "source": [
    "inpatient_tr['ClmProcedureCode_1'].value_counts()"
   ]
  },
  {
   "cell_type": "code",
   "execution_count": 58,
   "metadata": {},
   "outputs": [
    {
     "data": {
      "text/plain": [
       "4019.0    1730\n",
       "2724.0     837\n",
       "5849.0     289\n",
       "311.0      152\n",
       "2762.0     143\n",
       "          ... \n",
       "8605.0       1\n",
       "8604.0       1\n",
       "9627.0       1\n",
       "8088.0       1\n",
       "7859.0       1\n",
       "Name: ClmProcedureCode_2, Length: 297, dtype: int64"
      ]
     },
     "execution_count": 58,
     "metadata": {},
     "output_type": "execute_result"
    }
   ],
   "source": [
    "inpatient_tr['ClmProcedureCode_2'].value_counts()"
   ]
  },
  {
   "cell_type": "code",
   "execution_count": 59,
   "metadata": {},
   "outputs": [
    {
     "data": {
      "text/plain": [
       "4019.0    201\n",
       "2724.0    191\n",
       "5849.0     42\n",
       "4439.0     29\n",
       "9971.0     27\n",
       "         ... \n",
       "8088.0      1\n",
       "7885.0      1\n",
       "7892.0      1\n",
       "5533.0      1\n",
       "3840.0      1\n",
       "Name: ClmProcedureCode_3, Length: 154, dtype: int64"
      ]
     },
     "execution_count": 59,
     "metadata": {},
     "output_type": "execute_result"
    }
   ],
   "source": [
    "inpatient_tr['ClmProcedureCode_3'].value_counts()"
   ]
  },
  {
   "cell_type": "code",
   "execution_count": 60,
   "metadata": {},
   "outputs": [
    {
     "data": {
      "text/plain": [
       "4019.0    18\n",
       "2724.0    16\n",
       "4439.0     7\n",
       "5849.0     6\n",
       "4139.0     6\n",
       "3572.0     4\n",
       "2762.0     4\n",
       "5185.0     3\n",
       "4011.0     3\n",
       "5845.0     2\n",
       "496.0      2\n",
       "3320.0     2\n",
       "185.0      2\n",
       "4422.0     2\n",
       "42.0       2\n",
       "311.0      2\n",
       "7804.0     2\n",
       "9974.0     2\n",
       "2763.0     2\n",
       "4263.0     1\n",
       "7802.0     1\n",
       "5771.0     1\n",
       "7823.0     1\n",
       "7824.0     1\n",
       "4660.0     1\n",
       "3343.0     1\n",
       "5789.0     1\n",
       "7840.0     1\n",
       "3849.0     1\n",
       "4104.0     1\n",
       "6822.0     1\n",
       "5119.0     1\n",
       "7851.0     1\n",
       "4269.0     1\n",
       "3962.0     1\n",
       "3963.0     1\n",
       "4240.0     1\n",
       "4414.0     1\n",
       "7999.0     1\n",
       "2749.0     1\n",
       "2752.0     1\n",
       "9986.0     1\n",
       "1122.0     1\n",
       "3844.0     1\n",
       "2761.0     1\n",
       "1511.0     1\n",
       "412.0      1\n",
       "5121.0     1\n",
       "Name: ClmProcedureCode_4, dtype: int64"
      ]
     },
     "execution_count": 60,
     "metadata": {},
     "output_type": "execute_result"
    }
   ],
   "source": [
    "inpatient_tr['ClmProcedureCode_4'].value_counts()"
   ]
  },
  {
   "cell_type": "markdown",
   "metadata": {},
   "source": [
    "Investigating outpatient claims data:<br>\n",
    "133,980 beneficiaries<br>\n",
    "517,737 claims<br>\n",
    "5012 providers<br>\n",
    "Maximum claims/beneficiary: 29<br>\n",
    "Maximum claims/provider: 8240"
   ]
  },
  {
   "cell_type": "code",
   "execution_count": 63,
   "metadata": {},
   "outputs": [
    {
     "data": {
      "text/plain": [
       "BENE42721     29\n",
       "BENE118316    29\n",
       "BENE63544     27\n",
       "BENE63504     27\n",
       "BENE143400    27\n",
       "              ..\n",
       "BENE13711      1\n",
       "BENE150335     1\n",
       "BENE66410      1\n",
       "BENE25879      1\n",
       "BENE110060     1\n",
       "Name: BeneID, Length: 133980, dtype: int64"
      ]
     },
     "execution_count": 63,
     "metadata": {},
     "output_type": "execute_result"
    }
   ],
   "source": [
    "outpatient_tr['BeneID'].value_counts()"
   ]
  },
  {
   "cell_type": "code",
   "execution_count": 64,
   "metadata": {},
   "outputs": [
    {
     "data": {
      "text/plain": [
       "CLM525819    1\n",
       "CLM707265    1\n",
       "CLM312828    1\n",
       "CLM594285    1\n",
       "CLM160814    1\n",
       "            ..\n",
       "CLM574962    1\n",
       "CLM352792    1\n",
       "CLM407357    1\n",
       "CLM384495    1\n",
       "CLM178377    1\n",
       "Name: ClaimID, Length: 517737, dtype: int64"
      ]
     },
     "execution_count": 64,
     "metadata": {},
     "output_type": "execute_result"
    }
   ],
   "source": [
    "outpatient_tr['ClaimID'].value_counts()"
   ]
  },
  {
   "cell_type": "code",
   "execution_count": 65,
   "metadata": {},
   "outputs": [
    {
     "data": {
      "text/plain": [
       "PRV51459    8240\n",
       "PRV53797    4739\n",
       "PRV51574    4444\n",
       "PRV53918    3588\n",
       "PRV54895    3433\n",
       "            ... \n",
       "PRV54420       1\n",
       "PRV57762       1\n",
       "PRV54319       1\n",
       "PRV53369       1\n",
       "PRV54275       1\n",
       "Name: Provider, Length: 5012, dtype: int64"
      ]
     },
     "execution_count": 65,
     "metadata": {},
     "output_type": "execute_result"
    }
   ],
   "source": [
    "outpatient_tr['Provider'].value_counts()"
   ]
  },
  {
   "cell_type": "code",
   "execution_count": 66,
   "metadata": {},
   "outputs": [
    {
     "data": {
      "text/plain": [
       "PHY330576    2534\n",
       "PHY350277    1628\n",
       "PHY412132    1321\n",
       "PHY423534    1223\n",
       "PHY314027    1200\n",
       "             ... \n",
       "PHY433933       1\n",
       "PHY380272       1\n",
       "PHY344030       1\n",
       "PHY404254       1\n",
       "PHY314858       1\n",
       "Name: AttendingPhysician, Length: 74109, dtype: int64"
      ]
     },
     "execution_count": 66,
     "metadata": {},
     "output_type": "execute_result"
    }
   ],
   "source": [
    "outpatient_tr['AttendingPhysician'].value_counts()"
   ]
  },
  {
   "cell_type": "code",
   "execution_count": 67,
   "metadata": {},
   "outputs": [
    {
     "data": {
      "text/plain": [
       "PHY330576    424\n",
       "PHY424897    293\n",
       "PHY314027    256\n",
       "PHY423534    250\n",
       "PHY357120    249\n",
       "            ... \n",
       "PHY316724      1\n",
       "PHY378213      1\n",
       "PHY396196      1\n",
       "PHY394793      1\n",
       "PHY314314      1\n",
       "Name: OperatingPhysician, Length: 28532, dtype: int64"
      ]
     },
     "execution_count": 67,
     "metadata": {},
     "output_type": "execute_result"
    }
   ],
   "source": [
    "outpatient_tr['OperatingPhysician'].value_counts()"
   ]
  },
  {
   "cell_type": "code",
   "execution_count": 68,
   "metadata": {},
   "outputs": [
    {
     "data": {
      "text/plain": [
       "PHY412132    1247\n",
       "PHY341578    1098\n",
       "PHY338032    1070\n",
       "PHY337425    1041\n",
       "PHY347064     806\n",
       "             ... \n",
       "PHY362623       1\n",
       "PHY371352       1\n",
       "PHY375929       1\n",
       "PHY373862       1\n",
       "PHY397603       1\n",
       "Name: OtherPhysician, Length: 44388, dtype: int64"
      ]
     },
     "execution_count": 68,
     "metadata": {},
     "output_type": "execute_result"
    }
   ],
   "source": [
    "outpatient_tr['OtherPhysician'].value_counts()"
   ]
  },
  {
   "cell_type": "code",
   "execution_count": 178,
   "metadata": {},
   "outputs": [
    {
     "data": {
      "text/plain": [
       "4019     13803\n",
       "4011     12512\n",
       "2724      3603\n",
       "2720      3209\n",
       "2722      3028\n",
       "         ...  \n",
       "80619        1\n",
       "37007        1\n",
       "90219        1\n",
       "80383        1\n",
       "8504         1\n",
       "Name: ClmDiagnosisCode_1, Length: 10354, dtype: int64"
      ]
     },
     "execution_count": 178,
     "metadata": {},
     "output_type": "execute_result"
    }
   ],
   "source": [
    "outpatient_tr['ClmDiagnosisCode_1'].value_counts()"
   ]
  },
  {
   "cell_type": "code",
   "execution_count": 179,
   "metadata": {},
   "outputs": [
    {
     "data": {
      "text/plain": [
       "4019     19894\n",
       "25000    10674\n",
       "2724     10147\n",
       "V5869     9573\n",
       "V5861     9550\n",
       "         ...  \n",
       "5192         1\n",
       "37432        1\n",
       "8469         1\n",
       "37958        1\n",
       "8794         1\n",
       "Name: ClmDiagnosisCode_2, Length: 5056, dtype: int64"
      ]
     },
     "execution_count": 179,
     "metadata": {},
     "output_type": "execute_result"
    }
   ],
   "source": [
    "outpatient_tr['ClmDiagnosisCode_2'].value_counts()"
   ]
  },
  {
   "cell_type": "code",
   "execution_count": 180,
   "metadata": {},
   "outputs": [
    {
     "data": {
      "text/plain": [
       "4019     12126\n",
       "25000     6838\n",
       "2724      6271\n",
       "V5869     6002\n",
       "V5861     4028\n",
       "         ...  \n",
       "20891        1\n",
       "87361        1\n",
       "3124         1\n",
       "E9410        1\n",
       "0463         1\n",
       "Name: ClmDiagnosisCode_3, Length: 4448, dtype: int64"
      ]
     },
     "execution_count": 180,
     "metadata": {},
     "output_type": "execute_result"
    }
   ],
   "source": [
    "outpatient_tr['ClmDiagnosisCode_3'].value_counts()"
   ]
  },
  {
   "cell_type": "code",
   "execution_count": 181,
   "metadata": {},
   "outputs": [
    {
     "data": {
      "text/plain": [
       "4019     7088\n",
       "25000    4235\n",
       "2724     3736\n",
       "V5869    3300\n",
       "2449     1942\n",
       "         ... \n",
       "V568        1\n",
       "E9000       1\n",
       "36230       1\n",
       "V619        1\n",
       "37405       1\n",
       "Name: ClmDiagnosisCode_4, Length: 3925, dtype: int64"
      ]
     },
     "execution_count": 181,
     "metadata": {},
     "output_type": "execute_result"
    }
   ],
   "source": [
    "outpatient_tr['ClmDiagnosisCode_4'].value_counts()"
   ]
  },
  {
   "cell_type": "code",
   "execution_count": 182,
   "metadata": {},
   "outputs": [
    {
     "data": {
      "text/plain": [
       "4019     4116\n",
       "25000    2473\n",
       "2724     1945\n",
       "V5869    1852\n",
       "2449     1081\n",
       "         ... \n",
       "33189       1\n",
       "5724        1\n",
       "83101       1\n",
       "36217       1\n",
       "8794        1\n",
       "Name: ClmDiagnosisCode_5, Length: 3412, dtype: int64"
      ]
     },
     "execution_count": 182,
     "metadata": {},
     "output_type": "execute_result"
    }
   ],
   "source": [
    "outpatient_tr['ClmDiagnosisCode_5'].value_counts()"
   ]
  },
  {
   "cell_type": "code",
   "execution_count": 183,
   "metadata": {},
   "outputs": [
    {
     "data": {
      "text/plain": [
       "4019     2550\n",
       "25000    1595\n",
       "2724     1169\n",
       "V5869    1106\n",
       "2720      695\n",
       "         ... \n",
       "36236       1\n",
       "3334        1\n",
       "V016        1\n",
       "E8171       1\n",
       "08881       1\n",
       "Name: ClmDiagnosisCode_6, Length: 2968, dtype: int64"
      ]
     },
     "execution_count": 183,
     "metadata": {},
     "output_type": "execute_result"
    }
   ],
   "source": [
    "outpatient_tr['ClmDiagnosisCode_6'].value_counts()"
   ]
  },
  {
   "cell_type": "code",
   "execution_count": 184,
   "metadata": {},
   "outputs": [
    {
     "data": {
      "text/plain": [
       "4019     1612\n",
       "25000    1003\n",
       "2724      733\n",
       "V5869     717\n",
       "2720      502\n",
       "         ... \n",
       "92232       1\n",
       "33700       1\n",
       "73671       1\n",
       "61889       1\n",
       "30401       1\n",
       "Name: ClmDiagnosisCode_7, Length: 2635, dtype: int64"
      ]
     },
     "execution_count": 184,
     "metadata": {},
     "output_type": "execute_result"
    }
   ],
   "source": [
    "outpatient_tr['ClmDiagnosisCode_7'].value_counts()"
   ]
  },
  {
   "cell_type": "code",
   "execution_count": 185,
   "metadata": {},
   "outputs": [
    {
     "data": {
      "text/plain": [
       "4019     1057\n",
       "25000     702\n",
       "2724      516\n",
       "V5869     471\n",
       "2720      325\n",
       "         ... \n",
       "6224        1\n",
       "25208       1\n",
       "V1322       1\n",
       "7283        1\n",
       "8489        1\n",
       "Name: ClmDiagnosisCode_8, Length: 2260, dtype: int64"
      ]
     },
     "execution_count": 185,
     "metadata": {},
     "output_type": "execute_result"
    }
   ],
   "source": [
    "outpatient_tr['ClmDiagnosisCode_8'].value_counts()"
   ]
  },
  {
   "cell_type": "code",
   "execution_count": 186,
   "metadata": {},
   "outputs": [
    {
     "data": {
      "text/plain": [
       "4019     616\n",
       "25000    468\n",
       "V5869    292\n",
       "2724     289\n",
       "2720     250\n",
       "        ... \n",
       "8064       1\n",
       "6224       1\n",
       "70721      1\n",
       "5262       1\n",
       "8489       1\n",
       "Name: ClmDiagnosisCode_9, Length: 1894, dtype: int64"
      ]
     },
     "execution_count": 186,
     "metadata": {},
     "output_type": "execute_result"
    }
   ],
   "source": [
    "outpatient_tr['ClmDiagnosisCode_9'].value_counts()"
   ]
  },
  {
   "cell_type": "code",
   "execution_count": 187,
   "metadata": {},
   "outputs": [
    {
     "data": {
      "text/plain": [
       "4019     41\n",
       "25000    35\n",
       "2720     17\n",
       "V5869    16\n",
       "42731    15\n",
       "         ..\n",
       "6825      1\n",
       "0701      1\n",
       "V4975     1\n",
       "78609     1\n",
       "V145      1\n",
       "Name: ClmDiagnosisCode_10, Length: 495, dtype: int64"
      ]
     },
     "execution_count": 187,
     "metadata": {},
     "output_type": "execute_result"
    }
   ],
   "source": [
    "outpatient_tr['ClmDiagnosisCode_10'].value_counts()"
   ]
  },
  {
   "cell_type": "code",
   "execution_count": 189,
   "metadata": {},
   "outputs": [
    {
     "data": {
      "text/plain": [
       "9904.0    15\n",
       "3722.0     8\n",
       "4516.0     8\n",
       "5123.0     7\n",
       "66.0       7\n",
       "          ..\n",
       "5304.0     1\n",
       "5185.0     1\n",
       "9999.0     1\n",
       "9961.0     1\n",
       "527.0      1\n",
       "Name: ClmProcedureCode_1, Length: 80, dtype: int64"
      ]
     },
     "execution_count": 189,
     "metadata": {},
     "output_type": "execute_result"
    }
   ],
   "source": [
    "outpatient_tr['ClmProcedureCode_1'].value_counts()"
   ]
  },
  {
   "cell_type": "code",
   "execution_count": 190,
   "metadata": {},
   "outputs": [
    {
     "data": {
      "text/plain": [
       "4019.0    6\n",
       "2724.0    6\n",
       "7820.0    2\n",
       "1741.0    2\n",
       "5849.0    2\n",
       "496.0     2\n",
       "2763.0    1\n",
       "4439.0    1\n",
       "4571.0    1\n",
       "9971.0    1\n",
       "9982.0    1\n",
       "5119.0    1\n",
       "2731.0    1\n",
       "5739.0    1\n",
       "5733.0    1\n",
       "412.0     1\n",
       "6929.0    1\n",
       "3811.0    1\n",
       "7804.0    1\n",
       "7840.0    1\n",
       "7862.0    1\n",
       "4142.0    1\n",
       "Name: ClmProcedureCode_2, dtype: int64"
      ]
     },
     "execution_count": 190,
     "metadata": {},
     "output_type": "execute_result"
    }
   ],
   "source": [
    "outpatient_tr['ClmProcedureCode_2'].value_counts()"
   ]
  },
  {
   "cell_type": "code",
   "execution_count": 191,
   "metadata": {},
   "outputs": [
    {
     "data": {
      "text/plain": [
       "412.0     1\n",
       "2724.0    1\n",
       "4401.0    1\n",
       "4299.0    1\n",
       "Name: ClmProcedureCode_3, dtype: int64"
      ]
     },
     "execution_count": 191,
     "metadata": {},
     "output_type": "execute_result"
    }
   ],
   "source": [
    "outpatient_tr['ClmProcedureCode_3'].value_counts()"
   ]
  },
  {
   "cell_type": "code",
   "execution_count": 192,
   "metadata": {},
   "outputs": [
    {
     "data": {
      "text/plain": [
       "7840.0    1\n",
       "311.0     1\n",
       "Name: ClmProcedureCode_4, dtype: int64"
      ]
     },
     "execution_count": 192,
     "metadata": {},
     "output_type": "execute_result"
    }
   ],
   "source": [
    "outpatient_tr['ClmProcedureCode_4'].value_counts()"
   ]
  },
  {
   "cell_type": "code",
   "execution_count": 193,
   "metadata": {},
   "outputs": [
    {
     "data": {
      "text/plain": [
       "Series([], Name: ClmProcedureCode_5, dtype: int64)"
      ]
     },
     "execution_count": 193,
     "metadata": {},
     "output_type": "execute_result"
    }
   ],
   "source": [
    "outpatient_tr['ClmProcedureCode_5'].value_counts()"
   ]
  },
  {
   "cell_type": "code",
   "execution_count": 194,
   "metadata": {},
   "outputs": [
    {
     "data": {
      "text/plain": [
       "Series([], Name: ClmProcedureCode_6, dtype: int64)"
      ]
     },
     "execution_count": 194,
     "metadata": {},
     "output_type": "execute_result"
    }
   ],
   "source": [
    "outpatient_tr['ClmProcedureCode_6'].value_counts()"
   ]
  },
  {
   "cell_type": "code",
   "execution_count": 195,
   "metadata": {},
   "outputs": [
    {
     "data": {
      "text/plain": [
       "V7612    4074\n",
       "42731    3001\n",
       "4019     2627\n",
       "25000    2346\n",
       "V5883    1871\n",
       "         ... \n",
       "73397       1\n",
       "9492        1\n",
       "V748        1\n",
       "3229        1\n",
       "7612        1\n",
       "Name: ClmAdmitDiagnosisCode, Length: 3715, dtype: int64"
      ]
     },
     "execution_count": 195,
     "metadata": {},
     "output_type": "execute_result"
    }
   ],
   "source": [
    "outpatient_tr['ClmAdmitDiagnosisCode'].value_counts()"
   ]
  },
  {
   "cell_type": "markdown",
   "metadata": {},
   "source": [
    "Investigate medicare coverage:<br>\n",
    "Part A: 1000 no coverage, 137,389 full 12 month coverage<br>\n",
    "Part B: 675 no coverage, 136,902 full 12 month coverage"
   ]
  },
  {
   "cell_type": "code",
   "execution_count": 94,
   "metadata": {},
   "outputs": [
    {
     "data": {
      "text/plain": [
       "12    137389\n",
       "0       1000\n",
       "6         38\n",
       "11        28\n",
       "8         26\n",
       "10        18\n",
       "7         16\n",
       "4         13\n",
       "5          8\n",
       "9          7\n",
       "3          5\n",
       "2          5\n",
       "1          3\n",
       "Name: NoOfMonths_PartACov, dtype: int64"
      ]
     },
     "execution_count": 94,
     "metadata": {},
     "output_type": "execute_result"
    }
   ],
   "source": [
    "bene_tr['NoOfMonths_PartACov'].value_counts()"
   ]
  },
  {
   "cell_type": "code",
   "execution_count": 95,
   "metadata": {},
   "outputs": [
    {
     "data": {
      "text/plain": [
       "12    136902\n",
       "0        675\n",
       "6        282\n",
       "10       150\n",
       "11       143\n",
       "9        122\n",
       "8         71\n",
       "7         63\n",
       "5         50\n",
       "4         35\n",
       "3         27\n",
       "2         19\n",
       "1         17\n",
       "Name: NoOfMonths_PartBCov, dtype: int64"
      ]
     },
     "execution_count": 95,
     "metadata": {},
     "output_type": "execute_result"
    }
   ],
   "source": [
    "bene_tr['NoOfMonths_PartBCov'].value_counts()"
   ]
  },
  {
   "cell_type": "markdown",
   "metadata": {},
   "source": [
    "Investigate medical reimbursement and deductible amounts <br>\n",
    "1. inpatient annual reimbursement: 15 negatives, changed to 0. Maximum 161,470. <br>\n",
    "2. inpatient annual deductible: max 38,372. <br>\n",
    "3. outpatient annual reimbursement: 12 negatives, changed to 0. Maximum 102,960. <br>\n",
    "4. outpatient annual deductible: max 13,840. "
   ]
  },
  {
   "cell_type": "code",
   "execution_count": 56,
   "metadata": {},
   "outputs": [
    {
     "data": {
      "text/plain": [
       "count    138556.000000\n",
       "mean       3660.346502\n",
       "std        9568.621827\n",
       "min       -8000.000000\n",
       "25%           0.000000\n",
       "50%           0.000000\n",
       "75%        2280.000000\n",
       "max      161470.000000\n",
       "Name: IPAnnualReimbursementAmt, dtype: float64"
      ]
     },
     "execution_count": 56,
     "metadata": {},
     "output_type": "execute_result"
    }
   ],
   "source": [
    "bene_tr['IPAnnualReimbursementAmt'].describe()"
   ]
  },
  {
   "cell_type": "code",
   "execution_count": 101,
   "metadata": {},
   "outputs": [
    {
     "data": {
      "text/plain": [
       "False    138541\n",
       "True         15\n",
       "Name: IPAnnualReimbursementAmt, dtype: int64"
      ]
     },
     "execution_count": 101,
     "metadata": {},
     "output_type": "execute_result"
    }
   ],
   "source": [
    "(bene_tr['IPAnnualReimbursementAmt']<0).value_counts()"
   ]
  },
  {
   "cell_type": "code",
   "execution_count": 102,
   "metadata": {},
   "outputs": [
    {
     "data": {
      "text/plain": [
       "True     102511\n",
       "False     36045\n",
       "Name: IPAnnualReimbursementAmt, dtype: int64"
      ]
     },
     "execution_count": 102,
     "metadata": {},
     "output_type": "execute_result"
    }
   ],
   "source": [
    "(bene_tr['IPAnnualReimbursementAmt']==0).value_counts()"
   ]
  },
  {
   "cell_type": "code",
   "execution_count": 58,
   "metadata": {},
   "outputs": [],
   "source": [
    "#Change the negative values to 0\n",
    "ipreimburse=bene_tr['IPAnnualReimbursementAmt']\n",
    "bene_tr['IPAnnualReimbursementAmt']=pd.Series([z if z>0 else 0 for z in ipreimburse])"
   ]
  },
  {
   "cell_type": "code",
   "execution_count": 103,
   "metadata": {},
   "outputs": [
    {
     "data": {
      "text/plain": [
       "count    138556.000000\n",
       "mean        399.847296\n",
       "std         956.175202\n",
       "min           0.000000\n",
       "25%           0.000000\n",
       "50%           0.000000\n",
       "75%        1068.000000\n",
       "max       38272.000000\n",
       "Name: IPAnnualDeductibleAmt, dtype: float64"
      ]
     },
     "execution_count": 103,
     "metadata": {},
     "output_type": "execute_result"
    }
   ],
   "source": [
    "bene_tr['IPAnnualDeductibleAmt'].describe()"
   ]
  },
  {
   "cell_type": "code",
   "execution_count": 104,
   "metadata": {},
   "outputs": [
    {
     "data": {
      "text/plain": [
       "True     102019\n",
       "False     36537\n",
       "Name: IPAnnualDeductibleAmt, dtype: int64"
      ]
     },
     "execution_count": 104,
     "metadata": {},
     "output_type": "execute_result"
    }
   ],
   "source": [
    "(bene_tr['IPAnnualDeductibleAmt']==0).value_counts()"
   ]
  },
  {
   "cell_type": "code",
   "execution_count": 105,
   "metadata": {},
   "outputs": [
    {
     "data": {
      "text/plain": [
       "count    138556.000000\n",
       "mean       1298.219348\n",
       "std        2493.901134\n",
       "min         -70.000000\n",
       "25%         170.000000\n",
       "50%         570.000000\n",
       "75%        1500.000000\n",
       "max      102960.000000\n",
       "Name: OPAnnualReimbursementAmt, dtype: float64"
      ]
     },
     "execution_count": 105,
     "metadata": {},
     "output_type": "execute_result"
    }
   ],
   "source": [
    "bene_tr['OPAnnualReimbursementAmt'].describe()"
   ]
  },
  {
   "cell_type": "code",
   "execution_count": 106,
   "metadata": {},
   "outputs": [
    {
     "data": {
      "text/plain": [
       "False    138544\n",
       "True         12\n",
       "Name: OPAnnualReimbursementAmt, dtype: int64"
      ]
     },
     "execution_count": 106,
     "metadata": {},
     "output_type": "execute_result"
    }
   ],
   "source": [
    "(bene_tr['OPAnnualReimbursementAmt']<0).value_counts()"
   ]
  },
  {
   "cell_type": "code",
   "execution_count": 107,
   "metadata": {},
   "outputs": [
    {
     "data": {
      "text/plain": [
       "False    134351\n",
       "True       4205\n",
       "Name: OPAnnualReimbursementAmt, dtype: int64"
      ]
     },
     "execution_count": 107,
     "metadata": {},
     "output_type": "execute_result"
    }
   ],
   "source": [
    "(bene_tr['OPAnnualReimbursementAmt']==0).value_counts()"
   ]
  },
  {
   "cell_type": "code",
   "execution_count": 57,
   "metadata": {},
   "outputs": [],
   "source": [
    "#Change the negative values to 0\n",
    "opreimburse=bene_tr['OPAnnualReimbursementAmt']\n",
    "bene_tr['OPAnnualReimbursementAmt']=pd.Series([z if z>0 else 0 for z in opreimburse])"
   ]
  },
  {
   "cell_type": "code",
   "execution_count": 108,
   "metadata": {},
   "outputs": [
    {
     "data": {
      "text/plain": [
       "count    138556.000000\n",
       "mean        377.718258\n",
       "std         645.530187\n",
       "min           0.000000\n",
       "25%          40.000000\n",
       "50%         170.000000\n",
       "75%         460.000000\n",
       "max       13840.000000\n",
       "Name: OPAnnualDeductibleAmt, dtype: float64"
      ]
     },
     "execution_count": 108,
     "metadata": {},
     "output_type": "execute_result"
    }
   ],
   "source": [
    "bene_tr['OPAnnualDeductibleAmt'].describe()"
   ]
  },
  {
   "cell_type": "code",
   "execution_count": 109,
   "metadata": {},
   "outputs": [
    {
     "data": {
      "text/plain": [
       "False    124666\n",
       "True      13890\n",
       "Name: OPAnnualDeductibleAmt, dtype: int64"
      ]
     },
     "execution_count": 109,
     "metadata": {},
     "output_type": "execute_result"
    }
   ],
   "source": [
    "(bene_tr['OPAnnualDeductibleAmt']==0).value_counts()"
   ]
  },
  {
   "cell_type": "markdown",
   "metadata": {},
   "source": [
    "Investigate individual claim data\n"
   ]
  },
  {
   "cell_type": "code",
   "execution_count": 110,
   "metadata": {},
   "outputs": [
    {
     "data": {
      "text/plain": [
       "count     40474.000000\n",
       "mean      10087.884074\n",
       "std       10303.099402\n",
       "min           0.000000\n",
       "25%        4000.000000\n",
       "50%        7000.000000\n",
       "75%       12000.000000\n",
       "max      125000.000000\n",
       "Name: InscClaimAmtReimbursed, dtype: float64"
      ]
     },
     "execution_count": 110,
     "metadata": {},
     "output_type": "execute_result"
    }
   ],
   "source": [
    "inpatient_tr['InscClaimAmtReimbursed'].describe()"
   ]
  },
  {
   "cell_type": "code",
   "execution_count": 111,
   "metadata": {},
   "outputs": [
    {
     "data": {
      "text/plain": [
       "count    39575.0\n",
       "mean      1068.0\n",
       "std          0.0\n",
       "min       1068.0\n",
       "25%       1068.0\n",
       "50%       1068.0\n",
       "75%       1068.0\n",
       "max       1068.0\n",
       "Name: DeductibleAmtPaid, dtype: float64"
      ]
     },
     "execution_count": 111,
     "metadata": {},
     "output_type": "execute_result"
    }
   ],
   "source": [
    "inpatient_tr['DeductibleAmtPaid'].describe()"
   ]
  },
  {
   "cell_type": "code",
   "execution_count": 112,
   "metadata": {},
   "outputs": [
    {
     "data": {
      "text/plain": [
       "count    517737.000000\n",
       "mean        286.334799\n",
       "std         694.034343\n",
       "min           0.000000\n",
       "25%          40.000000\n",
       "50%          80.000000\n",
       "75%         200.000000\n",
       "max      102500.000000\n",
       "Name: InscClaimAmtReimbursed, dtype: float64"
      ]
     },
     "execution_count": 112,
     "metadata": {},
     "output_type": "execute_result"
    }
   ],
   "source": [
    "outpatient_tr['InscClaimAmtReimbursed'].describe()"
   ]
  },
  {
   "cell_type": "code",
   "execution_count": 113,
   "metadata": {},
   "outputs": [
    {
     "data": {
      "text/plain": [
       "count    517737.000000\n",
       "mean          2.779233\n",
       "std          15.785839\n",
       "min           0.000000\n",
       "25%           0.000000\n",
       "50%           0.000000\n",
       "75%           0.000000\n",
       "max         897.000000\n",
       "Name: DeductibleAmtPaid, dtype: float64"
      ]
     },
     "execution_count": 113,
     "metadata": {},
     "output_type": "execute_result"
    }
   ],
   "source": [
    "outpatient_tr['DeductibleAmtPaid'].describe()"
   ]
  },
  {
   "cell_type": "code",
   "execution_count": 117,
   "metadata": {},
   "outputs": [
    {
     "data": {
      "text/plain": [
       "count     517737\n",
       "unique         2\n",
       "top         True\n",
       "freq      496701\n",
       "Name: DeductibleAmtPaid, dtype: object"
      ]
     },
     "execution_count": 117,
     "metadata": {},
     "output_type": "execute_result"
    }
   ],
   "source": [
    "(outpatient_tr['DeductibleAmtPaid']==0.0).describe()"
   ]
  },
  {
   "cell_type": "code",
   "execution_count": 119,
   "metadata": {},
   "outputs": [
    {
     "data": {
      "text/plain": [
       "0      496701\n",
       "100      4582\n",
       "70       2420\n",
       "60       2065\n",
       "40       2045\n",
       "80       2024\n",
       "50       1969\n",
       "20       1406\n",
       "30       1336\n",
       "90       1245\n",
       "10       1203\n",
       "200       734\n",
       "897         2\n",
       "876         2\n",
       "865         2\n",
       "886         1\n",
       "Name: DeductibleAmtPaid, dtype: int64"
      ]
     },
     "execution_count": 119,
     "metadata": {},
     "output_type": "execute_result"
    }
   ],
   "source": [
    "outpatient_tr['DeductibleAmtPaid'].value_counts()"
   ]
  },
  {
   "cell_type": "markdown",
   "metadata": {},
   "source": [
    "<h4> 4. Targeted Exploratory Data Analysis\n",
    "<h5> 4a. Distribution of inpatient and outpatient claim amounts\n",
    "    \n",
    "    Findings: very skewed distribution, a significant amount of zeros, as well as the presence of extreme outliers. "
   ]
  },
  {
   "cell_type": "code",
   "execution_count": 86,
   "metadata": {},
   "outputs": [
    {
     "data": {
      "text/plain": [
       "Text(0.5, 1.0, 'Inpatient Reimbursement, None-zero only')"
      ]
     },
     "execution_count": 86,
     "metadata": {},
     "output_type": "execute_result"
    },
    {
     "data": {
      "image/png": "[encoded data removed]",
      "text/plain": [
       "<Figure size 1440x360 with 2 Axes>"
      ]
     },
     "metadata": {
      "needs_background": "light"
     },
     "output_type": "display_data"
    }
   ],
   "source": [
    "f,axs=plt.subplots(1,2,figsize=(20,5))\n",
    "plt.subplot(1,2,1)\n",
    "bene_tr['IPAnnualReimbursementAmt'].plot.hist(bins=50)\n",
    "plt.title(\"Inpatient Reimbursement, All\")\n",
    "plt.subplot(1,2,2)\n",
    "bene_tr['IPAnnualReimbursementAmt'][bene_tr['IPAnnualReimbursementAmt']>0].plot.hist(bins=50)\n",
    "plt.title(\"Inpatient Reimbursement, None-zero only\")"
   ]
  },
  {
   "cell_type": "code",
   "execution_count": 87,
   "metadata": {},
   "outputs": [
    {
     "data": {
      "text/plain": [
       "Text(0.5, 1.0, 'Outpatient Reimbursement, <$13000 only')"
      ]
     },
     "execution_count": 87,
     "metadata": {},
     "output_type": "execute_result"
    },
    {
     "data": {
      "image/png": "[encoded data removed]",
      "text/plain": [
       "<Figure size 1440x360 with 2 Axes>"
      ]
     },
     "metadata": {
      "needs_background": "light"
     },
     "output_type": "display_data"
    }
   ],
   "source": [
    "f,axs=plt.subplots(1,2,figsize=(20,5))\n",
    "plt.subplot(1,2,1)\n",
    "bene_tr['OPAnnualReimbursementAmt'].plot.hist(bins=50)\n",
    "plt.title(\"Outpatient Reimbursement, All\")\n",
    "plt.subplot(1,2,2)\n",
    "bene_tr['OPAnnualReimbursementAmt'][bene_tr['OPAnnualReimbursementAmt']<13000].plot.hist(bins=50)\n",
    "plt.title(\"Outpatient Reimbursement, <$13000 only\")"
   ]
  },
  {
   "cell_type": "markdown",
   "metadata": {},
   "source": [
    "<h5> 4b. Relationship between the reimbursement and gender\n",
    "    \n",
    "    Finding: No significant difference observed between men and women."
   ]
  },
  {
   "cell_type": "code",
   "execution_count": 88,
   "metadata": {},
   "outputs": [
    {
     "data": {
      "text/plain": [
       "Text(0.5, 1.0, 'Outpatient Reimbursement by Gender')"
      ]
     },
     "execution_count": 88,
     "metadata": {},
     "output_type": "execute_result"
    },
    {
     "data": {
      "image/png": "[encoded data removed]",
      "text/plain": [
       "<Figure size 1440x360 with 2 Axes>"
      ]
     },
     "metadata": {
      "needs_background": "light"
     },
     "output_type": "display_data"
    }
   ],
   "source": [
    "f,axs=plt.subplots(1,2,figsize=(20,5))\n",
    "plt.subplot(1,2,1)\n",
    "sns.boxplot(x=\"Gender\",y=\"IPAnnualReimbursementAmt\",data=bene_tr,showfliers=False)\n",
    "plt.title(\"Inpatient Reimbursement by Gender\")\n",
    "plt.subplot(1,2,2)\n",
    "sns.boxplot(x=\"Gender\",y=\"OPAnnualReimbursementAmt\",data=bene_tr,showfliers=False)\n",
    "plt.title(\"Outpatient Reimbursement by Gender\")"
   ]
  },
  {
   "cell_type": "markdown",
   "metadata": {},
   "source": [
    "<h5> 4c. Relationship between the reimbursement and race\n",
    "    \n",
    "    Findings: No significant difference observed across racial groups for outpatient claims. \n",
    "    Groups 3 and 5 have almost no inpatient claim. "
   ]
  },
  {
   "cell_type": "code",
   "execution_count": 104,
   "metadata": {},
   "outputs": [
    {
     "data": {
      "text/plain": [
       "Text(0.5, 1.0, 'Outpatient Reimbursement by Race')"
      ]
     },
     "execution_count": 104,
     "metadata": {},
     "output_type": "execute_result"
    },
    {
     "data": {
      "image/png": "[encoded data removed]",
      "text/plain": [
       "<Figure size 1440x360 with 2 Axes>"
      ]
     },
     "metadata": {
      "needs_background": "light"
     },
     "output_type": "display_data"
    }
   ],
   "source": [
    "f,axs=plt.subplots(1,2,figsize=(20,5))\n",
    "plt.subplot(1,2,1)\n",
    "sns.boxplot(x=\"Race\",y=\"IPAnnualReimbursementAmt\",data=bene_tr,showfliers=False)\n",
    "plt.title(\"Inpatient Reimbursement by Race\")\n",
    "plt.subplot(1,2,2)\n",
    "sns.boxplot(x=\"Race\",y=\"OPAnnualReimbursementAmt\",data=bene_tr,showfliers=False)\n",
    "plt.title(\"Outpatient Reimbursement by Race\")"
   ]
  },
  {
   "cell_type": "markdown",
   "metadata": {},
   "source": [
    "<h5> 4d. Relationship between the reimbursement and co-morbidity\n",
    "    \n",
    "    Finding: people with comobidity conditions incur almost all inpatient claims.\n",
    "    They tend to have higher outpatient claim amounts. "
   ]
  },
  {
   "cell_type": "code",
   "execution_count": 90,
   "metadata": {},
   "outputs": [
    {
     "data": {
      "text/plain": [
       "Text(0.5, 1.0, 'Outpatient Reimbursement by Alzheimer')"
      ]
     },
     "execution_count": 90,
     "metadata": {},
     "output_type": "execute_result"
    },
    {
     "data": {
      "image/png": "[encoded data removed]",
      "text/plain": [
       "<Figure size 1440x360 with 2 Axes>"
      ]
     },
     "metadata": {
      "needs_background": "light"
     },
     "output_type": "display_data"
    }
   ],
   "source": [
    "f,axs=plt.subplots(1,2,figsize=(20,5))\n",
    "plt.subplot(1,2,1)\n",
    "sns.boxplot(x=\"ChronicCond_Alzheimer\",y=\"IPAnnualReimbursementAmt\",data=bene_tr,showfliers=False)\n",
    "plt.title(\"Inpatient Reimbursement by Alzheimer\")\n",
    "plt.subplot(1,2,2)\n",
    "sns.boxplot(x=\"ChronicCond_Alzheimer\",y=\"OPAnnualReimbursementAmt\",data=bene_tr,showfliers=False)\n",
    "plt.title(\"Outpatient Reimbursement by Alzheimer\")"
   ]
  },
  {
   "cell_type": "code",
   "execution_count": 91,
   "metadata": {},
   "outputs": [
    {
     "data": {
      "text/plain": [
       "Text(0.5, 1.0, 'Outpatient Reimbursement by Heart Failure')"
      ]
     },
     "execution_count": 91,
     "metadata": {},
     "output_type": "execute_result"
    },
    {
     "data": {
      "image/png": "[encoded data removed]",
      "text/plain": [
       "<Figure size 1440x360 with 2 Axes>"
      ]
     },
     "metadata": {
      "needs_background": "light"
     },
     "output_type": "display_data"
    }
   ],
   "source": [
    "f,axs=plt.subplots(1,2,figsize=(20,5))\n",
    "plt.subplot(1,2,1)\n",
    "sns.boxplot(x=\"ChronicCond_Heartfailure\",y=\"IPAnnualReimbursementAmt\",data=bene_tr,showfliers=False)\n",
    "plt.title(\"Inpatient Reimbursement by Heart Failure\")\n",
    "plt.subplot(1,2,2)\n",
    "sns.boxplot(x=\"ChronicCond_Heartfailure\",y=\"OPAnnualReimbursementAmt\",data=bene_tr,showfliers=False)\n",
    "plt.title(\"Outpatient Reimbursement by Heart Failure\")"
   ]
  },
  {
   "cell_type": "code",
   "execution_count": 92,
   "metadata": {},
   "outputs": [
    {
     "data": {
      "text/plain": [
       "Text(0.5, 1.0, 'Outpatient Reimbursement by Kidney Disease')"
      ]
     },
     "execution_count": 92,
     "metadata": {},
     "output_type": "execute_result"
    },
    {
     "data": {
      "image/png": "[encoded data removed]",
      "text/plain": [
       "<Figure size 1440x360 with 2 Axes>"
      ]
     },
     "metadata": {
      "needs_background": "light"
     },
     "output_type": "display_data"
    }
   ],
   "source": [
    "f,axs=plt.subplots(1,2,figsize=(20,5))\n",
    "plt.subplot(1,2,1)\n",
    "sns.boxplot(x=\"ChronicCond_KidneyDisease\",y=\"IPAnnualReimbursementAmt\",data=bene_tr,showfliers=False)\n",
    "plt.title(\"Inpatient Reimbursement by Kidney Disease\")\n",
    "plt.subplot(1,2,2)\n",
    "sns.boxplot(x=\"ChronicCond_KidneyDisease\",y=\"OPAnnualReimbursementAmt\",data=bene_tr,showfliers=False)\n",
    "plt.title(\"Outpatient Reimbursement by Kidney Disease\")"
   ]
  },
  {
   "cell_type": "code",
   "execution_count": 93,
   "metadata": {},
   "outputs": [
    {
     "data": {
      "text/plain": [
       "Text(0.5, 1.0, 'Outpatient Reimbursement by Cancer')"
      ]
     },
     "execution_count": 93,
     "metadata": {},
     "output_type": "execute_result"
    },
    {
     "data": {
      "image/png": "[encoded data removed]",
      "text/plain": [
       "<Figure size 1440x360 with 2 Axes>"
      ]
     },
     "metadata": {
      "needs_background": "light"
     },
     "output_type": "display_data"
    }
   ],
   "source": [
    "f,axs=plt.subplots(1,2,figsize=(20,5))\n",
    "plt.subplot(1,2,1)\n",
    "sns.boxplot(x=\"ChronicCond_Cancer\",y=\"IPAnnualReimbursementAmt\",data=bene_tr,showfliers=False)\n",
    "plt.title(\"Inpatient Reimbursement by Cancer\")\n",
    "plt.subplot(1,2,2)\n",
    "sns.boxplot(x=\"ChronicCond_Cancer\",y=\"OPAnnualReimbursementAmt\",data=bene_tr,showfliers=False)\n",
    "plt.title(\"Outpatient Reimbursement by Cancer\")"
   ]
  },
  {
   "cell_type": "code",
   "execution_count": 94,
   "metadata": {},
   "outputs": [
    {
     "data": {
      "text/plain": [
       "Text(0.5, 1.0, 'Outpatient Reimbursement by ObstrPulmonary')"
      ]
     },
     "execution_count": 94,
     "metadata": {},
     "output_type": "execute_result"
    },
    {
     "data": {
      "image/png": "[encoded data removed]",
      "text/plain": [
       "<Figure size 1440x360 with 2 Axes>"
      ]
     },
     "metadata": {
      "needs_background": "light"
     },
     "output_type": "display_data"
    }
   ],
   "source": [
    "f,axs=plt.subplots(1,2,figsize=(20,5))\n",
    "plt.subplot(1,2,1)\n",
    "sns.boxplot(x=\"ChronicCond_ObstrPulmonary\",y=\"IPAnnualReimbursementAmt\",data=bene_tr,showfliers=False)\n",
    "plt.title(\"Inpatient Reimbursement by ObstrPulmonary\")\n",
    "plt.subplot(1,2,2)\n",
    "sns.boxplot(x=\"ChronicCond_ObstrPulmonary\",y=\"OPAnnualReimbursementAmt\",data=bene_tr,showfliers=False)\n",
    "plt.title(\"Outpatient Reimbursement by ObstrPulmonary\")"
   ]
  },
  {
   "cell_type": "code",
   "execution_count": 95,
   "metadata": {},
   "outputs": [
    {
     "data": {
      "text/plain": [
       "Text(0.5, 1.0, 'Outpatient Reimbursement by Depression')"
      ]
     },
     "execution_count": 95,
     "metadata": {},
     "output_type": "execute_result"
    },
    {
     "data": {
      "image/png": "[encoded data removed]",
      "text/plain": [
       "<Figure size 1440x360 with 2 Axes>"
      ]
     },
     "metadata": {
      "needs_background": "light"
     },
     "output_type": "display_data"
    }
   ],
   "source": [
    "f,axs=plt.subplots(1,2,figsize=(20,5))\n",
    "plt.subplot(1,2,1)\n",
    "sns.boxplot(x=\"ChronicCond_Depression\",y=\"IPAnnualReimbursementAmt\",data=bene_tr,showfliers=False)\n",
    "plt.title(\"Inpatient Reimbursement by Depression\")\n",
    "plt.subplot(1,2,2)\n",
    "sns.boxplot(x=\"ChronicCond_Depression\",y=\"OPAnnualReimbursementAmt\",data=bene_tr,showfliers=False)\n",
    "plt.title(\"Outpatient Reimbursement by Depression\")"
   ]
  },
  {
   "cell_type": "code",
   "execution_count": 96,
   "metadata": {},
   "outputs": [
    {
     "data": {
      "text/plain": [
       "Text(0.5, 1.0, 'Outpatient Reimbursement by Diabetes')"
      ]
     },
     "execution_count": 96,
     "metadata": {},
     "output_type": "execute_result"
    },
    {
     "data": {
      "image/png": "[encoded data removed]",
      "text/plain": [
       "<Figure size 1440x360 with 2 Axes>"
      ]
     },
     "metadata": {
      "needs_background": "light"
     },
     "output_type": "display_data"
    }
   ],
   "source": [
    "f,axs=plt.subplots(1,2,figsize=(20,5))\n",
    "plt.subplot(1,2,1)\n",
    "sns.boxplot(x=\"ChronicCond_Diabetes\",y=\"IPAnnualReimbursementAmt\",data=bene_tr,showfliers=False)\n",
    "plt.title(\"Inpatient Reimbursement by Diabetes\")\n",
    "plt.subplot(1,2,2)\n",
    "sns.boxplot(x=\"ChronicCond_Diabetes\",y=\"OPAnnualReimbursementAmt\",data=bene_tr,showfliers=False)\n",
    "plt.title(\"Outpatient Reimbursement by Diabetes\")"
   ]
  },
  {
   "cell_type": "code",
   "execution_count": 97,
   "metadata": {},
   "outputs": [
    {
     "data": {
      "text/plain": [
       "Text(0.5, 1.0, 'Outpatient Reimbursement by IschemicHeart')"
      ]
     },
     "execution_count": 97,
     "metadata": {},
     "output_type": "execute_result"
    },
    {
     "data": {
      "image/png": "[encoded data removed]",
      "text/plain": [
       "<Figure size 1440x360 with 2 Axes>"
      ]
     },
     "metadata": {
      "needs_background": "light"
     },
     "output_type": "display_data"
    }
   ],
   "source": [
    "f,axs=plt.subplots(1,2,figsize=(20,5))\n",
    "plt.subplot(1,2,1)\n",
    "sns.boxplot(x=\"ChronicCond_IschemicHeart\",y=\"IPAnnualReimbursementAmt\",data=bene_tr,showfliers=False)\n",
    "plt.title(\"Inpatient Reimbursement by IschemicHeart\")\n",
    "plt.subplot(1,2,2)\n",
    "sns.boxplot(x=\"ChronicCond_IschemicHeart\",y=\"OPAnnualReimbursementAmt\",data=bene_tr,showfliers=False)\n",
    "plt.title(\"Outpatient Reimbursement by IschemicHeart\")"
   ]
  },
  {
   "cell_type": "code",
   "execution_count": 98,
   "metadata": {},
   "outputs": [
    {
     "data": {
      "text/plain": [
       "Text(0.5, 1.0, 'Outpatient Reimbursement by Osteoporasis')"
      ]
     },
     "execution_count": 98,
     "metadata": {},
     "output_type": "execute_result"
    },
    {
     "data": {
      "image/png": "[encoded data removed]",
      "text/plain": [
       "<Figure size 1440x360 with 2 Axes>"
      ]
     },
     "metadata": {
      "needs_background": "light"
     },
     "output_type": "display_data"
    }
   ],
   "source": [
    "f,axs=plt.subplots(1,2,figsize=(20,5))\n",
    "plt.subplot(1,2,1)\n",
    "sns.boxplot(x=\"ChronicCond_Osteoporasis\",y=\"IPAnnualReimbursementAmt\",data=bene_tr,showfliers=False)\n",
    "plt.title(\"Inpatient Reimbursement by Osteoporasis\")\n",
    "plt.subplot(1,2,2)\n",
    "sns.boxplot(x=\"ChronicCond_Osteoporasis\",y=\"OPAnnualReimbursementAmt\",data=bene_tr,showfliers=False)\n",
    "plt.title(\"Outpatient Reimbursement by Osteoporasis\")"
   ]
  },
  {
   "cell_type": "code",
   "execution_count": 100,
   "metadata": {},
   "outputs": [
    {
     "data": {
      "text/plain": [
       "Text(0.5, 1.0, 'Outpatient Reimbursement by Rheumatoidarthritis')"
      ]
     },
     "execution_count": 100,
     "metadata": {},
     "output_type": "execute_result"
    },
    {
     "data": {
      "image/png": "[encoded data removed]",
      "text/plain": [
       "<Figure size 1440x360 with 2 Axes>"
      ]
     },
     "metadata": {
      "needs_background": "light"
     },
     "output_type": "display_data"
    }
   ],
   "source": [
    "f,axs=plt.subplots(1,2,figsize=(20,5))\n",
    "plt.subplot(1,2,1)\n",
    "sns.boxplot(x=\"ChronicCond_rheumatoidarthritis\",y=\"IPAnnualReimbursementAmt\",data=bene_tr,showfliers=False)\n",
    "plt.title(\"Inpatient Reimbursement by Rheumatoidarthritis\")\n",
    "plt.subplot(1,2,2)\n",
    "sns.boxplot(x=\"ChronicCond_rheumatoidarthritis\",y=\"OPAnnualReimbursementAmt\",data=bene_tr,showfliers=False)\n",
    "plt.title(\"Outpatient Reimbursement by Rheumatoidarthritis\")"
   ]
  },
  {
   "cell_type": "code",
   "execution_count": 102,
   "metadata": {},
   "outputs": [
    {
     "data": {
      "text/plain": [
       "Text(0.5, 1.0, 'Outpatient Reimbursement by Stroke')"
      ]
     },
     "execution_count": 102,
     "metadata": {},
     "output_type": "execute_result"
    },
    {
     "data": {
      "image/png": "[encoded data removed]",
      "text/plain": [
       "<Figure size 1440x360 with 2 Axes>"
      ]
     },
     "metadata": {
      "needs_background": "light"
     },
     "output_type": "display_data"
    }
   ],
   "source": [
    "f,axs=plt.subplots(1,2,figsize=(20,5))\n",
    "plt.subplot(1,2,1)\n",
    "sns.boxplot(x=\"ChronicCond_stroke\",y=\"IPAnnualReimbursementAmt\",data=bene_tr,showfliers=False)\n",
    "plt.title(\"Inpatient Reimbursement by Stroke\")\n",
    "plt.subplot(1,2,2)\n",
    "sns.boxplot(x=\"ChronicCond_stroke\",y=\"OPAnnualReimbursementAmt\",data=bene_tr,showfliers=False)\n",
    "plt.title(\"Outpatient Reimbursement by Stroke\")"
   ]
  },
  {
   "cell_type": "markdown",
   "metadata": {},
   "source": [
    "<h4>4e. Merge datasets to create a Provider dataset\n",
    "    \n",
    "1. To calculate the number of claims and the amount of reimbursements each provider has from either inpatient or outpatient claim datasets <br>\n",
    "2. Merge the above to the provider datasets with the indicator for fraud. <br>\n",
    "3. Graph the number of claims and the amount of reimbursements by fraud status. "
   ]
  },
  {
   "cell_type": "code",
   "execution_count": 145,
   "metadata": {},
   "outputs": [
    {
     "data": {
      "text/html": [
       "<div>\n",
       "<style scoped>\n",
       "    .dataframe tbody tr th:only-of-type {\n",
       "        vertical-align: middle;\n",
       "    }\n",
       "\n",
       "    .dataframe tbody tr th {\n",
       "        vertical-align: top;\n",
       "    }\n",
       "\n",
       "    .dataframe thead th {\n",
       "        text-align: right;\n",
       "    }\n",
       "</style>\n",
       "<table border=\"1\" class=\"dataframe\">\n",
       "  <thead>\n",
       "    <tr style=\"text-align: right;\">\n",
       "      <th></th>\n",
       "      <th>Provider</th>\n",
       "      <th>Inpatient_Claim_Number</th>\n",
       "    </tr>\n",
       "  </thead>\n",
       "  <tbody>\n",
       "    <tr>\n",
       "      <td>0</td>\n",
       "      <td>PRV52019</td>\n",
       "      <td>516</td>\n",
       "    </tr>\n",
       "    <tr>\n",
       "      <td>1</td>\n",
       "      <td>PRV55462</td>\n",
       "      <td>386</td>\n",
       "    </tr>\n",
       "    <tr>\n",
       "      <td>2</td>\n",
       "      <td>PRV54367</td>\n",
       "      <td>322</td>\n",
       "    </tr>\n",
       "    <tr>\n",
       "      <td>3</td>\n",
       "      <td>PRV53706</td>\n",
       "      <td>282</td>\n",
       "    </tr>\n",
       "    <tr>\n",
       "      <td>4</td>\n",
       "      <td>PRV55209</td>\n",
       "      <td>275</td>\n",
       "    </tr>\n",
       "    <tr>\n",
       "      <td>...</td>\n",
       "      <td>...</td>\n",
       "      <td>...</td>\n",
       "    </tr>\n",
       "    <tr>\n",
       "      <td>2087</td>\n",
       "      <td>PRV55067</td>\n",
       "      <td>1</td>\n",
       "    </tr>\n",
       "    <tr>\n",
       "      <td>2088</td>\n",
       "      <td>PRV57560</td>\n",
       "      <td>1</td>\n",
       "    </tr>\n",
       "    <tr>\n",
       "      <td>2089</td>\n",
       "      <td>PRV55143</td>\n",
       "      <td>1</td>\n",
       "    </tr>\n",
       "    <tr>\n",
       "      <td>2090</td>\n",
       "      <td>PRV53240</td>\n",
       "      <td>1</td>\n",
       "    </tr>\n",
       "    <tr>\n",
       "      <td>2091</td>\n",
       "      <td>PRV52518</td>\n",
       "      <td>1</td>\n",
       "    </tr>\n",
       "  </tbody>\n",
       "</table>\n",
       "<p>2092 rows × 2 columns</p>\n",
       "</div>"
      ],
      "text/plain": [
       "      Provider Inpatient_Claim_Number\n",
       "0     PRV52019                    516\n",
       "1     PRV55462                    386\n",
       "2     PRV54367                    322\n",
       "3     PRV53706                    282\n",
       "4     PRV55209                    275\n",
       "...        ...                    ...\n",
       "2087  PRV55067                      1\n",
       "2088  PRV57560                      1\n",
       "2089  PRV55143                      1\n",
       "2090  PRV53240                      1\n",
       "2091  PRV52518                      1\n",
       "\n",
       "[2092 rows x 2 columns]"
      ]
     },
     "execution_count": 145,
     "metadata": {},
     "output_type": "execute_result"
    }
   ],
   "source": [
    "In_Provider=pd.DataFrame([inpatient_tr['Provider'].value_counts().index,inpatient_tr['Provider'].value_counts()]).transpose().rename({0:'Provider',1:'Inpatient_Claim_Number'},axis=1)\n",
    "In_Provider"
   ]
  },
  {
   "cell_type": "code",
   "execution_count": 146,
   "metadata": {},
   "outputs": [
    {
     "data": {
      "text/html": [
       "<div>\n",
       "<style scoped>\n",
       "    .dataframe tbody tr th:only-of-type {\n",
       "        vertical-align: middle;\n",
       "    }\n",
       "\n",
       "    .dataframe tbody tr th {\n",
       "        vertical-align: top;\n",
       "    }\n",
       "\n",
       "    .dataframe thead th {\n",
       "        text-align: right;\n",
       "    }\n",
       "</style>\n",
       "<table border=\"1\" class=\"dataframe\">\n",
       "  <thead>\n",
       "    <tr style=\"text-align: right;\">\n",
       "      <th></th>\n",
       "      <th>Provider</th>\n",
       "      <th>Outpatient_Claim_Number</th>\n",
       "    </tr>\n",
       "  </thead>\n",
       "  <tbody>\n",
       "    <tr>\n",
       "      <td>0</td>\n",
       "      <td>PRV51459</td>\n",
       "      <td>8240</td>\n",
       "    </tr>\n",
       "    <tr>\n",
       "      <td>1</td>\n",
       "      <td>PRV53797</td>\n",
       "      <td>4739</td>\n",
       "    </tr>\n",
       "    <tr>\n",
       "      <td>2</td>\n",
       "      <td>PRV51574</td>\n",
       "      <td>4444</td>\n",
       "    </tr>\n",
       "    <tr>\n",
       "      <td>3</td>\n",
       "      <td>PRV53918</td>\n",
       "      <td>3588</td>\n",
       "    </tr>\n",
       "    <tr>\n",
       "      <td>4</td>\n",
       "      <td>PRV54895</td>\n",
       "      <td>3433</td>\n",
       "    </tr>\n",
       "    <tr>\n",
       "      <td>...</td>\n",
       "      <td>...</td>\n",
       "      <td>...</td>\n",
       "    </tr>\n",
       "    <tr>\n",
       "      <td>5007</td>\n",
       "      <td>PRV57738</td>\n",
       "      <td>1</td>\n",
       "    </tr>\n",
       "    <tr>\n",
       "      <td>5008</td>\n",
       "      <td>PRV51577</td>\n",
       "      <td>1</td>\n",
       "    </tr>\n",
       "    <tr>\n",
       "      <td>5009</td>\n",
       "      <td>PRV55787</td>\n",
       "      <td>1</td>\n",
       "    </tr>\n",
       "    <tr>\n",
       "      <td>5010</td>\n",
       "      <td>PRV53228</td>\n",
       "      <td>1</td>\n",
       "    </tr>\n",
       "    <tr>\n",
       "      <td>5011</td>\n",
       "      <td>PRV52651</td>\n",
       "      <td>1</td>\n",
       "    </tr>\n",
       "  </tbody>\n",
       "</table>\n",
       "<p>5012 rows × 2 columns</p>\n",
       "</div>"
      ],
      "text/plain": [
       "      Provider Outpatient_Claim_Number\n",
       "0     PRV51459                    8240\n",
       "1     PRV53797                    4739\n",
       "2     PRV51574                    4444\n",
       "3     PRV53918                    3588\n",
       "4     PRV54895                    3433\n",
       "...        ...                     ...\n",
       "5007  PRV57738                       1\n",
       "5008  PRV51577                       1\n",
       "5009  PRV55787                       1\n",
       "5010  PRV53228                       1\n",
       "5011  PRV52651                       1\n",
       "\n",
       "[5012 rows x 2 columns]"
      ]
     },
     "execution_count": 146,
     "metadata": {},
     "output_type": "execute_result"
    }
   ],
   "source": [
    "Out_Provider=pd.DataFrame([outpatient_tr['Provider'].value_counts().index,outpatient_tr['Provider'].value_counts()]).transpose().rename({0:'Provider',1:'Outpatient_Claim_Number'},axis=1)\n",
    "Out_Provider"
   ]
  },
  {
   "cell_type": "code",
   "execution_count": 147,
   "metadata": {},
   "outputs": [],
   "source": [
    "provider_claimnumber=pd.merge(In_Provider,Out_Provider,on='Provider',how='outer')"
   ]
  },
  {
   "cell_type": "code",
   "execution_count": 148,
   "metadata": {},
   "outputs": [
    {
     "data": {
      "text/html": [
       "<div>\n",
       "<style scoped>\n",
       "    .dataframe tbody tr th:only-of-type {\n",
       "        vertical-align: middle;\n",
       "    }\n",
       "\n",
       "    .dataframe tbody tr th {\n",
       "        vertical-align: top;\n",
       "    }\n",
       "\n",
       "    .dataframe thead th {\n",
       "        text-align: right;\n",
       "    }\n",
       "</style>\n",
       "<table border=\"1\" class=\"dataframe\">\n",
       "  <thead>\n",
       "    <tr style=\"text-align: right;\">\n",
       "      <th></th>\n",
       "      <th>Provider</th>\n",
       "      <th>Inpatient_Claim_Amount</th>\n",
       "    </tr>\n",
       "  </thead>\n",
       "  <tbody>\n",
       "    <tr>\n",
       "      <td>0</td>\n",
       "      <td>PRV51001</td>\n",
       "      <td>97000</td>\n",
       "    </tr>\n",
       "    <tr>\n",
       "      <td>1</td>\n",
       "      <td>PRV51003</td>\n",
       "      <td>573000</td>\n",
       "    </tr>\n",
       "    <tr>\n",
       "      <td>2</td>\n",
       "      <td>PRV51007</td>\n",
       "      <td>19000</td>\n",
       "    </tr>\n",
       "    <tr>\n",
       "      <td>3</td>\n",
       "      <td>PRV51008</td>\n",
       "      <td>25000</td>\n",
       "    </tr>\n",
       "    <tr>\n",
       "      <td>4</td>\n",
       "      <td>PRV51011</td>\n",
       "      <td>5000</td>\n",
       "    </tr>\n",
       "    <tr>\n",
       "      <td>...</td>\n",
       "      <td>...</td>\n",
       "      <td>...</td>\n",
       "    </tr>\n",
       "    <tr>\n",
       "      <td>2087</td>\n",
       "      <td>PRV57719</td>\n",
       "      <td>76000</td>\n",
       "    </tr>\n",
       "    <tr>\n",
       "      <td>2088</td>\n",
       "      <td>PRV57728</td>\n",
       "      <td>6000</td>\n",
       "    </tr>\n",
       "    <tr>\n",
       "      <td>2089</td>\n",
       "      <td>PRV57729</td>\n",
       "      <td>107000</td>\n",
       "    </tr>\n",
       "    <tr>\n",
       "      <td>2090</td>\n",
       "      <td>PRV57732</td>\n",
       "      <td>76000</td>\n",
       "    </tr>\n",
       "    <tr>\n",
       "      <td>2091</td>\n",
       "      <td>PRV57757</td>\n",
       "      <td>109000</td>\n",
       "    </tr>\n",
       "  </tbody>\n",
       "</table>\n",
       "<p>2092 rows × 2 columns</p>\n",
       "</div>"
      ],
      "text/plain": [
       "      Provider Inpatient_Claim_Amount\n",
       "0     PRV51001                  97000\n",
       "1     PRV51003                 573000\n",
       "2     PRV51007                  19000\n",
       "3     PRV51008                  25000\n",
       "4     PRV51011                   5000\n",
       "...        ...                    ...\n",
       "2087  PRV57719                  76000\n",
       "2088  PRV57728                   6000\n",
       "2089  PRV57729                 107000\n",
       "2090  PRV57732                  76000\n",
       "2091  PRV57757                 109000\n",
       "\n",
       "[2092 rows x 2 columns]"
      ]
     },
     "execution_count": 148,
     "metadata": {},
     "output_type": "execute_result"
    }
   ],
   "source": [
    "inreimburse_by_provider=inpatient_tr.groupby('Provider')['InscClaimAmtReimbursed'].sum()\n",
    "inreimburse_temp1=pd.DataFrame([inreimburse_by_provider.index,inreimburse_by_provider])\n",
    "inreimburse_temp2=inreimburse_temp1.transpose()\n",
    "In_Provider_Claim=inreimburse_temp2.rename({0:'Provider',1:'Inpatient_Claim_Amount'},axis=1)\n",
    "In_Provider_Claim"
   ]
  },
  {
   "cell_type": "code",
   "execution_count": 149,
   "metadata": {},
   "outputs": [
    {
     "data": {
      "text/html": [
       "<div>\n",
       "<style scoped>\n",
       "    .dataframe tbody tr th:only-of-type {\n",
       "        vertical-align: middle;\n",
       "    }\n",
       "\n",
       "    .dataframe tbody tr th {\n",
       "        vertical-align: top;\n",
       "    }\n",
       "\n",
       "    .dataframe thead th {\n",
       "        text-align: right;\n",
       "    }\n",
       "</style>\n",
       "<table border=\"1\" class=\"dataframe\">\n",
       "  <thead>\n",
       "    <tr style=\"text-align: right;\">\n",
       "      <th></th>\n",
       "      <th>Provider</th>\n",
       "      <th>Outpatient_Claim_Amount</th>\n",
       "    </tr>\n",
       "  </thead>\n",
       "  <tbody>\n",
       "    <tr>\n",
       "      <td>0</td>\n",
       "      <td>PRV51001</td>\n",
       "      <td>7640</td>\n",
       "    </tr>\n",
       "    <tr>\n",
       "      <td>1</td>\n",
       "      <td>PRV51003</td>\n",
       "      <td>32670</td>\n",
       "    </tr>\n",
       "    <tr>\n",
       "      <td>2</td>\n",
       "      <td>PRV51004</td>\n",
       "      <td>52170</td>\n",
       "    </tr>\n",
       "    <tr>\n",
       "      <td>3</td>\n",
       "      <td>PRV51005</td>\n",
       "      <td>280910</td>\n",
       "    </tr>\n",
       "    <tr>\n",
       "      <td>4</td>\n",
       "      <td>PRV51007</td>\n",
       "      <td>14710</td>\n",
       "    </tr>\n",
       "    <tr>\n",
       "      <td>...</td>\n",
       "      <td>...</td>\n",
       "      <td>...</td>\n",
       "    </tr>\n",
       "    <tr>\n",
       "      <td>5007</td>\n",
       "      <td>PRV57759</td>\n",
       "      <td>10640</td>\n",
       "    </tr>\n",
       "    <tr>\n",
       "      <td>5008</td>\n",
       "      <td>PRV57760</td>\n",
       "      <td>4770</td>\n",
       "    </tr>\n",
       "    <tr>\n",
       "      <td>5009</td>\n",
       "      <td>PRV57761</td>\n",
       "      <td>18470</td>\n",
       "    </tr>\n",
       "    <tr>\n",
       "      <td>5010</td>\n",
       "      <td>PRV57762</td>\n",
       "      <td>1900</td>\n",
       "    </tr>\n",
       "    <tr>\n",
       "      <td>5011</td>\n",
       "      <td>PRV57763</td>\n",
       "      <td>43610</td>\n",
       "    </tr>\n",
       "  </tbody>\n",
       "</table>\n",
       "<p>5012 rows × 2 columns</p>\n",
       "</div>"
      ],
      "text/plain": [
       "      Provider Outpatient_Claim_Amount\n",
       "0     PRV51001                    7640\n",
       "1     PRV51003                   32670\n",
       "2     PRV51004                   52170\n",
       "3     PRV51005                  280910\n",
       "4     PRV51007                   14710\n",
       "...        ...                     ...\n",
       "5007  PRV57759                   10640\n",
       "5008  PRV57760                    4770\n",
       "5009  PRV57761                   18470\n",
       "5010  PRV57762                    1900\n",
       "5011  PRV57763                   43610\n",
       "\n",
       "[5012 rows x 2 columns]"
      ]
     },
     "execution_count": 149,
     "metadata": {},
     "output_type": "execute_result"
    }
   ],
   "source": [
    "outreimburse_by_provider=outpatient_tr.groupby('Provider')['InscClaimAmtReimbursed'].sum()\n",
    "outreimburse_temp1=pd.DataFrame([outreimburse_by_provider.index,outreimburse_by_provider])\n",
    "outreimburse_temp2=outreimburse_temp1.transpose()\n",
    "Out_Provider_Claim=outreimburse_temp2.rename({0:'Provider',1:'Outpatient_Claim_Amount'},axis=1)\n",
    "Out_Provider_Claim"
   ]
  },
  {
   "cell_type": "code",
   "execution_count": 150,
   "metadata": {},
   "outputs": [
    {
     "data": {
      "text/html": [
       "<div>\n",
       "<style scoped>\n",
       "    .dataframe tbody tr th:only-of-type {\n",
       "        vertical-align: middle;\n",
       "    }\n",
       "\n",
       "    .dataframe tbody tr th {\n",
       "        vertical-align: top;\n",
       "    }\n",
       "\n",
       "    .dataframe thead th {\n",
       "        text-align: right;\n",
       "    }\n",
       "</style>\n",
       "<table border=\"1\" class=\"dataframe\">\n",
       "  <thead>\n",
       "    <tr style=\"text-align: right;\">\n",
       "      <th></th>\n",
       "      <th>Provider</th>\n",
       "      <th>Inpatient_Claim_Amount</th>\n",
       "      <th>Outpatient_Claim_Amount</th>\n",
       "    </tr>\n",
       "  </thead>\n",
       "  <tbody>\n",
       "    <tr>\n",
       "      <td>0</td>\n",
       "      <td>PRV51001</td>\n",
       "      <td>97000</td>\n",
       "      <td>7640</td>\n",
       "    </tr>\n",
       "    <tr>\n",
       "      <td>1</td>\n",
       "      <td>PRV51003</td>\n",
       "      <td>573000</td>\n",
       "      <td>32670</td>\n",
       "    </tr>\n",
       "    <tr>\n",
       "      <td>2</td>\n",
       "      <td>PRV51007</td>\n",
       "      <td>19000</td>\n",
       "      <td>14710</td>\n",
       "    </tr>\n",
       "    <tr>\n",
       "      <td>3</td>\n",
       "      <td>PRV51008</td>\n",
       "      <td>25000</td>\n",
       "      <td>10630</td>\n",
       "    </tr>\n",
       "    <tr>\n",
       "      <td>4</td>\n",
       "      <td>PRV51011</td>\n",
       "      <td>5000</td>\n",
       "      <td>11630</td>\n",
       "    </tr>\n",
       "    <tr>\n",
       "      <td>...</td>\n",
       "      <td>...</td>\n",
       "      <td>...</td>\n",
       "      <td>...</td>\n",
       "    </tr>\n",
       "    <tr>\n",
       "      <td>5405</td>\n",
       "      <td>PRV57759</td>\n",
       "      <td>NaN</td>\n",
       "      <td>10640</td>\n",
       "    </tr>\n",
       "    <tr>\n",
       "      <td>5406</td>\n",
       "      <td>PRV57760</td>\n",
       "      <td>NaN</td>\n",
       "      <td>4770</td>\n",
       "    </tr>\n",
       "    <tr>\n",
       "      <td>5407</td>\n",
       "      <td>PRV57761</td>\n",
       "      <td>NaN</td>\n",
       "      <td>18470</td>\n",
       "    </tr>\n",
       "    <tr>\n",
       "      <td>5408</td>\n",
       "      <td>PRV57762</td>\n",
       "      <td>NaN</td>\n",
       "      <td>1900</td>\n",
       "    </tr>\n",
       "    <tr>\n",
       "      <td>5409</td>\n",
       "      <td>PRV57763</td>\n",
       "      <td>NaN</td>\n",
       "      <td>43610</td>\n",
       "    </tr>\n",
       "  </tbody>\n",
       "</table>\n",
       "<p>5410 rows × 3 columns</p>\n",
       "</div>"
      ],
      "text/plain": [
       "      Provider Inpatient_Claim_Amount Outpatient_Claim_Amount\n",
       "0     PRV51001                  97000                    7640\n",
       "1     PRV51003                 573000                   32670\n",
       "2     PRV51007                  19000                   14710\n",
       "3     PRV51008                  25000                   10630\n",
       "4     PRV51011                   5000                   11630\n",
       "...        ...                    ...                     ...\n",
       "5405  PRV57759                    NaN                   10640\n",
       "5406  PRV57760                    NaN                    4770\n",
       "5407  PRV57761                    NaN                   18470\n",
       "5408  PRV57762                    NaN                    1900\n",
       "5409  PRV57763                    NaN                   43610\n",
       "\n",
       "[5410 rows x 3 columns]"
      ]
     },
     "execution_count": 150,
     "metadata": {},
     "output_type": "execute_result"
    }
   ],
   "source": [
    "provider_claimamount=pd.merge(In_Provider_Claim,Out_Provider_Claim,on='Provider',how='outer')\n",
    "provider_claimamount"
   ]
  },
  {
   "cell_type": "code",
   "execution_count": 151,
   "metadata": {},
   "outputs": [
    {
     "data": {
      "text/html": [
       "<div>\n",
       "<style scoped>\n",
       "    .dataframe tbody tr th:only-of-type {\n",
       "        vertical-align: middle;\n",
       "    }\n",
       "\n",
       "    .dataframe tbody tr th {\n",
       "        vertical-align: top;\n",
       "    }\n",
       "\n",
       "    .dataframe thead th {\n",
       "        text-align: right;\n",
       "    }\n",
       "</style>\n",
       "<table border=\"1\" class=\"dataframe\">\n",
       "  <thead>\n",
       "    <tr style=\"text-align: right;\">\n",
       "      <th></th>\n",
       "      <th>Provider</th>\n",
       "      <th>PotentialFraud</th>\n",
       "      <th>Inpatient_Claim_Number</th>\n",
       "      <th>Outpatient_Claim_Number</th>\n",
       "      <th>Inpatient_Claim_Amount</th>\n",
       "      <th>Outpatient_Claim_Amount</th>\n",
       "    </tr>\n",
       "  </thead>\n",
       "  <tbody>\n",
       "    <tr>\n",
       "      <td>0</td>\n",
       "      <td>PRV51001</td>\n",
       "      <td>No</td>\n",
       "      <td>5</td>\n",
       "      <td>20</td>\n",
       "      <td>97000</td>\n",
       "      <td>7640</td>\n",
       "    </tr>\n",
       "    <tr>\n",
       "      <td>1</td>\n",
       "      <td>PRV51003</td>\n",
       "      <td>Yes</td>\n",
       "      <td>62</td>\n",
       "      <td>70</td>\n",
       "      <td>573000</td>\n",
       "      <td>32670</td>\n",
       "    </tr>\n",
       "    <tr>\n",
       "      <td>2</td>\n",
       "      <td>PRV51004</td>\n",
       "      <td>No</td>\n",
       "      <td>NaN</td>\n",
       "      <td>149</td>\n",
       "      <td>NaN</td>\n",
       "      <td>52170</td>\n",
       "    </tr>\n",
       "    <tr>\n",
       "      <td>3</td>\n",
       "      <td>PRV51005</td>\n",
       "      <td>Yes</td>\n",
       "      <td>NaN</td>\n",
       "      <td>1165</td>\n",
       "      <td>NaN</td>\n",
       "      <td>280910</td>\n",
       "    </tr>\n",
       "    <tr>\n",
       "      <td>4</td>\n",
       "      <td>PRV51007</td>\n",
       "      <td>No</td>\n",
       "      <td>3</td>\n",
       "      <td>69</td>\n",
       "      <td>19000</td>\n",
       "      <td>14710</td>\n",
       "    </tr>\n",
       "    <tr>\n",
       "      <td>...</td>\n",
       "      <td>...</td>\n",
       "      <td>...</td>\n",
       "      <td>...</td>\n",
       "      <td>...</td>\n",
       "      <td>...</td>\n",
       "      <td>...</td>\n",
       "    </tr>\n",
       "    <tr>\n",
       "      <td>5405</td>\n",
       "      <td>PRV57759</td>\n",
       "      <td>No</td>\n",
       "      <td>NaN</td>\n",
       "      <td>28</td>\n",
       "      <td>NaN</td>\n",
       "      <td>10640</td>\n",
       "    </tr>\n",
       "    <tr>\n",
       "      <td>5406</td>\n",
       "      <td>PRV57760</td>\n",
       "      <td>No</td>\n",
       "      <td>NaN</td>\n",
       "      <td>22</td>\n",
       "      <td>NaN</td>\n",
       "      <td>4770</td>\n",
       "    </tr>\n",
       "    <tr>\n",
       "      <td>5407</td>\n",
       "      <td>PRV57761</td>\n",
       "      <td>No</td>\n",
       "      <td>NaN</td>\n",
       "      <td>82</td>\n",
       "      <td>NaN</td>\n",
       "      <td>18470</td>\n",
       "    </tr>\n",
       "    <tr>\n",
       "      <td>5408</td>\n",
       "      <td>PRV57762</td>\n",
       "      <td>No</td>\n",
       "      <td>NaN</td>\n",
       "      <td>1</td>\n",
       "      <td>NaN</td>\n",
       "      <td>1900</td>\n",
       "    </tr>\n",
       "    <tr>\n",
       "      <td>5409</td>\n",
       "      <td>PRV57763</td>\n",
       "      <td>No</td>\n",
       "      <td>NaN</td>\n",
       "      <td>118</td>\n",
       "      <td>NaN</td>\n",
       "      <td>43610</td>\n",
       "    </tr>\n",
       "  </tbody>\n",
       "</table>\n",
       "<p>5410 rows × 6 columns</p>\n",
       "</div>"
      ],
      "text/plain": [
       "      Provider PotentialFraud Inpatient_Claim_Number Outpatient_Claim_Number  \\\n",
       "0     PRV51001             No                      5                      20   \n",
       "1     PRV51003            Yes                     62                      70   \n",
       "2     PRV51004             No                    NaN                     149   \n",
       "3     PRV51005            Yes                    NaN                    1165   \n",
       "4     PRV51007             No                      3                      69   \n",
       "...        ...            ...                    ...                     ...   \n",
       "5405  PRV57759             No                    NaN                      28   \n",
       "5406  PRV57760             No                    NaN                      22   \n",
       "5407  PRV57761             No                    NaN                      82   \n",
       "5408  PRV57762             No                    NaN                       1   \n",
       "5409  PRV57763             No                    NaN                     118   \n",
       "\n",
       "     Inpatient_Claim_Amount Outpatient_Claim_Amount  \n",
       "0                     97000                    7640  \n",
       "1                    573000                   32670  \n",
       "2                       NaN                   52170  \n",
       "3                       NaN                  280910  \n",
       "4                     19000                   14710  \n",
       "...                     ...                     ...  \n",
       "5405                    NaN                   10640  \n",
       "5406                    NaN                    4770  \n",
       "5407                    NaN                   18470  \n",
       "5408                    NaN                    1900  \n",
       "5409                    NaN                   43610  \n",
       "\n",
       "[5410 rows x 6 columns]"
      ]
     },
     "execution_count": 151,
     "metadata": {},
     "output_type": "execute_result"
    }
   ],
   "source": [
    "provider_list1=pd.merge(fraud_tr,provider_claimnumber,on='Provider',how='outer')\n",
    "provider_list1\n",
    "provider_list2=pd.merge(provider_list1,provider_claimamount,on='Provider',how='outer')\n",
    "provider_list2"
   ]
  },
  {
   "cell_type": "code",
   "execution_count": 153,
   "metadata": {},
   "outputs": [],
   "source": [
    "#provider_final=provider_list2.fillna(0)\n",
    "provider_final=provider_list2"
   ]
  },
  {
   "cell_type": "markdown",
   "metadata": {},
   "source": [
    "Findings: The potentially fraudulent providers had substantially more claims submitted and had been reimbursed substantially more. However, the per claim reimbursement is similar between the two groups of providers. "
   ]
  },
  {
   "cell_type": "code",
   "execution_count": 154,
   "metadata": {},
   "outputs": [
    {
     "data": {
      "text/plain": [
       "Text(0.5, 1.0, 'Number of Outpatient Claims')"
      ]
     },
     "execution_count": 154,
     "metadata": {},
     "output_type": "execute_result"
    },
    {
     "data": {
      "image/png": "[encoded data removed]",
      "text/plain": [
       "<Figure size 1440x360 with 2 Axes>"
      ]
     },
     "metadata": {
      "needs_background": "light"
     },
     "output_type": "display_data"
    }
   ],
   "source": [
    "f,axs=plt.subplots(1,2,figsize=(20,5))\n",
    "plt.subplot(1,2,1)\n",
    "sns.boxplot(x=\"PotentialFraud\",y=\"Inpatient_Claim_Number\",data=provider_final,showfliers=False)\n",
    "plt.title(\"Number of Inpatient Claims\")\n",
    "plt.subplot(1,2,2)\n",
    "sns.boxplot(x=\"PotentialFraud\",y=\"Outpatient_Claim_Number\",data=provider_final,showfliers=False)\n",
    "plt.title(\"Number of Outpatient Claims\")"
   ]
  },
  {
   "cell_type": "code",
   "execution_count": 155,
   "metadata": {},
   "outputs": [
    {
     "data": {
      "text/plain": [
       "Text(0.5, 1.0, 'Amount of Outpatient Claims')"
      ]
     },
     "execution_count": 155,
     "metadata": {},
     "output_type": "execute_result"
    },
    {
     "data": {
      "image/png": "[encoded data removed]",
      "text/plain": [
       "<Figure size 1440x360 with 2 Axes>"
      ]
     },
     "metadata": {
      "needs_background": "light"
     },
     "output_type": "display_data"
    }
   ],
   "source": [
    "f,axs=plt.subplots(1,2,figsize=(20,5))\n",
    "plt.subplot(1,2,1)\n",
    "sns.boxplot(x=\"PotentialFraud\",y=\"Inpatient_Claim_Amount\",data=provider_final,showfliers=False)\n",
    "plt.title(\"Amount of Inpatient Claims\")\n",
    "plt.subplot(1,2,2)\n",
    "sns.boxplot(x=\"PotentialFraud\",y=\"Outpatient_Claim_Amount\",data=provider_final,showfliers=False)\n",
    "plt.title(\"Amount of Outpatient Claims\")"
   ]
  },
  {
   "cell_type": "code",
   "execution_count": 156,
   "metadata": {},
   "outputs": [],
   "source": [
    "provider_list2['Inpatient_Perclaim_Amount']=provider_list2['Inpatient_Claim_Amount']/provider_list2['Inpatient_Claim_Number']"
   ]
  },
  {
   "cell_type": "code",
   "execution_count": 157,
   "metadata": {},
   "outputs": [],
   "source": [
    "provider_list2['Outpatient_Perclaim_Amount']=provider_list2['Outpatient_Claim_Amount']/provider_list2['Outpatient_Claim_Number']"
   ]
  },
  {
   "cell_type": "code",
   "execution_count": 158,
   "metadata": {},
   "outputs": [
    {
     "data": {
      "text/html": [
       "<div>\n",
       "<style scoped>\n",
       "    .dataframe tbody tr th:only-of-type {\n",
       "        vertical-align: middle;\n",
       "    }\n",
       "\n",
       "    .dataframe tbody tr th {\n",
       "        vertical-align: top;\n",
       "    }\n",
       "\n",
       "    .dataframe thead th {\n",
       "        text-align: right;\n",
       "    }\n",
       "</style>\n",
       "<table border=\"1\" class=\"dataframe\">\n",
       "  <thead>\n",
       "    <tr style=\"text-align: right;\">\n",
       "      <th></th>\n",
       "      <th>Provider</th>\n",
       "      <th>PotentialFraud</th>\n",
       "      <th>Inpatient_Claim_Number</th>\n",
       "      <th>Outpatient_Claim_Number</th>\n",
       "      <th>Inpatient_Claim_Amount</th>\n",
       "      <th>Outpatient_Claim_Amount</th>\n",
       "      <th>Inpatient_Perclaim_Amount</th>\n",
       "      <th>Outpatient_Perclaim_Amount</th>\n",
       "    </tr>\n",
       "  </thead>\n",
       "  <tbody>\n",
       "    <tr>\n",
       "      <td>0</td>\n",
       "      <td>PRV51001</td>\n",
       "      <td>No</td>\n",
       "      <td>5</td>\n",
       "      <td>20</td>\n",
       "      <td>97000</td>\n",
       "      <td>7640</td>\n",
       "      <td>19400</td>\n",
       "      <td>382</td>\n",
       "    </tr>\n",
       "    <tr>\n",
       "      <td>1</td>\n",
       "      <td>PRV51003</td>\n",
       "      <td>Yes</td>\n",
       "      <td>62</td>\n",
       "      <td>70</td>\n",
       "      <td>573000</td>\n",
       "      <td>32670</td>\n",
       "      <td>9241.94</td>\n",
       "      <td>466.714</td>\n",
       "    </tr>\n",
       "    <tr>\n",
       "      <td>2</td>\n",
       "      <td>PRV51004</td>\n",
       "      <td>No</td>\n",
       "      <td>NaN</td>\n",
       "      <td>149</td>\n",
       "      <td>NaN</td>\n",
       "      <td>52170</td>\n",
       "      <td>NaN</td>\n",
       "      <td>350.134</td>\n",
       "    </tr>\n",
       "    <tr>\n",
       "      <td>3</td>\n",
       "      <td>PRV51005</td>\n",
       "      <td>Yes</td>\n",
       "      <td>NaN</td>\n",
       "      <td>1165</td>\n",
       "      <td>NaN</td>\n",
       "      <td>280910</td>\n",
       "      <td>NaN</td>\n",
       "      <td>241.124</td>\n",
       "    </tr>\n",
       "    <tr>\n",
       "      <td>4</td>\n",
       "      <td>PRV51007</td>\n",
       "      <td>No</td>\n",
       "      <td>3</td>\n",
       "      <td>69</td>\n",
       "      <td>19000</td>\n",
       "      <td>14710</td>\n",
       "      <td>6333.33</td>\n",
       "      <td>213.188</td>\n",
       "    </tr>\n",
       "    <tr>\n",
       "      <td>...</td>\n",
       "      <td>...</td>\n",
       "      <td>...</td>\n",
       "      <td>...</td>\n",
       "      <td>...</td>\n",
       "      <td>...</td>\n",
       "      <td>...</td>\n",
       "      <td>...</td>\n",
       "      <td>...</td>\n",
       "    </tr>\n",
       "    <tr>\n",
       "      <td>5405</td>\n",
       "      <td>PRV57759</td>\n",
       "      <td>No</td>\n",
       "      <td>NaN</td>\n",
       "      <td>28</td>\n",
       "      <td>NaN</td>\n",
       "      <td>10640</td>\n",
       "      <td>NaN</td>\n",
       "      <td>380</td>\n",
       "    </tr>\n",
       "    <tr>\n",
       "      <td>5406</td>\n",
       "      <td>PRV57760</td>\n",
       "      <td>No</td>\n",
       "      <td>NaN</td>\n",
       "      <td>22</td>\n",
       "      <td>NaN</td>\n",
       "      <td>4770</td>\n",
       "      <td>NaN</td>\n",
       "      <td>216.818</td>\n",
       "    </tr>\n",
       "    <tr>\n",
       "      <td>5407</td>\n",
       "      <td>PRV57761</td>\n",
       "      <td>No</td>\n",
       "      <td>NaN</td>\n",
       "      <td>82</td>\n",
       "      <td>NaN</td>\n",
       "      <td>18470</td>\n",
       "      <td>NaN</td>\n",
       "      <td>225.244</td>\n",
       "    </tr>\n",
       "    <tr>\n",
       "      <td>5408</td>\n",
       "      <td>PRV57762</td>\n",
       "      <td>No</td>\n",
       "      <td>NaN</td>\n",
       "      <td>1</td>\n",
       "      <td>NaN</td>\n",
       "      <td>1900</td>\n",
       "      <td>NaN</td>\n",
       "      <td>1900</td>\n",
       "    </tr>\n",
       "    <tr>\n",
       "      <td>5409</td>\n",
       "      <td>PRV57763</td>\n",
       "      <td>No</td>\n",
       "      <td>NaN</td>\n",
       "      <td>118</td>\n",
       "      <td>NaN</td>\n",
       "      <td>43610</td>\n",
       "      <td>NaN</td>\n",
       "      <td>369.576</td>\n",
       "    </tr>\n",
       "  </tbody>\n",
       "</table>\n",
       "<p>5410 rows × 8 columns</p>\n",
       "</div>"
      ],
      "text/plain": [
       "      Provider PotentialFraud Inpatient_Claim_Number Outpatient_Claim_Number  \\\n",
       "0     PRV51001             No                      5                      20   \n",
       "1     PRV51003            Yes                     62                      70   \n",
       "2     PRV51004             No                    NaN                     149   \n",
       "3     PRV51005            Yes                    NaN                    1165   \n",
       "4     PRV51007             No                      3                      69   \n",
       "...        ...            ...                    ...                     ...   \n",
       "5405  PRV57759             No                    NaN                      28   \n",
       "5406  PRV57760             No                    NaN                      22   \n",
       "5407  PRV57761             No                    NaN                      82   \n",
       "5408  PRV57762             No                    NaN                       1   \n",
       "5409  PRV57763             No                    NaN                     118   \n",
       "\n",
       "     Inpatient_Claim_Amount Outpatient_Claim_Amount Inpatient_Perclaim_Amount  \\\n",
       "0                     97000                    7640                     19400   \n",
       "1                    573000                   32670                   9241.94   \n",
       "2                       NaN                   52170                       NaN   \n",
       "3                       NaN                  280910                       NaN   \n",
       "4                     19000                   14710                   6333.33   \n",
       "...                     ...                     ...                       ...   \n",
       "5405                    NaN                   10640                       NaN   \n",
       "5406                    NaN                    4770                       NaN   \n",
       "5407                    NaN                   18470                       NaN   \n",
       "5408                    NaN                    1900                       NaN   \n",
       "5409                    NaN                   43610                       NaN   \n",
       "\n",
       "     Outpatient_Perclaim_Amount  \n",
       "0                           382  \n",
       "1                       466.714  \n",
       "2                       350.134  \n",
       "3                       241.124  \n",
       "4                       213.188  \n",
       "...                         ...  \n",
       "5405                        380  \n",
       "5406                    216.818  \n",
       "5407                    225.244  \n",
       "5408                       1900  \n",
       "5409                    369.576  \n",
       "\n",
       "[5410 rows x 8 columns]"
      ]
     },
     "execution_count": 158,
     "metadata": {},
     "output_type": "execute_result"
    }
   ],
   "source": [
    "provider_list2"
   ]
  },
  {
   "cell_type": "code",
   "execution_count": 159,
   "metadata": {},
   "outputs": [
    {
     "data": {
      "text/plain": [
       "Text(0.5, 1.0, 'Outpatient Amount Per Claim')"
      ]
     },
     "execution_count": 159,
     "metadata": {},
     "output_type": "execute_result"
    },
    {
     "data": {
      "image/png": "[encoded data removed]",
      "text/plain": [
       "<Figure size 1440x360 with 2 Axes>"
      ]
     },
     "metadata": {
      "needs_background": "light"
     },
     "output_type": "display_data"
    }
   ],
   "source": [
    "f,axs=plt.subplots(1,2,figsize=(20,5))\n",
    "plt.subplot(1,2,1)\n",
    "sns.boxplot(x=\"PotentialFraud\",y=\"Inpatient_Perclaim_Amount\",data=provider_list2,showfliers=False)\n",
    "plt.title(\"Inpatient Amount Per Claim\")\n",
    "plt.subplot(1,2,2)\n",
    "sns.boxplot(x=\"PotentialFraud\",y=\"Outpatient_Perclaim_Amount\",data=provider_list2,showfliers=False)\n",
    "plt.title(\"Outpatient Amount Per Claim\")"
   ]
  },
  {
   "cell_type": "code",
   "execution_count": null,
   "metadata": {},
   "outputs": [],
   "source": []
  }
 ],
 "metadata": {
  "kernelspec": {
   "display_name": "Python 3",
   "language": "python",
   "name": "python3"
  },
  "language_info": {
   "codemirror_mode": {
    "name": "ipython",
    "version": 3
   },
   "file_extension": ".py",
   "mimetype": "text/x-python",
   "name": "python",
   "nbconvert_exporter": "python",
   "pygments_lexer": "ipython3",
   "version": "3.7.4"
  }
 },
 "nbformat": 4,
 "nbformat_minor": 2
}
