{
 "cells": [
  {
   "cell_type": "code",
   "execution_count": 1,
   "metadata": {},
   "outputs": [],
   "source": [
    "import pandas as pd"
   ]
  },
  {
   "cell_type": "code",
   "execution_count": 2,
   "metadata": {},
   "outputs": [],
   "source": [
    "import json"
   ]
  },
  {
   "cell_type": "code",
   "execution_count": 3,
   "metadata": {},
   "outputs": [],
   "source": [
    "from pandas.io.json import json_normalize"
   ]
  },
  {
   "cell_type": "code",
   "execution_count": 4,
   "metadata": {},
   "outputs": [
    {
     "name": "stdout",
     "output_type": "stream",
     "text": [
      "<class 'pandas.core.frame.DataFrame'>\n",
      "RangeIndex: 500 entries, 0 to 499\n",
      "Data columns (total 50 columns):\n",
      "sector                      500 non-null object\n",
      "supplementprojectflg        498 non-null object\n",
      "projectfinancialtype        500 non-null object\n",
      "prodline                    500 non-null object\n",
      "mjtheme                     491 non-null object\n",
      "idacommamt                  500 non-null int64\n",
      "impagency                   472 non-null object\n",
      "project_name                500 non-null object\n",
      "mjthemecode                 500 non-null object\n",
      "closingdate                 370 non-null object\n",
      "totalcommamt                500 non-null int64\n",
      "id                          500 non-null object\n",
      "mjsector_namecode           500 non-null object\n",
      "docty                       446 non-null object\n",
      "sector1                     500 non-null object\n",
      "lendinginstr                495 non-null object\n",
      "countrycode                 500 non-null object\n",
      "sector2                     380 non-null object\n",
      "totalamt                    500 non-null int64\n",
      "mjtheme_namecode            500 non-null object\n",
      "boardapprovaldate           500 non-null object\n",
      "countryshortname            500 non-null object\n",
      "sector4                     174 non-null object\n",
      "prodlinetext                500 non-null object\n",
      "productlinetype             500 non-null object\n",
      "regionname                  500 non-null object\n",
      "status                      500 non-null object\n",
      "country_namecode            500 non-null object\n",
      "envassesmentcategorycode    430 non-null object\n",
      "project_abstract            362 non-null object\n",
      "approvalfy                  500 non-null int64\n",
      "projectdocs                 446 non-null object\n",
      "lendprojectcost             500 non-null int64\n",
      "lendinginstrtype            495 non-null object\n",
      "theme1                      500 non-null object\n",
      "grantamt                    500 non-null int64\n",
      "themecode                   491 non-null object\n",
      "borrower                    485 non-null object\n",
      "sectorcode                  500 non-null object\n",
      "sector3                     265 non-null object\n",
      "majorsector_percent         500 non-null object\n",
      "board_approval_month        500 non-null object\n",
      "theme_namecode              491 non-null object\n",
      "countryname                 500 non-null object\n",
      "url                         500 non-null object\n",
      "source                      500 non-null object\n",
      "projectstatusdisplay        500 non-null object\n",
      "ibrdcommamt                 500 non-null int64\n",
      "sector_namecode             500 non-null object\n",
      "_id                         500 non-null object\n",
      "dtypes: int64(7), object(43)\n",
      "memory usage: 195.4+ KB\n"
     ]
    }
   ],
   "source": [
    "json_df = pd.read_json('/Users/zhengzhang/Downloads/data_wrangling_json 2/data/world_bank_projects.json')\n",
    "json_df.info()"
   ]
  },
  {
   "cell_type": "code",
   "execution_count": 5,
   "metadata": {},
   "outputs": [
    {
     "data": {
      "text/plain": [
       "China                 19\n",
       "Indonesia             19\n",
       "Vietnam               17\n",
       "India                 16\n",
       "Yemen, Republic of    13\n",
       "Morocco               12\n",
       "Bangladesh            12\n",
       "Nepal                 12\n",
       "Mozambique            11\n",
       "Africa                11\n",
       "Name: countryshortname, dtype: int64"
      ]
     },
     "execution_count": 5,
     "metadata": {},
     "output_type": "execute_result"
    }
   ],
   "source": [
    "#Question 1: Top 10 countries with most projects\n",
    "json_df['countryshortname'].value_counts().head(10)"
   ]
  },
  {
   "cell_type": "code",
   "execution_count": 7,
   "metadata": {},
   "outputs": [],
   "source": [
    "data=json.load((open('/Users/zhengzhang/Downloads/data_wrangling_json 2/data/world_bank_projects.json')))"
   ]
  },
  {
   "cell_type": "code",
   "execution_count": 8,
   "metadata": {},
   "outputs": [
    {
     "name": "stdout",
     "output_type": "stream",
     "text": [
      "     code                                      name  \\\n",
      "0       8                         Human development   \n",
      "1      11                                             \n",
      "2       1                       Economic management   \n",
      "3       6     Social protection and risk management   \n",
      "4       5                     Trade and integration   \n",
      "...   ...                                       ...   \n",
      "1494   10                         Rural development   \n",
      "1495    9                         Urban development   \n",
      "1496    8                         Human development   \n",
      "1497    5                     Trade and integration   \n",
      "1498    4  Financial and private sector development   \n",
      "\n",
      "                                           project_name  \n",
      "0     Ethiopia General Education Quality Improvement...  \n",
      "1     Ethiopia General Education Quality Improvement...  \n",
      "2             TN: DTF Social Protection Reforms Support  \n",
      "3             TN: DTF Social Protection Reforms Support  \n",
      "4     Tuvalu Aviation Investment Project - Additiona...  \n",
      "...                                                 ...  \n",
      "1494  Sustainable Management of Agricultural Researc...  \n",
      "1495  KENYA: NATIONAL URBAN TRANSPORT IMPROVEMENT PR...  \n",
      "1496  KENYA: NATIONAL URBAN TRANSPORT IMPROVEMENT PR...  \n",
      "1497  KENYA: NATIONAL URBAN TRANSPORT IMPROVEMENT PR...  \n",
      "1498  KENYA: NATIONAL URBAN TRANSPORT IMPROVEMENT PR...  \n",
      "\n",
      "[1499 rows x 3 columns]\n"
     ]
    }
   ],
   "source": [
    "temp=json_normalize(data, 'mjtheme_namecode','project_name')\n",
    "print(temp) \n",
    "#total 1499 themes, some are duplicate, some themes have code, but not name."
   ]
  },
  {
   "cell_type": "code",
   "execution_count": 10,
   "metadata": {},
   "outputs": [],
   "source": [
    "# Delete duplicate themes from each project\n",
    "temp2=temp.drop_duplicates(subset =['code','project_name'], keep = 'first', inplace = False) "
   ]
  },
  {
   "cell_type": "code",
   "execution_count": 11,
   "metadata": {},
   "outputs": [
    {
     "name": "stdout",
     "output_type": "stream",
     "text": [
      "     code                                      name  \\\n",
      "0       8                         Human development   \n",
      "1      11                                             \n",
      "2       1                       Economic management   \n",
      "3       6     Social protection and risk management   \n",
      "4       5                     Trade and integration   \n",
      "...   ...                                       ...   \n",
      "1492   10                         Rural development   \n",
      "1495    9                         Urban development   \n",
      "1496    8                         Human development   \n",
      "1497    5                     Trade and integration   \n",
      "1498    4  Financial and private sector development   \n",
      "\n",
      "                                           project_name  \n",
      "0     Ethiopia General Education Quality Improvement...  \n",
      "1     Ethiopia General Education Quality Improvement...  \n",
      "2             TN: DTF Social Protection Reforms Support  \n",
      "3             TN: DTF Social Protection Reforms Support  \n",
      "4     Tuvalu Aviation Investment Project - Additiona...  \n",
      "...                                                 ...  \n",
      "1492  Sustainable Management of Agricultural Researc...  \n",
      "1495  KENYA: NATIONAL URBAN TRANSPORT IMPROVEMENT PR...  \n",
      "1496  KENYA: NATIONAL URBAN TRANSPORT IMPROVEMENT PR...  \n",
      "1497  KENYA: NATIONAL URBAN TRANSPORT IMPROVEMENT PR...  \n",
      "1498  KENYA: NATIONAL URBAN TRANSPORT IMPROVEMENT PR...  \n",
      "\n",
      "[1070 rows x 3 columns]\n"
     ]
    }
   ],
   "source": [
    "print(temp2) \n",
    "#Only 1070 themes remain on 500 projects, missing names still present"
   ]
  },
  {
   "cell_type": "code",
   "execution_count": 12,
   "metadata": {},
   "outputs": [
    {
     "name": "stdout",
     "output_type": "stream",
     "text": [
      "Environment and natural resources management    135\n",
      "Rural development                               135\n",
      "Public sector governance                        126\n",
      "Human development                               118\n",
      "Social protection and risk management           110\n",
      "                                                107\n",
      "Financial and private sector development        104\n",
      "Social dev/gender/inclusion                     103\n",
      "Trade and integration                            56\n",
      "Urban development                                37\n",
      "Name: name, dtype: int64\n"
     ]
    }
   ],
   "source": [
    "#Question 2: Top 10 major project themes, some themes missing names\n",
    "top10theme_w_missing=temp2['name'].value_counts().head(10)\n",
    "print(top10theme_w_missing)"
   ]
  },
  {
   "cell_type": "code",
   "execution_count": 30,
   "metadata": {},
   "outputs": [
    {
     "name": "stdout",
     "output_type": "stream",
     "text": [
      "    code                                          name\n",
      "2      1                           Economic management\n",
      "18    10                             Rural development\n",
      "6     11  Environment and natural resources management\n",
      "5      2                      Public sector governance\n",
      "252    3                                   Rule of law\n",
      "11     4      Financial and private sector development\n",
      "4      5                         Trade and integration\n",
      "3      6         Social protection and risk management\n",
      "8      7                   Social dev/gender/inclusion\n",
      "0      8                             Human development\n",
      "53     9                             Urban development\n"
     ]
    }
   ],
   "source": [
    "# Getting code table matching code with proper names\n",
    "y=temp2[temp2['name']!='']\n",
    "z=y.drop_duplicates(subset =\"code\", \n",
    "                     keep = 'first', inplace = False) \n",
    "w=z.sort_values(by=['code'])\n",
    "\n",
    "print(w[['code','name']])"
   ]
  },
  {
   "cell_type": "code",
   "execution_count": 25,
   "metadata": {},
   "outputs": [],
   "source": [
    "# merge the code table with the theme table\n",
    "temp3=pd.merge(temp2,w, on=\"code\")\n",
    "#print(temp3)"
   ]
  },
  {
   "cell_type": "code",
   "execution_count": 16,
   "metadata": {},
   "outputs": [
    {
     "name": "stdout",
     "output_type": "stream",
     "text": [
      "Environment and natural resources management    157\n",
      "Rural development                               148\n",
      "Public sector governance                        140\n",
      "Human development                               128\n",
      "Financial and private sector development        119\n",
      "Social protection and risk management           116\n",
      "Social dev/gender/inclusion                     114\n",
      "Trade and integration                            61\n",
      "Urban development                                40\n",
      "Economic management                              33\n",
      "Name: name_y, dtype: int64\n"
     ]
    }
   ],
   "source": [
    "#Question 3: Top 10 themes after the missing name is filled in\n",
    "top10theme_no_missing=temp3['name_y'].value_counts().head(10)\n",
    "print(top10theme_no_missing)"
   ]
  },
  {
   "cell_type": "code",
   "execution_count": null,
   "metadata": {},
   "outputs": [],
   "source": []
  },
  {
   "cell_type": "code",
   "execution_count": null,
   "metadata": {},
   "outputs": [],
   "source": []
  },
  {
   "cell_type": "code",
   "execution_count": null,
   "metadata": {},
   "outputs": [],
   "source": []
  },
  {
   "cell_type": "code",
   "execution_count": null,
   "metadata": {},
   "outputs": [],
   "source": []
  },
  {
   "cell_type": "code",
   "execution_count": null,
   "metadata": {},
   "outputs": [],
   "source": []
  },
  {
   "cell_type": "code",
   "execution_count": null,
   "metadata": {},
   "outputs": [],
   "source": []
  },
  {
   "cell_type": "code",
   "execution_count": null,
   "metadata": {},
   "outputs": [],
   "source": []
  },
  {
   "cell_type": "code",
   "execution_count": null,
   "metadata": {},
   "outputs": [],
   "source": []
  },
  {
   "cell_type": "code",
   "execution_count": null,
   "metadata": {},
   "outputs": [],
   "source": [
    "\n"
   ]
  },
  {
   "cell_type": "code",
   "execution_count": null,
   "metadata": {},
   "outputs": [],
   "source": [
    "\n",
    "\n"
   ]
  },
  {
   "cell_type": "code",
   "execution_count": null,
   "metadata": {},
   "outputs": [],
   "source": []
  },
  {
   "cell_type": "code",
   "execution_count": null,
   "metadata": {},
   "outputs": [],
   "source": []
  },
  {
   "cell_type": "code",
   "execution_count": null,
   "metadata": {},
   "outputs": [],
   "source": []
  },
  {
   "cell_type": "code",
   "execution_count": null,
   "metadata": {},
   "outputs": [],
   "source": []
  },
  {
   "cell_type": "code",
   "execution_count": null,
   "metadata": {},
   "outputs": [],
   "source": []
  },
  {
   "cell_type": "code",
   "execution_count": null,
   "metadata": {},
   "outputs": [],
   "source": []
  },
  {
   "cell_type": "code",
   "execution_count": null,
   "metadata": {},
   "outputs": [],
   "source": []
  },
  {
   "cell_type": "code",
   "execution_count": null,
   "metadata": {},
   "outputs": [],
   "source": []
  },
  {
   "cell_type": "code",
   "execution_count": null,
   "metadata": {},
   "outputs": [],
   "source": []
  },
  {
   "cell_type": "code",
   "execution_count": null,
   "metadata": {},
   "outputs": [],
   "source": []
  },
  {
   "cell_type": "code",
   "execution_count": null,
   "metadata": {},
   "outputs": [],
   "source": []
  },
  {
   "cell_type": "code",
   "execution_count": null,
   "metadata": {},
   "outputs": [],
   "source": []
  },
  {
   "cell_type": "code",
   "execution_count": null,
   "metadata": {},
   "outputs": [],
   "source": []
  },
  {
   "cell_type": "code",
   "execution_count": null,
   "metadata": {},
   "outputs": [],
   "source": []
  },
  {
   "cell_type": "code",
   "execution_count": null,
   "metadata": {},
   "outputs": [],
   "source": [
    "\n"
   ]
  },
  {
   "cell_type": "code",
   "execution_count": null,
   "metadata": {},
   "outputs": [],
   "source": []
  }
 ],
 "metadata": {
  "kernelspec": {
   "display_name": "Python 3",
   "language": "python",
   "name": "python3"
  },
  "language_info": {
   "codemirror_mode": {
    "name": "ipython",
    "version": 3
   },
   "file_extension": ".py",
   "mimetype": "text/x-python",
   "name": "python",
   "nbconvert_exporter": "python",
   "pygments_lexer": "ipython3",
   "version": "3.7.4"
  }
 },
 "nbformat": 4,
 "nbformat_minor": 2
}
