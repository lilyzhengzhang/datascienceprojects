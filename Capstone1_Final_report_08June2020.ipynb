{
 "cells": [
  {
   "cell_type": "markdown",
   "metadata": {},
   "source": [
    "<h3>Summary"
   ]
  },
  {
   "cell_type": "markdown",
   "metadata": {},
   "source": [
    "Records of inpatient and outpatient claims from 138,556 Medicare beneficiaries are analyzed to identify healthcare providers who potentially committed fraud. Detailed claim data as well as beneficiaries' demographic and medical history data are available. "
   ]
  },
  {
   "cell_type": "markdown",
   "metadata": {},
   "source": [
    "<h3>1. Introduction:"
   ]
  },
  {
   "cell_type": "markdown",
   "metadata": {},
   "source": [
    "Healthcare provider fraud is one of the biggest problems facing Medicare, and it contributes to the total Medicare spending growth. Healthcare fraud is an organized crime which involves peers of providers, physicians, beneficiaries acting together to make fraudulent claims.\n",
    "Rigorous analysis of Medicare data has yielded many physicians who indulge in fraud. They adopt ways in which an ambiguous diagnosis code is used to adopt costliest procedures and drugs. Insurance companies are the most vulnerable institutions impacted. To recoup those losses, insurance companies increase the insurance premiums and as a result healthcare becomes more costly for everyone.\n",
    "Healthcare fraud and abuse take many forms. Some of the most common types of fraud by providers are: a) Billing for services that were not provided; b) Duplicate submission of a claim for the same service; c) Misrepresenting the service provided; d) Charging for a more complex or expensive service than was actually provided; e) Billing for a covered service when the service actually provided was not covered."
   ]
  },
  {
   "cell_type": "markdown",
   "metadata": {},
   "source": [
    "Problem Statement: \n",
    " \n",
    "We want to identify the potentially fraudulent providers based on the claims that they filed. In addition, we will also discover important variables helpful in detecting the behaviour of those providers. Further, we will study fraudulent patterns in the provider's claims to understand the future behaviour of providers.\n",
    "\n"
   ]
  },
  {
   "cell_type": "markdown",
   "metadata": {},
   "source": [
    "Datasets:\n",
    "\n",
    "The datasets include provider data, beneficiary data, inpatient claims data and outpatient claims data. There are separate training dataset and test dataset.It can be found here : https://www.kaggle.com/rohitrox/healthcare-provider-fraud-detection-analysis\n",
    "\n",
    "The training provider data include 5410 providers with a binary flag for potential fraud. The training beneficiary data contains 138,556 subjects with 25 variables. The inpatient training data include 31,289 subjects and 40,474 claims with 30 variables. The outpatient training data include 133,980 subjects and 517,737 claims with 27 variables. The test provider data include 1353 providers. The test beneficiary data contains 63,968 subjects. The inpatient test data include 8,351 subjects and 9,551 claims. The outpatient test data include 59,608 subjects and 125,841 claims. \n",
    "\n",
    "The beneficiary data variables include ID, date of birth, gender, race, state, county and chronic disease status, inpatient annual reimbursement and deductible amount, and outpatient annual reimbursement and deductible amount. The inpatient dataset variables include beneficiary ID, claim id, claim start/end date, provider, reimbursement amount, admission date, admit diagnosis code,  deductible amount, discharge date, diagnosis code and procedure code. The outpatient dataset variables include beneficiary ID, claim id, claim start/end date, provider, reimbursement amount, admit diagnosis code, deductible amount, diagnosis code, and procedure code. \n"
   ]
  },
  {
   "cell_type": "markdown",
   "metadata": {},
   "source": [
    "Questions of interest:\n",
    "\n",
    "We will first use the training datasets to identify differential features attributable to potentially fraudulent providers. The following questions will guide the exploratory data analysis:<br>\n",
    "1) What is the difference in the number of claims submitted annually between the fraudulent providers and the \"honest\" providers? <br>\n",
    "2) What is the difference in the claim amounts submitted annually between the fraudulent providers and the \"honest\" providers? <br>"
   ]
  },
  {
   "cell_type": "markdown",
   "metadata": {},
   "source": [
    "<h3> 2. Data wrangling "
   ]
  },
  {
   "cell_type": "code",
   "execution_count": 1,
   "metadata": {},
   "outputs": [],
   "source": [
    "#import modules\n",
    "import pandas as pd\n",
    "import numpy as np\n",
    "import matplotlib.pyplot as plt\n",
    "import seaborn as sns\n",
    "import time\n",
    "\n",
    "#display plots inline\n",
    "%matplotlib inline"
   ]
  },
  {
   "cell_type": "code",
   "execution_count": 2,
   "metadata": {},
   "outputs": [],
   "source": [
    "#import the raw training datasets: there are four, one with provider information, one with beneficiary data, and two with claim data. \n",
    "fraud_tr = pd.read_csv('/Users/zhengzhang/Downloads/healthcare-provider-fraud-detection-analysis/Train-1542865627584.csv')\n",
    "bene_tr = pd.read_csv('/Users/zhengzhang/Downloads/healthcare-provider-fraud-detection-analysis/Train_Beneficiarydata-1542865627584.csv')\n",
    "inpatient_tr = pd.read_csv('/Users/zhengzhang/Downloads/healthcare-provider-fraud-detection-analysis/Train_Inpatientdata-1542865627584.csv')\n",
    "outpatient_tr = pd.read_csv('/Users/zhengzhang/Downloads/healthcare-provider-fraud-detection-analysis/Train_Outpatientdata-1542865627584.csv')"
   ]
  },
  {
   "cell_type": "code",
   "execution_count": 60,
   "metadata": {},
   "outputs": [
    {
     "name": "stdout",
     "output_type": "stream",
     "text": [
      "<class 'pandas.core.frame.DataFrame'>\n",
      "RangeIndex: 5410 entries, 0 to 5409\n",
      "Data columns (total 2 columns):\n",
      " #   Column          Non-Null Count  Dtype \n",
      "---  ------          --------------  ----- \n",
      " 0   Provider        5410 non-null   object\n",
      " 1   PotentialFraud  5410 non-null   object\n",
      "dtypes: object(2)\n",
      "memory usage: 84.7+ KB\n"
     ]
    }
   ],
   "source": [
    "#inspect the provider dataset, there are 5410 providers, 2 variables\n",
    "fraud_tr.info()"
   ]
  },
  {
   "cell_type": "code",
   "execution_count": 61,
   "metadata": {},
   "outputs": [
    {
     "data": {
      "text/html": [
       "<div>\n",
       "<style scoped>\n",
       "    .dataframe tbody tr th:only-of-type {\n",
       "        vertical-align: middle;\n",
       "    }\n",
       "\n",
       "    .dataframe tbody tr th {\n",
       "        vertical-align: top;\n",
       "    }\n",
       "\n",
       "    .dataframe thead th {\n",
       "        text-align: right;\n",
       "    }\n",
       "</style>\n",
       "<table border=\"1\" class=\"dataframe\">\n",
       "  <thead>\n",
       "    <tr style=\"text-align: right;\">\n",
       "      <th></th>\n",
       "      <th>Provider</th>\n",
       "      <th>PotentialFraud</th>\n",
       "    </tr>\n",
       "  </thead>\n",
       "  <tbody>\n",
       "    <tr>\n",
       "      <th>0</th>\n",
       "      <td>PRV51001</td>\n",
       "      <td>No</td>\n",
       "    </tr>\n",
       "    <tr>\n",
       "      <th>1</th>\n",
       "      <td>PRV51003</td>\n",
       "      <td>Yes</td>\n",
       "    </tr>\n",
       "    <tr>\n",
       "      <th>2</th>\n",
       "      <td>PRV51004</td>\n",
       "      <td>No</td>\n",
       "    </tr>\n",
       "    <tr>\n",
       "      <th>3</th>\n",
       "      <td>PRV51005</td>\n",
       "      <td>Yes</td>\n",
       "    </tr>\n",
       "    <tr>\n",
       "      <th>4</th>\n",
       "      <td>PRV51007</td>\n",
       "      <td>No</td>\n",
       "    </tr>\n",
       "  </tbody>\n",
       "</table>\n",
       "</div>"
      ],
      "text/plain": [
       "   Provider PotentialFraud\n",
       "0  PRV51001             No\n",
       "1  PRV51003            Yes\n",
       "2  PRV51004             No\n",
       "3  PRV51005            Yes\n",
       "4  PRV51007             No"
      ]
     },
     "execution_count": 61,
     "metadata": {},
     "output_type": "execute_result"
    }
   ],
   "source": [
    "#inspect the provider dataset, the first five rows\n",
    "fraud_tr.head()"
   ]
  },
  {
   "cell_type": "code",
   "execution_count": 62,
   "metadata": {},
   "outputs": [
    {
     "data": {
      "text/plain": [
       "Provider          0\n",
       "PotentialFraud    0\n",
       "dtype: int64"
      ]
     },
     "execution_count": 62,
     "metadata": {},
     "output_type": "execute_result"
    }
   ],
   "source": [
    "#There is no missing data in the provider dataset\n",
    "fraud_tr.isnull().sum()"
   ]
  },
  {
   "cell_type": "code",
   "execution_count": 63,
   "metadata": {},
   "outputs": [
    {
     "name": "stdout",
     "output_type": "stream",
     "text": [
      "<class 'pandas.core.frame.DataFrame'>\n",
      "RangeIndex: 138556 entries, 0 to 138555\n",
      "Data columns (total 25 columns):\n",
      " #   Column                           Non-Null Count   Dtype \n",
      "---  ------                           --------------   ----- \n",
      " 0   BeneID                           138556 non-null  object\n",
      " 1   DOB                              138556 non-null  object\n",
      " 2   DOD                              1421 non-null    object\n",
      " 3   Gender                           138556 non-null  int64 \n",
      " 4   Race                             138556 non-null  int64 \n",
      " 5   RenalDiseaseIndicator            138556 non-null  object\n",
      " 6   State                            138556 non-null  int64 \n",
      " 7   County                           138556 non-null  int64 \n",
      " 8   NoOfMonths_PartACov              138556 non-null  int64 \n",
      " 9   NoOfMonths_PartBCov              138556 non-null  int64 \n",
      " 10  ChronicCond_Alzheimer            138556 non-null  int64 \n",
      " 11  ChronicCond_Heartfailure         138556 non-null  int64 \n",
      " 12  ChronicCond_KidneyDisease        138556 non-null  int64 \n",
      " 13  ChronicCond_Cancer               138556 non-null  int64 \n",
      " 14  ChronicCond_ObstrPulmonary       138556 non-null  int64 \n",
      " 15  ChronicCond_Depression           138556 non-null  int64 \n",
      " 16  ChronicCond_Diabetes             138556 non-null  int64 \n",
      " 17  ChronicCond_IschemicHeart        138556 non-null  int64 \n",
      " 18  ChronicCond_Osteoporasis         138556 non-null  int64 \n",
      " 19  ChronicCond_rheumatoidarthritis  138556 non-null  int64 \n",
      " 20  ChronicCond_stroke               138556 non-null  int64 \n",
      " 21  IPAnnualReimbursementAmt         138556 non-null  int64 \n",
      " 22  IPAnnualDeductibleAmt            138556 non-null  int64 \n",
      " 23  OPAnnualReimbursementAmt         138556 non-null  int64 \n",
      " 24  OPAnnualDeductibleAmt            138556 non-null  int64 \n",
      "dtypes: int64(21), object(4)\n",
      "memory usage: 26.4+ MB\n"
     ]
    }
   ],
   "source": [
    "#inspect the beneficiary dataset, there are 138556 beneficiaries, 25 variables\n",
    "bene_tr.info()"
   ]
  },
  {
   "cell_type": "code",
   "execution_count": 64,
   "metadata": {},
   "outputs": [
    {
     "data": {
      "text/html": [
       "<div>\n",
       "<style scoped>\n",
       "    .dataframe tbody tr th:only-of-type {\n",
       "        vertical-align: middle;\n",
       "    }\n",
       "\n",
       "    .dataframe tbody tr th {\n",
       "        vertical-align: top;\n",
       "    }\n",
       "\n",
       "    .dataframe thead th {\n",
       "        text-align: right;\n",
       "    }\n",
       "</style>\n",
       "<table border=\"1\" class=\"dataframe\">\n",
       "  <thead>\n",
       "    <tr style=\"text-align: right;\">\n",
       "      <th></th>\n",
       "      <th>BeneID</th>\n",
       "      <th>DOB</th>\n",
       "      <th>DOD</th>\n",
       "      <th>Gender</th>\n",
       "      <th>Race</th>\n",
       "      <th>RenalDiseaseIndicator</th>\n",
       "      <th>State</th>\n",
       "      <th>County</th>\n",
       "      <th>NoOfMonths_PartACov</th>\n",
       "      <th>NoOfMonths_PartBCov</th>\n",
       "      <th>...</th>\n",
       "      <th>ChronicCond_Depression</th>\n",
       "      <th>ChronicCond_Diabetes</th>\n",
       "      <th>ChronicCond_IschemicHeart</th>\n",
       "      <th>ChronicCond_Osteoporasis</th>\n",
       "      <th>ChronicCond_rheumatoidarthritis</th>\n",
       "      <th>ChronicCond_stroke</th>\n",
       "      <th>IPAnnualReimbursementAmt</th>\n",
       "      <th>IPAnnualDeductibleAmt</th>\n",
       "      <th>OPAnnualReimbursementAmt</th>\n",
       "      <th>OPAnnualDeductibleAmt</th>\n",
       "    </tr>\n",
       "  </thead>\n",
       "  <tbody>\n",
       "    <tr>\n",
       "      <th>0</th>\n",
       "      <td>BENE11001</td>\n",
       "      <td>1943-01-01</td>\n",
       "      <td>NaN</td>\n",
       "      <td>1</td>\n",
       "      <td>1</td>\n",
       "      <td>0</td>\n",
       "      <td>39</td>\n",
       "      <td>230</td>\n",
       "      <td>12</td>\n",
       "      <td>12</td>\n",
       "      <td>...</td>\n",
       "      <td>1</td>\n",
       "      <td>1</td>\n",
       "      <td>1</td>\n",
       "      <td>2</td>\n",
       "      <td>1</td>\n",
       "      <td>1</td>\n",
       "      <td>36000</td>\n",
       "      <td>3204</td>\n",
       "      <td>60</td>\n",
       "      <td>70</td>\n",
       "    </tr>\n",
       "    <tr>\n",
       "      <th>1</th>\n",
       "      <td>BENE11002</td>\n",
       "      <td>1936-09-01</td>\n",
       "      <td>NaN</td>\n",
       "      <td>2</td>\n",
       "      <td>1</td>\n",
       "      <td>0</td>\n",
       "      <td>39</td>\n",
       "      <td>280</td>\n",
       "      <td>12</td>\n",
       "      <td>12</td>\n",
       "      <td>...</td>\n",
       "      <td>2</td>\n",
       "      <td>2</td>\n",
       "      <td>2</td>\n",
       "      <td>2</td>\n",
       "      <td>2</td>\n",
       "      <td>2</td>\n",
       "      <td>0</td>\n",
       "      <td>0</td>\n",
       "      <td>30</td>\n",
       "      <td>50</td>\n",
       "    </tr>\n",
       "    <tr>\n",
       "      <th>2</th>\n",
       "      <td>BENE11003</td>\n",
       "      <td>1936-08-01</td>\n",
       "      <td>NaN</td>\n",
       "      <td>1</td>\n",
       "      <td>1</td>\n",
       "      <td>0</td>\n",
       "      <td>52</td>\n",
       "      <td>590</td>\n",
       "      <td>12</td>\n",
       "      <td>12</td>\n",
       "      <td>...</td>\n",
       "      <td>2</td>\n",
       "      <td>2</td>\n",
       "      <td>1</td>\n",
       "      <td>2</td>\n",
       "      <td>2</td>\n",
       "      <td>2</td>\n",
       "      <td>0</td>\n",
       "      <td>0</td>\n",
       "      <td>90</td>\n",
       "      <td>40</td>\n",
       "    </tr>\n",
       "    <tr>\n",
       "      <th>3</th>\n",
       "      <td>BENE11004</td>\n",
       "      <td>1922-07-01</td>\n",
       "      <td>NaN</td>\n",
       "      <td>1</td>\n",
       "      <td>1</td>\n",
       "      <td>0</td>\n",
       "      <td>39</td>\n",
       "      <td>270</td>\n",
       "      <td>12</td>\n",
       "      <td>12</td>\n",
       "      <td>...</td>\n",
       "      <td>2</td>\n",
       "      <td>1</td>\n",
       "      <td>1</td>\n",
       "      <td>1</td>\n",
       "      <td>1</td>\n",
       "      <td>2</td>\n",
       "      <td>0</td>\n",
       "      <td>0</td>\n",
       "      <td>1810</td>\n",
       "      <td>760</td>\n",
       "    </tr>\n",
       "    <tr>\n",
       "      <th>4</th>\n",
       "      <td>BENE11005</td>\n",
       "      <td>1935-09-01</td>\n",
       "      <td>NaN</td>\n",
       "      <td>1</td>\n",
       "      <td>1</td>\n",
       "      <td>0</td>\n",
       "      <td>24</td>\n",
       "      <td>680</td>\n",
       "      <td>12</td>\n",
       "      <td>12</td>\n",
       "      <td>...</td>\n",
       "      <td>2</td>\n",
       "      <td>1</td>\n",
       "      <td>2</td>\n",
       "      <td>2</td>\n",
       "      <td>2</td>\n",
       "      <td>2</td>\n",
       "      <td>0</td>\n",
       "      <td>0</td>\n",
       "      <td>1790</td>\n",
       "      <td>1200</td>\n",
       "    </tr>\n",
       "  </tbody>\n",
       "</table>\n",
       "<p>5 rows × 25 columns</p>\n",
       "</div>"
      ],
      "text/plain": [
       "      BeneID         DOB  DOD  Gender  Race RenalDiseaseIndicator  State  \\\n",
       "0  BENE11001  1943-01-01  NaN       1     1                     0     39   \n",
       "1  BENE11002  1936-09-01  NaN       2     1                     0     39   \n",
       "2  BENE11003  1936-08-01  NaN       1     1                     0     52   \n",
       "3  BENE11004  1922-07-01  NaN       1     1                     0     39   \n",
       "4  BENE11005  1935-09-01  NaN       1     1                     0     24   \n",
       "\n",
       "   County  NoOfMonths_PartACov  NoOfMonths_PartBCov  ...  \\\n",
       "0     230                   12                   12  ...   \n",
       "1     280                   12                   12  ...   \n",
       "2     590                   12                   12  ...   \n",
       "3     270                   12                   12  ...   \n",
       "4     680                   12                   12  ...   \n",
       "\n",
       "   ChronicCond_Depression  ChronicCond_Diabetes  ChronicCond_IschemicHeart  \\\n",
       "0                       1                     1                          1   \n",
       "1                       2                     2                          2   \n",
       "2                       2                     2                          1   \n",
       "3                       2                     1                          1   \n",
       "4                       2                     1                          2   \n",
       "\n",
       "   ChronicCond_Osteoporasis  ChronicCond_rheumatoidarthritis  \\\n",
       "0                         2                                1   \n",
       "1                         2                                2   \n",
       "2                         2                                2   \n",
       "3                         1                                1   \n",
       "4                         2                                2   \n",
       "\n",
       "   ChronicCond_stroke  IPAnnualReimbursementAmt  IPAnnualDeductibleAmt  \\\n",
       "0                   1                     36000                   3204   \n",
       "1                   2                         0                      0   \n",
       "2                   2                         0                      0   \n",
       "3                   2                         0                      0   \n",
       "4                   2                         0                      0   \n",
       "\n",
       "   OPAnnualReimbursementAmt  OPAnnualDeductibleAmt  \n",
       "0                        60                     70  \n",
       "1                        30                     50  \n",
       "2                        90                     40  \n",
       "3                      1810                    760  \n",
       "4                      1790                   1200  \n",
       "\n",
       "[5 rows x 25 columns]"
      ]
     },
     "execution_count": 64,
     "metadata": {},
     "output_type": "execute_result"
    }
   ],
   "source": [
    "#inspect the beneficiary dataset, the first five rows\n",
    "bene_tr.head()"
   ]
  },
  {
   "cell_type": "code",
   "execution_count": 65,
   "metadata": {},
   "outputs": [
    {
     "data": {
      "text/plain": [
       "BeneID                                  0\n",
       "DOB                                     0\n",
       "DOD                                137135\n",
       "Gender                                  0\n",
       "Race                                    0\n",
       "RenalDiseaseIndicator                   0\n",
       "State                                   0\n",
       "County                                  0\n",
       "NoOfMonths_PartACov                     0\n",
       "NoOfMonths_PartBCov                     0\n",
       "ChronicCond_Alzheimer                   0\n",
       "ChronicCond_Heartfailure                0\n",
       "ChronicCond_KidneyDisease               0\n",
       "ChronicCond_Cancer                      0\n",
       "ChronicCond_ObstrPulmonary              0\n",
       "ChronicCond_Depression                  0\n",
       "ChronicCond_Diabetes                    0\n",
       "ChronicCond_IschemicHeart               0\n",
       "ChronicCond_Osteoporasis                0\n",
       "ChronicCond_rheumatoidarthritis         0\n",
       "ChronicCond_stroke                      0\n",
       "IPAnnualReimbursementAmt                0\n",
       "IPAnnualDeductibleAmt                   0\n",
       "OPAnnualReimbursementAmt                0\n",
       "OPAnnualDeductibleAmt                   0\n",
       "dtype: int64"
      ]
     },
     "execution_count": 65,
     "metadata": {},
     "output_type": "execute_result"
    }
   ],
   "source": [
    "#Check for missing data in the beneficiary dataset, only DOD has missing data\n",
    "bene_tr.isnull().sum()"
   ]
  },
  {
   "cell_type": "code",
   "execution_count": 66,
   "metadata": {},
   "outputs": [
    {
     "name": "stdout",
     "output_type": "stream",
     "text": [
      "<class 'pandas.core.frame.DataFrame'>\n",
      "RangeIndex: 40474 entries, 0 to 40473\n",
      "Data columns (total 30 columns):\n",
      " #   Column                  Non-Null Count  Dtype  \n",
      "---  ------                  --------------  -----  \n",
      " 0   BeneID                  40474 non-null  object \n",
      " 1   ClaimID                 40474 non-null  object \n",
      " 2   ClaimStartDt            40474 non-null  object \n",
      " 3   ClaimEndDt              40474 non-null  object \n",
      " 4   Provider                40474 non-null  object \n",
      " 5   InscClaimAmtReimbursed  40474 non-null  int64  \n",
      " 6   AttendingPhysician      40362 non-null  object \n",
      " 7   OperatingPhysician      23830 non-null  object \n",
      " 8   OtherPhysician          4690 non-null   object \n",
      " 9   AdmissionDt             40474 non-null  object \n",
      " 10  ClmAdmitDiagnosisCode   40474 non-null  object \n",
      " 11  DeductibleAmtPaid       39575 non-null  float64\n",
      " 12  DischargeDt             40474 non-null  object \n",
      " 13  DiagnosisGroupCode      40474 non-null  object \n",
      " 14  ClmDiagnosisCode_1      40474 non-null  object \n",
      " 15  ClmDiagnosisCode_2      40248 non-null  object \n",
      " 16  ClmDiagnosisCode_3      39798 non-null  object \n",
      " 17  ClmDiagnosisCode_4      38940 non-null  object \n",
      " 18  ClmDiagnosisCode_5      37580 non-null  object \n",
      " 19  ClmDiagnosisCode_6      35636 non-null  object \n",
      " 20  ClmDiagnosisCode_7      33216 non-null  object \n",
      " 21  ClmDiagnosisCode_8      30532 non-null  object \n",
      " 22  ClmDiagnosisCode_9      26977 non-null  object \n",
      " 23  ClmDiagnosisCode_10     3927 non-null   object \n",
      " 24  ClmProcedureCode_1      23148 non-null  float64\n",
      " 25  ClmProcedureCode_2      5454 non-null   float64\n",
      " 26  ClmProcedureCode_3      965 non-null    float64\n",
      " 27  ClmProcedureCode_4      116 non-null    float64\n",
      " 28  ClmProcedureCode_5      9 non-null      float64\n",
      " 29  ClmProcedureCode_6      0 non-null      float64\n",
      "dtypes: float64(7), int64(1), object(22)\n",
      "memory usage: 9.3+ MB\n"
     ]
    }
   ],
   "source": [
    "#inspect the inpatient dataset, there are 40474 claims, 30 variables\n",
    "inpatient_tr.info()"
   ]
  },
  {
   "cell_type": "code",
   "execution_count": 67,
   "metadata": {},
   "outputs": [
    {
     "data": {
      "text/html": [
       "<div>\n",
       "<style scoped>\n",
       "    .dataframe tbody tr th:only-of-type {\n",
       "        vertical-align: middle;\n",
       "    }\n",
       "\n",
       "    .dataframe tbody tr th {\n",
       "        vertical-align: top;\n",
       "    }\n",
       "\n",
       "    .dataframe thead th {\n",
       "        text-align: right;\n",
       "    }\n",
       "</style>\n",
       "<table border=\"1\" class=\"dataframe\">\n",
       "  <thead>\n",
       "    <tr style=\"text-align: right;\">\n",
       "      <th></th>\n",
       "      <th>BeneID</th>\n",
       "      <th>ClaimID</th>\n",
       "      <th>ClaimStartDt</th>\n",
       "      <th>ClaimEndDt</th>\n",
       "      <th>Provider</th>\n",
       "      <th>InscClaimAmtReimbursed</th>\n",
       "      <th>AttendingPhysician</th>\n",
       "      <th>OperatingPhysician</th>\n",
       "      <th>OtherPhysician</th>\n",
       "      <th>AdmissionDt</th>\n",
       "      <th>...</th>\n",
       "      <th>ClmDiagnosisCode_7</th>\n",
       "      <th>ClmDiagnosisCode_8</th>\n",
       "      <th>ClmDiagnosisCode_9</th>\n",
       "      <th>ClmDiagnosisCode_10</th>\n",
       "      <th>ClmProcedureCode_1</th>\n",
       "      <th>ClmProcedureCode_2</th>\n",
       "      <th>ClmProcedureCode_3</th>\n",
       "      <th>ClmProcedureCode_4</th>\n",
       "      <th>ClmProcedureCode_5</th>\n",
       "      <th>ClmProcedureCode_6</th>\n",
       "    </tr>\n",
       "  </thead>\n",
       "  <tbody>\n",
       "    <tr>\n",
       "      <th>0</th>\n",
       "      <td>BENE11001</td>\n",
       "      <td>CLM46614</td>\n",
       "      <td>2009-04-12</td>\n",
       "      <td>2009-04-18</td>\n",
       "      <td>PRV55912</td>\n",
       "      <td>26000</td>\n",
       "      <td>PHY390922</td>\n",
       "      <td>NaN</td>\n",
       "      <td>NaN</td>\n",
       "      <td>2009-04-12</td>\n",
       "      <td>...</td>\n",
       "      <td>2724</td>\n",
       "      <td>19889</td>\n",
       "      <td>5849</td>\n",
       "      <td>NaN</td>\n",
       "      <td>NaN</td>\n",
       "      <td>NaN</td>\n",
       "      <td>NaN</td>\n",
       "      <td>NaN</td>\n",
       "      <td>NaN</td>\n",
       "      <td>NaN</td>\n",
       "    </tr>\n",
       "    <tr>\n",
       "      <th>1</th>\n",
       "      <td>BENE11001</td>\n",
       "      <td>CLM66048</td>\n",
       "      <td>2009-08-31</td>\n",
       "      <td>2009-09-02</td>\n",
       "      <td>PRV55907</td>\n",
       "      <td>5000</td>\n",
       "      <td>PHY318495</td>\n",
       "      <td>PHY318495</td>\n",
       "      <td>NaN</td>\n",
       "      <td>2009-08-31</td>\n",
       "      <td>...</td>\n",
       "      <td>NaN</td>\n",
       "      <td>NaN</td>\n",
       "      <td>NaN</td>\n",
       "      <td>NaN</td>\n",
       "      <td>7092.0</td>\n",
       "      <td>NaN</td>\n",
       "      <td>NaN</td>\n",
       "      <td>NaN</td>\n",
       "      <td>NaN</td>\n",
       "      <td>NaN</td>\n",
       "    </tr>\n",
       "    <tr>\n",
       "      <th>2</th>\n",
       "      <td>BENE11001</td>\n",
       "      <td>CLM68358</td>\n",
       "      <td>2009-09-17</td>\n",
       "      <td>2009-09-20</td>\n",
       "      <td>PRV56046</td>\n",
       "      <td>5000</td>\n",
       "      <td>PHY372395</td>\n",
       "      <td>NaN</td>\n",
       "      <td>PHY324689</td>\n",
       "      <td>2009-09-17</td>\n",
       "      <td>...</td>\n",
       "      <td>NaN</td>\n",
       "      <td>NaN</td>\n",
       "      <td>NaN</td>\n",
       "      <td>NaN</td>\n",
       "      <td>NaN</td>\n",
       "      <td>NaN</td>\n",
       "      <td>NaN</td>\n",
       "      <td>NaN</td>\n",
       "      <td>NaN</td>\n",
       "      <td>NaN</td>\n",
       "    </tr>\n",
       "    <tr>\n",
       "      <th>3</th>\n",
       "      <td>BENE11011</td>\n",
       "      <td>CLM38412</td>\n",
       "      <td>2009-02-14</td>\n",
       "      <td>2009-02-22</td>\n",
       "      <td>PRV52405</td>\n",
       "      <td>5000</td>\n",
       "      <td>PHY369659</td>\n",
       "      <td>PHY392961</td>\n",
       "      <td>PHY349768</td>\n",
       "      <td>2009-02-14</td>\n",
       "      <td>...</td>\n",
       "      <td>25062</td>\n",
       "      <td>40390</td>\n",
       "      <td>4019</td>\n",
       "      <td>NaN</td>\n",
       "      <td>331.0</td>\n",
       "      <td>NaN</td>\n",
       "      <td>NaN</td>\n",
       "      <td>NaN</td>\n",
       "      <td>NaN</td>\n",
       "      <td>NaN</td>\n",
       "    </tr>\n",
       "    <tr>\n",
       "      <th>4</th>\n",
       "      <td>BENE11014</td>\n",
       "      <td>CLM63689</td>\n",
       "      <td>2009-08-13</td>\n",
       "      <td>2009-08-30</td>\n",
       "      <td>PRV56614</td>\n",
       "      <td>10000</td>\n",
       "      <td>PHY379376</td>\n",
       "      <td>PHY398258</td>\n",
       "      <td>NaN</td>\n",
       "      <td>2009-08-13</td>\n",
       "      <td>...</td>\n",
       "      <td>5119</td>\n",
       "      <td>29620</td>\n",
       "      <td>20300</td>\n",
       "      <td>NaN</td>\n",
       "      <td>3893.0</td>\n",
       "      <td>NaN</td>\n",
       "      <td>NaN</td>\n",
       "      <td>NaN</td>\n",
       "      <td>NaN</td>\n",
       "      <td>NaN</td>\n",
       "    </tr>\n",
       "  </tbody>\n",
       "</table>\n",
       "<p>5 rows × 30 columns</p>\n",
       "</div>"
      ],
      "text/plain": [
       "      BeneID   ClaimID ClaimStartDt  ClaimEndDt  Provider  \\\n",
       "0  BENE11001  CLM46614   2009-04-12  2009-04-18  PRV55912   \n",
       "1  BENE11001  CLM66048   2009-08-31  2009-09-02  PRV55907   \n",
       "2  BENE11001  CLM68358   2009-09-17  2009-09-20  PRV56046   \n",
       "3  BENE11011  CLM38412   2009-02-14  2009-02-22  PRV52405   \n",
       "4  BENE11014  CLM63689   2009-08-13  2009-08-30  PRV56614   \n",
       "\n",
       "   InscClaimAmtReimbursed AttendingPhysician OperatingPhysician  \\\n",
       "0                   26000          PHY390922                NaN   \n",
       "1                    5000          PHY318495          PHY318495   \n",
       "2                    5000          PHY372395                NaN   \n",
       "3                    5000          PHY369659          PHY392961   \n",
       "4                   10000          PHY379376          PHY398258   \n",
       "\n",
       "  OtherPhysician AdmissionDt  ... ClmDiagnosisCode_7  ClmDiagnosisCode_8  \\\n",
       "0            NaN  2009-04-12  ...               2724               19889   \n",
       "1            NaN  2009-08-31  ...                NaN                 NaN   \n",
       "2      PHY324689  2009-09-17  ...                NaN                 NaN   \n",
       "3      PHY349768  2009-02-14  ...              25062               40390   \n",
       "4            NaN  2009-08-13  ...               5119               29620   \n",
       "\n",
       "  ClmDiagnosisCode_9 ClmDiagnosisCode_10 ClmProcedureCode_1  \\\n",
       "0               5849                 NaN                NaN   \n",
       "1                NaN                 NaN             7092.0   \n",
       "2                NaN                 NaN                NaN   \n",
       "3               4019                 NaN              331.0   \n",
       "4              20300                 NaN             3893.0   \n",
       "\n",
       "  ClmProcedureCode_2 ClmProcedureCode_3 ClmProcedureCode_4 ClmProcedureCode_5  \\\n",
       "0                NaN                NaN                NaN                NaN   \n",
       "1                NaN                NaN                NaN                NaN   \n",
       "2                NaN                NaN                NaN                NaN   \n",
       "3                NaN                NaN                NaN                NaN   \n",
       "4                NaN                NaN                NaN                NaN   \n",
       "\n",
       "  ClmProcedureCode_6  \n",
       "0                NaN  \n",
       "1                NaN  \n",
       "2                NaN  \n",
       "3                NaN  \n",
       "4                NaN  \n",
       "\n",
       "[5 rows x 30 columns]"
      ]
     },
     "execution_count": 67,
     "metadata": {},
     "output_type": "execute_result"
    }
   ],
   "source": [
    "#inspect the inpatient dataset, the first five rows\n",
    "inpatient_tr.head()"
   ]
  },
  {
   "cell_type": "code",
   "execution_count": 68,
   "metadata": {},
   "outputs": [
    {
     "data": {
      "text/plain": [
       "BeneID                        0\n",
       "ClaimID                       0\n",
       "ClaimStartDt                  0\n",
       "ClaimEndDt                    0\n",
       "Provider                      0\n",
       "InscClaimAmtReimbursed        0\n",
       "AttendingPhysician          112\n",
       "OperatingPhysician        16644\n",
       "OtherPhysician            35784\n",
       "AdmissionDt                   0\n",
       "ClmAdmitDiagnosisCode         0\n",
       "DeductibleAmtPaid           899\n",
       "DischargeDt                   0\n",
       "DiagnosisGroupCode            0\n",
       "ClmDiagnosisCode_1            0\n",
       "ClmDiagnosisCode_2          226\n",
       "ClmDiagnosisCode_3          676\n",
       "ClmDiagnosisCode_4         1534\n",
       "ClmDiagnosisCode_5         2894\n",
       "ClmDiagnosisCode_6         4838\n",
       "ClmDiagnosisCode_7         7258\n",
       "ClmDiagnosisCode_8         9942\n",
       "ClmDiagnosisCode_9        13497\n",
       "ClmDiagnosisCode_10       36547\n",
       "ClmProcedureCode_1        17326\n",
       "ClmProcedureCode_2        35020\n",
       "ClmProcedureCode_3        39509\n",
       "ClmProcedureCode_4        40358\n",
       "ClmProcedureCode_5        40465\n",
       "ClmProcedureCode_6        40474\n",
       "dtype: int64"
      ]
     },
     "execution_count": 68,
     "metadata": {},
     "output_type": "execute_result"
    }
   ],
   "source": [
    "#Check for missing data in the inpatient dataset\n",
    "inpatient_tr.isnull().sum()"
   ]
  },
  {
   "cell_type": "code",
   "execution_count": 69,
   "metadata": {},
   "outputs": [
    {
     "name": "stdout",
     "output_type": "stream",
     "text": [
      "<class 'pandas.core.frame.DataFrame'>\n",
      "RangeIndex: 517737 entries, 0 to 517736\n",
      "Data columns (total 27 columns):\n",
      " #   Column                  Non-Null Count   Dtype  \n",
      "---  ------                  --------------   -----  \n",
      " 0   BeneID                  517737 non-null  object \n",
      " 1   ClaimID                 517737 non-null  object \n",
      " 2   ClaimStartDt            517737 non-null  object \n",
      " 3   ClaimEndDt              517737 non-null  object \n",
      " 4   Provider                517737 non-null  object \n",
      " 5   InscClaimAmtReimbursed  517737 non-null  int64  \n",
      " 6   AttendingPhysician      516341 non-null  object \n",
      " 7   OperatingPhysician      90617 non-null   object \n",
      " 8   OtherPhysician          195046 non-null  object \n",
      " 9   ClmDiagnosisCode_1      507284 non-null  object \n",
      " 10  ClmDiagnosisCode_2      322357 non-null  object \n",
      " 11  ClmDiagnosisCode_3      203257 non-null  object \n",
      " 12  ClmDiagnosisCode_4      125596 non-null  object \n",
      " 13  ClmDiagnosisCode_5      74344 non-null   object \n",
      " 14  ClmDiagnosisCode_6      48756 non-null   object \n",
      " 15  ClmDiagnosisCode_7      32961 non-null   object \n",
      " 16  ClmDiagnosisCode_8      22912 non-null   object \n",
      " 17  ClmDiagnosisCode_9      14838 non-null   object \n",
      " 18  ClmDiagnosisCode_10     1083 non-null    object \n",
      " 19  ClmProcedureCode_1      162 non-null     float64\n",
      " 20  ClmProcedureCode_2      36 non-null      float64\n",
      " 21  ClmProcedureCode_3      4 non-null       float64\n",
      " 22  ClmProcedureCode_4      2 non-null       float64\n",
      " 23  ClmProcedureCode_5      0 non-null       float64\n",
      " 24  ClmProcedureCode_6      0 non-null       float64\n",
      " 25  DeductibleAmtPaid       517737 non-null  int64  \n",
      " 26  ClmAdmitDiagnosisCode   105425 non-null  object \n",
      "dtypes: float64(6), int64(2), object(19)\n",
      "memory usage: 106.7+ MB\n"
     ]
    }
   ],
   "source": [
    "#inspect the outpatient dataset, there are 517737 claims, 27 variables\n",
    "outpatient_tr.info()"
   ]
  },
  {
   "cell_type": "code",
   "execution_count": 70,
   "metadata": {},
   "outputs": [
    {
     "data": {
      "text/html": [
       "<div>\n",
       "<style scoped>\n",
       "    .dataframe tbody tr th:only-of-type {\n",
       "        vertical-align: middle;\n",
       "    }\n",
       "\n",
       "    .dataframe tbody tr th {\n",
       "        vertical-align: top;\n",
       "    }\n",
       "\n",
       "    .dataframe thead th {\n",
       "        text-align: right;\n",
       "    }\n",
       "</style>\n",
       "<table border=\"1\" class=\"dataframe\">\n",
       "  <thead>\n",
       "    <tr style=\"text-align: right;\">\n",
       "      <th></th>\n",
       "      <th>BeneID</th>\n",
       "      <th>ClaimID</th>\n",
       "      <th>ClaimStartDt</th>\n",
       "      <th>ClaimEndDt</th>\n",
       "      <th>Provider</th>\n",
       "      <th>InscClaimAmtReimbursed</th>\n",
       "      <th>AttendingPhysician</th>\n",
       "      <th>OperatingPhysician</th>\n",
       "      <th>OtherPhysician</th>\n",
       "      <th>ClmDiagnosisCode_1</th>\n",
       "      <th>...</th>\n",
       "      <th>ClmDiagnosisCode_9</th>\n",
       "      <th>ClmDiagnosisCode_10</th>\n",
       "      <th>ClmProcedureCode_1</th>\n",
       "      <th>ClmProcedureCode_2</th>\n",
       "      <th>ClmProcedureCode_3</th>\n",
       "      <th>ClmProcedureCode_4</th>\n",
       "      <th>ClmProcedureCode_5</th>\n",
       "      <th>ClmProcedureCode_6</th>\n",
       "      <th>DeductibleAmtPaid</th>\n",
       "      <th>ClmAdmitDiagnosisCode</th>\n",
       "    </tr>\n",
       "  </thead>\n",
       "  <tbody>\n",
       "    <tr>\n",
       "      <th>0</th>\n",
       "      <td>BENE11002</td>\n",
       "      <td>CLM624349</td>\n",
       "      <td>2009-10-11</td>\n",
       "      <td>2009-10-11</td>\n",
       "      <td>PRV56011</td>\n",
       "      <td>30</td>\n",
       "      <td>PHY326117</td>\n",
       "      <td>NaN</td>\n",
       "      <td>NaN</td>\n",
       "      <td>78943</td>\n",
       "      <td>...</td>\n",
       "      <td>NaN</td>\n",
       "      <td>NaN</td>\n",
       "      <td>NaN</td>\n",
       "      <td>NaN</td>\n",
       "      <td>NaN</td>\n",
       "      <td>NaN</td>\n",
       "      <td>NaN</td>\n",
       "      <td>NaN</td>\n",
       "      <td>0</td>\n",
       "      <td>56409</td>\n",
       "    </tr>\n",
       "    <tr>\n",
       "      <th>1</th>\n",
       "      <td>BENE11003</td>\n",
       "      <td>CLM189947</td>\n",
       "      <td>2009-02-12</td>\n",
       "      <td>2009-02-12</td>\n",
       "      <td>PRV57610</td>\n",
       "      <td>80</td>\n",
       "      <td>PHY362868</td>\n",
       "      <td>NaN</td>\n",
       "      <td>NaN</td>\n",
       "      <td>6115</td>\n",
       "      <td>...</td>\n",
       "      <td>NaN</td>\n",
       "      <td>NaN</td>\n",
       "      <td>NaN</td>\n",
       "      <td>NaN</td>\n",
       "      <td>NaN</td>\n",
       "      <td>NaN</td>\n",
       "      <td>NaN</td>\n",
       "      <td>NaN</td>\n",
       "      <td>0</td>\n",
       "      <td>79380</td>\n",
       "    </tr>\n",
       "    <tr>\n",
       "      <th>2</th>\n",
       "      <td>BENE11003</td>\n",
       "      <td>CLM438021</td>\n",
       "      <td>2009-06-27</td>\n",
       "      <td>2009-06-27</td>\n",
       "      <td>PRV57595</td>\n",
       "      <td>10</td>\n",
       "      <td>PHY328821</td>\n",
       "      <td>NaN</td>\n",
       "      <td>NaN</td>\n",
       "      <td>2723</td>\n",
       "      <td>...</td>\n",
       "      <td>NaN</td>\n",
       "      <td>NaN</td>\n",
       "      <td>NaN</td>\n",
       "      <td>NaN</td>\n",
       "      <td>NaN</td>\n",
       "      <td>NaN</td>\n",
       "      <td>NaN</td>\n",
       "      <td>NaN</td>\n",
       "      <td>0</td>\n",
       "      <td>NaN</td>\n",
       "    </tr>\n",
       "    <tr>\n",
       "      <th>3</th>\n",
       "      <td>BENE11004</td>\n",
       "      <td>CLM121801</td>\n",
       "      <td>2009-01-06</td>\n",
       "      <td>2009-01-06</td>\n",
       "      <td>PRV56011</td>\n",
       "      <td>40</td>\n",
       "      <td>PHY334319</td>\n",
       "      <td>NaN</td>\n",
       "      <td>NaN</td>\n",
       "      <td>71988</td>\n",
       "      <td>...</td>\n",
       "      <td>NaN</td>\n",
       "      <td>NaN</td>\n",
       "      <td>NaN</td>\n",
       "      <td>NaN</td>\n",
       "      <td>NaN</td>\n",
       "      <td>NaN</td>\n",
       "      <td>NaN</td>\n",
       "      <td>NaN</td>\n",
       "      <td>0</td>\n",
       "      <td>NaN</td>\n",
       "    </tr>\n",
       "    <tr>\n",
       "      <th>4</th>\n",
       "      <td>BENE11004</td>\n",
       "      <td>CLM150998</td>\n",
       "      <td>2009-01-22</td>\n",
       "      <td>2009-01-22</td>\n",
       "      <td>PRV56011</td>\n",
       "      <td>200</td>\n",
       "      <td>PHY403831</td>\n",
       "      <td>NaN</td>\n",
       "      <td>NaN</td>\n",
       "      <td>82382</td>\n",
       "      <td>...</td>\n",
       "      <td>NaN</td>\n",
       "      <td>NaN</td>\n",
       "      <td>NaN</td>\n",
       "      <td>NaN</td>\n",
       "      <td>NaN</td>\n",
       "      <td>NaN</td>\n",
       "      <td>NaN</td>\n",
       "      <td>NaN</td>\n",
       "      <td>0</td>\n",
       "      <td>71947</td>\n",
       "    </tr>\n",
       "  </tbody>\n",
       "</table>\n",
       "<p>5 rows × 27 columns</p>\n",
       "</div>"
      ],
      "text/plain": [
       "      BeneID    ClaimID ClaimStartDt  ClaimEndDt  Provider  \\\n",
       "0  BENE11002  CLM624349   2009-10-11  2009-10-11  PRV56011   \n",
       "1  BENE11003  CLM189947   2009-02-12  2009-02-12  PRV57610   \n",
       "2  BENE11003  CLM438021   2009-06-27  2009-06-27  PRV57595   \n",
       "3  BENE11004  CLM121801   2009-01-06  2009-01-06  PRV56011   \n",
       "4  BENE11004  CLM150998   2009-01-22  2009-01-22  PRV56011   \n",
       "\n",
       "   InscClaimAmtReimbursed AttendingPhysician OperatingPhysician  \\\n",
       "0                      30          PHY326117                NaN   \n",
       "1                      80          PHY362868                NaN   \n",
       "2                      10          PHY328821                NaN   \n",
       "3                      40          PHY334319                NaN   \n",
       "4                     200          PHY403831                NaN   \n",
       "\n",
       "  OtherPhysician ClmDiagnosisCode_1  ... ClmDiagnosisCode_9  \\\n",
       "0            NaN              78943  ...                NaN   \n",
       "1            NaN               6115  ...                NaN   \n",
       "2            NaN               2723  ...                NaN   \n",
       "3            NaN              71988  ...                NaN   \n",
       "4            NaN              82382  ...                NaN   \n",
       "\n",
       "  ClmDiagnosisCode_10 ClmProcedureCode_1 ClmProcedureCode_2  \\\n",
       "0                 NaN                NaN                NaN   \n",
       "1                 NaN                NaN                NaN   \n",
       "2                 NaN                NaN                NaN   \n",
       "3                 NaN                NaN                NaN   \n",
       "4                 NaN                NaN                NaN   \n",
       "\n",
       "  ClmProcedureCode_3 ClmProcedureCode_4 ClmProcedureCode_5 ClmProcedureCode_6  \\\n",
       "0                NaN                NaN                NaN                NaN   \n",
       "1                NaN                NaN                NaN                NaN   \n",
       "2                NaN                NaN                NaN                NaN   \n",
       "3                NaN                NaN                NaN                NaN   \n",
       "4                NaN                NaN                NaN                NaN   \n",
       "\n",
       "  DeductibleAmtPaid  ClmAdmitDiagnosisCode  \n",
       "0                 0                  56409  \n",
       "1                 0                  79380  \n",
       "2                 0                    NaN  \n",
       "3                 0                    NaN  \n",
       "4                 0                  71947  \n",
       "\n",
       "[5 rows x 27 columns]"
      ]
     },
     "execution_count": 70,
     "metadata": {},
     "output_type": "execute_result"
    }
   ],
   "source": [
    "#inspect the outpatient dataset the first five rows\n",
    "outpatient_tr.head()"
   ]
  },
  {
   "cell_type": "code",
   "execution_count": 71,
   "metadata": {},
   "outputs": [
    {
     "data": {
      "text/plain": [
       "BeneID                         0\n",
       "ClaimID                        0\n",
       "ClaimStartDt                   0\n",
       "ClaimEndDt                     0\n",
       "Provider                       0\n",
       "InscClaimAmtReimbursed         0\n",
       "AttendingPhysician          1396\n",
       "OperatingPhysician        427120\n",
       "OtherPhysician            322691\n",
       "ClmDiagnosisCode_1         10453\n",
       "ClmDiagnosisCode_2        195380\n",
       "ClmDiagnosisCode_3        314480\n",
       "ClmDiagnosisCode_4        392141\n",
       "ClmDiagnosisCode_5        443393\n",
       "ClmDiagnosisCode_6        468981\n",
       "ClmDiagnosisCode_7        484776\n",
       "ClmDiagnosisCode_8        494825\n",
       "ClmDiagnosisCode_9        502899\n",
       "ClmDiagnosisCode_10       516654\n",
       "ClmProcedureCode_1        517575\n",
       "ClmProcedureCode_2        517701\n",
       "ClmProcedureCode_3        517733\n",
       "ClmProcedureCode_4        517735\n",
       "ClmProcedureCode_5        517737\n",
       "ClmProcedureCode_6        517737\n",
       "DeductibleAmtPaid              0\n",
       "ClmAdmitDiagnosisCode     412312\n",
       "dtype: int64"
      ]
     },
     "execution_count": 71,
     "metadata": {},
     "output_type": "execute_result"
    }
   ],
   "source": [
    "#Check for missing data in the inpatient dataset\n",
    "outpatient_tr.isnull().sum()"
   ]
  },
  {
   "cell_type": "markdown",
   "metadata": {},
   "source": [
    "<h4> 2a. Handling null values "
   ]
  },
  {
   "cell_type": "markdown",
   "metadata": {},
   "source": [
    "1) Provider data (Fraud_tr): No missing data. <br>\n",
    "2) Beneficiary data (Bene_tr): One variable (date of death) has 1421 non-missing data, which is expected. <br>\n",
    "3) Inpatient claim data (inpatient_tr): Missing data were observed on physician ID and diagnosis/procedure code variables, we decide to leave as they were. Missing data were found on the variable (deductible amount paid) on 899 claims, we assumed deductible = 0 for those claims. <br>\n",
    "4) Outpatient claim data (outpatient_tr): Missing data were observed on physician ID and diagnosis/procedure/admit diagnosis code variables, we decide to leave as they were. <br>\n"
   ]
  },
  {
   "cell_type": "code",
   "execution_count": 72,
   "metadata": {},
   "outputs": [
    {
     "data": {
      "text/plain": [
       "BeneID                        0\n",
       "ClaimID                       0\n",
       "ClaimStartDt                  0\n",
       "ClaimEndDt                    0\n",
       "Provider                      0\n",
       "InscClaimAmtReimbursed        0\n",
       "AttendingPhysician          112\n",
       "OperatingPhysician        16644\n",
       "OtherPhysician            35784\n",
       "AdmissionDt                   0\n",
       "ClmAdmitDiagnosisCode         0\n",
       "DeductibleAmtPaid             0\n",
       "DischargeDt                   0\n",
       "DiagnosisGroupCode            0\n",
       "ClmDiagnosisCode_1            0\n",
       "ClmDiagnosisCode_2          226\n",
       "ClmDiagnosisCode_3          676\n",
       "ClmDiagnosisCode_4         1534\n",
       "ClmDiagnosisCode_5         2894\n",
       "ClmDiagnosisCode_6         4838\n",
       "ClmDiagnosisCode_7         7258\n",
       "ClmDiagnosisCode_8         9942\n",
       "ClmDiagnosisCode_9        13497\n",
       "ClmDiagnosisCode_10       36547\n",
       "ClmProcedureCode_1        17326\n",
       "ClmProcedureCode_2        35020\n",
       "ClmProcedureCode_3        39509\n",
       "ClmProcedureCode_4        40358\n",
       "ClmProcedureCode_5        40465\n",
       "ClmProcedureCode_6        40474\n",
       "dtype: int64"
      ]
     },
     "execution_count": 72,
     "metadata": {},
     "output_type": "execute_result"
    }
   ],
   "source": [
    "#Fill the missing values with 0\n",
    "inpatient_tr['DeductibleAmtPaid'].fillna(0,inplace=True)\n",
    "#check whether the missing values are replaced with 0\n",
    "inpatient_tr.isnull().sum()"
   ]
  },
  {
   "cell_type": "markdown",
   "metadata": {},
   "source": [
    "<h3> 3. Exploratory data analysis"
   ]
  },
  {
   "cell_type": "markdown",
   "metadata": {},
   "source": [
    "<h4> 3a. Univariate Analysis"
   ]
  },
  {
   "cell_type": "markdown",
   "metadata": {},
   "source": [
    "Target variable: Potential Fraud <br>\n",
    "Question: What percent of providers are potential fraud?<br>\n",
    "Answer: 506/5410(9.4%) are potential fraud. "
   ]
  },
  {
   "cell_type": "code",
   "execution_count": 73,
   "metadata": {},
   "outputs": [
    {
     "data": {
      "text/plain": [
       "No     4904\n",
       "Yes     506\n",
       "Name: PotentialFraud, dtype: int64"
      ]
     },
     "execution_count": 73,
     "metadata": {},
     "output_type": "execute_result"
    }
   ],
   "source": [
    "# Check the number of fraud providers: 506\n",
    "fraud_tr['PotentialFraud'].value_counts()\n"
   ]
  },
  {
   "cell_type": "code",
   "execution_count": 74,
   "metadata": {},
   "outputs": [
    {
     "data": {
      "text/plain": [
       "No     0.90647\n",
       "Yes    0.09353\n",
       "Name: PotentialFraud, dtype: float64"
      ]
     },
     "execution_count": 74,
     "metadata": {},
     "output_type": "execute_result"
    }
   ],
   "source": [
    "# The percentage of fraud providers: 9.4%\n",
    "fraud_tr['PotentialFraud'].value_counts(normalize=True)"
   ]
  },
  {
   "cell_type": "markdown",
   "metadata": {},
   "source": [
    "Investigate the demographics of beneficiaries<br>\n",
    "Findings:<br>\n",
    "1. Gender: 43% are men<br>\n",
    "2. Race: 84% whilte, will be dichotomized for further analysis<br>\n",
    "3. Renal Disease: 14% <br>\n",
    "4. From 52 states and 314 counties<br>\n",
    "5. Baseline medical condition:<br>\n",
    "a. Alzheimer: 33.2%<br>\n",
    "b. Heart failure: 49.4%<br>\n",
    "c. Kidney disease: 31.2%<br>\n",
    "d. Cancer: 12.0%<br>\n",
    "e. Obstructive-Pulmonary: 23.7%<br>\n",
    "f. Depression: 35.6%<br>\n",
    "g. Diabetes: 60.2%<br>\n",
    "h. Ischemic heart disease: 67.6%<br>\n",
    "i. Osteoporasis: 27.5%<br>\n",
    "j. Rheumatoidarthritis: 25.7%<br>\n",
    "k. Stroke: 7.9%\n"
   ]
  },
  {
   "cell_type": "code",
   "execution_count": 75,
   "metadata": {},
   "outputs": [
    {
     "data": {
      "text/plain": [
       "2    79106\n",
       "1    59450\n",
       "Name: Gender, dtype: int64"
      ]
     },
     "execution_count": 75,
     "metadata": {},
     "output_type": "execute_result"
    }
   ],
   "source": [
    "# Check beneficiary gender variable: 59450 men, 79106 women\n",
    "bene_tr['Gender'].value_counts()"
   ]
  },
  {
   "cell_type": "code",
   "execution_count": 76,
   "metadata": {},
   "outputs": [
    {
     "data": {
      "text/plain": [
       "2    0.570932\n",
       "1    0.429068\n",
       "Name: Gender, dtype: float64"
      ]
     },
     "execution_count": 76,
     "metadata": {},
     "output_type": "execute_result"
    }
   ],
   "source": [
    "# Check gender variable: 43% men, 57% women\n",
    "bene_tr['Gender'].value_counts(normalize=True)"
   ]
  },
  {
   "cell_type": "code",
   "execution_count": 77,
   "metadata": {},
   "outputs": [
    {
     "data": {
      "text/plain": [
       "<matplotlib.axes._subplots.AxesSubplot at 0x1a44db1f90>"
      ]
     },
     "execution_count": 77,
     "metadata": {},
     "output_type": "execute_result"
    },
    {
     "data": {
      "image/png": "[encoded data removed]",
      "text/plain": [
       "<Figure size 432x288 with 1 Axes>"
      ]
     },
     "metadata": {
      "needs_background": "light"
     },
     "output_type": "display_data"
    }
   ],
   "source": [
    "# Pie chart for the race variable\n",
    "bene_tr['Gender'].value_counts(normalize=True).plot(kind=\"bar\")"
   ]
  },
  {
   "cell_type": "code",
   "execution_count": 78,
   "metadata": {},
   "outputs": [
    {
     "data": {
      "text/plain": [
       "1    117057\n",
       "2     13538\n",
       "3      5059\n",
       "5      2902\n",
       "Name: Race, dtype: int64"
      ]
     },
     "execution_count": 78,
     "metadata": {},
     "output_type": "execute_result"
    }
   ],
   "source": [
    "# Check beneficiary race variable: white(117057), black (13538), asian(5059), mixed (2902)\n",
    "bene_tr['Race'].value_counts()"
   ]
  },
  {
   "cell_type": "code",
   "execution_count": 79,
   "metadata": {},
   "outputs": [
    {
     "data": {
      "text/plain": [
       "<matplotlib.axes._subplots.AxesSubplot at 0x1a4421e690>"
      ]
     },
     "execution_count": 79,
     "metadata": {},
     "output_type": "execute_result"
    },
    {
     "data": {
      "image/png": "[encoded data removed]",
      "text/plain": [
       "<Figure size 432x288 with 1 Axes>"
      ]
     },
     "metadata": {},
     "output_type": "display_data"
    }
   ],
   "source": [
    "# Pie chart for the race variable\n",
    "bene_tr['Race'].value_counts(normalize=True).plot(kind=\"pie\")"
   ]
  },
  {
   "cell_type": "code",
   "execution_count": 80,
   "metadata": {},
   "outputs": [
    {
     "data": {
      "text/plain": [
       "1    0.844835\n",
       "2    0.097708\n",
       "3    0.036512\n",
       "5    0.020945\n",
       "Name: Race, dtype: float64"
      ]
     },
     "execution_count": 80,
     "metadata": {},
     "output_type": "execute_result"
    }
   ],
   "source": [
    "# Check beneficiary race variable: white(84%), black (10%), asian(3.7%), mixed (2.1%)\n",
    "bene_tr['Race'].value_counts(normalize=True)"
   ]
  },
  {
   "cell_type": "code",
   "execution_count": 81,
   "metadata": {},
   "outputs": [
    {
     "data": {
      "text/plain": [
       "2    0.667817\n",
       "1    0.332183\n",
       "Name: ChronicCond_Alzheimer, dtype: float64"
      ]
     },
     "execution_count": 81,
     "metadata": {},
     "output_type": "execute_result"
    }
   ],
   "source": [
    "# 33% beneficiaries had Alzheimer\n",
    "bene_tr['ChronicCond_Alzheimer'].value_counts(normalize=True)"
   ]
  },
  {
   "cell_type": "code",
   "execution_count": 82,
   "metadata": {},
   "outputs": [
    {
     "data": {
      "text/plain": [
       "2    0.506322\n",
       "1    0.493678\n",
       "Name: ChronicCond_Heartfailure, dtype: float64"
      ]
     },
     "execution_count": 82,
     "metadata": {},
     "output_type": "execute_result"
    }
   ],
   "source": [
    "# 49% beneficiaries had Heart Failure\n",
    "bene_tr['ChronicCond_Heartfailure'].value_counts(normalize=True)"
   ]
  },
  {
   "cell_type": "code",
   "execution_count": 83,
   "metadata": {},
   "outputs": [
    {
     "data": {
      "text/plain": [
       "2    0.687643\n",
       "1    0.312357\n",
       "Name: ChronicCond_KidneyDisease, dtype: float64"
      ]
     },
     "execution_count": 83,
     "metadata": {},
     "output_type": "execute_result"
    }
   ],
   "source": [
    "# 31% beneficiaries had Kidney Disease\n",
    "bene_tr['ChronicCond_KidneyDisease'].value_counts(normalize=True)"
   ]
  },
  {
   "cell_type": "code",
   "execution_count": 84,
   "metadata": {},
   "outputs": [
    {
     "data": {
      "text/plain": [
       "2    0.880041\n",
       "1    0.119959\n",
       "Name: ChronicCond_Cancer, dtype: float64"
      ]
     },
     "execution_count": 84,
     "metadata": {},
     "output_type": "execute_result"
    }
   ],
   "source": [
    "# 12% beneficiaries had Cancer\n",
    "bene_tr['ChronicCond_Cancer'].value_counts(normalize=True)"
   ]
  },
  {
   "cell_type": "code",
   "execution_count": 85,
   "metadata": {},
   "outputs": [
    {
     "data": {
      "text/plain": [
       "2    0.762847\n",
       "1    0.237153\n",
       "Name: ChronicCond_ObstrPulmonary, dtype: float64"
      ]
     },
     "execution_count": 85,
     "metadata": {},
     "output_type": "execute_result"
    }
   ],
   "source": [
    "# 24% beneficiaries had Obstructive Pulmonary Disease\n",
    "bene_tr['ChronicCond_ObstrPulmonary'].value_counts(normalize=True)"
   ]
  },
  {
   "cell_type": "code",
   "execution_count": 86,
   "metadata": {},
   "outputs": [
    {
     "data": {
      "text/plain": [
       "2    0.644476\n",
       "1    0.355524\n",
       "Name: ChronicCond_Depression, dtype: float64"
      ]
     },
     "execution_count": 86,
     "metadata": {},
     "output_type": "execute_result"
    }
   ],
   "source": [
    "# 36% beneficiaries had Depression\n",
    "bene_tr['ChronicCond_Depression'].value_counts(normalize=True)"
   ]
  },
  {
   "cell_type": "code",
   "execution_count": 87,
   "metadata": {},
   "outputs": [
    {
     "data": {
      "text/plain": [
       "1    0.601858\n",
       "2    0.398142\n",
       "Name: ChronicCond_Diabetes, dtype: float64"
      ]
     },
     "execution_count": 87,
     "metadata": {},
     "output_type": "execute_result"
    }
   ],
   "source": [
    "# 40% beneficiaries had Diabetes\n",
    "bene_tr['ChronicCond_Diabetes'].value_counts(normalize=True)"
   ]
  },
  {
   "cell_type": "code",
   "execution_count": 88,
   "metadata": {},
   "outputs": [
    {
     "data": {
      "text/plain": [
       "1    0.675857\n",
       "2    0.324143\n",
       "Name: ChronicCond_IschemicHeart, dtype: float64"
      ]
     },
     "execution_count": 88,
     "metadata": {},
     "output_type": "execute_result"
    }
   ],
   "source": [
    "# 32% beneficiaries had Ischemic Heart Disease\n",
    "bene_tr['ChronicCond_IschemicHeart'].value_counts(normalize=True)"
   ]
  },
  {
   "cell_type": "code",
   "execution_count": 89,
   "metadata": {},
   "outputs": [
    {
     "data": {
      "text/plain": [
       "2    0.725317\n",
       "1    0.274683\n",
       "Name: ChronicCond_Osteoporasis, dtype: float64"
      ]
     },
     "execution_count": 89,
     "metadata": {},
     "output_type": "execute_result"
    }
   ],
   "source": [
    "# 27% beneficiaries had Osteoporasis\n",
    "bene_tr['ChronicCond_Osteoporasis'].value_counts(normalize=True)"
   ]
  },
  {
   "cell_type": "code",
   "execution_count": 90,
   "metadata": {},
   "outputs": [
    {
     "data": {
      "text/plain": [
       "2    0.74318\n",
       "1    0.25682\n",
       "Name: ChronicCond_rheumatoidarthritis, dtype: float64"
      ]
     },
     "execution_count": 90,
     "metadata": {},
     "output_type": "execute_result"
    }
   ],
   "source": [
    "# 26% beneficiaries had Rheumatoid Arthritis\n",
    "bene_tr['ChronicCond_rheumatoidarthritis'].value_counts(normalize=True)"
   ]
  },
  {
   "cell_type": "code",
   "execution_count": 91,
   "metadata": {},
   "outputs": [
    {
     "data": {
      "text/plain": [
       "2    0.920942\n",
       "1    0.079058\n",
       "Name: ChronicCond_stroke, dtype: float64"
      ]
     },
     "execution_count": 91,
     "metadata": {},
     "output_type": "execute_result"
    }
   ],
   "source": [
    "# 7.9% beneficiaries had Stroke\n",
    "bene_tr['ChronicCond_stroke'].value_counts(normalize=True)"
   ]
  },
  {
   "cell_type": "markdown",
   "metadata": {},
   "source": [
    "Investigating inpatient claims data:<br>\n",
    "31289 beneficiaries<br>\n",
    "40474 claims<br>\n",
    "2092 providers<br>\n",
    "Maximum claims/beneficiary: 8<br>\n",
    "Maximum claims/provider: 516\n"
   ]
  },
  {
   "cell_type": "code",
   "execution_count": 92,
   "metadata": {},
   "outputs": [
    {
     "data": {
      "text/plain": [
       "BENE134170    8\n",
       "BENE119457    7\n",
       "BENE117116    7\n",
       "BENE121796    7\n",
       "BENE62091     7\n",
       "             ..\n",
       "BENE24588     1\n",
       "BENE59144     1\n",
       "BENE97675     1\n",
       "BENE71324     1\n",
       "BENE158163    1\n",
       "Name: BeneID, Length: 31289, dtype: int64"
      ]
     },
     "execution_count": 92,
     "metadata": {},
     "output_type": "execute_result"
    }
   ],
   "source": [
    "# The beneficiaries had between 1 and 8 inpatient claims.\n",
    "inpatient_tr['BeneID'].value_counts()"
   ]
  },
  {
   "cell_type": "code",
   "execution_count": 93,
   "metadata": {},
   "outputs": [
    {
     "data": {
      "text/plain": [
       "PRV52019    516\n",
       "PRV55462    386\n",
       "PRV54367    322\n",
       "PRV53706    282\n",
       "PRV55209    275\n",
       "           ... \n",
       "PRV52608      1\n",
       "PRV56174      1\n",
       "PRV54411      1\n",
       "PRV52536      1\n",
       "PRV53289      1\n",
       "Name: Provider, Length: 2092, dtype: int64"
      ]
     },
     "execution_count": 93,
     "metadata": {},
     "output_type": "execute_result"
    }
   ],
   "source": [
    "# The providers had between 1 and 516 inpatient claims.\n",
    "inpatient_tr['Provider'].value_counts()"
   ]
  },
  {
   "cell_type": "markdown",
   "metadata": {},
   "source": [
    "Investigating outpatient claims data:<br>\n",
    "133,980 beneficiaries<br>\n",
    "517,737 claims<br>\n",
    "5012 providers<br>\n",
    "Maximum claims/beneficiary: 29<br>\n",
    "Maximum claims/provider: 8240"
   ]
  },
  {
   "cell_type": "code",
   "execution_count": 94,
   "metadata": {},
   "outputs": [
    {
     "data": {
      "text/plain": [
       "BENE42721     29\n",
       "BENE118316    29\n",
       "BENE63544     27\n",
       "BENE143400    27\n",
       "BENE59303     27\n",
       "              ..\n",
       "BENE132852     1\n",
       "BENE82862      1\n",
       "BENE145385     1\n",
       "BENE80922      1\n",
       "BENE58445      1\n",
       "Name: BeneID, Length: 133980, dtype: int64"
      ]
     },
     "execution_count": 94,
     "metadata": {},
     "output_type": "execute_result"
    }
   ],
   "source": [
    "# The beneficiaries had between 1 and 29 outpatient claims.\n",
    "outpatient_tr['BeneID'].value_counts()"
   ]
  },
  {
   "cell_type": "code",
   "execution_count": 95,
   "metadata": {},
   "outputs": [
    {
     "data": {
      "text/plain": [
       "PRV51459    8240\n",
       "PRV53797    4739\n",
       "PRV51574    4444\n",
       "PRV53918    3588\n",
       "PRV54895    3433\n",
       "            ... \n",
       "PRV54449       1\n",
       "PRV57755       1\n",
       "PRV52794       1\n",
       "PRV56910       1\n",
       "PRV52291       1\n",
       "Name: Provider, Length: 5012, dtype: int64"
      ]
     },
     "execution_count": 95,
     "metadata": {},
     "output_type": "execute_result"
    }
   ],
   "source": [
    "# The providers had between 1 and 8240 outpatient claims.\n",
    "outpatient_tr['Provider'].value_counts()"
   ]
  },
  {
   "cell_type": "markdown",
   "metadata": {},
   "source": [
    "Investigate medicare coverage:<br>\n",
    "Part A: 1000 no coverage, 137,389 full 12 month coverage<br>\n",
    "Part B: 675 no coverage, 136,902 full 12 month coverage"
   ]
  },
  {
   "cell_type": "code",
   "execution_count": 96,
   "metadata": {},
   "outputs": [
    {
     "data": {
      "text/plain": [
       "12    137389\n",
       "0       1000\n",
       "6         38\n",
       "11        28\n",
       "8         26\n",
       "10        18\n",
       "7         16\n",
       "4         13\n",
       "5          8\n",
       "9          7\n",
       "3          5\n",
       "2          5\n",
       "1          3\n",
       "Name: NoOfMonths_PartACov, dtype: int64"
      ]
     },
     "execution_count": 96,
     "metadata": {},
     "output_type": "execute_result"
    }
   ],
   "source": [
    "# Medicare Part A: 1000 no coverage, 137,389 full 12 month coverage\n",
    "bene_tr['NoOfMonths_PartACov'].value_counts()"
   ]
  },
  {
   "cell_type": "code",
   "execution_count": 97,
   "metadata": {},
   "outputs": [
    {
     "data": {
      "text/plain": [
       "12    136902\n",
       "0        675\n",
       "6        282\n",
       "10       150\n",
       "11       143\n",
       "9        122\n",
       "8         71\n",
       "7         63\n",
       "5         50\n",
       "4         35\n",
       "3         27\n",
       "2         19\n",
       "1         17\n",
       "Name: NoOfMonths_PartBCov, dtype: int64"
      ]
     },
     "execution_count": 97,
     "metadata": {},
     "output_type": "execute_result"
    }
   ],
   "source": [
    "# Medicare Part B: 675 no coverage, 136,902 full 12 month coverage\n",
    "bene_tr['NoOfMonths_PartBCov'].value_counts()"
   ]
  },
  {
   "cell_type": "markdown",
   "metadata": {},
   "source": [
    "Investigate medical reimbursement and deductible amounts <br>\n",
    "1. inpatient annual reimbursement: 15 negatives, changed to 0. Maximum 161,470. <br>\n",
    "2. inpatient annual deductible: max 38,372. <br>\n",
    "3. outpatient annual reimbursement: 12 negatives, changed to 0. Maximum 102,960. <br>\n",
    "4. outpatient annual deductible: max 13,840. "
   ]
  },
  {
   "cell_type": "code",
   "execution_count": 98,
   "metadata": {},
   "outputs": [
    {
     "data": {
      "text/plain": [
       "count    138556.000000\n",
       "mean       3660.346502\n",
       "std        9568.621827\n",
       "min       -8000.000000\n",
       "25%           0.000000\n",
       "50%           0.000000\n",
       "75%        2280.000000\n",
       "max      161470.000000\n",
       "Name: IPAnnualReimbursementAmt, dtype: float64"
      ]
     },
     "execution_count": 98,
     "metadata": {},
     "output_type": "execute_result"
    }
   ],
   "source": [
    "# Check inpatient annual reimbursement: minimum was -8,000, maximum 161,470.\n",
    "bene_tr['IPAnnualReimbursementAmt'].describe()"
   ]
  },
  {
   "cell_type": "code",
   "execution_count": 99,
   "metadata": {},
   "outputs": [
    {
     "data": {
      "text/plain": [
       "False    138541\n",
       "True         15\n",
       "Name: IPAnnualReimbursementAmt, dtype: int64"
      ]
     },
     "execution_count": 99,
     "metadata": {},
     "output_type": "execute_result"
    }
   ],
   "source": [
    "# Check inpatient annual reimbursement: 15 beneficiaries had negative amount\n",
    "(bene_tr['IPAnnualReimbursementAmt']<0).value_counts()"
   ]
  },
  {
   "cell_type": "code",
   "execution_count": 100,
   "metadata": {},
   "outputs": [
    {
     "data": {
      "text/plain": [
       "True     102511\n",
       "False     36045\n",
       "Name: IPAnnualReimbursementAmt, dtype: int64"
      ]
     },
     "execution_count": 100,
     "metadata": {},
     "output_type": "execute_result"
    }
   ],
   "source": [
    "# Check inpatient annual reimbursement: more than half (n=102,511) beneficiaries had zero claim. \n",
    "(bene_tr['IPAnnualReimbursementAmt']==0).value_counts()"
   ]
  },
  {
   "cell_type": "code",
   "execution_count": 101,
   "metadata": {},
   "outputs": [],
   "source": [
    "#Change the negative values to 0\n",
    "ipreimburse=bene_tr['IPAnnualReimbursementAmt']\n",
    "bene_tr['IPAnnualReimbursementAmt']=pd.Series([z if z>0 else 0 for z in ipreimburse])"
   ]
  },
  {
   "cell_type": "code",
   "execution_count": 102,
   "metadata": {},
   "outputs": [
    {
     "data": {
      "text/plain": [
       "count    138556.000000\n",
       "mean        399.847296\n",
       "std         956.175202\n",
       "min           0.000000\n",
       "25%           0.000000\n",
       "50%           0.000000\n",
       "75%        1068.000000\n",
       "max       38272.000000\n",
       "Name: IPAnnualDeductibleAmt, dtype: float64"
      ]
     },
     "execution_count": 102,
     "metadata": {},
     "output_type": "execute_result"
    }
   ],
   "source": [
    "# Check inpatient annual deductible: minimum was 0, maximum 38,272.\n",
    "bene_tr['IPAnnualDeductibleAmt'].describe()"
   ]
  },
  {
   "cell_type": "code",
   "execution_count": 103,
   "metadata": {},
   "outputs": [
    {
     "data": {
      "text/plain": [
       "True     102019\n",
       "False     36537\n",
       "Name: IPAnnualDeductibleAmt, dtype: int64"
      ]
     },
     "execution_count": 103,
     "metadata": {},
     "output_type": "execute_result"
    }
   ],
   "source": [
    "# Check inpatient annual deductible: more than half(n=102,019) had annual deductible zero. \n",
    "(bene_tr['IPAnnualDeductibleAmt']==0).value_counts()"
   ]
  },
  {
   "cell_type": "code",
   "execution_count": 104,
   "metadata": {},
   "outputs": [
    {
     "data": {
      "text/plain": [
       "count    138556.000000\n",
       "mean       1298.219348\n",
       "std        2493.901134\n",
       "min         -70.000000\n",
       "25%         170.000000\n",
       "50%         570.000000\n",
       "75%        1500.000000\n",
       "max      102960.000000\n",
       "Name: OPAnnualReimbursementAmt, dtype: float64"
      ]
     },
     "execution_count": 104,
     "metadata": {},
     "output_type": "execute_result"
    }
   ],
   "source": [
    "# Check outpatient annual reimbursement: minimum was -70, maximum 102,960.\n",
    "bene_tr['OPAnnualReimbursementAmt'].describe()"
   ]
  },
  {
   "cell_type": "code",
   "execution_count": 105,
   "metadata": {},
   "outputs": [
    {
     "data": {
      "text/plain": [
       "False    138544\n",
       "True         12\n",
       "Name: OPAnnualReimbursementAmt, dtype: int64"
      ]
     },
     "execution_count": 105,
     "metadata": {},
     "output_type": "execute_result"
    }
   ],
   "source": [
    "# Check outpatient annual reimbursement: 12 beneficiaries had negative amount\n",
    "(bene_tr['OPAnnualReimbursementAmt']<0).value_counts()"
   ]
  },
  {
   "cell_type": "code",
   "execution_count": 106,
   "metadata": {},
   "outputs": [
    {
     "data": {
      "text/plain": [
       "False    134351\n",
       "True       4205\n",
       "Name: OPAnnualReimbursementAmt, dtype: int64"
      ]
     },
     "execution_count": 106,
     "metadata": {},
     "output_type": "execute_result"
    }
   ],
   "source": [
    "# Check outpatient annual reimbursement: majority (n=134,351) beneficiaries had zero claim. \n",
    "(bene_tr['OPAnnualReimbursementAmt']==0).value_counts()"
   ]
  },
  {
   "cell_type": "code",
   "execution_count": 107,
   "metadata": {},
   "outputs": [],
   "source": [
    "#Change the negative values to 0\n",
    "opreimburse=bene_tr['OPAnnualReimbursementAmt']\n",
    "bene_tr['OPAnnualReimbursementAmt']=pd.Series([z if z>0 else 0 for z in opreimburse])"
   ]
  },
  {
   "cell_type": "code",
   "execution_count": 108,
   "metadata": {},
   "outputs": [
    {
     "data": {
      "text/plain": [
       "count    138556.000000\n",
       "mean        377.718258\n",
       "std         645.530187\n",
       "min           0.000000\n",
       "25%          40.000000\n",
       "50%         170.000000\n",
       "75%         460.000000\n",
       "max       13840.000000\n",
       "Name: OPAnnualDeductibleAmt, dtype: float64"
      ]
     },
     "execution_count": 108,
     "metadata": {},
     "output_type": "execute_result"
    }
   ],
   "source": [
    "# Check outpatient annual deductible: minimum was 0, maximum 13,840.\n",
    "bene_tr['OPAnnualDeductibleAmt'].describe()"
   ]
  },
  {
   "cell_type": "code",
   "execution_count": 109,
   "metadata": {},
   "outputs": [
    {
     "data": {
      "text/plain": [
       "False    124666\n",
       "True      13890\n",
       "Name: OPAnnualDeductibleAmt, dtype: int64"
      ]
     },
     "execution_count": 109,
     "metadata": {},
     "output_type": "execute_result"
    }
   ],
   "source": [
    "# Check inpatient annual deductible: majority(n=124,666) is zero.\n",
    "(bene_tr['OPAnnualDeductibleAmt']==0).value_counts()"
   ]
  },
  {
   "cell_type": "markdown",
   "metadata": {},
   "source": [
    "Investigate individual claim data\n"
   ]
  },
  {
   "cell_type": "code",
   "execution_count": 110,
   "metadata": {},
   "outputs": [
    {
     "data": {
      "text/plain": [
       "count     40474.000000\n",
       "mean      10087.884074\n",
       "std       10303.099402\n",
       "min           0.000000\n",
       "25%        4000.000000\n",
       "50%        7000.000000\n",
       "75%       12000.000000\n",
       "max      125000.000000\n",
       "Name: InscClaimAmtReimbursed, dtype: float64"
      ]
     },
     "execution_count": 110,
     "metadata": {},
     "output_type": "execute_result"
    }
   ],
   "source": [
    "# Check individual inpatient claim amount, median is \\$7000, IQR=(4000,12000), an outlier of \\$125,000. \n",
    "inpatient_tr['InscClaimAmtReimbursed'].describe()"
   ]
  },
  {
   "cell_type": "code",
   "execution_count": 111,
   "metadata": {},
   "outputs": [
    {
     "data": {
      "text/plain": [
       "count    517737.000000\n",
       "mean        286.334799\n",
       "std         694.034343\n",
       "min           0.000000\n",
       "25%          40.000000\n",
       "50%          80.000000\n",
       "75%         200.000000\n",
       "max      102500.000000\n",
       "Name: InscClaimAmtReimbursed, dtype: float64"
      ]
     },
     "execution_count": 111,
     "metadata": {},
     "output_type": "execute_result"
    }
   ],
   "source": [
    "# Check individual outpatient claim amount, median is \\$80, IQR=(40,200). An outlier of \\$102,500. \n",
    "outpatient_tr['InscClaimAmtReimbursed'].describe()"
   ]
  },
  {
   "cell_type": "markdown",
   "metadata": {},
   "source": [
    "<h3> 4. Targeted Exploratory Data Analysis\n",
    "<h4> 4a. Distribution of inpatient and outpatient claim amounts"
   ]
  },
  {
   "cell_type": "markdown",
   "metadata": {},
   "source": [
    "Findings: very skewed distribution, a significant amount of zeros, as well as the presence of extreme outliers. "
   ]
  },
  {
   "cell_type": "code",
   "execution_count": 112,
   "metadata": {},
   "outputs": [
    {
     "data": {
      "text/plain": [
       "Text(0.5, 1.0, 'Inpatient Reimbursement, None-zero only')"
      ]
     },
     "execution_count": 112,
     "metadata": {},
     "output_type": "execute_result"
    },
    {
     "data": {
      "image/png": "[encoded data removed]",
      "text/plain": [
       "<Figure size 1440x360 with 2 Axes>"
      ]
     },
     "metadata": {
      "needs_background": "light"
     },
     "output_type": "display_data"
    }
   ],
   "source": [
    "# Histogram of inpatient reimbursement, very skewed distribution with majority of zero. \n",
    "f,axs=plt.subplots(1,2,figsize=(20,5))\n",
    "plt.subplot(1,2,1)\n",
    "bene_tr['IPAnnualReimbursementAmt'].plot.hist(bins=50)\n",
    "plt.title(\"Inpatient Reimbursement, All\")\n",
    "# Histogram on only none-zero values of the inpatient reimbursement. Still very skewed due to the presence of \n",
    "# extreme large values. \n",
    "plt.subplot(1,2,2)\n",
    "bene_tr['IPAnnualReimbursementAmt'][bene_tr['IPAnnualReimbursementAmt']>0].plot.hist(bins=50)\n",
    "plt.title(\"Inpatient Reimbursement, None-zero only\")"
   ]
  },
  {
   "cell_type": "code",
   "execution_count": 113,
   "metadata": {},
   "outputs": [
    {
     "data": {
      "text/plain": [
       "Text(0.5, 1.0, 'Outpatient Reimbursement, <$13000 only')"
      ]
     },
     "execution_count": 113,
     "metadata": {},
     "output_type": "execute_result"
    },
    {
     "data": {
      "image/png": "[encoded data removed]",
      "text/plain": [
       "<Figure size 432x288 with 2 Axes>"
      ]
     },
     "metadata": {
      "needs_background": "light"
     },
     "output_type": "display_data"
    }
   ],
   "source": [
    "# Histogram of outpatient reimbursement, very skewed distribution with large outliers.\n",
    "plt.subplot(1,2,1)\n",
    "bene_tr['OPAnnualReimbursementAmt'].plot.hist(bins=50)\n",
    "# Histogram of outpatient reimbursement limited to <13000, still very skewed. \n",
    "plt.title(\"Outpatient Reimbursement, All\")\n",
    "plt.subplot(1,2,2)\n",
    "bene_tr['OPAnnualReimbursementAmt'][bene_tr['OPAnnualReimbursementAmt']<13000].plot.hist(bins=50)\n",
    "plt.title(\"Outpatient Reimbursement, <$13000 only\")"
   ]
  },
  {
   "cell_type": "markdown",
   "metadata": {},
   "source": [
    "<h4> 4b. Relationship between the reimbursement and gender"
   ]
  },
  {
   "cell_type": "markdown",
   "metadata": {},
   "source": [
    "Finding: No significant difference observed between men and women."
   ]
  },
  {
   "cell_type": "code",
   "execution_count": 114,
   "metadata": {},
   "outputs": [
    {
     "data": {
      "text/plain": [
       "Text(0.5, 1.0, 'Outpatient Reimbursement by Gender')"
      ]
     },
     "execution_count": 114,
     "metadata": {},
     "output_type": "execute_result"
    },
    {
     "data": {
      "image/png": "[encoded data removed]",
      "text/plain": [
       "<Figure size 1440x360 with 2 Axes>"
      ]
     },
     "metadata": {
      "needs_background": "light"
     },
     "output_type": "display_data"
    }
   ],
   "source": [
    "# Boxplot of inpatient reimbursement by gender. No significant differences observed between men and women. \n",
    "f,axs=plt.subplots(1,2,figsize=(20,5))\n",
    "plt.subplot(1,2,1)\n",
    "sns.boxplot(x=\"Gender\",y=\"IPAnnualReimbursementAmt\",data=bene_tr,showfliers=False)\n",
    "plt.title(\"Inpatient Reimbursement by Gender\")\n",
    "# Boxplot of outpatient reimbursement by gender. No significant differences observed between men and women. \n",
    "plt.subplot(1,2,2)\n",
    "sns.boxplot(x=\"Gender\",y=\"OPAnnualReimbursementAmt\",data=bene_tr,showfliers=False)\n",
    "plt.title(\"Outpatient Reimbursement by Gender\")"
   ]
  },
  {
   "cell_type": "markdown",
   "metadata": {},
   "source": [
    "<h4> 4c. Relationship between the reimbursement and race"
   ]
  },
  {
   "cell_type": "markdown",
   "metadata": {},
   "source": [
    "Findings: No significant difference observed across racial groups for outpatient claims. \n",
    "    Groups 3 and 5 have almost no inpatient claim. "
   ]
  },
  {
   "cell_type": "code",
   "execution_count": 115,
   "metadata": {},
   "outputs": [
    {
     "data": {
      "text/plain": [
       "Text(0.5, 1.0, 'Outpatient Reimbursement by Race')"
      ]
     },
     "execution_count": 115,
     "metadata": {},
     "output_type": "execute_result"
    },
    {
     "data": {
      "image/png": "[encoded data removed]",
      "text/plain": [
       "<Figure size 1440x360 with 2 Axes>"
      ]
     },
     "metadata": {
      "needs_background": "light"
     },
     "output_type": "display_data"
    }
   ],
   "source": [
    "# Boxplot of inpatient reimbursement by race. Only white and black had inpatient claims.\n",
    "f,axs=plt.subplots(1,2,figsize=(20,5))\n",
    "plt.subplot(1,2,1)\n",
    "sns.boxplot(x=\"Race\",y=\"IPAnnualReimbursementAmt\",data=bene_tr,showfliers=False)\n",
    "plt.title(\"Inpatient Reimbursement by Race\")\n",
    "# Boxplot of inpatient reimbursement by race. No significant differences observed between races. \n",
    "plt.subplot(1,2,2)\n",
    "sns.boxplot(x=\"Race\",y=\"OPAnnualReimbursementAmt\",data=bene_tr,showfliers=False)\n",
    "plt.title(\"Outpatient Reimbursement by Race\")"
   ]
  },
  {
   "cell_type": "markdown",
   "metadata": {},
   "source": [
    "<h4> 4d. Relationship between the reimbursement and co-morbidity\n",
    "   "
   ]
  },
  {
   "cell_type": "markdown",
   "metadata": {},
   "source": [
    "Finding: people with comobidity conditions incur almost all inpatient claims.\n",
    "They tend to have higher outpatient claim amounts. "
   ]
  },
  {
   "cell_type": "code",
   "execution_count": 116,
   "metadata": {},
   "outputs": [
    {
     "data": {
      "text/plain": [
       "Text(0.5, 1.0, 'Outpatient Reimbursement by Alzheimer')"
      ]
     },
     "execution_count": 116,
     "metadata": {},
     "output_type": "execute_result"
    },
    {
     "data": {
      "image/png": "[encoded data removed]",
      "text/plain": [
       "<Figure size 1440x360 with 2 Axes>"
      ]
     },
     "metadata": {
      "needs_background": "light"
     },
     "output_type": "display_data"
    }
   ],
   "source": [
    "# Boxplot of inpatient reimbursement by Alzheimer status. Alzheimer patients incur all inpatient claims. \n",
    "f,axs=plt.subplots(1,2,figsize=(20,5))\n",
    "plt.subplot(1,2,1)\n",
    "sns.boxplot(x=\"ChronicCond_Alzheimer\",y=\"IPAnnualReimbursementAmt\",data=bene_tr,showfliers=False)\n",
    "plt.title(\"Inpatient Reimbursement by Alzheimer\")\n",
    "# Boxplot of outpatient reimbursement by Alzheimer status. Alzheimer patients have higher outpatient claims. \n",
    "plt.subplot(1,2,2)\n",
    "sns.boxplot(x=\"ChronicCond_Alzheimer\",y=\"OPAnnualReimbursementAmt\",data=bene_tr,showfliers=False)\n",
    "plt.title(\"Outpatient Reimbursement by Alzheimer\")"
   ]
  },
  {
   "cell_type": "code",
   "execution_count": 117,
   "metadata": {},
   "outputs": [
    {
     "data": {
      "text/plain": [
       "Text(0.5, 1.0, 'Outpatient Reimbursement by Heart Failure')"
      ]
     },
     "execution_count": 117,
     "metadata": {},
     "output_type": "execute_result"
    },
    {
     "data": {
      "image/png": "[encoded data removed]",
      "text/plain": [
       "<Figure size 1440x360 with 2 Axes>"
      ]
     },
     "metadata": {
      "needs_background": "light"
     },
     "output_type": "display_data"
    }
   ],
   "source": [
    "# Boxplot of inpatient reimbursement by Heart Failure status. Heart failure patients incur all inpatient claims. \n",
    "f,axs=plt.subplots(1,2,figsize=(20,5))\n",
    "plt.subplot(1,2,1)\n",
    "sns.boxplot(x=\"ChronicCond_Heartfailure\",y=\"IPAnnualReimbursementAmt\",data=bene_tr,showfliers=False)\n",
    "plt.title(\"Inpatient Reimbursement by Heart Failure\")\n",
    "# Boxplot of outpatient reimbursement by Heart Failure status. Heart Failure patients have higher outpatient claims.\n",
    "plt.subplot(1,2,2)\n",
    "sns.boxplot(x=\"ChronicCond_Heartfailure\",y=\"OPAnnualReimbursementAmt\",data=bene_tr,showfliers=False)\n",
    "plt.title(\"Outpatient Reimbursement by Heart Failure\")"
   ]
  },
  {
   "cell_type": "code",
   "execution_count": 118,
   "metadata": {},
   "outputs": [
    {
     "data": {
      "text/plain": [
       "Text(0.5, 1.0, 'Outpatient Reimbursement by Kidney Disease')"
      ]
     },
     "execution_count": 118,
     "metadata": {},
     "output_type": "execute_result"
    },
    {
     "data": {
      "image/png": "[encoded data removed]",
      "text/plain": [
       "<Figure size 1440x360 with 2 Axes>"
      ]
     },
     "metadata": {
      "needs_background": "light"
     },
     "output_type": "display_data"
    }
   ],
   "source": [
    "# Boxplot of inpatient reimbursement by Kidney disease status. Kidney Diseasse patients incur all inpatient claims. \n",
    "# Boxplot of outpatient reimbursement by Kidney Disease status. Heart Failure patients have higher outpatient claims.\n",
    "f,axs=plt.subplots(1,2,figsize=(20,5))\n",
    "plt.subplot(1,2,1)\n",
    "sns.boxplot(x=\"ChronicCond_KidneyDisease\",y=\"IPAnnualReimbursementAmt\",data=bene_tr,showfliers=False)\n",
    "plt.title(\"Inpatient Reimbursement by Kidney Disease\")\n",
    "plt.subplot(1,2,2)\n",
    "sns.boxplot(x=\"ChronicCond_KidneyDisease\",y=\"OPAnnualReimbursementAmt\",data=bene_tr,showfliers=False)\n",
    "plt.title(\"Outpatient Reimbursement by Kidney Disease\")"
   ]
  },
  {
   "cell_type": "code",
   "execution_count": 119,
   "metadata": {},
   "outputs": [
    {
     "data": {
      "text/plain": [
       "Text(0.5, 1.0, 'Outpatient Reimbursement by Cancer')"
      ]
     },
     "execution_count": 119,
     "metadata": {},
     "output_type": "execute_result"
    },
    {
     "data": {
      "image/png": "[encoded data removed]",
      "text/plain": [
       "<Figure size 1440x360 with 2 Axes>"
      ]
     },
     "metadata": {
      "needs_background": "light"
     },
     "output_type": "display_data"
    }
   ],
   "source": [
    "# Boxplot of inpatient reimbursement by Cancer status. Cancer patients incur all inpatient claims. \n",
    "# Boxplot of outpatient reimbursement by Cancer status. Cancer patients have higher outpatient claims.\n",
    "f,axs=plt.subplots(1,2,figsize=(20,5))\n",
    "plt.subplot(1,2,1)\n",
    "sns.boxplot(x=\"ChronicCond_Cancer\",y=\"IPAnnualReimbursementAmt\",data=bene_tr,showfliers=False)\n",
    "plt.title(\"Inpatient Reimbursement by Cancer\")\n",
    "plt.subplot(1,2,2)\n",
    "sns.boxplot(x=\"ChronicCond_Cancer\",y=\"OPAnnualReimbursementAmt\",data=bene_tr,showfliers=False)\n",
    "plt.title(\"Outpatient Reimbursement by Cancer\")"
   ]
  },
  {
   "cell_type": "code",
   "execution_count": 120,
   "metadata": {},
   "outputs": [
    {
     "data": {
      "text/plain": [
       "Text(0.5, 1.0, 'Outpatient Reimbursement by ObstrPulmonary')"
      ]
     },
     "execution_count": 120,
     "metadata": {},
     "output_type": "execute_result"
    },
    {
     "data": {
      "image/png": "[encoded data removed]",
      "text/plain": [
       "<Figure size 1440x360 with 2 Axes>"
      ]
     },
     "metadata": {
      "needs_background": "light"
     },
     "output_type": "display_data"
    }
   ],
   "source": [
    "# Boxplot of inpatient reimbursement by Obstructive Pulmonary Disease status. Obstructive Pulmonary Disease patients incur all inpatient claims. \n",
    "# Boxplot of outpatient reimbursement by Obstructive Pulmonary Disease status. Obstructive Pulmonary Disease patients have higher outpatient claims.\n",
    "f,axs=plt.subplots(1,2,figsize=(20,5))\n",
    "plt.subplot(1,2,1)\n",
    "sns.boxplot(x=\"ChronicCond_ObstrPulmonary\",y=\"IPAnnualReimbursementAmt\",data=bene_tr,showfliers=False)\n",
    "plt.title(\"Inpatient Reimbursement by ObstrPulmonary\")\n",
    "plt.subplot(1,2,2)\n",
    "sns.boxplot(x=\"ChronicCond_ObstrPulmonary\",y=\"OPAnnualReimbursementAmt\",data=bene_tr,showfliers=False)\n",
    "plt.title(\"Outpatient Reimbursement by ObstrPulmonary\")"
   ]
  },
  {
   "cell_type": "code",
   "execution_count": 121,
   "metadata": {},
   "outputs": [
    {
     "data": {
      "text/plain": [
       "Text(0.5, 1.0, 'Outpatient Reimbursement by Depression')"
      ]
     },
     "execution_count": 121,
     "metadata": {},
     "output_type": "execute_result"
    },
    {
     "data": {
      "image/png": "[encoded data removed]",
      "text/plain": [
       "<Figure size 1440x360 with 2 Axes>"
      ]
     },
     "metadata": {
      "needs_background": "light"
     },
     "output_type": "display_data"
    }
   ],
   "source": [
    "# Boxplot of inpatient reimbursement by Depression status. Depression patients incur all inpatient claims. \n",
    "# Boxplot of outpatient reimbursement by Depression status. Depression patients have higher outpatient claims.\n",
    "f,axs=plt.subplots(1,2,figsize=(20,5))\n",
    "plt.subplot(1,2,1)\n",
    "sns.boxplot(x=\"ChronicCond_Depression\",y=\"IPAnnualReimbursementAmt\",data=bene_tr,showfliers=False)\n",
    "plt.title(\"Inpatient Reimbursement by Depression\")\n",
    "plt.subplot(1,2,2)\n",
    "sns.boxplot(x=\"ChronicCond_Depression\",y=\"OPAnnualReimbursementAmt\",data=bene_tr,showfliers=False)\n",
    "plt.title(\"Outpatient Reimbursement by Depression\")"
   ]
  },
  {
   "cell_type": "code",
   "execution_count": 122,
   "metadata": {},
   "outputs": [
    {
     "data": {
      "text/plain": [
       "Text(0.5, 1.0, 'Outpatient Reimbursement by Diabetes')"
      ]
     },
     "execution_count": 122,
     "metadata": {},
     "output_type": "execute_result"
    },
    {
     "data": {
      "image/png": "[encoded data removed]",
      "text/plain": [
       "<Figure size 1440x360 with 2 Axes>"
      ]
     },
     "metadata": {
      "needs_background": "light"
     },
     "output_type": "display_data"
    }
   ],
   "source": [
    "# Boxplot of inpatient reimbursement by Diabetes status. Diabetes patients incur all inpatient claims. \n",
    "# Boxplot of outpatient reimbursement by Diabetes status. Diabetes patients have higher outpatient claims.\n",
    "f,axs=plt.subplots(1,2,figsize=(20,5))\n",
    "plt.subplot(1,2,1)\n",
    "sns.boxplot(x=\"ChronicCond_Diabetes\",y=\"IPAnnualReimbursementAmt\",data=bene_tr,showfliers=False)\n",
    "plt.title(\"Inpatient Reimbursement by Diabetes\")\n",
    "plt.subplot(1,2,2)\n",
    "sns.boxplot(x=\"ChronicCond_Diabetes\",y=\"OPAnnualReimbursementAmt\",data=bene_tr,showfliers=False)\n",
    "plt.title(\"Outpatient Reimbursement by Diabetes\")"
   ]
  },
  {
   "cell_type": "code",
   "execution_count": 123,
   "metadata": {},
   "outputs": [
    {
     "data": {
      "text/plain": [
       "Text(0.5, 1.0, 'Outpatient Reimbursement by IschemicHeart')"
      ]
     },
     "execution_count": 123,
     "metadata": {},
     "output_type": "execute_result"
    },
    {
     "data": {
      "image/png": "[encoded data removed]",
      "text/plain": [
       "<Figure size 1440x360 with 2 Axes>"
      ]
     },
     "metadata": {
      "needs_background": "light"
     },
     "output_type": "display_data"
    }
   ],
   "source": [
    "# Boxplot of inpatient reimbursement by Ischemic Heart disease status. Ischemic eart disease patients incur all inpatient claims. \n",
    "# Boxplot of outpatient reimbursement by Ischemic Heart disease status. Ischemic Heart disease patients have higher outpatient claims.\n",
    "f,axs=plt.subplots(1,2,figsize=(20,5))\n",
    "plt.subplot(1,2,1)\n",
    "sns.boxplot(x=\"ChronicCond_IschemicHeart\",y=\"IPAnnualReimbursementAmt\",data=bene_tr,showfliers=False)\n",
    "plt.title(\"Inpatient Reimbursement by IschemicHeart\")\n",
    "plt.subplot(1,2,2)\n",
    "sns.boxplot(x=\"ChronicCond_IschemicHeart\",y=\"OPAnnualReimbursementAmt\",data=bene_tr,showfliers=False)\n",
    "plt.title(\"Outpatient Reimbursement by IschemicHeart\")"
   ]
  },
  {
   "cell_type": "code",
   "execution_count": 124,
   "metadata": {},
   "outputs": [
    {
     "data": {
      "text/plain": [
       "Text(0.5, 1.0, 'Outpatient Reimbursement by Osteoporasis')"
      ]
     },
     "execution_count": 124,
     "metadata": {},
     "output_type": "execute_result"
    },
    {
     "data": {
      "image/png": "[encoded data removed]",
      "text/plain": [
       "<Figure size 1440x360 with 2 Axes>"
      ]
     },
     "metadata": {
      "needs_background": "light"
     },
     "output_type": "display_data"
    }
   ],
   "source": [
    "# Boxplot of inpatient reimbursement by Osteoporasis status. Osteoporasis patients incur all inpatient claims. \n",
    "# Boxplot of outpatient reimbursement by Osteoporasis status. Osteoporasis patients have higher outpatient claims.\n",
    "f,axs=plt.subplots(1,2,figsize=(20,5))\n",
    "plt.subplot(1,2,1)\n",
    "sns.boxplot(x=\"ChronicCond_Osteoporasis\",y=\"IPAnnualReimbursementAmt\",data=bene_tr,showfliers=False)\n",
    "plt.title(\"Inpatient Reimbursement by Osteoporasis\")\n",
    "plt.subplot(1,2,2)\n",
    "sns.boxplot(x=\"ChronicCond_Osteoporasis\",y=\"OPAnnualReimbursementAmt\",data=bene_tr,showfliers=False)\n",
    "plt.title(\"Outpatient Reimbursement by Osteoporasis\")"
   ]
  },
  {
   "cell_type": "code",
   "execution_count": 125,
   "metadata": {},
   "outputs": [
    {
     "data": {
      "text/plain": [
       "Text(0.5, 1.0, 'Outpatient Reimbursement by Rheumatoidarthritis')"
      ]
     },
     "execution_count": 125,
     "metadata": {},
     "output_type": "execute_result"
    },
    {
     "data": {
      "image/png": "[encoded data removed]",
      "text/plain": [
       "<Figure size 1440x360 with 2 Axes>"
      ]
     },
     "metadata": {
      "needs_background": "light"
     },
     "output_type": "display_data"
    }
   ],
   "source": [
    "# Boxplot of inpatient reimbursement by Rheumatoid Arthritis status. Rheumatoid Arthritis patients incur all inpatient claims. \n",
    "# Boxplot of outpatient reimbursement by Rheumatoid Arthritis status. Rheumatoid Arthritis patients have higher outpatient claims.\n",
    "f,axs=plt.subplots(1,2,figsize=(20,5))\n",
    "plt.subplot(1,2,1)\n",
    "sns.boxplot(x=\"ChronicCond_rheumatoidarthritis\",y=\"IPAnnualReimbursementAmt\",data=bene_tr,showfliers=False)\n",
    "plt.title(\"Inpatient Reimbursement by Rheumatoidarthritis\")\n",
    "plt.subplot(1,2,2)\n",
    "sns.boxplot(x=\"ChronicCond_rheumatoidarthritis\",y=\"OPAnnualReimbursementAmt\",data=bene_tr,showfliers=False)\n",
    "plt.title(\"Outpatient Reimbursement by Rheumatoidarthritis\")"
   ]
  },
  {
   "cell_type": "code",
   "execution_count": 126,
   "metadata": {},
   "outputs": [
    {
     "data": {
      "text/plain": [
       "Text(0.5, 1.0, 'Outpatient Reimbursement by Stroke')"
      ]
     },
     "execution_count": 126,
     "metadata": {},
     "output_type": "execute_result"
    },
    {
     "data": {
      "image/png": "[encoded data removed]",
      "text/plain": [
       "<Figure size 1440x360 with 2 Axes>"
      ]
     },
     "metadata": {
      "needs_background": "light"
     },
     "output_type": "display_data"
    }
   ],
   "source": [
    "# Boxplot of inpatient reimbursement by Stroke status. Stroke patients incur all inpatient claims. \n",
    "# Boxplot of outpatient reimbursement by Stroke status. Stroke patients have higher outpatient claims.\n",
    "f,axs=plt.subplots(1,2,figsize=(20,5))\n",
    "plt.subplot(1,2,1)\n",
    "sns.boxplot(x=\"ChronicCond_stroke\",y=\"IPAnnualReimbursementAmt\",data=bene_tr,showfliers=False)\n",
    "plt.title(\"Inpatient Reimbursement by Stroke\")\n",
    "plt.subplot(1,2,2)\n",
    "sns.boxplot(x=\"ChronicCond_stroke\",y=\"OPAnnualReimbursementAmt\",data=bene_tr,showfliers=False)\n",
    "plt.title(\"Outpatient Reimbursement by Stroke\")"
   ]
  },
  {
   "cell_type": "markdown",
   "metadata": {},
   "source": [
    "<h4>4e. Merge datasets to create a Provider dataset\n",
    "    \n"
   ]
  },
  {
   "cell_type": "markdown",
   "metadata": {},
   "source": [
    "1. To calculate the number of claims and the amount of reimbursements each provider has from either inpatient or outpatient claim datasets <br>\n",
    "2. Merge the above to the provider datasets with the indicator for fraud. <br>\n",
    "3. Graph the number of claims and the amount of reimbursements by fraud status. "
   ]
  },
  {
   "cell_type": "code",
   "execution_count": 127,
   "metadata": {},
   "outputs": [
    {
     "data": {
      "text/html": [
       "<div>\n",
       "<style scoped>\n",
       "    .dataframe tbody tr th:only-of-type {\n",
       "        vertical-align: middle;\n",
       "    }\n",
       "\n",
       "    .dataframe tbody tr th {\n",
       "        vertical-align: top;\n",
       "    }\n",
       "\n",
       "    .dataframe thead th {\n",
       "        text-align: right;\n",
       "    }\n",
       "</style>\n",
       "<table border=\"1\" class=\"dataframe\">\n",
       "  <thead>\n",
       "    <tr style=\"text-align: right;\">\n",
       "      <th></th>\n",
       "      <th>Provider</th>\n",
       "      <th>Inpatient_Claim_Number</th>\n",
       "    </tr>\n",
       "  </thead>\n",
       "  <tbody>\n",
       "    <tr>\n",
       "      <th>0</th>\n",
       "      <td>PRV52019</td>\n",
       "      <td>516</td>\n",
       "    </tr>\n",
       "    <tr>\n",
       "      <th>1</th>\n",
       "      <td>PRV55462</td>\n",
       "      <td>386</td>\n",
       "    </tr>\n",
       "    <tr>\n",
       "      <th>2</th>\n",
       "      <td>PRV54367</td>\n",
       "      <td>322</td>\n",
       "    </tr>\n",
       "    <tr>\n",
       "      <th>3</th>\n",
       "      <td>PRV53706</td>\n",
       "      <td>282</td>\n",
       "    </tr>\n",
       "    <tr>\n",
       "      <th>4</th>\n",
       "      <td>PRV55209</td>\n",
       "      <td>275</td>\n",
       "    </tr>\n",
       "    <tr>\n",
       "      <th>...</th>\n",
       "      <td>...</td>\n",
       "      <td>...</td>\n",
       "    </tr>\n",
       "    <tr>\n",
       "      <th>2087</th>\n",
       "      <td>PRV52608</td>\n",
       "      <td>1</td>\n",
       "    </tr>\n",
       "    <tr>\n",
       "      <th>2088</th>\n",
       "      <td>PRV56174</td>\n",
       "      <td>1</td>\n",
       "    </tr>\n",
       "    <tr>\n",
       "      <th>2089</th>\n",
       "      <td>PRV54411</td>\n",
       "      <td>1</td>\n",
       "    </tr>\n",
       "    <tr>\n",
       "      <th>2090</th>\n",
       "      <td>PRV52536</td>\n",
       "      <td>1</td>\n",
       "    </tr>\n",
       "    <tr>\n",
       "      <th>2091</th>\n",
       "      <td>PRV53289</td>\n",
       "      <td>1</td>\n",
       "    </tr>\n",
       "  </tbody>\n",
       "</table>\n",
       "<p>2092 rows × 2 columns</p>\n",
       "</div>"
      ],
      "text/plain": [
       "      Provider Inpatient_Claim_Number\n",
       "0     PRV52019                    516\n",
       "1     PRV55462                    386\n",
       "2     PRV54367                    322\n",
       "3     PRV53706                    282\n",
       "4     PRV55209                    275\n",
       "...        ...                    ...\n",
       "2087  PRV52608                      1\n",
       "2088  PRV56174                      1\n",
       "2089  PRV54411                      1\n",
       "2090  PRV52536                      1\n",
       "2091  PRV53289                      1\n",
       "\n",
       "[2092 rows x 2 columns]"
      ]
     },
     "execution_count": 127,
     "metadata": {},
     "output_type": "execute_result"
    }
   ],
   "source": [
    "# Calculate the number of inpatient claims each provider submitted and create a panda dataframe with provider ID\n",
    "# and the number of inpatient claims\n",
    "In_Provider=pd.DataFrame([inpatient_tr['Provider'].value_counts().index,inpatient_tr['Provider'].value_counts()]).transpose().rename({0:'Provider',1:'Inpatient_Claim_Number'},axis=1)\n",
    "In_Provider"
   ]
  },
  {
   "cell_type": "code",
   "execution_count": 128,
   "metadata": {},
   "outputs": [
    {
     "data": {
      "text/html": [
       "<div>\n",
       "<style scoped>\n",
       "    .dataframe tbody tr th:only-of-type {\n",
       "        vertical-align: middle;\n",
       "    }\n",
       "\n",
       "    .dataframe tbody tr th {\n",
       "        vertical-align: top;\n",
       "    }\n",
       "\n",
       "    .dataframe thead th {\n",
       "        text-align: right;\n",
       "    }\n",
       "</style>\n",
       "<table border=\"1\" class=\"dataframe\">\n",
       "  <thead>\n",
       "    <tr style=\"text-align: right;\">\n",
       "      <th></th>\n",
       "      <th>Provider</th>\n",
       "      <th>Outpatient_Claim_Number</th>\n",
       "    </tr>\n",
       "  </thead>\n",
       "  <tbody>\n",
       "    <tr>\n",
       "      <th>0</th>\n",
       "      <td>PRV51459</td>\n",
       "      <td>8240</td>\n",
       "    </tr>\n",
       "    <tr>\n",
       "      <th>1</th>\n",
       "      <td>PRV53797</td>\n",
       "      <td>4739</td>\n",
       "    </tr>\n",
       "    <tr>\n",
       "      <th>2</th>\n",
       "      <td>PRV51574</td>\n",
       "      <td>4444</td>\n",
       "    </tr>\n",
       "    <tr>\n",
       "      <th>3</th>\n",
       "      <td>PRV53918</td>\n",
       "      <td>3588</td>\n",
       "    </tr>\n",
       "    <tr>\n",
       "      <th>4</th>\n",
       "      <td>PRV54895</td>\n",
       "      <td>3433</td>\n",
       "    </tr>\n",
       "    <tr>\n",
       "      <th>...</th>\n",
       "      <td>...</td>\n",
       "      <td>...</td>\n",
       "    </tr>\n",
       "    <tr>\n",
       "      <th>5007</th>\n",
       "      <td>PRV54449</td>\n",
       "      <td>1</td>\n",
       "    </tr>\n",
       "    <tr>\n",
       "      <th>5008</th>\n",
       "      <td>PRV57755</td>\n",
       "      <td>1</td>\n",
       "    </tr>\n",
       "    <tr>\n",
       "      <th>5009</th>\n",
       "      <td>PRV52794</td>\n",
       "      <td>1</td>\n",
       "    </tr>\n",
       "    <tr>\n",
       "      <th>5010</th>\n",
       "      <td>PRV56910</td>\n",
       "      <td>1</td>\n",
       "    </tr>\n",
       "    <tr>\n",
       "      <th>5011</th>\n",
       "      <td>PRV52291</td>\n",
       "      <td>1</td>\n",
       "    </tr>\n",
       "  </tbody>\n",
       "</table>\n",
       "<p>5012 rows × 2 columns</p>\n",
       "</div>"
      ],
      "text/plain": [
       "      Provider Outpatient_Claim_Number\n",
       "0     PRV51459                    8240\n",
       "1     PRV53797                    4739\n",
       "2     PRV51574                    4444\n",
       "3     PRV53918                    3588\n",
       "4     PRV54895                    3433\n",
       "...        ...                     ...\n",
       "5007  PRV54449                       1\n",
       "5008  PRV57755                       1\n",
       "5009  PRV52794                       1\n",
       "5010  PRV56910                       1\n",
       "5011  PRV52291                       1\n",
       "\n",
       "[5012 rows x 2 columns]"
      ]
     },
     "execution_count": 128,
     "metadata": {},
     "output_type": "execute_result"
    }
   ],
   "source": [
    "# Calculate the number of outpatient claims each provider submitted and create a panda dataframe with provider ID\n",
    "# and the number of outpatient claims\n",
    "Out_Provider=pd.DataFrame([outpatient_tr['Provider'].value_counts().index,outpatient_tr['Provider'].value_counts()]).transpose().rename({0:'Provider',1:'Outpatient_Claim_Number'},axis=1)\n",
    "Out_Provider"
   ]
  },
  {
   "cell_type": "code",
   "execution_count": 129,
   "metadata": {},
   "outputs": [],
   "source": [
    "# merge the inpatient and outpatient claims per provider dataframes\n",
    "provider_claimnumber=pd.merge(In_Provider,Out_Provider,on='Provider',how='outer')"
   ]
  },
  {
   "cell_type": "code",
   "execution_count": 130,
   "metadata": {},
   "outputs": [
    {
     "data": {
      "text/html": [
       "<div>\n",
       "<style scoped>\n",
       "    .dataframe tbody tr th:only-of-type {\n",
       "        vertical-align: middle;\n",
       "    }\n",
       "\n",
       "    .dataframe tbody tr th {\n",
       "        vertical-align: top;\n",
       "    }\n",
       "\n",
       "    .dataframe thead th {\n",
       "        text-align: right;\n",
       "    }\n",
       "</style>\n",
       "<table border=\"1\" class=\"dataframe\">\n",
       "  <thead>\n",
       "    <tr style=\"text-align: right;\">\n",
       "      <th></th>\n",
       "      <th>Provider</th>\n",
       "      <th>Inpatient_Claim_Amount</th>\n",
       "    </tr>\n",
       "  </thead>\n",
       "  <tbody>\n",
       "    <tr>\n",
       "      <th>0</th>\n",
       "      <td>PRV51001</td>\n",
       "      <td>97000</td>\n",
       "    </tr>\n",
       "    <tr>\n",
       "      <th>1</th>\n",
       "      <td>PRV51003</td>\n",
       "      <td>573000</td>\n",
       "    </tr>\n",
       "    <tr>\n",
       "      <th>2</th>\n",
       "      <td>PRV51007</td>\n",
       "      <td>19000</td>\n",
       "    </tr>\n",
       "    <tr>\n",
       "      <th>3</th>\n",
       "      <td>PRV51008</td>\n",
       "      <td>25000</td>\n",
       "    </tr>\n",
       "    <tr>\n",
       "      <th>4</th>\n",
       "      <td>PRV51011</td>\n",
       "      <td>5000</td>\n",
       "    </tr>\n",
       "    <tr>\n",
       "      <th>...</th>\n",
       "      <td>...</td>\n",
       "      <td>...</td>\n",
       "    </tr>\n",
       "    <tr>\n",
       "      <th>2087</th>\n",
       "      <td>PRV57719</td>\n",
       "      <td>76000</td>\n",
       "    </tr>\n",
       "    <tr>\n",
       "      <th>2088</th>\n",
       "      <td>PRV57728</td>\n",
       "      <td>6000</td>\n",
       "    </tr>\n",
       "    <tr>\n",
       "      <th>2089</th>\n",
       "      <td>PRV57729</td>\n",
       "      <td>107000</td>\n",
       "    </tr>\n",
       "    <tr>\n",
       "      <th>2090</th>\n",
       "      <td>PRV57732</td>\n",
       "      <td>76000</td>\n",
       "    </tr>\n",
       "    <tr>\n",
       "      <th>2091</th>\n",
       "      <td>PRV57757</td>\n",
       "      <td>109000</td>\n",
       "    </tr>\n",
       "  </tbody>\n",
       "</table>\n",
       "<p>2092 rows × 2 columns</p>\n",
       "</div>"
      ],
      "text/plain": [
       "      Provider Inpatient_Claim_Amount\n",
       "0     PRV51001                  97000\n",
       "1     PRV51003                 573000\n",
       "2     PRV51007                  19000\n",
       "3     PRV51008                  25000\n",
       "4     PRV51011                   5000\n",
       "...        ...                    ...\n",
       "2087  PRV57719                  76000\n",
       "2088  PRV57728                   6000\n",
       "2089  PRV57729                 107000\n",
       "2090  PRV57732                  76000\n",
       "2091  PRV57757                 109000\n",
       "\n",
       "[2092 rows x 2 columns]"
      ]
     },
     "execution_count": 130,
     "metadata": {},
     "output_type": "execute_result"
    }
   ],
   "source": [
    "# Calculate total amount of inpatient claims each provider submitted and create a panda dataframe with provider ID\n",
    "# and total amount of inpatient claims\n",
    "inreimburse_by_provider=inpatient_tr.groupby('Provider')['InscClaimAmtReimbursed'].sum()\n",
    "inreimburse_temp1=pd.DataFrame([inreimburse_by_provider.index,inreimburse_by_provider])\n",
    "inreimburse_temp2=inreimburse_temp1.transpose()\n",
    "In_Provider_Claim=inreimburse_temp2.rename({0:'Provider',1:'Inpatient_Claim_Amount'},axis=1)\n",
    "In_Provider_Claim"
   ]
  },
  {
   "cell_type": "code",
   "execution_count": 131,
   "metadata": {},
   "outputs": [
    {
     "data": {
      "text/html": [
       "<div>\n",
       "<style scoped>\n",
       "    .dataframe tbody tr th:only-of-type {\n",
       "        vertical-align: middle;\n",
       "    }\n",
       "\n",
       "    .dataframe tbody tr th {\n",
       "        vertical-align: top;\n",
       "    }\n",
       "\n",
       "    .dataframe thead th {\n",
       "        text-align: right;\n",
       "    }\n",
       "</style>\n",
       "<table border=\"1\" class=\"dataframe\">\n",
       "  <thead>\n",
       "    <tr style=\"text-align: right;\">\n",
       "      <th></th>\n",
       "      <th>Provider</th>\n",
       "      <th>Outpatient_Claim_Amount</th>\n",
       "    </tr>\n",
       "  </thead>\n",
       "  <tbody>\n",
       "    <tr>\n",
       "      <th>0</th>\n",
       "      <td>PRV51001</td>\n",
       "      <td>7640</td>\n",
       "    </tr>\n",
       "    <tr>\n",
       "      <th>1</th>\n",
       "      <td>PRV51003</td>\n",
       "      <td>32670</td>\n",
       "    </tr>\n",
       "    <tr>\n",
       "      <th>2</th>\n",
       "      <td>PRV51004</td>\n",
       "      <td>52170</td>\n",
       "    </tr>\n",
       "    <tr>\n",
       "      <th>3</th>\n",
       "      <td>PRV51005</td>\n",
       "      <td>280910</td>\n",
       "    </tr>\n",
       "    <tr>\n",
       "      <th>4</th>\n",
       "      <td>PRV51007</td>\n",
       "      <td>14710</td>\n",
       "    </tr>\n",
       "    <tr>\n",
       "      <th>...</th>\n",
       "      <td>...</td>\n",
       "      <td>...</td>\n",
       "    </tr>\n",
       "    <tr>\n",
       "      <th>5007</th>\n",
       "      <td>PRV57759</td>\n",
       "      <td>10640</td>\n",
       "    </tr>\n",
       "    <tr>\n",
       "      <th>5008</th>\n",
       "      <td>PRV57760</td>\n",
       "      <td>4770</td>\n",
       "    </tr>\n",
       "    <tr>\n",
       "      <th>5009</th>\n",
       "      <td>PRV57761</td>\n",
       "      <td>18470</td>\n",
       "    </tr>\n",
       "    <tr>\n",
       "      <th>5010</th>\n",
       "      <td>PRV57762</td>\n",
       "      <td>1900</td>\n",
       "    </tr>\n",
       "    <tr>\n",
       "      <th>5011</th>\n",
       "      <td>PRV57763</td>\n",
       "      <td>43610</td>\n",
       "    </tr>\n",
       "  </tbody>\n",
       "</table>\n",
       "<p>5012 rows × 2 columns</p>\n",
       "</div>"
      ],
      "text/plain": [
       "      Provider Outpatient_Claim_Amount\n",
       "0     PRV51001                    7640\n",
       "1     PRV51003                   32670\n",
       "2     PRV51004                   52170\n",
       "3     PRV51005                  280910\n",
       "4     PRV51007                   14710\n",
       "...        ...                     ...\n",
       "5007  PRV57759                   10640\n",
       "5008  PRV57760                    4770\n",
       "5009  PRV57761                   18470\n",
       "5010  PRV57762                    1900\n",
       "5011  PRV57763                   43610\n",
       "\n",
       "[5012 rows x 2 columns]"
      ]
     },
     "execution_count": 131,
     "metadata": {},
     "output_type": "execute_result"
    }
   ],
   "source": [
    "# Calculate total amount of outpatient claims each provider submitted and create a panda dataframe with provider ID\n",
    "# and total amount of outpatient claims\n",
    "outreimburse_by_provider=outpatient_tr.groupby('Provider')['InscClaimAmtReimbursed'].sum()\n",
    "outreimburse_temp1=pd.DataFrame([outreimburse_by_provider.index,outreimburse_by_provider])\n",
    "outreimburse_temp2=outreimburse_temp1.transpose()\n",
    "Out_Provider_Claim=outreimburse_temp2.rename({0:'Provider',1:'Outpatient_Claim_Amount'},axis=1)\n",
    "Out_Provider_Claim"
   ]
  },
  {
   "cell_type": "code",
   "execution_count": 132,
   "metadata": {},
   "outputs": [
    {
     "data": {
      "text/html": [
       "<div>\n",
       "<style scoped>\n",
       "    .dataframe tbody tr th:only-of-type {\n",
       "        vertical-align: middle;\n",
       "    }\n",
       "\n",
       "    .dataframe tbody tr th {\n",
       "        vertical-align: top;\n",
       "    }\n",
       "\n",
       "    .dataframe thead th {\n",
       "        text-align: right;\n",
       "    }\n",
       "</style>\n",
       "<table border=\"1\" class=\"dataframe\">\n",
       "  <thead>\n",
       "    <tr style=\"text-align: right;\">\n",
       "      <th></th>\n",
       "      <th>Provider</th>\n",
       "      <th>Inpatient_Claim_Amount</th>\n",
       "      <th>Outpatient_Claim_Amount</th>\n",
       "    </tr>\n",
       "  </thead>\n",
       "  <tbody>\n",
       "    <tr>\n",
       "      <th>0</th>\n",
       "      <td>PRV51001</td>\n",
       "      <td>97000</td>\n",
       "      <td>7640</td>\n",
       "    </tr>\n",
       "    <tr>\n",
       "      <th>1</th>\n",
       "      <td>PRV51003</td>\n",
       "      <td>573000</td>\n",
       "      <td>32670</td>\n",
       "    </tr>\n",
       "    <tr>\n",
       "      <th>2</th>\n",
       "      <td>PRV51007</td>\n",
       "      <td>19000</td>\n",
       "      <td>14710</td>\n",
       "    </tr>\n",
       "    <tr>\n",
       "      <th>3</th>\n",
       "      <td>PRV51008</td>\n",
       "      <td>25000</td>\n",
       "      <td>10630</td>\n",
       "    </tr>\n",
       "    <tr>\n",
       "      <th>4</th>\n",
       "      <td>PRV51011</td>\n",
       "      <td>5000</td>\n",
       "      <td>11630</td>\n",
       "    </tr>\n",
       "    <tr>\n",
       "      <th>...</th>\n",
       "      <td>...</td>\n",
       "      <td>...</td>\n",
       "      <td>...</td>\n",
       "    </tr>\n",
       "    <tr>\n",
       "      <th>5405</th>\n",
       "      <td>PRV57759</td>\n",
       "      <td>NaN</td>\n",
       "      <td>10640</td>\n",
       "    </tr>\n",
       "    <tr>\n",
       "      <th>5406</th>\n",
       "      <td>PRV57760</td>\n",
       "      <td>NaN</td>\n",
       "      <td>4770</td>\n",
       "    </tr>\n",
       "    <tr>\n",
       "      <th>5407</th>\n",
       "      <td>PRV57761</td>\n",
       "      <td>NaN</td>\n",
       "      <td>18470</td>\n",
       "    </tr>\n",
       "    <tr>\n",
       "      <th>5408</th>\n",
       "      <td>PRV57762</td>\n",
       "      <td>NaN</td>\n",
       "      <td>1900</td>\n",
       "    </tr>\n",
       "    <tr>\n",
       "      <th>5409</th>\n",
       "      <td>PRV57763</td>\n",
       "      <td>NaN</td>\n",
       "      <td>43610</td>\n",
       "    </tr>\n",
       "  </tbody>\n",
       "</table>\n",
       "<p>5410 rows × 3 columns</p>\n",
       "</div>"
      ],
      "text/plain": [
       "      Provider Inpatient_Claim_Amount Outpatient_Claim_Amount\n",
       "0     PRV51001                  97000                    7640\n",
       "1     PRV51003                 573000                   32670\n",
       "2     PRV51007                  19000                   14710\n",
       "3     PRV51008                  25000                   10630\n",
       "4     PRV51011                   5000                   11630\n",
       "...        ...                    ...                     ...\n",
       "5405  PRV57759                    NaN                   10640\n",
       "5406  PRV57760                    NaN                    4770\n",
       "5407  PRV57761                    NaN                   18470\n",
       "5408  PRV57762                    NaN                    1900\n",
       "5409  PRV57763                    NaN                   43610\n",
       "\n",
       "[5410 rows x 3 columns]"
      ]
     },
     "execution_count": 132,
     "metadata": {},
     "output_type": "execute_result"
    }
   ],
   "source": [
    "# merge the inpatient and outpatient claim amounts per provider dataframes\n",
    "provider_claimamount=pd.merge(In_Provider_Claim,Out_Provider_Claim,on='Provider',how='outer')\n",
    "provider_claimamount"
   ]
  },
  {
   "cell_type": "code",
   "execution_count": 133,
   "metadata": {},
   "outputs": [
    {
     "data": {
      "text/html": [
       "<div>\n",
       "<style scoped>\n",
       "    .dataframe tbody tr th:only-of-type {\n",
       "        vertical-align: middle;\n",
       "    }\n",
       "\n",
       "    .dataframe tbody tr th {\n",
       "        vertical-align: top;\n",
       "    }\n",
       "\n",
       "    .dataframe thead th {\n",
       "        text-align: right;\n",
       "    }\n",
       "</style>\n",
       "<table border=\"1\" class=\"dataframe\">\n",
       "  <thead>\n",
       "    <tr style=\"text-align: right;\">\n",
       "      <th></th>\n",
       "      <th>Provider</th>\n",
       "      <th>PotentialFraud</th>\n",
       "      <th>Inpatient_Claim_Number</th>\n",
       "      <th>Outpatient_Claim_Number</th>\n",
       "      <th>Inpatient_Claim_Amount</th>\n",
       "      <th>Outpatient_Claim_Amount</th>\n",
       "    </tr>\n",
       "  </thead>\n",
       "  <tbody>\n",
       "    <tr>\n",
       "      <th>0</th>\n",
       "      <td>PRV51001</td>\n",
       "      <td>No</td>\n",
       "      <td>5</td>\n",
       "      <td>20</td>\n",
       "      <td>97000</td>\n",
       "      <td>7640</td>\n",
       "    </tr>\n",
       "    <tr>\n",
       "      <th>1</th>\n",
       "      <td>PRV51003</td>\n",
       "      <td>Yes</td>\n",
       "      <td>62</td>\n",
       "      <td>70</td>\n",
       "      <td>573000</td>\n",
       "      <td>32670</td>\n",
       "    </tr>\n",
       "    <tr>\n",
       "      <th>2</th>\n",
       "      <td>PRV51004</td>\n",
       "      <td>No</td>\n",
       "      <td>NaN</td>\n",
       "      <td>149</td>\n",
       "      <td>NaN</td>\n",
       "      <td>52170</td>\n",
       "    </tr>\n",
       "    <tr>\n",
       "      <th>3</th>\n",
       "      <td>PRV51005</td>\n",
       "      <td>Yes</td>\n",
       "      <td>NaN</td>\n",
       "      <td>1165</td>\n",
       "      <td>NaN</td>\n",
       "      <td>280910</td>\n",
       "    </tr>\n",
       "    <tr>\n",
       "      <th>4</th>\n",
       "      <td>PRV51007</td>\n",
       "      <td>No</td>\n",
       "      <td>3</td>\n",
       "      <td>69</td>\n",
       "      <td>19000</td>\n",
       "      <td>14710</td>\n",
       "    </tr>\n",
       "    <tr>\n",
       "      <th>...</th>\n",
       "      <td>...</td>\n",
       "      <td>...</td>\n",
       "      <td>...</td>\n",
       "      <td>...</td>\n",
       "      <td>...</td>\n",
       "      <td>...</td>\n",
       "    </tr>\n",
       "    <tr>\n",
       "      <th>5405</th>\n",
       "      <td>PRV57759</td>\n",
       "      <td>No</td>\n",
       "      <td>NaN</td>\n",
       "      <td>28</td>\n",
       "      <td>NaN</td>\n",
       "      <td>10640</td>\n",
       "    </tr>\n",
       "    <tr>\n",
       "      <th>5406</th>\n",
       "      <td>PRV57760</td>\n",
       "      <td>No</td>\n",
       "      <td>NaN</td>\n",
       "      <td>22</td>\n",
       "      <td>NaN</td>\n",
       "      <td>4770</td>\n",
       "    </tr>\n",
       "    <tr>\n",
       "      <th>5407</th>\n",
       "      <td>PRV57761</td>\n",
       "      <td>No</td>\n",
       "      <td>NaN</td>\n",
       "      <td>82</td>\n",
       "      <td>NaN</td>\n",
       "      <td>18470</td>\n",
       "    </tr>\n",
       "    <tr>\n",
       "      <th>5408</th>\n",
       "      <td>PRV57762</td>\n",
       "      <td>No</td>\n",
       "      <td>NaN</td>\n",
       "      <td>1</td>\n",
       "      <td>NaN</td>\n",
       "      <td>1900</td>\n",
       "    </tr>\n",
       "    <tr>\n",
       "      <th>5409</th>\n",
       "      <td>PRV57763</td>\n",
       "      <td>No</td>\n",
       "      <td>NaN</td>\n",
       "      <td>118</td>\n",
       "      <td>NaN</td>\n",
       "      <td>43610</td>\n",
       "    </tr>\n",
       "  </tbody>\n",
       "</table>\n",
       "<p>5410 rows × 6 columns</p>\n",
       "</div>"
      ],
      "text/plain": [
       "      Provider PotentialFraud Inpatient_Claim_Number Outpatient_Claim_Number  \\\n",
       "0     PRV51001             No                      5                      20   \n",
       "1     PRV51003            Yes                     62                      70   \n",
       "2     PRV51004             No                    NaN                     149   \n",
       "3     PRV51005            Yes                    NaN                    1165   \n",
       "4     PRV51007             No                      3                      69   \n",
       "...        ...            ...                    ...                     ...   \n",
       "5405  PRV57759             No                    NaN                      28   \n",
       "5406  PRV57760             No                    NaN                      22   \n",
       "5407  PRV57761             No                    NaN                      82   \n",
       "5408  PRV57762             No                    NaN                       1   \n",
       "5409  PRV57763             No                    NaN                     118   \n",
       "\n",
       "     Inpatient_Claim_Amount Outpatient_Claim_Amount  \n",
       "0                     97000                    7640  \n",
       "1                    573000                   32670  \n",
       "2                       NaN                   52170  \n",
       "3                       NaN                  280910  \n",
       "4                     19000                   14710  \n",
       "...                     ...                     ...  \n",
       "5405                    NaN                   10640  \n",
       "5406                    NaN                    4770  \n",
       "5407                    NaN                   18470  \n",
       "5408                    NaN                    1900  \n",
       "5409                    NaN                   43610  \n",
       "\n",
       "[5410 rows x 6 columns]"
      ]
     },
     "execution_count": 133,
     "metadata": {},
     "output_type": "execute_result"
    }
   ],
   "source": [
    "# Merge provider fraud data wth claim number and claim amount datasets\n",
    "provider_list1=pd.merge(fraud_tr,provider_claimnumber,on='Provider',how='outer')\n",
    "provider_list1\n",
    "provider_list2=pd.merge(provider_list1,provider_claimamount,on='Provider',how='outer')\n",
    "provider_list2"
   ]
  },
  {
   "cell_type": "code",
   "execution_count": 134,
   "metadata": {},
   "outputs": [],
   "source": [
    "#Rename the dataset to provider_final\n",
    "#provider_final=provider_list2.fillna(0)\n",
    "provider_final=provider_list2"
   ]
  },
  {
   "cell_type": "markdown",
   "metadata": {},
   "source": [
    "Findings: The potentially fraudulent providers had substantially more claims submitted and had been reimbursed substantially more. However, the per claim reimbursement is similar between the two groups of providers. "
   ]
  },
  {
   "cell_type": "code",
   "execution_count": 135,
   "metadata": {},
   "outputs": [
    {
     "data": {
      "text/plain": [
       "Text(0.5, 1.0, 'Number of Outpatient Claims')"
      ]
     },
     "execution_count": 135,
     "metadata": {},
     "output_type": "execute_result"
    },
    {
     "data": {
      "image/png": "[encoded data removed]",
      "text/plain": [
       "<Figure size 1440x360 with 2 Axes>"
      ]
     },
     "metadata": {
      "needs_background": "light"
     },
     "output_type": "display_data"
    }
   ],
   "source": [
    "# plot boxplots to compare the number of inpatient and outpatients claims between the providers that are \n",
    "# fraudulent and those who are not. The potentially fraudulent providers had substantially more claims submitted than \n",
    "# the others\n",
    "f,axs=plt.subplots(1,2,figsize=(20,5))\n",
    "plt.subplot(1,2,1)\n",
    "sns.boxplot(x=\"PotentialFraud\",y=\"Inpatient_Claim_Number\",data=provider_final,showfliers=False)\n",
    "plt.title(\"Number of Inpatient Claims\")\n",
    "plt.subplot(1,2,2)\n",
    "sns.boxplot(x=\"PotentialFraud\",y=\"Outpatient_Claim_Number\",data=provider_final,showfliers=False)\n",
    "plt.title(\"Number of Outpatient Claims\")"
   ]
  },
  {
   "cell_type": "code",
   "execution_count": 136,
   "metadata": {},
   "outputs": [
    {
     "data": {
      "text/plain": [
       "Text(0.5, 1.0, 'Amount of Outpatient Claims')"
      ]
     },
     "execution_count": 136,
     "metadata": {},
     "output_type": "execute_result"
    },
    {
     "data": {
      "image/png": "[encoded data removed]",
      "text/plain": [
       "<Figure size 1440x360 with 2 Axes>"
      ]
     },
     "metadata": {
      "needs_background": "light"
     },
     "output_type": "display_data"
    }
   ],
   "source": [
    "# plot boxplots to compare the total amounts of inpatient and outpatients claims between the providers that are \n",
    "# fraudulent and those who are not. The potentially fraudulent providers had substantially higher reimbursements than \n",
    "# the others\n",
    "f,axs=plt.subplots(1,2,figsize=(20,5))\n",
    "plt.subplot(1,2,1)\n",
    "sns.boxplot(x=\"PotentialFraud\",y=\"Inpatient_Claim_Amount\",data=provider_final,showfliers=False)\n",
    "plt.title(\"Amount of Inpatient Claims\")\n",
    "plt.subplot(1,2,2)\n",
    "sns.boxplot(x=\"PotentialFraud\",y=\"Outpatient_Claim_Amount\",data=provider_final,showfliers=False)\n",
    "plt.title(\"Amount of Outpatient Claims\")"
   ]
  },
  {
   "cell_type": "code",
   "execution_count": 137,
   "metadata": {},
   "outputs": [],
   "source": [
    "#Calculate the inpatient reimbursement per claim \n",
    "provider_list2['Inpatient_Perclaim_Amount']=provider_list2['Inpatient_Claim_Amount']/provider_list2['Inpatient_Claim_Number']"
   ]
  },
  {
   "cell_type": "code",
   "execution_count": 138,
   "metadata": {},
   "outputs": [],
   "source": [
    "#Calculate the outpatient reimbursement per claim \n",
    "provider_list2['Outpatient_Perclaim_Amount']=provider_list2['Outpatient_Claim_Amount']/provider_list2['Outpatient_Claim_Number']"
   ]
  },
  {
   "cell_type": "code",
   "execution_count": 139,
   "metadata": {},
   "outputs": [
    {
     "data": {
      "text/html": [
       "<div>\n",
       "<style scoped>\n",
       "    .dataframe tbody tr th:only-of-type {\n",
       "        vertical-align: middle;\n",
       "    }\n",
       "\n",
       "    .dataframe tbody tr th {\n",
       "        vertical-align: top;\n",
       "    }\n",
       "\n",
       "    .dataframe thead th {\n",
       "        text-align: right;\n",
       "    }\n",
       "</style>\n",
       "<table border=\"1\" class=\"dataframe\">\n",
       "  <thead>\n",
       "    <tr style=\"text-align: right;\">\n",
       "      <th></th>\n",
       "      <th>Provider</th>\n",
       "      <th>PotentialFraud</th>\n",
       "      <th>Inpatient_Claim_Number</th>\n",
       "      <th>Outpatient_Claim_Number</th>\n",
       "      <th>Inpatient_Claim_Amount</th>\n",
       "      <th>Outpatient_Claim_Amount</th>\n",
       "      <th>Inpatient_Perclaim_Amount</th>\n",
       "      <th>Outpatient_Perclaim_Amount</th>\n",
       "    </tr>\n",
       "  </thead>\n",
       "  <tbody>\n",
       "    <tr>\n",
       "      <th>0</th>\n",
       "      <td>PRV51001</td>\n",
       "      <td>No</td>\n",
       "      <td>5</td>\n",
       "      <td>20</td>\n",
       "      <td>97000</td>\n",
       "      <td>7640</td>\n",
       "      <td>19400</td>\n",
       "      <td>382</td>\n",
       "    </tr>\n",
       "    <tr>\n",
       "      <th>1</th>\n",
       "      <td>PRV51003</td>\n",
       "      <td>Yes</td>\n",
       "      <td>62</td>\n",
       "      <td>70</td>\n",
       "      <td>573000</td>\n",
       "      <td>32670</td>\n",
       "      <td>9241.94</td>\n",
       "      <td>466.714</td>\n",
       "    </tr>\n",
       "    <tr>\n",
       "      <th>2</th>\n",
       "      <td>PRV51004</td>\n",
       "      <td>No</td>\n",
       "      <td>NaN</td>\n",
       "      <td>149</td>\n",
       "      <td>NaN</td>\n",
       "      <td>52170</td>\n",
       "      <td>NaN</td>\n",
       "      <td>350.134</td>\n",
       "    </tr>\n",
       "    <tr>\n",
       "      <th>3</th>\n",
       "      <td>PRV51005</td>\n",
       "      <td>Yes</td>\n",
       "      <td>NaN</td>\n",
       "      <td>1165</td>\n",
       "      <td>NaN</td>\n",
       "      <td>280910</td>\n",
       "      <td>NaN</td>\n",
       "      <td>241.124</td>\n",
       "    </tr>\n",
       "    <tr>\n",
       "      <th>4</th>\n",
       "      <td>PRV51007</td>\n",
       "      <td>No</td>\n",
       "      <td>3</td>\n",
       "      <td>69</td>\n",
       "      <td>19000</td>\n",
       "      <td>14710</td>\n",
       "      <td>6333.33</td>\n",
       "      <td>213.188</td>\n",
       "    </tr>\n",
       "    <tr>\n",
       "      <th>...</th>\n",
       "      <td>...</td>\n",
       "      <td>...</td>\n",
       "      <td>...</td>\n",
       "      <td>...</td>\n",
       "      <td>...</td>\n",
       "      <td>...</td>\n",
       "      <td>...</td>\n",
       "      <td>...</td>\n",
       "    </tr>\n",
       "    <tr>\n",
       "      <th>5405</th>\n",
       "      <td>PRV57759</td>\n",
       "      <td>No</td>\n",
       "      <td>NaN</td>\n",
       "      <td>28</td>\n",
       "      <td>NaN</td>\n",
       "      <td>10640</td>\n",
       "      <td>NaN</td>\n",
       "      <td>380</td>\n",
       "    </tr>\n",
       "    <tr>\n",
       "      <th>5406</th>\n",
       "      <td>PRV57760</td>\n",
       "      <td>No</td>\n",
       "      <td>NaN</td>\n",
       "      <td>22</td>\n",
       "      <td>NaN</td>\n",
       "      <td>4770</td>\n",
       "      <td>NaN</td>\n",
       "      <td>216.818</td>\n",
       "    </tr>\n",
       "    <tr>\n",
       "      <th>5407</th>\n",
       "      <td>PRV57761</td>\n",
       "      <td>No</td>\n",
       "      <td>NaN</td>\n",
       "      <td>82</td>\n",
       "      <td>NaN</td>\n",
       "      <td>18470</td>\n",
       "      <td>NaN</td>\n",
       "      <td>225.244</td>\n",
       "    </tr>\n",
       "    <tr>\n",
       "      <th>5408</th>\n",
       "      <td>PRV57762</td>\n",
       "      <td>No</td>\n",
       "      <td>NaN</td>\n",
       "      <td>1</td>\n",
       "      <td>NaN</td>\n",
       "      <td>1900</td>\n",
       "      <td>NaN</td>\n",
       "      <td>1900</td>\n",
       "    </tr>\n",
       "    <tr>\n",
       "      <th>5409</th>\n",
       "      <td>PRV57763</td>\n",
       "      <td>No</td>\n",
       "      <td>NaN</td>\n",
       "      <td>118</td>\n",
       "      <td>NaN</td>\n",
       "      <td>43610</td>\n",
       "      <td>NaN</td>\n",
       "      <td>369.576</td>\n",
       "    </tr>\n",
       "  </tbody>\n",
       "</table>\n",
       "<p>5410 rows × 8 columns</p>\n",
       "</div>"
      ],
      "text/plain": [
       "      Provider PotentialFraud Inpatient_Claim_Number Outpatient_Claim_Number  \\\n",
       "0     PRV51001             No                      5                      20   \n",
       "1     PRV51003            Yes                     62                      70   \n",
       "2     PRV51004             No                    NaN                     149   \n",
       "3     PRV51005            Yes                    NaN                    1165   \n",
       "4     PRV51007             No                      3                      69   \n",
       "...        ...            ...                    ...                     ...   \n",
       "5405  PRV57759             No                    NaN                      28   \n",
       "5406  PRV57760             No                    NaN                      22   \n",
       "5407  PRV57761             No                    NaN                      82   \n",
       "5408  PRV57762             No                    NaN                       1   \n",
       "5409  PRV57763             No                    NaN                     118   \n",
       "\n",
       "     Inpatient_Claim_Amount Outpatient_Claim_Amount Inpatient_Perclaim_Amount  \\\n",
       "0                     97000                    7640                     19400   \n",
       "1                    573000                   32670                   9241.94   \n",
       "2                       NaN                   52170                       NaN   \n",
       "3                       NaN                  280910                       NaN   \n",
       "4                     19000                   14710                   6333.33   \n",
       "...                     ...                     ...                       ...   \n",
       "5405                    NaN                   10640                       NaN   \n",
       "5406                    NaN                    4770                       NaN   \n",
       "5407                    NaN                   18470                       NaN   \n",
       "5408                    NaN                    1900                       NaN   \n",
       "5409                    NaN                   43610                       NaN   \n",
       "\n",
       "     Outpatient_Perclaim_Amount  \n",
       "0                           382  \n",
       "1                       466.714  \n",
       "2                       350.134  \n",
       "3                       241.124  \n",
       "4                       213.188  \n",
       "...                         ...  \n",
       "5405                        380  \n",
       "5406                    216.818  \n",
       "5407                    225.244  \n",
       "5408                       1900  \n",
       "5409                    369.576  \n",
       "\n",
       "[5410 rows x 8 columns]"
      ]
     },
     "execution_count": 139,
     "metadata": {},
     "output_type": "execute_result"
    }
   ],
   "source": [
    "#inspect the final provider dataset\n",
    "provider_list2"
   ]
  },
  {
   "cell_type": "code",
   "execution_count": 140,
   "metadata": {},
   "outputs": [
    {
     "data": {
      "text/plain": [
       "Text(0.5, 1.0, 'Outpatient Amount Per Claim')"
      ]
     },
     "execution_count": 140,
     "metadata": {},
     "output_type": "execute_result"
    },
    {
     "data": {
      "image/png": "[encoded data removed]",
      "text/plain": [
       "<Figure size 1440x360 with 2 Axes>"
      ]
     },
     "metadata": {
      "needs_background": "light"
     },
     "output_type": "display_data"
    }
   ],
   "source": [
    "#Plot boxplots to compare the per claim reimbursements between the fraudulent providers and those who are not, \n",
    "#They look similar\n",
    "f,axs=plt.subplots(1,2,figsize=(20,5))\n",
    "plt.subplot(1,2,1)\n",
    "sns.boxplot(x=\"PotentialFraud\",y=\"Inpatient_Perclaim_Amount\",data=provider_list2,showfliers=False)\n",
    "plt.title(\"Inpatient Amount Per Claim\")\n",
    "plt.subplot(1,2,2)\n",
    "sns.boxplot(x=\"PotentialFraud\",y=\"Outpatient_Perclaim_Amount\",data=provider_list2,showfliers=False)\n",
    "plt.title(\"Outpatient Amount Per Claim\")"
   ]
  },
  {
   "cell_type": "markdown",
   "metadata": {},
   "source": [
    "<h3> Statistical Data Analysis"
   ]
  },
  {
   "cell_type": "markdown",
   "metadata": {},
   "source": [
    "We are comparing the annual reimbursement of inpatient and outpatient visits between the following categories:\n",
    "1.  Gender\n",
    "2.  Chronic Conditions: \n",
    "2a. Alzheimer\n",
    "2b. Heart Failure\n",
    "2c. Kidney Disease\n",
    "2d. Cancer\n",
    "2e. Obstructive Pulmonary Disease\n",
    "2f. Depression\n",
    "2g. Diabetes\n",
    "2h. Ischemic Heart Disease\n",
    "2i. Osteoporasis\n",
    "2j. Rheumatoidarthritis\n",
    "2k. Stroke"
   ]
  },
  {
   "cell_type": "code",
   "execution_count": 141,
   "metadata": {},
   "outputs": [],
   "source": [
    "import scipy.stats as sp"
   ]
  },
  {
   "cell_type": "markdown",
   "metadata": {},
   "source": [
    "Question: Is there a difference of inpatient claims between men and women? \n",
    "              H0: There is no difference; H1: There is difference <br>\n",
    "Answer: we used 2 sample t-test to test this hypothesis, p=0.51, so we don't reject the null hypothesis. <br>"
   ]
  },
  {
   "cell_type": "code",
   "execution_count": 142,
   "metadata": {},
   "outputs": [
    {
     "name": "stdout",
     "output_type": "stream",
     "text": [
      "3640.688814129521\n",
      "3675.2864510909412\n"
     ]
    },
    {
     "data": {
      "text/plain": [
       "Ttest_indResult(statistic=-0.6661422276840568, pvalue=0.505321304704989)"
      ]
     },
     "execution_count": 142,
     "metadata": {},
     "output_type": "execute_result"
    }
   ],
   "source": [
    "# Calculate the mean inpatient reimbursement for men and women and test for the difference using 2 sample t-test.\n",
    "print(np.mean(bene_tr.IPAnnualReimbursementAmt[bene_tr.Gender==1]))\n",
    "print(np.mean(bene_tr.IPAnnualReimbursementAmt[bene_tr.Gender==2]))\n",
    "sp.ttest_ind(bene_tr.IPAnnualReimbursementAmt[bene_tr.Gender==1],bene_tr.IPAnnualReimbursementAmt[bene_tr.Gender==2])"
   ]
  },
  {
   "cell_type": "markdown",
   "metadata": {},
   "source": [
    "Question: Is there a difference of outpatient claims between men and women? \n",
    "              H0: There is no difference; H1: There is difference <br>\n",
    "Answer: we used 2 sample t-test to test this hypothesis, p=0.009, so we will reject the null hypothesis and conclude there is significant difference of outpatient claim amount between men and women. However, the difference is between 1277.91 and 1313.49 dollars with a difference of 35.58 dollars. <br>"
   ]
  },
  {
   "cell_type": "code",
   "execution_count": 143,
   "metadata": {},
   "outputs": [
    {
     "name": "stdout",
     "output_type": "stream",
     "text": [
      "1277.909503784693\n",
      "1313.4884838065382\n"
     ]
    },
    {
     "data": {
      "text/plain": [
       "Ttest_indResult(statistic=-2.628402072235095, pvalue=0.008579651170132586)"
      ]
     },
     "execution_count": 143,
     "metadata": {},
     "output_type": "execute_result"
    }
   ],
   "source": [
    "# Calculate the mean outpatient reimbursement for men and women and test for the difference using 2 sample t-test.\n",
    "print(np.mean(bene_tr.OPAnnualReimbursementAmt[bene_tr.Gender==1]))\n",
    "print(np.mean(bene_tr.OPAnnualReimbursementAmt[bene_tr.Gender==2]))\n",
    "sp.ttest_ind(bene_tr.OPAnnualReimbursementAmt[bene_tr.Gender==1],bene_tr.OPAnnualReimbursementAmt[bene_tr.Gender==2])"
   ]
  },
  {
   "cell_type": "markdown",
   "metadata": {},
   "source": [
    "Question: Is there a difference of inpatient claims between with Alzheimer and without? H0: There is no difference; H1: There is difference <br>\n",
    "Answer: The mean inpatient claim for Alzheimer patient is 5371 dollars, and 2809 dollars for non-Alzheimer patients, the 2 sample t-test had p<0.001, so we will reject the null hypothesis and conclude there is a significant increase of inpatient claim amount for patient with Alzheimers. "
   ]
  },
  {
   "cell_type": "code",
   "execution_count": 144,
   "metadata": {},
   "outputs": [
    {
     "name": "stdout",
     "output_type": "stream",
     "text": [
      "5371.234302350846\n",
      "2809.4642818545335\n"
     ]
    },
    {
     "data": {
      "text/plain": [
       "Ttest_indResult(statistic=47.31543524464032, pvalue=0.0)"
      ]
     },
     "execution_count": 144,
     "metadata": {},
     "output_type": "execute_result"
    }
   ],
   "source": [
    "# Calculate the mean inpatient reimbursement for patients with Alzheimer's and those without\n",
    "# and test for the difference using 2 sample t-test.\n",
    "print(np.mean(bene_tr.IPAnnualReimbursementAmt[bene_tr.ChronicCond_Alzheimer==1]))\n",
    "print(np.mean(bene_tr.IPAnnualReimbursementAmt[bene_tr.ChronicCond_Alzheimer==2]))\n",
    "sp.ttest_ind(bene_tr.IPAnnualReimbursementAmt[bene_tr.ChronicCond_Alzheimer==1],bene_tr.IPAnnualReimbursementAmt[bene_tr.ChronicCond_Alzheimer==2])"
   ]
  },
  {
   "cell_type": "markdown",
   "metadata": {},
   "source": [
    "Question: Is there a difference of outpatient claims between with Alzheimer and without? H0: There is no difference; H1: There is difference <br>\n",
    "Answer: The mean inpatient claim for Alzheimer patient is 1623 dollars, and 1136 dollars for non-Alzheimer patients, the 2 sample t-test had p<0.001, so we will reject the null hypothesis and conclude there is a significant increase of outpatient claim amount for patient with Alzheimers. "
   ]
  },
  {
   "cell_type": "code",
   "execution_count": 145,
   "metadata": {},
   "outputs": [
    {
     "name": "stdout",
     "output_type": "stream",
     "text": [
      "1623.467387998088\n",
      "1136.4403977088512\n"
     ]
    },
    {
     "data": {
      "text/plain": [
       "Ttest_indResult(statistic=34.38331255230874, pvalue=5.520428938725289e-258)"
      ]
     },
     "execution_count": 145,
     "metadata": {},
     "output_type": "execute_result"
    }
   ],
   "source": [
    "# Calculate the mean outpatient reimbursement for patients with Alzheimer's and those without\n",
    "# and test for the difference using 2 sample t-test.\n",
    "print(np.mean(bene_tr.OPAnnualReimbursementAmt[bene_tr.ChronicCond_Alzheimer==1]))\n",
    "print(np.mean(bene_tr.OPAnnualReimbursementAmt[bene_tr.ChronicCond_Alzheimer==2]))\n",
    "sp.ttest_ind(bene_tr.OPAnnualReimbursementAmt[bene_tr.ChronicCond_Alzheimer==1],bene_tr.OPAnnualReimbursementAmt[bene_tr.ChronicCond_Alzheimer==2])"
   ]
  },
  {
   "cell_type": "markdown",
   "metadata": {},
   "source": [
    "Question: Is there a difference of inpatient claims between with Heart failure and without? H0: There is no difference; H1: There is difference\n",
    "Answer: The mean inpatient claim for heart failure patient is 5422 dollars, and 1943 dollars for non-heart failure patients, the 2 sample t-test had p<0.001, so we will reject the null hypothesis and conclude there is a significant increase of inpatient claim amount for patient with heart failures."
   ]
  },
  {
   "cell_type": "code",
   "execution_count": 146,
   "metadata": {},
   "outputs": [
    {
     "name": "stdout",
     "output_type": "stream",
     "text": [
      "5421.863980585363\n",
      "1943.0085241041138\n"
     ]
    },
    {
     "data": {
      "text/plain": [
       "Ttest_indResult(statistic=68.8069277099246, pvalue=0.0)"
      ]
     },
     "execution_count": 146,
     "metadata": {},
     "output_type": "execute_result"
    }
   ],
   "source": [
    "# Calculate the mean inpatient reimbursement for patients with Heart Failure and those without\n",
    "# and test for the difference using 2 sample t-test.\n",
    "print(np.mean(bene_tr.IPAnnualReimbursementAmt[bene_tr.ChronicCond_Heartfailure==1]))\n",
    "print(np.mean(bene_tr.IPAnnualReimbursementAmt[bene_tr.ChronicCond_Heartfailure==2]))\n",
    "sp.ttest_ind(bene_tr.IPAnnualReimbursementAmt[bene_tr.ChronicCond_Heartfailure==1],bene_tr.IPAnnualReimbursementAmt[bene_tr.ChronicCond_Heartfailure==2])"
   ]
  },
  {
   "cell_type": "markdown",
   "metadata": {},
   "source": [
    "Question: Is there a difference of outpatient claims between with Heart failure and without? H0: There is no difference; H1: There is difference\n",
    "Answer: The mean outpatient claim for heart failure patient is 1671 dollars, and 935 dollars for non-heart failure patients, the 2 sample t-test had p<0.001, so we will reject the null hypothesis and conclude there is a significant increase of outpatient claim amount for patient with heart failures."
   ]
  },
  {
   "cell_type": "code",
   "execution_count": 147,
   "metadata": {},
   "outputs": [
    {
     "name": "stdout",
     "output_type": "stream",
     "text": [
      "1670.7223472997866\n",
      "935.0256578384697\n"
     ]
    },
    {
     "data": {
      "text/plain": [
       "Ttest_indResult(statistic=55.506255911154845, pvalue=0.0)"
      ]
     },
     "execution_count": 147,
     "metadata": {},
     "output_type": "execute_result"
    }
   ],
   "source": [
    "# Calculate the mean outpatient reimbursement for patients with Heart Failure and those without\n",
    "# and test for the difference using 2 sample t-test.\n",
    "print(np.mean(bene_tr.OPAnnualReimbursementAmt[bene_tr.ChronicCond_Heartfailure==1]))\n",
    "print(np.mean(bene_tr.OPAnnualReimbursementAmt[bene_tr.ChronicCond_Heartfailure==2]))\n",
    "sp.ttest_ind(bene_tr.OPAnnualReimbursementAmt[bene_tr.ChronicCond_Heartfailure==1],bene_tr.OPAnnualReimbursementAmt[bene_tr.ChronicCond_Heartfailure==2])"
   ]
  },
  {
   "cell_type": "markdown",
   "metadata": {},
   "source": [
    "Question: Is there a difference of inpatient claims between with kidney disease and without? H0: There is no difference; H1: There is difference\n",
    "Answer: The mean inpatient claim for kidney disease patient is 7501 dollars, and 1916 dollars for non-kidney disease patients, the 2 sample t-test had p<0.001, so we will reject the null hypothesis and conclude there is a significant increase of inpatient claim amount for patient with kidney disease."
   ]
  },
  {
   "cell_type": "code",
   "execution_count": 148,
   "metadata": {},
   "outputs": [
    {
     "name": "stdout",
     "output_type": "stream",
     "text": [
      "7500.779823933085\n",
      "1915.9913725243239\n"
     ]
    },
    {
     "data": {
      "text/plain": [
       "Ttest_indResult(statistic=104.58724405263341, pvalue=0.0)"
      ]
     },
     "execution_count": 148,
     "metadata": {},
     "output_type": "execute_result"
    }
   ],
   "source": [
    "# Calculate the mean inpatient reimbursement for patients with Kidney Disease and those without\n",
    "# and test for the difference using 2 sample t-test.\n",
    "print(np.mean(bene_tr.IPAnnualReimbursementAmt[bene_tr.ChronicCond_KidneyDisease==1]))\n",
    "print(np.mean(bene_tr.IPAnnualReimbursementAmt[bene_tr.ChronicCond_KidneyDisease==2]))\n",
    "sp.ttest_ind(bene_tr.IPAnnualReimbursementAmt[bene_tr.ChronicCond_KidneyDisease==1],bene_tr.IPAnnualReimbursementAmt[bene_tr.ChronicCond_KidneyDisease==2])"
   ]
  },
  {
   "cell_type": "markdown",
   "metadata": {},
   "source": [
    "Question: Is there a difference of outpatient claims between with kidney disease and without? H0: There is no difference; H1: There is difference\n",
    "Answer: The mean outpatient claim for kidney disease patient is 2062 dollars, and 951 dollars for non-kidney disease patients, the 2 sample t-test had p<0.001, so we will reject the null hypothesis and conclude there is a significant increase of outpatient claim amount for patient with kidney disease."
   ]
  },
  {
   "cell_type": "code",
   "execution_count": 149,
   "metadata": {},
   "outputs": [
    {
     "name": "stdout",
     "output_type": "stream",
     "text": [
      "2061.6090944800017\n",
      "951.4590089948256\n"
     ]
    },
    {
     "data": {
      "text/plain": [
       "Ttest_indResult(statistic=78.48124407662134, pvalue=0.0)"
      ]
     },
     "execution_count": 149,
     "metadata": {},
     "output_type": "execute_result"
    }
   ],
   "source": [
    "# Calculate the mean outpatient reimbursement for patients with Kidney Disease and those without\n",
    "# and test for the difference using 2 sample t-test.\n",
    "print(np.mean(bene_tr.OPAnnualReimbursementAmt[bene_tr.ChronicCond_KidneyDisease==1]))\n",
    "print(np.mean(bene_tr.OPAnnualReimbursementAmt[bene_tr.ChronicCond_KidneyDisease==2]))\n",
    "sp.ttest_ind(bene_tr.OPAnnualReimbursementAmt[bene_tr.ChronicCond_KidneyDisease==1],bene_tr.OPAnnualReimbursementAmt[bene_tr.ChronicCond_KidneyDisease==2])"
   ]
  },
  {
   "cell_type": "markdown",
   "metadata": {},
   "source": [
    "Question: Is there a difference of inpatient claims between with cancer and without? H0: There is no difference; H1: There is difference\n",
    "Answer: The mean inpatient claim for cancer patient is 6068 dollars, and 3332 dollars for non-cancer patients, the 2 sample t-test had p<0.001, so we will reject the null hypothesis and conclude there is a significant increase of inpatient claim amount for patient with cancer."
   ]
  },
  {
   "cell_type": "code",
   "execution_count": 150,
   "metadata": {},
   "outputs": [
    {
     "name": "stdout",
     "output_type": "stream",
     "text": [
      "6068.013356597076\n",
      "3332.2648132201584\n"
     ]
    },
    {
     "data": {
      "text/plain": [
       "Ttest_indResult(statistic=34.72883282548054, pvalue=3.949885798545562e-263)"
      ]
     },
     "execution_count": 150,
     "metadata": {},
     "output_type": "execute_result"
    }
   ],
   "source": [
    "# Calculate the mean inpatient reimbursement for patients with Cancer and those without\n",
    "# and test for the difference using 2 sample t-test.\n",
    "print(np.mean(bene_tr.IPAnnualReimbursementAmt[bene_tr.ChronicCond_Cancer==1]))\n",
    "print(np.mean(bene_tr.IPAnnualReimbursementAmt[bene_tr.ChronicCond_Cancer==2]))\n",
    "sp.ttest_ind(bene_tr.IPAnnualReimbursementAmt[bene_tr.ChronicCond_Cancer==1],bene_tr.IPAnnualReimbursementAmt[bene_tr.ChronicCond_Cancer==2])"
   ]
  },
  {
   "cell_type": "markdown",
   "metadata": {},
   "source": [
    "Question: Is there a difference of outpatient claims between with cancer and without? H0: There is no difference; H1: There is difference\n",
    "Answer: The mean outpatient claim for cancer patient is 1788 dollars, and 1231 dollars for non-cancer patients, the 2 sample t-test had p<0.001, so we will reject the null hypothesis and conclude there is a significant increase of outpatient claim amount for patient with cancer."
   ]
  },
  {
   "cell_type": "code",
   "execution_count": 151,
   "metadata": {},
   "outputs": [
    {
     "name": "stdout",
     "output_type": "stream",
     "text": [
      "1788.427892425245\n",
      "1231.402632550129\n"
     ]
    },
    {
     "data": {
      "text/plain": [
       "Ttest_indResult(statistic=27.08451998596713, pvalue=3.953773456549292e-161)"
      ]
     },
     "execution_count": 151,
     "metadata": {},
     "output_type": "execute_result"
    }
   ],
   "source": [
    "# Calculate the mean outpatient reimbursement for patients with Cancer and those without\n",
    "# and test for the difference using 2 sample t-test.\n",
    "print(np.mean(bene_tr.OPAnnualReimbursementAmt[bene_tr.ChronicCond_Cancer==1]))\n",
    "print(np.mean(bene_tr.OPAnnualReimbursementAmt[bene_tr.ChronicCond_Cancer==2]))\n",
    "sp.ttest_ind(bene_tr.OPAnnualReimbursementAmt[bene_tr.ChronicCond_Cancer==1],bene_tr.OPAnnualReimbursementAmt[bene_tr.ChronicCond_Cancer==2])"
   ]
  },
  {
   "cell_type": "markdown",
   "metadata": {},
   "source": [
    "Question: Is there a difference of inpatient claims between with obstructive pulmonary disease and without? H0: There is no difference; H1: There is difference\n",
    "Answer: The mean inpatient claim for obstructive pulmonary disease patient is 7362 dollars, and 2510 dollars for non-obstructive pulmonary disease patients, the 2 sample t-test had p<0.001, so we will reject the null hypothesis and conclude there is a significant increase of inpatient claim amount for patient with obstructive pulmonary disease."
   ]
  },
  {
   "cell_type": "code",
   "execution_count": 152,
   "metadata": {},
   "outputs": [
    {
     "name": "stdout",
     "output_type": "stream",
     "text": [
      "7362.034145896101\n",
      "2509.6935580007002\n"
     ]
    },
    {
     "data": {
      "text/plain": [
       "Ttest_indResult(statistic=82.22315367518055, pvalue=0.0)"
      ]
     },
     "execution_count": 152,
     "metadata": {},
     "output_type": "execute_result"
    }
   ],
   "source": [
    "# Calculate the mean inpatient reimbursement for patients with Obstructive Pulmonary Disease and those without\n",
    "# and test for the difference using 2 sample t-test.\n",
    "print(np.mean(bene_tr.IPAnnualReimbursementAmt[bene_tr.ChronicCond_ObstrPulmonary==1]))\n",
    "print(np.mean(bene_tr.IPAnnualReimbursementAmt[bene_tr.ChronicCond_ObstrPulmonary==2]))\n",
    "sp.ttest_ind(bene_tr.IPAnnualReimbursementAmt[bene_tr.ChronicCond_ObstrPulmonary==1],bene_tr.IPAnnualReimbursementAmt[bene_tr.ChronicCond_ObstrPulmonary==2])"
   ]
  },
  {
   "cell_type": "markdown",
   "metadata": {},
   "source": [
    "Question: Is there a difference of outpatient claims between with obstructive pulmonary disease and without? H0: There is no difference; H1: There is difference\n",
    "Answer: The mean outpatient claim for obstructive pulmonary disease patient is 1811 dollars, and 1139 dollars for non-obstructive pulmonary disease patients, the 2 sample t-test had p<0.001, so we will reject the null hypothesis and conclude there is a significant increase of outpatient claim amount for patient with obstructive pulmonary disease."
   ]
  },
  {
   "cell_type": "code",
   "execution_count": 153,
   "metadata": {},
   "outputs": [
    {
     "name": "stdout",
     "output_type": "stream",
     "text": [
      "1810.8703855869016\n",
      "1138.8511499853355\n"
     ]
    },
    {
     "data": {
      "text/plain": [
       "Ttest_indResult(statistic=42.945579769620785, pvalue=0.0)"
      ]
     },
     "execution_count": 153,
     "metadata": {},
     "output_type": "execute_result"
    }
   ],
   "source": [
    "# Calculate the mean outpatient reimbursement for patients with Obstructive Pulmonary Disease and those without\n",
    "# and test for the difference using 2 sample t-test.\n",
    "print(np.mean(bene_tr.OPAnnualReimbursementAmt[bene_tr.ChronicCond_ObstrPulmonary==1]))\n",
    "print(np.mean(bene_tr.OPAnnualReimbursementAmt[bene_tr.ChronicCond_ObstrPulmonary==2]))\n",
    "sp.ttest_ind(bene_tr.OPAnnualReimbursementAmt[bene_tr.ChronicCond_ObstrPulmonary==1],bene_tr.OPAnnualReimbursementAmt[bene_tr.ChronicCond_ObstrPulmonary==2])"
   ]
  },
  {
   "cell_type": "markdown",
   "metadata": {},
   "source": [
    "Question: Is there a difference of inpatient claims between with depression and without? H0: There is no difference; H1: There is difference\n",
    "Answer: The mean inpatient claim for depression patient is 5022 dollars, and 2909 dollars for non-depression patients, the 2 sample t-test had p<0.001, so we will reject the null hypothesis and conclude there is a significant increase of inpatient claim amount for patient with depression."
   ]
  },
  {
   "cell_type": "code",
   "execution_count": 154,
   "metadata": {},
   "outputs": [
    {
     "name": "stdout",
     "output_type": "stream",
     "text": [
      "5022.232846122614\n",
      "2909.211722809532\n"
     ]
    },
    {
     "data": {
      "text/plain": [
       "Ttest_indResult(statistic=39.56819237829831, pvalue=0.0)"
      ]
     },
     "execution_count": 154,
     "metadata": {},
     "output_type": "execute_result"
    }
   ],
   "source": [
    "# Calculate the mean inpatient reimbursement for patients with Depression and those without\n",
    "# and test for the difference using 2 sample t-test.\n",
    "print(np.mean(bene_tr.IPAnnualReimbursementAmt[bene_tr.ChronicCond_Depression==1]))\n",
    "print(np.mean(bene_tr.IPAnnualReimbursementAmt[bene_tr.ChronicCond_Depression==2]))\n",
    "sp.ttest_ind(bene_tr.IPAnnualReimbursementAmt[bene_tr.ChronicCond_Depression==1],bene_tr.IPAnnualReimbursementAmt[bene_tr.ChronicCond_Depression==2])"
   ]
  },
  {
   "cell_type": "markdown",
   "metadata": {},
   "source": [
    "Question: Is there a difference of outpatient claims between with depression and without? H0: There is no difference; H1: There is difference\n",
    "Answer: The mean outpatient claim for depression patient is 1604 dollars, and 1130 dollars for non-depression patients, the 2 sample t-test had p<0.001, so we will reject the null hypothesis and conclude there is a significant increase of outpatient claim amount for patient with depression."
   ]
  },
  {
   "cell_type": "code",
   "execution_count": 155,
   "metadata": {},
   "outputs": [
    {
     "name": "stdout",
     "output_type": "stream",
     "text": [
      "1603.8729192042224\n",
      "1129.6111807919729\n"
     ]
    },
    {
     "data": {
      "text/plain": [
       "Ttest_indResult(statistic=34.02475155980051, pvalue=1.0670121225126599e-252)"
      ]
     },
     "execution_count": 155,
     "metadata": {},
     "output_type": "execute_result"
    }
   ],
   "source": [
    "# Calculate the mean outpatient reimbursement for patients with Depression and those without\n",
    "# and test for the difference using 2 sample t-test.\n",
    "print(np.mean(bene_tr.OPAnnualReimbursementAmt[bene_tr.ChronicCond_Depression==1]))\n",
    "print(np.mean(bene_tr.OPAnnualReimbursementAmt[bene_tr.ChronicCond_Depression==2]))\n",
    "sp.ttest_ind(bene_tr.OPAnnualReimbursementAmt[bene_tr.ChronicCond_Depression==1],bene_tr.OPAnnualReimbursementAmt[bene_tr.ChronicCond_Depression==2])"
   ]
  },
  {
   "cell_type": "markdown",
   "metadata": {},
   "source": [
    "Question: Is there a difference of inpatient claims between with diabetes and without? H0: There is no difference; H1: There is difference\n",
    "Answer: The mean inpatient claim for diabetes patient is 4871 dollars, and 1831 dollars for non-diabetes patients, the 2 sample t-test had p<0.001, so we will reject the null hypothesis and conclude there is a significant increase of inpatient claim amount for patient with diabetes."
   ]
  },
  {
   "cell_type": "code",
   "execution_count": 156,
   "metadata": {},
   "outputs": [
    {
     "name": "stdout",
     "output_type": "stream",
     "text": [
      "4870.745644014342\n",
      "1830.867579080939\n"
     ]
    },
    {
     "data": {
      "text/plain": [
       "Ttest_indResult(statistic=58.60074196933711, pvalue=0.0)"
      ]
     },
     "execution_count": 156,
     "metadata": {},
     "output_type": "execute_result"
    }
   ],
   "source": [
    "# Calculate the mean inpatient reimbursement for patients with Diabetes and those without\n",
    "# and test for the difference using 2 sample t-test.\n",
    "print(np.mean(bene_tr.IPAnnualReimbursementAmt[bene_tr.ChronicCond_Diabetes==1]))\n",
    "print(np.mean(bene_tr.IPAnnualReimbursementAmt[bene_tr.ChronicCond_Diabetes==2]))\n",
    "sp.ttest_ind(bene_tr.IPAnnualReimbursementAmt[bene_tr.ChronicCond_Diabetes==1],bene_tr.IPAnnualReimbursementAmt[bene_tr.ChronicCond_Diabetes==2])"
   ]
  },
  {
   "cell_type": "markdown",
   "metadata": {},
   "source": [
    "Question: Is there a difference of outpatient claims between with diabetes and without? H0: There is no difference; H1: There is difference\n",
    "Answer: The mean outpatient claim for diabetes patient is 1607 dollars, and 831 dollars for non-diabetes patients, the 2 sample t-test had p<0.001, so we will reject the null hypothesis and conclude there is a significant increase of outpatient claim amount for patient with diabetes."
   ]
  },
  {
   "cell_type": "code",
   "execution_count": 157,
   "metadata": {},
   "outputs": [
    {
     "name": "stdout",
     "output_type": "stream",
     "text": [
      "1607.2627741602812\n",
      "831.0575546089005\n"
     ]
    },
    {
     "data": {
      "text/plain": [
       "Ttest_indResult(statistic=57.381890854850816, pvalue=0.0)"
      ]
     },
     "execution_count": 157,
     "metadata": {},
     "output_type": "execute_result"
    }
   ],
   "source": [
    "# Calculate the mean outpatient reimbursement for patients with Diabetes and those without\n",
    "# and test for the difference using 2 sample t-test.\n",
    "print(np.mean(bene_tr.OPAnnualReimbursementAmt[bene_tr.ChronicCond_Diabetes==1]))\n",
    "print(np.mean(bene_tr.OPAnnualReimbursementAmt[bene_tr.ChronicCond_Diabetes==2]))\n",
    "sp.ttest_ind(bene_tr.OPAnnualReimbursementAmt[bene_tr.ChronicCond_Diabetes==1],bene_tr.OPAnnualReimbursementAmt[bene_tr.ChronicCond_Diabetes==2])"
   ]
  },
  {
   "cell_type": "markdown",
   "metadata": {},
   "source": [
    "Question: Is there a difference of inpatient claims between with ischemic heart disease and without? H0: There is no difference; H1: There is difference\n",
    "Answer: The mean inpatient claim for ischemic heart patient is 4698 dollars, and 1497 dollars for non-ischemic heart patients, the 2 sample t-test had p<0.001, so we will reject the null hypothesis and conclude there is a significant increase of inpatient claim amount for patient with ischemic heart."
   ]
  },
  {
   "cell_type": "code",
   "execution_count": 158,
   "metadata": {},
   "outputs": [
    {
     "name": "stdout",
     "output_type": "stream",
     "text": [
      "4697.77967622058\n",
      "1497.5347345920911\n"
     ]
    },
    {
     "data": {
      "text/plain": [
       "Ttest_indResult(statistic=58.997176886448116, pvalue=0.0)"
      ]
     },
     "execution_count": 158,
     "metadata": {},
     "output_type": "execute_result"
    }
   ],
   "source": [
    "# Calculate the mean inpatient reimbursement for patients with Ischemic Heart Disease and those without\n",
    "# and test for the difference using 2 sample t-test.\n",
    "print(np.mean(bene_tr.IPAnnualReimbursementAmt[bene_tr.ChronicCond_IschemicHeart==1]))\n",
    "print(np.mean(bene_tr.IPAnnualReimbursementAmt[bene_tr.ChronicCond_IschemicHeart==2]))\n",
    "sp.ttest_ind(bene_tr.IPAnnualReimbursementAmt[bene_tr.ChronicCond_IschemicHeart==1],bene_tr.IPAnnualReimbursementAmt[bene_tr.ChronicCond_IschemicHeart==2])"
   ]
  },
  {
   "cell_type": "markdown",
   "metadata": {},
   "source": [
    "Question: Is there a difference of outpatient claims between with ischemic heart disease and without? H0: There is no difference; H1: There is difference\n",
    "Answer: The mean outpatient claim for ischemic heart patient is 1521 dollars, and 833 dollars for non-ischemic heart patients, the 2 sample t-test had p<0.001, so we will reject the null hypothesis and conclude there is a significant increase of outpatient claim amount for patient with ischemic heart."
   ]
  },
  {
   "cell_type": "code",
   "execution_count": 159,
   "metadata": {},
   "outputs": [
    {
     "name": "stdout",
     "output_type": "stream",
     "text": [
      "1521.0811157148348\n",
      "833.5504987531172\n"
     ]
    },
    {
     "data": {
      "text/plain": [
       "Ttest_indResult(statistic=48.435752752509465, pvalue=0.0)"
      ]
     },
     "execution_count": 159,
     "metadata": {},
     "output_type": "execute_result"
    }
   ],
   "source": [
    "# Calculate the mean outpatient reimbursement for patients with Ischemic Heart Disease and those without\n",
    "# and test for the difference using 2 sample t-test.\n",
    "print(np.mean(bene_tr.OPAnnualReimbursementAmt[bene_tr.ChronicCond_IschemicHeart==1]))\n",
    "print(np.mean(bene_tr.OPAnnualReimbursementAmt[bene_tr.ChronicCond_IschemicHeart==2]))\n",
    "sp.ttest_ind(bene_tr.OPAnnualReimbursementAmt[bene_tr.ChronicCond_IschemicHeart==1],bene_tr.OPAnnualReimbursementAmt[bene_tr.ChronicCond_IschemicHeart==2])"
   ]
  },
  {
   "cell_type": "markdown",
   "metadata": {},
   "source": [
    "Question: Is there a difference of inpatient claims between with Osteoporasis and without? H0: There is no difference; H1: There is difference\n",
    "Answer: The mean inpatient claim for osteoporasis patient is 4608 dollars, and 3301 dollars for non-osteoporasis patients, the 2 sample t-test had p<0.001, so we will reject the null hypothesis and conclude there is a significant increase of inpatient claim amount for patient with osteoporasis."
   ]
  },
  {
   "cell_type": "code",
   "execution_count": 160,
   "metadata": {},
   "outputs": [
    {
     "name": "stdout",
     "output_type": "stream",
     "text": [
      "4608.430594603116\n",
      "3301.4308884842335\n"
     ]
    },
    {
     "data": {
      "text/plain": [
       "Ttest_indResult(statistic=22.736761609948537, pvalue=3.144673534152679e-114)"
      ]
     },
     "execution_count": 160,
     "metadata": {},
     "output_type": "execute_result"
    }
   ],
   "source": [
    "# Calculate the mean inpatient reimbursement for patients with Osteoporasis and those without\n",
    "# and test for the difference using 2 sample t-test.\n",
    "print(np.mean(bene_tr.IPAnnualReimbursementAmt[bene_tr.ChronicCond_Osteoporasis==1]))\n",
    "print(np.mean(bene_tr.IPAnnualReimbursementAmt[bene_tr.ChronicCond_Osteoporasis==2]))\n",
    "sp.ttest_ind(bene_tr.IPAnnualReimbursementAmt[bene_tr.ChronicCond_Osteoporasis==1],bene_tr.IPAnnualReimbursementAmt[bene_tr.ChronicCond_Osteoporasis==2])"
   ]
  },
  {
   "cell_type": "markdown",
   "metadata": {},
   "source": [
    "Question: Is there a difference of outpatient claims between with osteoporasis and without? H0: There is no difference; H1: There is difference\n",
    "Answer: The mean outpatient claim for osteoporasis patient is 1495 dollars, and 1224 dollars for non-osteoporasis patients, the 2 sample t-test had p<0.001, so we will reject the null hypothesis and conclude there is a significant increase of outpatient claim amount for patient with osteoporasis."
   ]
  },
  {
   "cell_type": "code",
   "execution_count": 161,
   "metadata": {},
   "outputs": [
    {
     "name": "stdout",
     "output_type": "stream",
     "text": [
      "1494.7116319398829\n",
      "1223.8107605202144\n"
     ]
    },
    {
     "data": {
      "text/plain": [
       "Ttest_indResult(statistic=18.068976723616014, pvalue=6.786472515170597e-73)"
      ]
     },
     "execution_count": 161,
     "metadata": {},
     "output_type": "execute_result"
    }
   ],
   "source": [
    "# Calculate the mean outpatient reimbursement for patients with Osteoporasis and those without\n",
    "# and test for the difference using 2 sample t-test.\n",
    "print(np.mean(bene_tr.OPAnnualReimbursementAmt[bene_tr.ChronicCond_Osteoporasis==1]))\n",
    "print(np.mean(bene_tr.OPAnnualReimbursementAmt[bene_tr.ChronicCond_Osteoporasis==2]))\n",
    "sp.ttest_ind(bene_tr.OPAnnualReimbursementAmt[bene_tr.ChronicCond_Osteoporasis==1],bene_tr.OPAnnualReimbursementAmt[bene_tr.ChronicCond_Osteoporasis==2])"
   ]
  },
  {
   "cell_type": "markdown",
   "metadata": {},
   "source": [
    "Question: Is there a difference of inpatient claims between with rheumatoidarthritis and without? H0: There is no difference; H1: There is difference\n",
    "Answer: The mean inpatient claim for rheumatoidarthritis patient is 4608 dollars, and 3301 dollars for non-rheumatoidarthritis patients, the 2 sample t-test had p<0.001, so we will reject the null hypothesis and conclude there is a significant increase of inpatient claim amount for patient with rheumatoidarthritis."
   ]
  },
  {
   "cell_type": "code",
   "execution_count": 162,
   "metadata": {},
   "outputs": [
    {
     "name": "stdout",
     "output_type": "stream",
     "text": [
      "5102.303001348921\n",
      "3162.1781649380414\n"
     ]
    },
    {
     "data": {
      "text/plain": [
       "Ttest_indResult(statistic=33.102931379255075, pvalue=2.336610160037299e-239)"
      ]
     },
     "execution_count": 162,
     "metadata": {},
     "output_type": "execute_result"
    }
   ],
   "source": [
    "# Calculate the mean inpatient reimbursement for patients with rheumatoidarthritis and those without\n",
    "# and test for the difference using 2 sample t-test.\n",
    "print(np.mean(bene_tr.IPAnnualReimbursementAmt[bene_tr.ChronicCond_rheumatoidarthritis==1]))\n",
    "print(np.mean(bene_tr.IPAnnualReimbursementAmt[bene_tr.ChronicCond_rheumatoidarthritis==2]))\n",
    "sp.ttest_ind(bene_tr.IPAnnualReimbursementAmt[bene_tr.ChronicCond_rheumatoidarthritis==1],bene_tr.IPAnnualReimbursementAmt[bene_tr.ChronicCond_rheumatoidarthritis==2])"
   ]
  },
  {
   "cell_type": "markdown",
   "metadata": {},
   "source": [
    "Question: Is there a difference of outpatient claims between with rheumatoidarthritis and without? H0: There is no difference; H1: There is difference\n",
    "Answer: The mean outpatient claim for rheumatoidarthritis patient is 1548 dollars, and 1212 dollars for non-rheumatoidarthritis patients, the 2 sample t-test had p<0.001, so we will reject the null hypothesis and conclude there is a significant increase of outpatient claim amount for patient with rheumatoidarthritis."
   ]
  },
  {
   "cell_type": "code",
   "execution_count": 163,
   "metadata": {},
   "outputs": [
    {
     "name": "stdout",
     "output_type": "stream",
     "text": [
      "1548.062893435252\n",
      "1211.8854640096338\n"
     ]
    },
    {
     "data": {
      "text/plain": [
       "Ttest_indResult(statistic=21.959212877777667, pvalue=1.0765721419954454e-106)"
      ]
     },
     "execution_count": 163,
     "metadata": {},
     "output_type": "execute_result"
    }
   ],
   "source": [
    "# Calculate the mean outpatient reimbursement for patients with rheumatoidarthritis and those without\n",
    "# and test for the difference using 2 sample t-test.\n",
    "print(np.mean(bene_tr.OPAnnualReimbursementAmt[bene_tr.ChronicCond_rheumatoidarthritis==1]))\n",
    "print(np.mean(bene_tr.OPAnnualReimbursementAmt[bene_tr.ChronicCond_rheumatoidarthritis==2]))\n",
    "sp.ttest_ind(bene_tr.OPAnnualReimbursementAmt[bene_tr.ChronicCond_rheumatoidarthritis==1],bene_tr.OPAnnualReimbursementAmt[bene_tr.ChronicCond_rheumatoidarthritis==2])"
   ]
  },
  {
   "cell_type": "markdown",
   "metadata": {},
   "source": [
    "Question: Is there a difference of inpatient claims between with stroke and without? H0: There is no difference; H1: There is difference\n",
    "Answer: The mean inpatient claim for stroke patient is 8111 dollars, and 3278 dollars for non-stroke patients, the 2 sample t-test had p<0.001, so we will reject the null hypothesis and conclude there is a significant increase of inpatient claim amount for patient with stroke."
   ]
  },
  {
   "cell_type": "code",
   "execution_count": 164,
   "metadata": {},
   "outputs": [
    {
     "name": "stdout",
     "output_type": "stream",
     "text": [
      "8111.4752601789305\n",
      "3278.3425024686135\n"
     ]
    },
    {
     "data": {
      "text/plain": [
       "Ttest_indResult(statistic=51.209983696332664, pvalue=0.0)"
      ]
     },
     "execution_count": 164,
     "metadata": {},
     "output_type": "execute_result"
    }
   ],
   "source": [
    "# Calculate the mean inpatient reimbursement for patients with stroke and those without\n",
    "# and test for the difference using 2 sample t-test.\n",
    "print(np.mean(bene_tr.IPAnnualReimbursementAmt[bene_tr.ChronicCond_stroke==1]))\n",
    "print(np.mean(bene_tr.IPAnnualReimbursementAmt[bene_tr.ChronicCond_stroke==2]))\n",
    "sp.ttest_ind(bene_tr.IPAnnualReimbursementAmt[bene_tr.ChronicCond_stroke==1],bene_tr.IPAnnualReimbursementAmt[bene_tr.ChronicCond_stroke==2])"
   ]
  },
  {
   "cell_type": "markdown",
   "metadata": {},
   "source": [
    "Question: Is there a difference of outpatient claims between with stroke and without? H0: There is no difference; H1: There is difference\n",
    "Answer: The mean outpatient claim for stroke patient is 1925 dollars, and  dollars for non-stroke patients, the 2 sample t-test had p<0.001, so we will reject the null hypothesis and conclude there is a significant increase of outpatient claim amount for patient with stroke."
   ]
  },
  {
   "cell_type": "code",
   "execution_count": 165,
   "metadata": {},
   "outputs": [
    {
     "name": "stdout",
     "output_type": "stream",
     "text": [
      "1925.1981011502648\n",
      "1244.3999310355637\n"
     ]
    },
    {
     "data": {
      "text/plain": [
       "Ttest_indResult(statistic=27.49297433389151, pvalue=5.966318038277825e-166)"
      ]
     },
     "execution_count": 165,
     "metadata": {},
     "output_type": "execute_result"
    }
   ],
   "source": [
    "# Calculate the mean outpatient reimbursement for patients with stroke and those without\n",
    "# and test for the difference using 2 sample t-test.\n",
    "print(np.mean(bene_tr.OPAnnualReimbursementAmt[bene_tr.ChronicCond_stroke==1]))\n",
    "print(np.mean(bene_tr.OPAnnualReimbursementAmt[bene_tr.ChronicCond_stroke==2]))\n",
    "sp.ttest_ind(bene_tr.OPAnnualReimbursementAmt[bene_tr.ChronicCond_stroke==1],bene_tr.OPAnnualReimbursementAmt[bene_tr.ChronicCond_stroke==2])"
   ]
  },
  {
   "cell_type": "markdown",
   "metadata": {},
   "source": [
    "Question: Is there a difference of number of inpatient claims filed by the providers who are potentially fraud vs. not? \n",
    "\n",
    "H0: There is no difference; H1: There is difference \n",
    "\n",
    "Answer: The mean inpatient claim filed by the potentially fraud providers is 46.2, versus 3.5 by the providers who are not. The 2 sample t-test had p<0.001, so we will reject the null hypothesis and conclude there is a significant increase of number of inpatient claims by potentially fraudulent providers. "
   ]
  },
  {
   "cell_type": "code",
   "execution_count": 166,
   "metadata": {},
   "outputs": [
    {
     "name": "stdout",
     "output_type": "stream",
     "text": [
      "46.24901185770751\n",
      "3.4812398042414356\n"
     ]
    },
    {
     "data": {
      "text/plain": [
       "Ttest_indResult(statistic=45.40929923326268, pvalue=0.0)"
      ]
     },
     "execution_count": 166,
     "metadata": {},
     "output_type": "execute_result"
    }
   ],
   "source": [
    "# Calculate the mean number of inpatient claims for providers who are fraudulent and those who are not\n",
    "# and test for the difference using 2 sample t-test.\n",
    "provider_clean=provider_final.fillna(0)\n",
    "print(np.mean(provider_clean.Inpatient_Claim_Number[provider_clean.PotentialFraud=='Yes']))\n",
    "print(np.mean(provider_clean.Inpatient_Claim_Number[provider_clean.PotentialFraud=='No']))\n",
    "sp.ttest_ind(provider_clean.Inpatient_Claim_Number[provider_clean.PotentialFraud=='Yes'],provider_clean.Inpatient_Claim_Number[provider_clean.PotentialFraud=='No'])"
   ]
  },
  {
   "cell_type": "markdown",
   "metadata": {},
   "source": [
    "Question: Is there a difference of number of outpatient claims filed by the providers who are potentially fraud vs. not? H0: There is no difference; H1: There is difference\n",
    "Answer: The mean outpatient claim filed by the potentially fraud providers is 374, versus 67 by the providers who are not. The 2 sample t-test had p<0.001, so we will reject the null hypothesis and conclude there is a significant increase of number of outpatient claims by potentially fraudulent providers. "
   ]
  },
  {
   "cell_type": "code",
   "execution_count": 167,
   "metadata": {},
   "outputs": [
    {
     "name": "stdout",
     "output_type": "stream",
     "text": [
      "374.29644268774706\n",
      "66.95411908646004\n"
     ]
    },
    {
     "data": {
      "text/plain": [
       "Ttest_indResult(statistic=26.217049759584967, pvalue=1.0154857615118446e-142)"
      ]
     },
     "execution_count": 167,
     "metadata": {},
     "output_type": "execute_result"
    }
   ],
   "source": [
    "# Calculate the mean number of outpatient claims for providers who are fraudulent and those who are not\n",
    "# and test for the difference using 2 sample t-test.\n",
    "print(np.mean(provider_clean.Outpatient_Claim_Number[provider_clean.PotentialFraud=='Yes']))\n",
    "print(np.mean(provider_clean.Outpatient_Claim_Number[provider_clean.PotentialFraud=='No']))\n",
    "sp.ttest_ind(provider_clean.Outpatient_Claim_Number[provider_clean.PotentialFraud=='Yes'],provider_clean.Outpatient_Claim_Number[provider_clean.PotentialFraud=='No'])"
   ]
  },
  {
   "cell_type": "markdown",
   "metadata": {},
   "source": [
    "Question: Is there a difference of the dollar amount of inpatient claims filed by the providers who are potentially fraud vs. not? H0: There is no difference; H1: There is difference\n",
    "Answer: The mean inpatient claim amounts filed by the potentially fraud providers is 476,855 dollars, versus 34,056 dollars by the providers who are not. The 2 sample t-test had p<0.001, so we will reject the null hypothesis and conclude there is a significant increase of dollar amounts of inpatient claims by potentially fraudulent providers. "
   ]
  },
  {
   "cell_type": "code",
   "execution_count": 168,
   "metadata": {},
   "outputs": [
    {
     "name": "stdout",
     "output_type": "stream",
     "text": [
      "476854.7628458498\n",
      "34055.5689233279\n"
     ]
    },
    {
     "data": {
      "text/plain": [
       "Ttest_indResult(statistic=46.300175475673704, pvalue=0.0)"
      ]
     },
     "execution_count": 168,
     "metadata": {},
     "output_type": "execute_result"
    }
   ],
   "source": [
    "# Calculate the mean amount of inpatient claims for providers who are fraudulent and those who are not\n",
    "# and test for the difference using 2 sample t-test.\n",
    "print(np.mean(provider_clean.Inpatient_Claim_Amount[provider_clean.PotentialFraud=='Yes']))\n",
    "print(np.mean(provider_clean.Inpatient_Claim_Amount[provider_clean.PotentialFraud=='No']))\n",
    "sp.ttest_ind(provider_clean.Inpatient_Claim_Amount[provider_clean.PotentialFraud=='Yes'],provider_clean.Inpatient_Claim_Amount[provider_clean.PotentialFraud=='No'])"
   ]
  },
  {
   "cell_type": "markdown",
   "metadata": {},
   "source": [
    "Question: Is there a difference of the dollar amount of outpatient claims filed by the providers who are potentially fraud vs. not? H0: There is no difference; H1: There is difference\n",
    "Answer: The mean outpatient claim amounts filed by the potentially fraud providers is 107,495 dollars, versus 19,138 dollars by the providers who are not. The 2 sample t-test had p<0.001, so we will reject the null hypothesis and conclude there is a significant increase of dollar amounts of outpatient claims by potentially fraudulent providers. "
   ]
  },
  {
   "cell_type": "code",
   "execution_count": 169,
   "metadata": {},
   "outputs": [
    {
     "name": "stdout",
     "output_type": "stream",
     "text": [
      "107495.2766798419\n",
      "19138.154567699836\n"
     ]
    },
    {
     "data": {
      "text/plain": [
       "Ttest_indResult(statistic=26.38910151927659, pvalue=1.826782986892403e-144)"
      ]
     },
     "execution_count": 169,
     "metadata": {},
     "output_type": "execute_result"
    }
   ],
   "source": [
    "# Calculate the mean amount of outpatient claims for providers who are fraudulent and those who are not\n",
    "# and test for the difference using 2 sample t-test.\n",
    "print(np.mean(provider_clean.Outpatient_Claim_Amount[provider_clean.PotentialFraud=='Yes']))\n",
    "print(np.mean(provider_clean.Outpatient_Claim_Amount[provider_clean.PotentialFraud=='No']))\n",
    "sp.ttest_ind(provider_clean.Outpatient_Claim_Amount[provider_clean.PotentialFraud=='Yes'],provider_clean.Outpatient_Claim_Amount[provider_clean.PotentialFraud=='No'])"
   ]
  },
  {
   "cell_type": "markdown",
   "metadata": {},
   "source": [
    "<h3> In-depth Data Analysis"
   ]
  },
  {
   "cell_type": "markdown",
   "metadata": {},
   "source": [
    "We will use several machine learning algorithm to predict the provider who may be fraudulent. \n",
    "\n",
    "We will investigate the methods for analyzing imbalanced data since <10% of the providers are deemed fraudulent. "
   ]
  },
  {
   "cell_type": "code",
   "execution_count": 170,
   "metadata": {},
   "outputs": [],
   "source": [
    "#import the raw training datasets: there are four, one with provider information, one with beneficiary data, and two with claim data. \n",
    "fraud_tr = pd.read_csv('/Users/zhengzhang/Downloads/healthcare-provider-fraud-detection-analysis/Train-1542865627584.csv')\n",
    "bene_tr = pd.read_csv('/Users/zhengzhang/Downloads/healthcare-provider-fraud-detection-analysis/Train_Beneficiarydata-1542865627584.csv')\n",
    "inpatient_tr = pd.read_csv('/Users/zhengzhang/Downloads/healthcare-provider-fraud-detection-analysis/Train_Inpatientdata-1542865627584.csv')\n",
    "outpatient_tr = pd.read_csv('/Users/zhengzhang/Downloads/healthcare-provider-fraud-detection-analysis/Train_Outpatientdata-1542865627584.csv')"
   ]
  },
  {
   "cell_type": "code",
   "execution_count": 3,
   "metadata": {},
   "outputs": [],
   "source": [
    "In_Provider=pd.DataFrame([inpatient_tr['Provider'].value_counts().index,inpatient_tr['Provider'].value_counts()]).transpose().rename({0:'Provider',1:'Inpatient_Claim_Number'},axis=1)\n",
    "#In_Provider\n",
    "Out_Provider=pd.DataFrame([outpatient_tr['Provider'].value_counts().index,outpatient_tr['Provider'].value_counts()]).transpose().rename({0:'Provider',1:'Outpatient_Claim_Number'},axis=1)\n",
    "#Out_Provider\n",
    "provider_claimnumber=pd.merge(In_Provider,Out_Provider,on='Provider',how='outer')\n",
    "inreimburse_by_provider=inpatient_tr.groupby('Provider')['InscClaimAmtReimbursed'].sum()\n",
    "inreimburse_temp1=pd.DataFrame([inreimburse_by_provider.index,inreimburse_by_provider])\n",
    "inreimburse_temp2=inreimburse_temp1.transpose()\n",
    "In_Provider_Claim=inreimburse_temp2.rename({0:'Provider',1:'Inpatient_Claim_Amount'},axis=1)\n",
    "outreimburse_by_provider=outpatient_tr.groupby('Provider')['InscClaimAmtReimbursed'].sum()\n",
    "outreimburse_temp1=pd.DataFrame([outreimburse_by_provider.index,outreimburse_by_provider])\n",
    "outreimburse_temp2=outreimburse_temp1.transpose()\n",
    "Out_Provider_Claim=outreimburse_temp2.rename({0:'Provider',1:'Outpatient_Claim_Amount'},axis=1)\n",
    "provider_claimamount=pd.merge(In_Provider_Claim,Out_Provider_Claim,on='Provider',how='outer')\n",
    "provider_list1=pd.merge(fraud_tr,provider_claimnumber,on='Provider',how='outer')\n",
    "#provider_list1\n",
    "provider_list2=pd.merge(provider_list1,provider_claimamount,on='Provider',how='outer')\n",
    "#provider_list2"
   ]
  },
  {
   "cell_type": "code",
   "execution_count": 4,
   "metadata": {},
   "outputs": [],
   "source": [
    "# Create arrays for the features and the response variable\n",
    "provider_clean=provider_list2.fillna(0)\n",
    "y = provider_clean['PotentialFraud'].values\n",
    "X = provider_clean.drop(['PotentialFraud','Provider'], axis=1).values"
   ]
  },
  {
   "cell_type": "markdown",
   "metadata": {},
   "source": [
    "<h4> 1. K nearest neighbors"
   ]
  },
  {
   "cell_type": "code",
   "execution_count": 5,
   "metadata": {},
   "outputs": [
    {
     "data": {
      "text/plain": [
       "{'n_neighbors': 8}"
      ]
     },
     "execution_count": 5,
     "metadata": {},
     "output_type": "execute_result"
    }
   ],
   "source": [
    "# Use GridSearchCV to choose hyperparameter for KNN, n_neighbors\n",
    "# Do hyperparameter tuning on training set\n",
    "from sklearn.neighbors import KNeighborsClassifier\n",
    "from sklearn.model_selection import GridSearchCV\n",
    "from sklearn.model_selection import train_test_split\n",
    "from sklearn.metrics import classification_report\n",
    "from sklearn.metrics import confusion_matrix\n",
    "X_train, X_test, y_train, y_test = train_test_split(X, y, test_size=0.3, random_state=21, stratify=y)\n",
    "param_grid = {'n_neighbors': np.arange(1, 15)}\n",
    "knn = KNeighborsClassifier()\n",
    "knn_cv = GridSearchCV(knn, param_grid, cv=5)\n",
    "knn_cv.fit(X_train, y_train)\n",
    "knn_cv.best_params_"
   ]
  },
  {
   "cell_type": "code",
   "execution_count": 6,
   "metadata": {},
   "outputs": [
    {
     "name": "stdout",
     "output_type": "stream",
     "text": [
      "              precision    recall  f1-score   support\n",
      "\n",
      "          No       0.98      0.95      0.96      1521\n",
      "         Yes       0.47      0.70      0.56       102\n",
      "\n",
      "    accuracy                           0.93      1623\n",
      "   macro avg       0.72      0.82      0.76      1623\n",
      "weighted avg       0.95      0.93      0.94      1623\n",
      "\n"
     ]
    }
   ],
   "source": [
    "#calculate the prediction performance: classfication report\n",
    "y_pred=knn_cv.predict(X_test)\n",
    "print(classification_report(y_pred,y_test))"
   ]
  },
  {
   "cell_type": "code",
   "execution_count": 7,
   "metadata": {},
   "outputs": [
    {
     "name": "stdout",
     "output_type": "stream",
     "text": [
      "[[1440   81]\n",
      " [  31   71]]\n"
     ]
    }
   ],
   "source": [
    "#calculate confusion matrix\n",
    "print(confusion_matrix(y_pred,y_test))"
   ]
  },
  {
   "cell_type": "code",
   "execution_count": 153,
   "metadata": {},
   "outputs": [
    {
     "data": {
      "text/plain": [
       "<sklearn.metrics._plot.confusion_matrix.ConfusionMatrixDisplay at 0x1a28f85b90>"
      ]
     },
     "execution_count": 153,
     "metadata": {},
     "output_type": "execute_result"
    },
    {
     "data": {
      "image/png": "[encoded data removed]",
      "text/plain": [
       "<Figure size 432x288 with 2 Axes>"
      ]
     },
     "metadata": {},
     "output_type": "display_data"
    }
   ],
   "source": [
    "# plot confusion matrix\n",
    "from sklearn.metrics import plot_confusion_matrix\n",
    "plot_confusion_matrix(knn_cv,X_test,y_test,normalize='true')"
   ]
  },
  {
   "cell_type": "markdown",
   "metadata": {},
   "source": [
    "Conclusion: KNN is not a good method with <50% sensitivity."
   ]
  },
  {
   "cell_type": "markdown",
   "metadata": {},
   "source": [
    "<h4> 2. Logistic regression"
   ]
  },
  {
   "cell_type": "code",
   "execution_count": 195,
   "metadata": {},
   "outputs": [],
   "source": [
    "import warnings\n",
    "warnings. filterwarnings('ignore')"
   ]
  },
  {
   "cell_type": "code",
   "execution_count": 196,
   "metadata": {},
   "outputs": [
    {
     "name": "stdout",
     "output_type": "stream",
     "text": [
      "Tuned Logistic Regression Parameter: {'C': 1.2589254117941673, 'penalty': 'l1'}\n",
      "Tuned Logistic Regression Accuracy: 0.9353074035475405\n"
     ]
    }
   ],
   "source": [
    "# Use GridSearchCV to choose hyperparameter for logistic regression\n",
    "# Do hyperparameter tuning on training set\n",
    "from sklearn.linear_model import LogisticRegression\n",
    "# Create the hyperparameter grid\n",
    "c_space = np.logspace(0.1, 8, 15)\n",
    "param_grid = {'C': c_space, 'penalty': ['l1', 'l2']}\n",
    "# Instantiate the logistic regression classifier: logreg\n",
    "logreg = LogisticRegression(solver='liblinear',random_state=21)\n",
    "# Create train and test sets\n",
    "X_train, X_test, y_train, y_test = train_test_split(X,y,test_size=0.3,random_state=21,stratify=y)\n",
    "# Instantiate the GridSearchCV object: logreg_cv\n",
    "logreg_cv = GridSearchCV(logreg,param_grid,cv=5)\n",
    "# Fit it to the training data\n",
    "logreg_cv.fit(X_train,y_train)\n",
    "# Print the optimal parameters and best score\n",
    "print(\"Tuned Logistic Regression Parameter: {}\".format(logreg_cv.best_params_))\n",
    "print(\"Tuned Logistic Regression Accuracy: {}\".format(logreg_cv.best_score_))"
   ]
  },
  {
   "cell_type": "code",
   "execution_count": 197,
   "metadata": {},
   "outputs": [
    {
     "name": "stdout",
     "output_type": "stream",
     "text": [
      "              precision    recall  f1-score   support\n",
      "\n",
      "          No       0.98      0.95      0.96      1529\n",
      "         Yes       0.46      0.74      0.57        94\n",
      "\n",
      "    accuracy                           0.93      1623\n",
      "   macro avg       0.72      0.85      0.77      1623\n",
      "weighted avg       0.95      0.93      0.94      1623\n",
      "\n"
     ]
    }
   ],
   "source": [
    "y_pred=logreg_cv.predict(X_test)\n",
    "print(classification_report(y_pred,y_test))"
   ]
  },
  {
   "cell_type": "code",
   "execution_count": 198,
   "metadata": {},
   "outputs": [
    {
     "name": "stdout",
     "output_type": "stream",
     "text": [
      "[[1447   82]\n",
      " [  24   70]]\n"
     ]
    }
   ],
   "source": [
    "print(confusion_matrix(y_pred,y_test))"
   ]
  },
  {
   "cell_type": "code",
   "execution_count": 199,
   "metadata": {},
   "outputs": [
    {
     "data": {
      "text/plain": [
       "<sklearn.metrics._plot.confusion_matrix.ConfusionMatrixDisplay at 0x1a29d4f1d0>"
      ]
     },
     "execution_count": 199,
     "metadata": {},
     "output_type": "execute_result"
    },
    {
     "data": {
      "image/png": "[encoded data removed]",
      "text/plain": [
       "<Figure size 432x288 with 2 Axes>"
      ]
     },
     "metadata": {},
     "output_type": "display_data"
    }
   ],
   "source": [
    "plot_confusion_matrix(logreg_cv,X_test,y_test,normalize='true')"
   ]
  },
  {
   "cell_type": "markdown",
   "metadata": {},
   "source": [
    "Conclusion: logistic regression is not a good method with <50% sensitivity, but oversampling the positive cases may help. "
   ]
  },
  {
   "cell_type": "markdown",
   "metadata": {},
   "source": [
    "<h4> 3. Logistic regression with oversampler"
   ]
  },
  {
   "cell_type": "code",
   "execution_count": 200,
   "metadata": {},
   "outputs": [
    {
     "name": "stdout",
     "output_type": "stream",
     "text": [
      "[('No', 3433), ('Yes', 3433)]\n"
     ]
    }
   ],
   "source": [
    "# Use oversampler\n",
    "from imblearn.over_sampling import RandomOverSampler\n",
    "ros = RandomOverSampler(random_state=0)\n",
    "X_resampled, y_resampled = ros.fit_resample(X_train, y_train)\n",
    "from collections import Counter\n",
    "print(sorted(Counter(y_resampled).items()))"
   ]
  },
  {
   "cell_type": "code",
   "execution_count": 201,
   "metadata": {},
   "outputs": [
    {
     "name": "stdout",
     "output_type": "stream",
     "text": [
      "Tuned Logistic Regression Parameter: {'C': 1.2589254117941673, 'penalty': 'l1'}\n",
      "Tuned Logistic Regression Accuracy: 0.8584317429825148\n"
     ]
    }
   ],
   "source": [
    "# Fit logistic regression to the over-sampled data\n",
    "logreg_cv_r = GridSearchCV(logreg,param_grid,cv=5)\n",
    "logreg_cv_r.fit(X_resampled,y_resampled)\n",
    "# Print the optimal parameters and best score\n",
    "print(\"Tuned Logistic Regression Parameter: {}\".format(logreg_cv_r.best_params_))\n",
    "print(\"Tuned Logistic Regression Accuracy: {}\".format(logreg_cv_r.best_score_))"
   ]
  },
  {
   "cell_type": "code",
   "execution_count": 202,
   "metadata": {},
   "outputs": [
    {
     "name": "stdout",
     "output_type": "stream",
     "text": [
      "              precision    recall  f1-score   support\n",
      "\n",
      "          No       0.91      0.98      0.94      1369\n",
      "         Yes       0.78      0.47      0.59       254\n",
      "\n",
      "    accuracy                           0.90      1623\n",
      "   macro avg       0.85      0.72      0.76      1623\n",
      "weighted avg       0.89      0.90      0.89      1623\n",
      "\n"
     ]
    }
   ],
   "source": [
    "y_pred=logreg_cv_r.predict(X_test)\n",
    "print(classification_report(y_pred,y_test))"
   ]
  },
  {
   "cell_type": "code",
   "execution_count": 203,
   "metadata": {},
   "outputs": [
    {
     "name": "stdout",
     "output_type": "stream",
     "text": [
      "[[1336   33]\n",
      " [ 135  119]]\n"
     ]
    }
   ],
   "source": [
    "print(confusion_matrix(y_pred,y_test))"
   ]
  },
  {
   "cell_type": "code",
   "execution_count": 204,
   "metadata": {},
   "outputs": [
    {
     "data": {
      "text/plain": [
       "<sklearn.metrics._plot.confusion_matrix.ConfusionMatrixDisplay at 0x1a2a233d50>"
      ]
     },
     "execution_count": 204,
     "metadata": {},
     "output_type": "execute_result"
    },
    {
     "data": {
      "image/png": "[encoded data removed]",
      "text/plain": [
       "<Figure size 432x288 with 2 Axes>"
      ]
     },
     "metadata": {},
     "output_type": "display_data"
    }
   ],
   "source": [
    "plot_confusion_matrix(logreg_cv_r,X_test,y_test,normalize='true')"
   ]
  },
  {
   "cell_type": "code",
   "execution_count": 205,
   "metadata": {},
   "outputs": [
    {
     "name": "stdout",
     "output_type": "stream",
     "text": [
      "0.8455602168234999\n",
      "(array([0.9082257 , 0.78289474]), array([0.78289474, 0.9082257 ]), array([1471,  152]))\n"
     ]
    }
   ],
   "source": [
    "from sklearn.metrics import balanced_accuracy_score\n",
    "from imblearn.metrics import sensitivity_specificity_support, sensitivity_score, specificity_score\n",
    "print(balanced_accuracy_score(y_test, y_pred))\n",
    "print(sensitivity_specificity_support(y_test,y_pred))"
   ]
  },
  {
   "cell_type": "markdown",
   "metadata": {},
   "source": [
    "Conclusion: logistic regression with oversampling the positive cases have dramatically improved the accuracy with sensitivity of 78% sensitivity and 91% specificity."
   ]
  },
  {
   "cell_type": "markdown",
   "metadata": {},
   "source": [
    "<h4> 4. Random Forest"
   ]
  },
  {
   "cell_type": "code",
   "execution_count": 185,
   "metadata": {},
   "outputs": [],
   "source": [
    "# Try Gridsearch on original imbalanced sampling\n",
    "from sklearn.ensemble import RandomForestClassifier\n",
    "X_train, X_test, y_train, y_test = train_test_split(X, y, test_size=0.3, random_state=21, stratify=y)\n",
    "param_grid = {'n_estimators': np.arange(50, 100)}\n",
    "model=RandomForestClassifier(random_state=21)\n",
    "rf_cv = GridSearchCV(model, param_grid, cv=5)\n",
    "rf_cv.fit(X_train, y_train)\n",
    "rf_cv.best_params_\n",
    "rf_cv.score(X_test,y_test)\n",
    "y_pred=rf_cv.predict(X_test)"
   ]
  },
  {
   "cell_type": "code",
   "execution_count": 189,
   "metadata": {},
   "outputs": [
    {
     "data": {
      "text/plain": [
       "{'n_estimators': 51}"
      ]
     },
     "execution_count": 189,
     "metadata": {},
     "output_type": "execute_result"
    }
   ],
   "source": [
    "rf_cv.best_params_"
   ]
  },
  {
   "cell_type": "code",
   "execution_count": 186,
   "metadata": {},
   "outputs": [
    {
     "name": "stdout",
     "output_type": "stream",
     "text": [
      "              precision    recall  f1-score   support\n",
      "\n",
      "          No       0.97      0.95      0.96      1502\n",
      "         Yes       0.49      0.61      0.54       121\n",
      "\n",
      "    accuracy                           0.92      1623\n",
      "   macro avg       0.73      0.78      0.75      1623\n",
      "weighted avg       0.93      0.92      0.93      1623\n",
      "\n"
     ]
    }
   ],
   "source": [
    "print(classification_report(y_pred,y_test))"
   ]
  },
  {
   "cell_type": "code",
   "execution_count": 187,
   "metadata": {},
   "outputs": [
    {
     "name": "stdout",
     "output_type": "stream",
     "text": [
      "[[1424   78]\n",
      " [  47   74]]\n"
     ]
    }
   ],
   "source": [
    "print(confusion_matrix(y_pred,y_test))"
   ]
  },
  {
   "cell_type": "code",
   "execution_count": 188,
   "metadata": {},
   "outputs": [
    {
     "data": {
      "text/plain": [
       "<sklearn.metrics._plot.confusion_matrix.ConfusionMatrixDisplay at 0x1a24e36f90>"
      ]
     },
     "execution_count": 188,
     "metadata": {},
     "output_type": "execute_result"
    },
    {
     "data": {
      "image/png": "[encoded data removed]",
      "text/plain": [
       "<Figure size 432x288 with 2 Axes>"
      ]
     },
     "metadata": {},
     "output_type": "display_data"
    }
   ],
   "source": [
    "plot_confusion_matrix(rf_cv,X_test,y_test,normalize='true')"
   ]
  },
  {
   "cell_type": "markdown",
   "metadata": {},
   "source": [
    "Conclusion: random forests is not working very well on the imbalanced data. "
   ]
  },
  {
   "cell_type": "markdown",
   "metadata": {},
   "source": [
    "<h4> 5. Random forest with balanced sampling"
   ]
  },
  {
   "cell_type": "code",
   "execution_count": 25,
   "metadata": {},
   "outputs": [
    {
     "data": {
      "text/plain": [
       "{'n_estimators': 81}"
      ]
     },
     "execution_count": 25,
     "metadata": {},
     "output_type": "execute_result"
    }
   ],
   "source": [
    "from imblearn.ensemble import BalancedRandomForestClassifier\n",
    "param_grid = {'n_estimators': np.arange(50, 100)}\n",
    "brf = BalancedRandomForestClassifier(random_state=21)\n",
    "brf_cv = GridSearchCV(brf, param_grid, cv=5)\n",
    "brf_cv.fit(X_train, y_train)\n",
    "brf_cv.best_params_"
   ]
  },
  {
   "cell_type": "code",
   "execution_count": 26,
   "metadata": {},
   "outputs": [
    {
     "name": "stdout",
     "output_type": "stream",
     "text": [
      "0.8536530824000859\n"
     ]
    }
   ],
   "source": [
    "y_pred = brf_cv.predict(X_test)\n",
    "print(balanced_accuracy_score(y_test, y_pred))"
   ]
  },
  {
   "cell_type": "code",
   "execution_count": 27,
   "metadata": {},
   "outputs": [
    {
     "name": "stdout",
     "output_type": "stream",
     "text": [
      "(array([0.83888511, 0.86842105]), array([0.86842105, 0.83888511]), array([1471,  152]))\n"
     ]
    }
   ],
   "source": [
    "print(sensitivity_specificity_support(y_test,y_pred))"
   ]
  },
  {
   "cell_type": "code",
   "execution_count": 28,
   "metadata": {},
   "outputs": [
    {
     "name": "stdout",
     "output_type": "stream",
     "text": [
      "[[1234   20]\n",
      " [ 237  132]]\n"
     ]
    }
   ],
   "source": [
    "print(confusion_matrix(y_pred,y_test))"
   ]
  },
  {
   "cell_type": "code",
   "execution_count": 36,
   "metadata": {},
   "outputs": [
    {
     "data": {
      "text/plain": [
       "<sklearn.metrics._plot.confusion_matrix.ConfusionMatrixDisplay at 0x1a26512810>"
      ]
     },
     "execution_count": 36,
     "metadata": {},
     "output_type": "execute_result"
    },
    {
     "data": {
      "image/png": "[encoded data removed]",
      "text/plain": [
       "<Figure size 432x288 with 2 Axes>"
      ]
     },
     "metadata": {
      "needs_background": "light"
     },
     "output_type": "display_data"
    }
   ],
   "source": [
    "plot_confusion_matrix(brf_cv,X_test,y_test,normalize='true')"
   ]
  },
  {
   "cell_type": "markdown",
   "metadata": {},
   "source": [
    "Random forest with balanced data improved the performance to 87% sensitivity and 84% specificity. "
   ]
  },
  {
   "cell_type": "markdown",
   "metadata": {},
   "source": [
    "<h4> 6. Balanced Bagging"
   ]
  },
  {
   "cell_type": "code",
   "execution_count": 37,
   "metadata": {},
   "outputs": [
    {
     "data": {
      "text/plain": [
       "0.8247052667358403"
      ]
     },
     "execution_count": 37,
     "metadata": {},
     "output_type": "execute_result"
    }
   ],
   "source": [
    "from imblearn.ensemble import BalancedBaggingClassifier\n",
    "from sklearn.tree import DecisionTreeClassifier\n",
    "bbc = BalancedBaggingClassifier(base_estimator=DecisionTreeClassifier(), sampling_strategy='auto', replacement=False,\n",
    "                               random_state=21)\n",
    "bbc.fit(X_train, y_train) \n",
    "y_pred = bbc.predict(X_test)\n",
    "balanced_accuracy_score(y_test, y_pred)  "
   ]
  },
  {
   "cell_type": "code",
   "execution_count": 38,
   "metadata": {},
   "outputs": [
    {
     "name": "stdout",
     "output_type": "stream",
     "text": [
      "(array([0.87967369, 0.76973684]), array([0.76973684, 0.87967369]), array([1471,  152]))\n"
     ]
    }
   ],
   "source": [
    "print(sensitivity_specificity_support(y_test,y_pred))"
   ]
  },
  {
   "cell_type": "code",
   "execution_count": 39,
   "metadata": {},
   "outputs": [
    {
     "name": "stdout",
     "output_type": "stream",
     "text": [
      "[[1294   35]\n",
      " [ 177  117]]\n"
     ]
    }
   ],
   "source": [
    "print(confusion_matrix(y_pred,y_test))"
   ]
  },
  {
   "cell_type": "code",
   "execution_count": 40,
   "metadata": {},
   "outputs": [
    {
     "data": {
      "text/plain": [
       "<sklearn.metrics._plot.confusion_matrix.ConfusionMatrixDisplay at 0x1a2664e1d0>"
      ]
     },
     "execution_count": 40,
     "metadata": {},
     "output_type": "execute_result"
    },
    {
     "data": {
      "image/png": "[encoded data removed]",
      "text/plain": [
       "<Figure size 432x288 with 2 Axes>"
      ]
     },
     "metadata": {
      "needs_background": "light"
     },
     "output_type": "display_data"
    }
   ],
   "source": [
    "plot_confusion_matrix(bbc,X_test,y_test,normalize='true')"
   ]
  },
  {
   "cell_type": "markdown",
   "metadata": {},
   "source": [
    "Balanced bagging is not the best method with 77% sensitivity and 88% specificity. "
   ]
  },
  {
   "cell_type": "markdown",
   "metadata": {},
   "source": [
    "<h4> 7. Boosting: Adaboosting"
   ]
  },
  {
   "cell_type": "code",
   "execution_count": 41,
   "metadata": {},
   "outputs": [
    {
     "data": {
      "text/plain": [
       "0.8561419907689005"
      ]
     },
     "execution_count": 41,
     "metadata": {},
     "output_type": "execute_result"
    }
   ],
   "source": [
    "from imblearn.ensemble import EasyEnsembleClassifier\n",
    "eec = EasyEnsembleClassifier(random_state=21)\n",
    "eec.fit(X_train, y_train) \n",
    "y_pred = eec.predict(X_test)\n",
    "balanced_accuracy_score(y_test, y_pred)  "
   ]
  },
  {
   "cell_type": "code",
   "execution_count": 42,
   "metadata": {},
   "outputs": [
    {
     "name": "stdout",
     "output_type": "stream",
     "text": [
      "[[1251   21]\n",
      " [ 220  131]]\n"
     ]
    }
   ],
   "source": [
    "print(confusion_matrix(y_pred,y_test))"
   ]
  },
  {
   "cell_type": "code",
   "execution_count": 43,
   "metadata": {},
   "outputs": [
    {
     "name": "stdout",
     "output_type": "stream",
     "text": [
      "(array([0.85044188, 0.86184211]), array([0.86184211, 0.85044188]), array([1471,  152]))\n"
     ]
    }
   ],
   "source": [
    "print(sensitivity_specificity_support(y_test,y_pred))"
   ]
  },
  {
   "cell_type": "code",
   "execution_count": 44,
   "metadata": {},
   "outputs": [
    {
     "data": {
      "text/plain": [
       "<sklearn.metrics._plot.confusion_matrix.ConfusionMatrixDisplay at 0x1a26702950>"
      ]
     },
     "execution_count": 44,
     "metadata": {},
     "output_type": "execute_result"
    },
    {
     "data": {
      "image/png": "[encoded data removed]",
      "text/plain": [
       "<Figure size 432x288 with 2 Axes>"
      ]
     },
     "metadata": {
      "needs_background": "light"
     },
     "output_type": "display_data"
    }
   ],
   "source": [
    "plot_confusion_matrix(eec,X_test,y_test,normalize='true')"
   ]
  },
  {
   "cell_type": "markdown",
   "metadata": {},
   "source": [
    "Adaboosting has the 86% sensitivity and 85% specificity. "
   ]
  },
  {
   "cell_type": "markdown",
   "metadata": {},
   "source": [
    "<h4> 8. Boosting: Rusboosting"
   ]
  },
  {
   "cell_type": "code",
   "execution_count": 45,
   "metadata": {},
   "outputs": [
    {
     "data": {
      "text/plain": [
       "{'n_estimators': 73}"
      ]
     },
     "execution_count": 45,
     "metadata": {},
     "output_type": "execute_result"
    }
   ],
   "source": [
    "# Use GridSearchCV to choose hyperparameter for Rusboosting, n_neighbors\n",
    "# Do hyperparameter tuning on training set\n",
    "from imblearn.ensemble import RUSBoostClassifier\n",
    "param_grid = {'n_estimators': np.arange(50, 100)}\n",
    "rusboost = RUSBoostClassifier(algorithm='SAMME.R',random_state=21)\n",
    "rusboost_cv = GridSearchCV(rusboost, param_grid, cv=5)\n",
    "rusboost_cv.fit(X_train, y_train)\n",
    "rusboost_cv.best_params_"
   ]
  },
  {
   "cell_type": "code",
   "execution_count": 46,
   "metadata": {},
   "outputs": [
    {
     "name": "stdout",
     "output_type": "stream",
     "text": [
      "0.8423154674585853\n",
      "[[1220   22]\n",
      " [ 251  130]]\n"
     ]
    }
   ],
   "source": [
    "y_pred = rusboost_cv.predict(X_test)\n",
    "print(balanced_accuracy_score(y_test, y_pred))  \n",
    "print(confusion_matrix(y_pred,y_test))"
   ]
  },
  {
   "cell_type": "code",
   "execution_count": 47,
   "metadata": {},
   "outputs": [
    {
     "name": "stdout",
     "output_type": "stream",
     "text": [
      "(array([0.82936778, 0.85526316]), array([0.85526316, 0.82936778]), array([1471,  152]))\n"
     ]
    }
   ],
   "source": [
    "print(sensitivity_specificity_support(y_test,y_pred))"
   ]
  },
  {
   "cell_type": "code",
   "execution_count": 48,
   "metadata": {},
   "outputs": [
    {
     "data": {
      "text/plain": [
       "<sklearn.metrics._plot.confusion_matrix.ConfusionMatrixDisplay at 0x1a221c5c10>"
      ]
     },
     "execution_count": 48,
     "metadata": {},
     "output_type": "execute_result"
    },
    {
     "data": {
      "image/png": "[encoded data removed]",
      "text/plain": [
       "<Figure size 432x288 with 2 Axes>"
      ]
     },
     "metadata": {
      "needs_background": "light"
     },
     "output_type": "display_data"
    }
   ],
   "source": [
    "plot_confusion_matrix(rusboost_cv,X_test,y_test,normalize='true')"
   ]
  },
  {
   "cell_type": "markdown",
   "metadata": {},
   "source": [
    "Rusboosting has 86% sensitivity and 83% specificity. "
   ]
  },
  {
   "cell_type": "markdown",
   "metadata": {},
   "source": [
    "<h3> Calculating the fraudulent claims recovered from the identified providers"
   ]
  },
  {
   "cell_type": "code",
   "execution_count": 61,
   "metadata": {},
   "outputs": [],
   "source": [
    "#Calculate predicted labels using balanced random forest\n",
    "y_pred = brf_cv.predict(X_test)"
   ]
  },
  {
   "cell_type": "code",
   "execution_count": 99,
   "metadata": {},
   "outputs": [],
   "source": [
    "#Assemble the test dataset with added column for the predicted label\n",
    "d = {'Predicted':y_pred,'True':y_test}\n",
    "df1=pd.DataFrame(d)\n",
    "df2=pd.DataFrame(X_test)\n",
    "df=pd.concat([df1,df2], axis=1, ignore_index=False)\n",
    "df.columns = ['Predicted Label','True Label','In_Claim_Number','Out_Claim_Number','In_Claim_Amount','Out_Claim_Amount']"
   ]
  },
  {
   "cell_type": "code",
   "execution_count": 108,
   "metadata": {},
   "outputs": [
    {
     "data": {
      "image/png": "[encoded data removed]",
      "text/plain": [
       "<Figure size 432x288 with 1 Axes>"
      ]
     },
     "metadata": {},
     "output_type": "display_data"
    }
   ],
   "source": [
    "#Boxplot compare inpatient claim numbers between true positive, true negative, false positive and false negatives\n",
    "sns.set(style=\"ticks\", palette=\"pastel\")\n",
    "sns.boxplot(x=\"True Label\", y=df.iloc[:,2],\n",
    "            hue=\"Predicted Label\", palette=[\"m\", \"g\"],\n",
    "            data=df,showfliers=False)\n",
    "sns.despine(offset=10, trim=True)"
   ]
  },
  {
   "cell_type": "code",
   "execution_count": 107,
   "metadata": {},
   "outputs": [
    {
     "data": {
      "image/png": "[encoded data removed]",
      "text/plain": [
       "<Figure size 432x288 with 1 Axes>"
      ]
     },
     "metadata": {},
     "output_type": "display_data"
    }
   ],
   "source": [
    "#Boxplot compare outpatient claim numbers between true positive, true negative, false positive and false negatives\n",
    "sns.set(style=\"ticks\", palette=\"pastel\")\n",
    "sns.boxplot(x=\"True Label\", y=df.iloc[:,3],\n",
    "            hue=\"Predicted Label\", palette=[\"m\", \"g\"],\n",
    "            data=df,showfliers=False)\n",
    "sns.despine(offset=10, trim=True)"
   ]
  },
  {
   "cell_type": "code",
   "execution_count": 110,
   "metadata": {},
   "outputs": [
    {
     "data": {
      "text/plain": [
       "Text(0.5, 1.0, 'Outpatient Claim Amount')"
      ]
     },
     "execution_count": 110,
     "metadata": {},
     "output_type": "execute_result"
    },
    {
     "data": {
      "image/png": "[encoded data removed]",
      "text/plain": [
       "<Figure size 1440x360 with 2 Axes>"
      ]
     },
     "metadata": {},
     "output_type": "display_data"
    }
   ],
   "source": [
    "#Boxplot compare inpatient/outpatient claim amounts between true positive, true negative, false positive and false negatives\n",
    "f,axs=plt.subplots(1,2,figsize=(20,5))\n",
    "plt.subplot(1,2,1)\n",
    "sns.set(style=\"ticks\", palette=\"pastel\")\n",
    "sns.boxplot(x=\"True Label\", y=df.iloc[:,4],\n",
    "            hue=\"Predicted Label\", palette=[\"m\", \"g\"],\n",
    "            data=df,showfliers=False,)\n",
    "sns.despine(offset=10, trim=True)\n",
    "plt.title(\"Inpatient Claim Amount\")\n",
    "plt.subplot(1,2,2)\n",
    "sns.set(style=\"ticks\", palette=\"pastel\")\n",
    "sns.boxplot(x=\"True Label\", y=df.iloc[:,5],\n",
    "            hue=\"Predicted Label\", palette=[\"m\", \"g\"],\n",
    "            data=df,showfliers=False)\n",
    "sns.despine(offset=10, trim=True)\n",
    "plt.title(\"Outpatient Claim Amount\")"
   ]
  },
  {
   "cell_type": "code",
   "execution_count": 111,
   "metadata": {},
   "outputs": [
    {
     "data": {
      "text/plain": [
       "True Label  Predicted Label\n",
       "No          No                 15807740\n",
       "            Yes                11191510\n",
       "Yes         No                   493760\n",
       "            Yes                18118130\n",
       "Name: Out_Claim_Amount, dtype: int64"
      ]
     },
     "execution_count": 111,
     "metadata": {},
     "output_type": "execute_result"
    }
   ],
   "source": [
    "#Total outpatient claim amounts for true positive, true negative, false positive and false negatives\n",
    "df.groupby(['True Label','Predicted Label'])['Out_Claim_Amount'].sum()"
   ]
  },
  {
   "cell_type": "code",
   "execution_count": 112,
   "metadata": {},
   "outputs": [
    {
     "data": {
      "text/plain": [
       "True Label  Predicted Label\n",
       "No          No                  5110\n",
       "            Yes                18700\n",
       "Yes         No                  6195\n",
       "            Yes                38480\n",
       "Name: Out_Claim_Amount, dtype: int64"
      ]
     },
     "execution_count": 112,
     "metadata": {},
     "output_type": "execute_result"
    }
   ],
   "source": [
    "#Median outpatient claim amounts for true positive, true negative, false positive and false negatives\n",
    "df.groupby(['True Label','Predicted Label'])['Out_Claim_Amount'].median()"
   ]
  },
  {
   "cell_type": "code",
   "execution_count": 113,
   "metadata": {},
   "outputs": [
    {
     "data": {
      "text/plain": [
       "True Label  Predicted Label\n",
       "No          No                  12810.162075\n",
       "            Yes                 47221.561181\n",
       "Yes         No                  24688.000000\n",
       "            Yes                137258.560606\n",
       "Name: Out_Claim_Amount, dtype: float64"
      ]
     },
     "execution_count": 113,
     "metadata": {},
     "output_type": "execute_result"
    }
   ],
   "source": [
    "#Mean outpatient claim amounts for true positive, true negative, false positive and false negatives\n",
    "df.groupby(['True Label','Predicted Label'])['Out_Claim_Amount'].mean()"
   ]
  },
  {
   "cell_type": "code",
   "execution_count": 114,
   "metadata": {},
   "outputs": [
    {
     "data": {
      "text/plain": [
       "True Label  Predicted Label\n",
       "No          No                 11028050\n",
       "            Yes                43157280\n",
       "Yes         No                  1001800\n",
       "            Yes                64041190\n",
       "Name: In_Claim_Amount, dtype: int64"
      ]
     },
     "execution_count": 114,
     "metadata": {},
     "output_type": "execute_result"
    }
   ],
   "source": [
    "#Total inpatient claim amounts for true positive, true negative, false positive and false negatives\n",
    "df.groupby(['True Label','Predicted Label'])['In_Claim_Amount'].sum()"
   ]
  },
  {
   "cell_type": "code",
   "execution_count": 115,
   "metadata": {},
   "outputs": [
    {
     "data": {
      "text/plain": [
       "True Label  Predicted Label\n",
       "No          No                      0\n",
       "            Yes                135000\n",
       "Yes         No                  51900\n",
       "            Yes                276200\n",
       "Name: In_Claim_Amount, dtype: int64"
      ]
     },
     "execution_count": 115,
     "metadata": {},
     "output_type": "execute_result"
    }
   ],
   "source": [
    "#Median inpatient claim amounts for true positive, true negative, false positive and false negatives\n",
    "df.groupby(['True Label','Predicted Label'])['In_Claim_Amount'].median()"
   ]
  },
  {
   "cell_type": "code",
   "execution_count": 116,
   "metadata": {},
   "outputs": [
    {
     "data": {
      "text/plain": [
       "True Label  Predicted Label\n",
       "No          No                   8936.831442\n",
       "            Yes                182098.227848\n",
       "Yes         No                  50090.000000\n",
       "            Yes                485160.530303\n",
       "Name: In_Claim_Amount, dtype: float64"
      ]
     },
     "execution_count": 116,
     "metadata": {},
     "output_type": "execute_result"
    }
   ],
   "source": [
    "#Mean inpatient claim amounts for true positive, true negative, false positive and false negatives\n",
    "df.groupby(['True Label','Predicted Label'])['In_Claim_Amount'].mean()"
   ]
  },
  {
   "cell_type": "code",
   "execution_count": 148,
   "metadata": {},
   "outputs": [
    {
     "data": {
      "text/plain": [
       "Text(0.5, 1.0, 'Outpatient Claim Amount')"
      ]
     },
     "execution_count": 148,
     "metadata": {},
     "output_type": "execute_result"
    },
    {
     "data": {
      "image/png": "[encoded data removed]",
      "text/plain": [
       "<Figure size 1440x360 with 2 Axes>"
      ]
     },
     "metadata": {},
     "output_type": "display_data"
    }
   ],
   "source": [
    "#Barplots for total inpatient/outpatient claim amounts for true positive, true negative, false positive and false negatives\n",
    "ti=df.groupby(['True Label','Predicted Label'])['In_Claim_Amount'].sum()/1000000\n",
    "to=df.groupby(['True Label','Predicted Label'])['Out_Claim_Amount'].sum()/1000000\n",
    "f,axs=plt.subplots(1,2,figsize=(20,5))\n",
    "plt.subplot(1,2,1)\n",
    "ti.plot(kind=\"bar\")\n",
    "plt.ylabel(\"Inpatient Claim (Millions)\")\n",
    "plt.title(\"Inpatient Claim Amount\")\n",
    "plt.subplot(1,2,2)\n",
    "to.plot(kind=\"bar\")\n",
    "plt.ylabel(\"Outpatient Claim (Million)\")\n",
    "plt.title(\"Outpatient Claim Amount\")\n"
   ]
  },
  {
   "cell_type": "code",
   "execution_count": null,
   "metadata": {},
   "outputs": [],
   "source": []
  }
 ],
 "metadata": {
  "kernelspec": {
   "display_name": "Python 3",
   "language": "python",
   "name": "python3"
  },
  "language_info": {
   "codemirror_mode": {
    "name": "ipython",
    "version": 3
   },
   "file_extension": ".py",
   "mimetype": "text/x-python",
   "name": "python",
   "nbconvert_exporter": "python",
   "pygments_lexer": "ipython3",
   "version": "3.7.7"
  }
 },
 "nbformat": 4,
 "nbformat_minor": 2
}
